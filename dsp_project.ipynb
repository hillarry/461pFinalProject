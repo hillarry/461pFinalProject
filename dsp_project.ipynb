{
  "nbformat": 4,
  "nbformat_minor": 0,
  "metadata": {
    "colab": {
      "name": "dsp_project.ipynb",
      "provenance": [],
      "include_colab_link": true
    },
    "kernelspec": {
      "name": "python3",
      "display_name": "Python 3"
    },
    "language_info": {
      "name": "python"
    }
  },
  "cells": [
    {
      "cell_type": "markdown",
      "metadata": {
        "id": "view-in-github",
        "colab_type": "text"
      },
      "source": [
        "<a href=\"https://colab.research.google.com/github/philipsarkis/461pFinalProject/blob/main/dsp_project.ipynb\" target=\"_parent\"><img src=\"https://colab.research.google.com/assets/colab-badge.svg\" alt=\"Open In Colab\"/></a>"
      ]
    },
    {
      "cell_type": "code",
      "metadata": {
        "id": "4UbSMaxNJ-cz"
      },
      "source": [
        "import pandas as pd\n",
        "import numpy as np"
      ],
      "execution_count": null,
      "outputs": []
    },
    {
      "cell_type": "code",
      "metadata": {
        "colab": {
          "base_uri": "https://localhost:8080/"
        },
        "id": "DO9RehGDu2GW",
        "outputId": "525a810a-348e-4eff-de84-9298f6a7d1ce"
      },
      "source": [
        "from google.colab import drive\n",
        "drive.mount('/content/drive')"
      ],
      "execution_count": null,
      "outputs": [
        {
          "output_type": "stream",
          "text": [
            "Mounted at /content/drive\n"
          ],
          "name": "stdout"
        }
      ]
    },
    {
      "cell_type": "code",
      "metadata": {
        "id": "14DEF_LHQNYF"
      },
      "source": [
        ""
      ],
      "execution_count": null,
      "outputs": []
    },
    {
      "cell_type": "code",
      "metadata": {
        "id": "kI_S2S9MLvLx",
        "colab": {
          "base_uri": "https://localhost:8080/"
        },
        "outputId": "a93cdf02-34f7-4d52-84a8-b39209be4afc"
      },
      "source": [
        "%%bash\n",
        "# Install and update essential libraries\n",
        "apt -q update\n",
        "apt install -y -q tree\n"
      ],
      "execution_count": null,
      "outputs": [
        {
          "output_type": "stream",
          "text": [
            "Get:1 http://security.ubuntu.com/ubuntu bionic-security InRelease [88.7 kB]\n",
            "Get:2 https://cloud.r-project.org/bin/linux/ubuntu bionic-cran40/ InRelease [3,626 B]\n",
            "Ign:3 https://developer.download.nvidia.com/compute/cuda/repos/ubuntu1804/x86_64  InRelease\n",
            "Ign:4 https://developer.download.nvidia.com/compute/machine-learning/repos/ubuntu1804/x86_64  InRelease\n",
            "Get:5 https://developer.download.nvidia.com/compute/cuda/repos/ubuntu1804/x86_64  Release [697 B]\n",
            "Hit:6 https://developer.download.nvidia.com/compute/machine-learning/repos/ubuntu1804/x86_64  Release\n",
            "Get:7 https://developer.download.nvidia.com/compute/cuda/repos/ubuntu1804/x86_64  Release.gpg [836 B]\n",
            "Get:8 http://ppa.launchpad.net/c2d4u.team/c2d4u4.0+/ubuntu bionic InRelease [15.9 kB]\n",
            "Hit:9 http://archive.ubuntu.com/ubuntu bionic InRelease\n",
            "Get:10 http://archive.ubuntu.com/ubuntu bionic-updates InRelease [88.7 kB]\n",
            "Hit:11 http://ppa.launchpad.net/cran/libgit2/ubuntu bionic InRelease\n",
            "Get:12 http://security.ubuntu.com/ubuntu bionic-security/restricted amd64 Packages [395 kB]\n",
            "Get:13 http://archive.ubuntu.com/ubuntu bionic-backports InRelease [74.6 kB]\n",
            "Get:14 http://ppa.launchpad.net/deadsnakes/ppa/ubuntu bionic InRelease [15.9 kB]\n",
            "Get:15 http://security.ubuntu.com/ubuntu bionic-security/universe amd64 Packages [1,410 kB]\n",
            "Get:16 http://security.ubuntu.com/ubuntu bionic-security/multiverse amd64 Packages [24.5 kB]\n",
            "Get:17 http://security.ubuntu.com/ubuntu bionic-security/main amd64 Packages [2,116 kB]\n",
            "Hit:19 http://ppa.launchpad.net/graphics-drivers/ppa/ubuntu bionic InRelease\n",
            "Ign:20 https://developer.download.nvidia.com/compute/cuda/repos/ubuntu1804/x86_64  Packages\n",
            "Get:20 https://developer.download.nvidia.com/compute/cuda/repos/ubuntu1804/x86_64  Packages [740 kB]\n",
            "Get:21 http://ppa.launchpad.net/c2d4u.team/c2d4u4.0+/ubuntu bionic/main Sources [1,756 kB]\n",
            "Get:22 http://archive.ubuntu.com/ubuntu bionic-updates/universe amd64 Packages [2,181 kB]\n",
            "Get:23 http://archive.ubuntu.com/ubuntu bionic-updates/multiverse amd64 Packages [31.4 kB]\n",
            "Get:24 http://archive.ubuntu.com/ubuntu bionic-updates/restricted amd64 Packages [425 kB]\n",
            "Get:25 http://archive.ubuntu.com/ubuntu bionic-updates/main amd64 Packages [2,546 kB]\n",
            "Get:26 http://ppa.launchpad.net/c2d4u.team/c2d4u4.0+/ubuntu bionic/main amd64 Packages [899 kB]\n",
            "Get:27 http://ppa.launchpad.net/deadsnakes/ppa/ubuntu bionic/main amd64 Packages [39.5 kB]\n",
            "Fetched 12.9 MB in 4s (3,143 kB/s)\n",
            "Reading package lists...\n",
            "Building dependency tree...\n",
            "Reading state information...\n",
            "79 packages can be upgraded. Run 'apt list --upgradable' to see them.\n",
            "Reading package lists...\n",
            "Building dependency tree...\n",
            "Reading state information...\n",
            "The following NEW packages will be installed:\n",
            "  tree\n",
            "0 upgraded, 1 newly installed, 0 to remove and 79 not upgraded.\n",
            "Need to get 40.7 kB of archives.\n",
            "After this operation, 105 kB of additional disk space will be used.\n",
            "Get:1 http://archive.ubuntu.com/ubuntu bionic/universe amd64 tree amd64 1.7.0-5 [40.7 kB]\n",
            "Fetched 40.7 kB in 0s (111 kB/s)\n",
            "Selecting previously unselected package tree.\r\n",
            "(Reading database ... \r(Reading database ... 5%\r(Reading database ... 10%\r(Reading database ... 15%\r(Reading database ... 20%\r(Reading database ... 25%\r(Reading database ... 30%\r(Reading database ... 35%\r(Reading database ... 40%\r(Reading database ... 45%\r(Reading database ... 50%\r(Reading database ... 55%\r(Reading database ... 60%\r(Reading database ... 65%\r(Reading database ... 70%\r(Reading database ... 75%\r(Reading database ... 80%\r(Reading database ... 85%\r(Reading database ... 90%\r(Reading database ... 95%\r(Reading database ... 100%\r(Reading database ... 160983 files and directories currently installed.)\r\n",
            "Preparing to unpack .../tree_1.7.0-5_amd64.deb ...\r\n",
            "Unpacking tree (1.7.0-5) ...\r\n",
            "Setting up tree (1.7.0-5) ...\r\n",
            "Processing triggers for man-db (2.8.3-2ubuntu0.1) ...\r\n"
          ],
          "name": "stdout"
        },
        {
          "output_type": "stream",
          "text": [
            "\n",
            "WARNING: apt does not have a stable CLI interface. Use with caution in scripts.\n",
            "\n",
            "\n",
            "WARNING: apt does not have a stable CLI interface. Use with caution in scripts.\n",
            "\n"
          ],
          "name": "stderr"
        }
      ]
    },
    {
      "cell_type": "code",
      "metadata": {
        "id": "10MDINPZOC2N"
      },
      "source": [
        "# Download a file from Google Drive using FILE_ID\n",
        "\n",
        "# Install the PyDrive wrapper & import libraries.\n",
        "# This only needs to be done once per notebook.\n",
        "!pip install -U -q PyDrive\n",
        "from pydrive.auth import GoogleAuth\n",
        "from pydrive.drive import GoogleDrive\n",
        "from google.colab import auth\n",
        "from oauth2client.client import GoogleCredentials\n",
        "\n",
        "# Authenticate and create the PyDrive client.\n",
        "# This only needs to be done once per notebook.\n",
        "auth.authenticate_user()\n",
        "gauth = GoogleAuth()\n",
        "gauth.credentials = GoogleCredentials.get_application_default()\n",
        "drive = GoogleDrive(gauth)\n",
        "# Download a file based on its file ID.\n",
        "#\n",
        "# A file ID looks like: 1rhnzJ8CD9Amdz5OMi8s4kqT5b00jY5k4\n",
        "# Visit https://help.meiro.io/en/articles/2245027-where-can-i-find-the-file-id-on-google-drive\n",
        "# for more details on getting the FILE ID.\n",
        "\n",
        "def download_file(file_id, file_name):\n",
        "    '''\n",
        "    file_id: Make sure that you can access this file from your account or else, this will not run\n",
        "    file_name: Name of the file by which you want to save\n",
        "    '''\n",
        "    downloaded = drive.CreateFile({'id': file_id})\n",
        "    downloaded.GetContentFile(file_name)\n",
        "    print('Downloaded file with ID {} and name {}'.format(file_id, file_name))\n",
        "  \n",
        "def upload_file(file_name):\n",
        "    # If the file is large, upload to Google Drive to download easily.\n",
        "    # Upload a file from the current VM.\n",
        "\n",
        "    uploaded = drive.CreateFile({'title': file_name})\n",
        "    uploaded.SetContentFile(file_name)\n",
        "    uploaded.Upload()\n",
        "    print('Uploaded file with ID {}'.format(uploaded.get('id')))"
      ],
      "execution_count": null,
      "outputs": []
    },
    {
      "cell_type": "code",
      "metadata": {
        "id": "hn0w9FOHKDV5"
      },
      "source": [
        ""
      ],
      "execution_count": null,
      "outputs": []
    },
    {
      "cell_type": "code",
      "metadata": {
        "colab": {
          "base_uri": "https://localhost:8080/"
        },
        "id": "3eY_QZfiNmUA",
        "outputId": "f7b27e34-8d00-4489-d3ec-35eacd92a7e4"
      },
      "source": [
        "download_file('1hDOg7vrsVb6gvpH6qM84tG2Fwz1ndIpE', 'archive.zip')"
      ],
      "execution_count": null,
      "outputs": [
        {
          "output_type": "stream",
          "text": [
            "Downloaded file with ID 1hDOg7vrsVb6gvpH6qM84tG2Fwz1ndIpE and name archive.zip\n"
          ],
          "name": "stdout"
        }
      ]
    },
    {
      "cell_type": "code",
      "metadata": {
        "colab": {
          "base_uri": "https://localhost:8080/"
        },
        "id": "WWgqHd7PGbgX",
        "outputId": "7d6b62b4-bd98-47a2-e8bc-d774e00e469d"
      },
      "source": [
        "!unzip 'drinve/MyDrive/archive.zip'"
      ],
      "execution_count": null,
      "outputs": [
        {
          "output_type": "stream",
          "text": [
            "Archive:  drive/MyDrive/archive.zip\n",
            "replace IMDB_movie_details.json? [y]es, [n]o, [A]ll, [N]one, [r]ename: "
          ],
          "name": "stdout"
        }
      ]
    },
    {
      "cell_type": "code",
      "metadata": {
        "colab": {
          "base_uri": "https://localhost:8080/"
        },
        "id": "0FmOjS7POXtj",
        "outputId": "d4309951-0288-47e0-8292-99c6d7099a80"
      },
      "source": [
        "!unzip 'archive.zip'"
      ],
      "execution_count": null,
      "outputs": [
        {
          "output_type": "stream",
          "text": [
            "Archive:  archive.zip\n",
            "  inflating: IMDB_movie_details.json  \n",
            "  inflating: IMDB_reviews.json       \n"
          ],
          "name": "stdout"
        }
      ]
    },
    {
      "cell_type": "code",
      "metadata": {
        "id": "22oeHlsVOjQx"
      },
      "source": [
        "import pandas as pd"
      ],
      "execution_count": null,
      "outputs": []
    },
    {
      "cell_type": "code",
      "metadata": {
        "colab": {
          "base_uri": "https://localhost:8080/",
          "height": 204
        },
        "id": "4g8fgiM3Oriq",
        "outputId": "8931c258-6681-43f2-8033-6507025a0e3f"
      },
      "source": [
        "reviews = pd.read_json('IMDB_reviews.json',lines=True)\n",
        "reviews.head()"
      ],
      "execution_count": null,
      "outputs": [
        {
          "output_type": "execute_result",
          "data": {
            "text/html": [
              "<div>\n",
              "<style scoped>\n",
              "    .dataframe tbody tr th:only-of-type {\n",
              "        vertical-align: middle;\n",
              "    }\n",
              "\n",
              "    .dataframe tbody tr th {\n",
              "        vertical-align: top;\n",
              "    }\n",
              "\n",
              "    .dataframe thead th {\n",
              "        text-align: right;\n",
              "    }\n",
              "</style>\n",
              "<table border=\"1\" class=\"dataframe\">\n",
              "  <thead>\n",
              "    <tr style=\"text-align: right;\">\n",
              "      <th></th>\n",
              "      <th>review_date</th>\n",
              "      <th>movie_id</th>\n",
              "      <th>user_id</th>\n",
              "      <th>is_spoiler</th>\n",
              "      <th>review_text</th>\n",
              "      <th>rating</th>\n",
              "      <th>review_summary</th>\n",
              "    </tr>\n",
              "  </thead>\n",
              "  <tbody>\n",
              "    <tr>\n",
              "      <th>0</th>\n",
              "      <td>10 February 2006</td>\n",
              "      <td>tt0111161</td>\n",
              "      <td>ur1898687</td>\n",
              "      <td>True</td>\n",
              "      <td>In its Oscar year, Shawshank Redemption (writt...</td>\n",
              "      <td>10</td>\n",
              "      <td>A classic piece of unforgettable film-making.</td>\n",
              "    </tr>\n",
              "    <tr>\n",
              "      <th>1</th>\n",
              "      <td>6 September 2000</td>\n",
              "      <td>tt0111161</td>\n",
              "      <td>ur0842118</td>\n",
              "      <td>True</td>\n",
              "      <td>The Shawshank Redemption is without a doubt on...</td>\n",
              "      <td>10</td>\n",
              "      <td>Simply amazing. The best film of the 90's.</td>\n",
              "    </tr>\n",
              "    <tr>\n",
              "      <th>2</th>\n",
              "      <td>3 August 2001</td>\n",
              "      <td>tt0111161</td>\n",
              "      <td>ur1285640</td>\n",
              "      <td>True</td>\n",
              "      <td>I believe that this film is the best story eve...</td>\n",
              "      <td>8</td>\n",
              "      <td>The best story ever told on film</td>\n",
              "    </tr>\n",
              "    <tr>\n",
              "      <th>3</th>\n",
              "      <td>1 September 2002</td>\n",
              "      <td>tt0111161</td>\n",
              "      <td>ur1003471</td>\n",
              "      <td>True</td>\n",
              "      <td>**Yes, there are SPOILERS here**This film has ...</td>\n",
              "      <td>10</td>\n",
              "      <td>Busy dying or busy living?</td>\n",
              "    </tr>\n",
              "    <tr>\n",
              "      <th>4</th>\n",
              "      <td>20 May 2004</td>\n",
              "      <td>tt0111161</td>\n",
              "      <td>ur0226855</td>\n",
              "      <td>True</td>\n",
              "      <td>At the heart of this extraordinary movie is a ...</td>\n",
              "      <td>8</td>\n",
              "      <td>Great story, wondrously told and acted</td>\n",
              "    </tr>\n",
              "  </tbody>\n",
              "</table>\n",
              "</div>"
            ],
            "text/plain": [
              "        review_date  ...                                 review_summary\n",
              "0  10 February 2006  ...  A classic piece of unforgettable film-making.\n",
              "1  6 September 2000  ...     Simply amazing. The best film of the 90's.\n",
              "2     3 August 2001  ...               The best story ever told on film\n",
              "3  1 September 2002  ...                     Busy dying or busy living?\n",
              "4       20 May 2004  ...         Great story, wondrously told and acted\n",
              "\n",
              "[5 rows x 7 columns]"
            ]
          },
          "metadata": {
            "tags": []
          },
          "execution_count": 7
        }
      ]
    },
    {
      "cell_type": "code",
      "metadata": {
        "colab": {
          "base_uri": "https://localhost:8080/",
          "height": 204
        },
        "id": "vQKpRhvhQ0sP",
        "outputId": "5275d98a-8532-465f-a4d8-c48ef1dab551"
      },
      "source": [
        "movies = pd.read_json('IMDB_movie_details.json',lines=True)\n",
        "movies.head()"
      ],
      "execution_count": null,
      "outputs": [
        {
          "output_type": "execute_result",
          "data": {
            "text/html": [
              "<div>\n",
              "<style scoped>\n",
              "    .dataframe tbody tr th:only-of-type {\n",
              "        vertical-align: middle;\n",
              "    }\n",
              "\n",
              "    .dataframe tbody tr th {\n",
              "        vertical-align: top;\n",
              "    }\n",
              "\n",
              "    .dataframe thead th {\n",
              "        text-align: right;\n",
              "    }\n",
              "</style>\n",
              "<table border=\"1\" class=\"dataframe\">\n",
              "  <thead>\n",
              "    <tr style=\"text-align: right;\">\n",
              "      <th></th>\n",
              "      <th>movie_id</th>\n",
              "      <th>plot_summary</th>\n",
              "      <th>duration</th>\n",
              "      <th>genre</th>\n",
              "      <th>rating</th>\n",
              "      <th>release_date</th>\n",
              "      <th>plot_synopsis</th>\n",
              "    </tr>\n",
              "  </thead>\n",
              "  <tbody>\n",
              "    <tr>\n",
              "      <th>0</th>\n",
              "      <td>tt0105112</td>\n",
              "      <td>Former CIA analyst, Jack Ryan is in England wi...</td>\n",
              "      <td>1h 57min</td>\n",
              "      <td>[Action, Thriller]</td>\n",
              "      <td>6.9</td>\n",
              "      <td>1992-06-05</td>\n",
              "      <td>Jack Ryan (Ford) is on a \"working vacation\" in...</td>\n",
              "    </tr>\n",
              "    <tr>\n",
              "      <th>1</th>\n",
              "      <td>tt1204975</td>\n",
              "      <td>Billy (Michael Douglas), Paddy (Robert De Niro...</td>\n",
              "      <td>1h 45min</td>\n",
              "      <td>[Comedy]</td>\n",
              "      <td>6.6</td>\n",
              "      <td>2013-11-01</td>\n",
              "      <td>Four boys around the age of 10 are friends in ...</td>\n",
              "    </tr>\n",
              "    <tr>\n",
              "      <th>2</th>\n",
              "      <td>tt0243655</td>\n",
              "      <td>The setting is Camp Firewood, the year 1981. I...</td>\n",
              "      <td>1h 37min</td>\n",
              "      <td>[Comedy, Romance]</td>\n",
              "      <td>6.7</td>\n",
              "      <td>2002-04-11</td>\n",
              "      <td></td>\n",
              "    </tr>\n",
              "    <tr>\n",
              "      <th>3</th>\n",
              "      <td>tt0040897</td>\n",
              "      <td>Fred C. Dobbs and Bob Curtin, both down on the...</td>\n",
              "      <td>2h 6min</td>\n",
              "      <td>[Adventure, Drama, Western]</td>\n",
              "      <td>8.3</td>\n",
              "      <td>1948-01-24</td>\n",
              "      <td>Fred Dobbs (Humphrey Bogart) and Bob Curtin (T...</td>\n",
              "    </tr>\n",
              "    <tr>\n",
              "      <th>4</th>\n",
              "      <td>tt0126886</td>\n",
              "      <td>Tracy Flick is running unopposed for this year...</td>\n",
              "      <td>1h 43min</td>\n",
              "      <td>[Comedy, Drama, Romance]</td>\n",
              "      <td>7.3</td>\n",
              "      <td>1999-05-07</td>\n",
              "      <td>Jim McAllister (Matthew Broderick) is a much-a...</td>\n",
              "    </tr>\n",
              "  </tbody>\n",
              "</table>\n",
              "</div>"
            ],
            "text/plain": [
              "    movie_id  ...                                      plot_synopsis\n",
              "0  tt0105112  ...  Jack Ryan (Ford) is on a \"working vacation\" in...\n",
              "1  tt1204975  ...  Four boys around the age of 10 are friends in ...\n",
              "2  tt0243655  ...                                                   \n",
              "3  tt0040897  ...  Fred Dobbs (Humphrey Bogart) and Bob Curtin (T...\n",
              "4  tt0126886  ...  Jim McAllister (Matthew Broderick) is a much-a...\n",
              "\n",
              "[5 rows x 7 columns]"
            ]
          },
          "metadata": {
            "tags": []
          },
          "execution_count": 5
        }
      ]
    },
    {
      "cell_type": "code",
      "metadata": {
        "colab": {
          "base_uri": "https://localhost:8080/",
          "height": 80
        },
        "id": "ykDDWxuhDgKX",
        "outputId": "3c7bd86c-a2a6-4489-9768-87e3008670da"
      },
      "source": [
        "test = pd.DataFrame()\n",
        "test = test.append(movies.loc[movies['movie_id'] == 'tt0105112'])\n",
        "test.head()"
      ],
      "execution_count": null,
      "outputs": [
        {
          "output_type": "execute_result",
          "data": {
            "text/html": [
              "<div>\n",
              "<style scoped>\n",
              "    .dataframe tbody tr th:only-of-type {\n",
              "        vertical-align: middle;\n",
              "    }\n",
              "\n",
              "    .dataframe tbody tr th {\n",
              "        vertical-align: top;\n",
              "    }\n",
              "\n",
              "    .dataframe thead th {\n",
              "        text-align: right;\n",
              "    }\n",
              "</style>\n",
              "<table border=\"1\" class=\"dataframe\">\n",
              "  <thead>\n",
              "    <tr style=\"text-align: right;\">\n",
              "      <th></th>\n",
              "      <th>movie_id</th>\n",
              "      <th>plot_summary</th>\n",
              "      <th>duration</th>\n",
              "      <th>genre</th>\n",
              "      <th>rating</th>\n",
              "      <th>release_date</th>\n",
              "      <th>plot_synopsis</th>\n",
              "    </tr>\n",
              "  </thead>\n",
              "  <tbody>\n",
              "    <tr>\n",
              "      <th>0</th>\n",
              "      <td>tt0105112</td>\n",
              "      <td>Former CIA analyst, Jack Ryan is in England wi...</td>\n",
              "      <td>1h 57min</td>\n",
              "      <td>[Action, Thriller]</td>\n",
              "      <td>6.9</td>\n",
              "      <td>1992-06-05</td>\n",
              "      <td>Jack Ryan (Ford) is on a \"working vacation\" in...</td>\n",
              "    </tr>\n",
              "  </tbody>\n",
              "</table>\n",
              "</div>"
            ],
            "text/plain": [
              "    movie_id  ...                                      plot_synopsis\n",
              "0  tt0105112  ...  Jack Ryan (Ford) is on a \"working vacation\" in...\n",
              "\n",
              "[1 rows x 7 columns]"
            ]
          },
          "metadata": {
            "tags": []
          },
          "execution_count": 36
        }
      ]
    },
    {
      "cell_type": "code",
      "metadata": {
        "id": "efEfs8jpWMOv"
      },
      "source": [
        ""
      ],
      "execution_count": null,
      "outputs": []
    },
    {
      "cell_type": "code",
      "metadata": {
        "colab": {
          "base_uri": "https://localhost:8080/"
        },
        "id": "8-lFUoEXZ3XW",
        "outputId": "e1654a2e-90a1-4129-b95b-25e08a6cd1d5"
      },
      "source": [
        "movie_ids = reviews['movie_id']\n",
        "to_append = pd.DataFrame()\n",
        "j = 0\n",
        "for i in movie_ids:\n",
        "  to_append = to_append.append(movies.loc[movies['movie_id'] == i])\n",
        "  if j%5000 == 0:\n",
        "    print(j)\n",
        "  j+= 1\n",
        "to_append.head()"
      ],
      "execution_count": null,
      "outputs": [
        {
          "output_type": "stream",
          "text": [
            "0\n",
            "5000\n",
            "10000\n",
            "15000\n",
            "20000\n",
            "25000\n",
            "30000\n",
            "35000\n",
            "40000\n",
            "45000\n",
            "50000\n",
            "55000\n",
            "60000\n",
            "65000\n",
            "70000\n",
            "75000\n",
            "80000\n",
            "85000\n",
            "90000\n",
            "95000\n",
            "100000\n",
            "105000\n",
            "110000\n",
            "115000\n",
            "120000\n",
            "125000\n",
            "130000\n",
            "135000\n",
            "140000\n",
            "145000\n",
            "150000\n",
            "155000\n",
            "160000\n",
            "165000\n",
            "170000\n",
            "175000\n",
            "180000\n",
            "185000\n",
            "190000\n",
            "195000\n",
            "200000\n",
            "205000\n",
            "210000\n",
            "215000\n",
            "220000\n",
            "225000\n",
            "230000\n",
            "235000\n",
            "240000\n",
            "245000\n",
            "250000\n",
            "255000\n",
            "260000\n",
            "265000\n",
            "270000\n",
            "275000\n",
            "280000\n",
            "285000\n",
            "290000\n",
            "295000\n",
            "300000\n",
            "305000\n",
            "310000\n",
            "315000\n",
            "320000\n",
            "325000\n",
            "330000\n",
            "335000\n",
            "340000\n",
            "345000\n",
            "350000\n",
            "355000\n",
            "360000\n",
            "365000\n",
            "370000\n",
            "375000\n",
            "380000\n",
            "385000\n",
            "390000\n",
            "395000\n",
            "400000\n",
            "405000\n",
            "410000\n",
            "415000\n",
            "420000\n",
            "425000\n",
            "430000\n",
            "435000\n",
            "440000\n",
            "445000\n",
            "450000\n",
            "455000\n",
            "460000\n",
            "465000\n",
            "470000\n",
            "475000\n",
            "480000\n",
            "485000\n",
            "490000\n",
            "495000\n",
            "500000\n",
            "505000\n",
            "510000\n",
            "515000\n",
            "520000\n",
            "525000\n",
            "530000\n",
            "535000\n",
            "540000\n",
            "545000\n",
            "550000\n",
            "555000\n",
            "560000\n",
            "565000\n",
            "570000\n"
          ],
          "name": "stdout"
        },
        {
          "output_type": "execute_result",
          "data": {
            "text/html": [
              "<div>\n",
              "<style scoped>\n",
              "    .dataframe tbody tr th:only-of-type {\n",
              "        vertical-align: middle;\n",
              "    }\n",
              "\n",
              "    .dataframe tbody tr th {\n",
              "        vertical-align: top;\n",
              "    }\n",
              "\n",
              "    .dataframe thead th {\n",
              "        text-align: right;\n",
              "    }\n",
              "</style>\n",
              "<table border=\"1\" class=\"dataframe\">\n",
              "  <thead>\n",
              "    <tr style=\"text-align: right;\">\n",
              "      <th></th>\n",
              "      <th>movie_id</th>\n",
              "      <th>plot_summary</th>\n",
              "      <th>duration</th>\n",
              "      <th>genre</th>\n",
              "      <th>rating</th>\n",
              "      <th>release_date</th>\n",
              "      <th>plot_synopsis</th>\n",
              "    </tr>\n",
              "  </thead>\n",
              "  <tbody>\n",
              "    <tr>\n",
              "      <th>1263</th>\n",
              "      <td>tt0111161</td>\n",
              "      <td>Chronicles the experiences of a formerly succe...</td>\n",
              "      <td>2h 22min</td>\n",
              "      <td>[Crime, Drama]</td>\n",
              "      <td>9.3</td>\n",
              "      <td>1994-10-14</td>\n",
              "      <td>In 1947, Andy Dufresne (Tim Robbins), a banker...</td>\n",
              "    </tr>\n",
              "    <tr>\n",
              "      <th>1263</th>\n",
              "      <td>tt0111161</td>\n",
              "      <td>Chronicles the experiences of a formerly succe...</td>\n",
              "      <td>2h 22min</td>\n",
              "      <td>[Crime, Drama]</td>\n",
              "      <td>9.3</td>\n",
              "      <td>1994-10-14</td>\n",
              "      <td>In 1947, Andy Dufresne (Tim Robbins), a banker...</td>\n",
              "    </tr>\n",
              "    <tr>\n",
              "      <th>1263</th>\n",
              "      <td>tt0111161</td>\n",
              "      <td>Chronicles the experiences of a formerly succe...</td>\n",
              "      <td>2h 22min</td>\n",
              "      <td>[Crime, Drama]</td>\n",
              "      <td>9.3</td>\n",
              "      <td>1994-10-14</td>\n",
              "      <td>In 1947, Andy Dufresne (Tim Robbins), a banker...</td>\n",
              "    </tr>\n",
              "    <tr>\n",
              "      <th>1263</th>\n",
              "      <td>tt0111161</td>\n",
              "      <td>Chronicles the experiences of a formerly succe...</td>\n",
              "      <td>2h 22min</td>\n",
              "      <td>[Crime, Drama]</td>\n",
              "      <td>9.3</td>\n",
              "      <td>1994-10-14</td>\n",
              "      <td>In 1947, Andy Dufresne (Tim Robbins), a banker...</td>\n",
              "    </tr>\n",
              "    <tr>\n",
              "      <th>1263</th>\n",
              "      <td>tt0111161</td>\n",
              "      <td>Chronicles the experiences of a formerly succe...</td>\n",
              "      <td>2h 22min</td>\n",
              "      <td>[Crime, Drama]</td>\n",
              "      <td>9.3</td>\n",
              "      <td>1994-10-14</td>\n",
              "      <td>In 1947, Andy Dufresne (Tim Robbins), a banker...</td>\n",
              "    </tr>\n",
              "  </tbody>\n",
              "</table>\n",
              "</div>"
            ],
            "text/plain": [
              "       movie_id  ...                                      plot_synopsis\n",
              "1263  tt0111161  ...  In 1947, Andy Dufresne (Tim Robbins), a banker...\n",
              "1263  tt0111161  ...  In 1947, Andy Dufresne (Tim Robbins), a banker...\n",
              "1263  tt0111161  ...  In 1947, Andy Dufresne (Tim Robbins), a banker...\n",
              "1263  tt0111161  ...  In 1947, Andy Dufresne (Tim Robbins), a banker...\n",
              "1263  tt0111161  ...  In 1947, Andy Dufresne (Tim Robbins), a banker...\n",
              "\n",
              "[5 rows x 7 columns]"
            ]
          },
          "metadata": {
            "tags": []
          },
          "execution_count": 8
        }
      ]
    },
    {
      "cell_type": "code",
      "metadata": {
        "id": "oH2PCg2C7RS9"
      },
      "source": [
        ""
      ],
      "execution_count": null,
      "outputs": []
    },
    {
      "cell_type": "code",
      "metadata": {
        "id": "GzTANshvYbS7"
      },
      "source": [
        ""
      ],
      "execution_count": null,
      "outputs": []
    },
    {
      "cell_type": "code",
      "metadata": {
        "id": "2AbVFPw3dClE"
      },
      "source": [
        ""
      ],
      "execution_count": null,
      "outputs": []
    },
    {
      "cell_type": "code",
      "metadata": {
        "id": "2YFD8UjqRh_s"
      },
      "source": [
        "bbbbbbbbb"
      ],
      "execution_count": null,
      "outputs": []
    },
    {
      "cell_type": "code",
      "metadata": {
        "colab": {
          "base_uri": "https://localhost:8080/"
        },
        "id": "Piw31taH62eb",
        "outputId": "63222bef-ad62-4248-e59d-2b4621f45832"
      },
      "source": [
        "reviews.shape"
      ],
      "execution_count": null,
      "outputs": [
        {
          "output_type": "execute_result",
          "data": {
            "text/plain": [
              "(573913, 7)"
            ]
          },
          "metadata": {
            "tags": []
          },
          "execution_count": 9
        }
      ]
    },
    {
      "cell_type": "code",
      "metadata": {
        "colab": {
          "base_uri": "https://localhost:8080/",
          "height": 204
        },
        "id": "ra8Dfiw3C-mq",
        "outputId": "5e6fb2c9-2a8b-4384-d2ff-56691744fdeb"
      },
      "source": [
        "to_append.head()"
      ],
      "execution_count": null,
      "outputs": [
        {
          "output_type": "execute_result",
          "data": {
            "text/html": [
              "<div>\n",
              "<style scoped>\n",
              "    .dataframe tbody tr th:only-of-type {\n",
              "        vertical-align: middle;\n",
              "    }\n",
              "\n",
              "    .dataframe tbody tr th {\n",
              "        vertical-align: top;\n",
              "    }\n",
              "\n",
              "    .dataframe thead th {\n",
              "        text-align: right;\n",
              "    }\n",
              "</style>\n",
              "<table border=\"1\" class=\"dataframe\">\n",
              "  <thead>\n",
              "    <tr style=\"text-align: right;\">\n",
              "      <th></th>\n",
              "      <th>movie_id</th>\n",
              "      <th>plot_summary</th>\n",
              "      <th>duration</th>\n",
              "      <th>genre</th>\n",
              "      <th>rating</th>\n",
              "      <th>release_date</th>\n",
              "      <th>plot_synopsis</th>\n",
              "    </tr>\n",
              "  </thead>\n",
              "  <tbody>\n",
              "    <tr>\n",
              "      <th>1263</th>\n",
              "      <td>tt0111161</td>\n",
              "      <td>Chronicles the experiences of a formerly succe...</td>\n",
              "      <td>2h 22min</td>\n",
              "      <td>[Crime, Drama]</td>\n",
              "      <td>9.3</td>\n",
              "      <td>1994-10-14</td>\n",
              "      <td>In 1947, Andy Dufresne (Tim Robbins), a banker...</td>\n",
              "    </tr>\n",
              "    <tr>\n",
              "      <th>1263</th>\n",
              "      <td>tt0111161</td>\n",
              "      <td>Chronicles the experiences of a formerly succe...</td>\n",
              "      <td>2h 22min</td>\n",
              "      <td>[Crime, Drama]</td>\n",
              "      <td>9.3</td>\n",
              "      <td>1994-10-14</td>\n",
              "      <td>In 1947, Andy Dufresne (Tim Robbins), a banker...</td>\n",
              "    </tr>\n",
              "    <tr>\n",
              "      <th>1263</th>\n",
              "      <td>tt0111161</td>\n",
              "      <td>Chronicles the experiences of a formerly succe...</td>\n",
              "      <td>2h 22min</td>\n",
              "      <td>[Crime, Drama]</td>\n",
              "      <td>9.3</td>\n",
              "      <td>1994-10-14</td>\n",
              "      <td>In 1947, Andy Dufresne (Tim Robbins), a banker...</td>\n",
              "    </tr>\n",
              "    <tr>\n",
              "      <th>1263</th>\n",
              "      <td>tt0111161</td>\n",
              "      <td>Chronicles the experiences of a formerly succe...</td>\n",
              "      <td>2h 22min</td>\n",
              "      <td>[Crime, Drama]</td>\n",
              "      <td>9.3</td>\n",
              "      <td>1994-10-14</td>\n",
              "      <td>In 1947, Andy Dufresne (Tim Robbins), a banker...</td>\n",
              "    </tr>\n",
              "    <tr>\n",
              "      <th>1263</th>\n",
              "      <td>tt0111161</td>\n",
              "      <td>Chronicles the experiences of a formerly succe...</td>\n",
              "      <td>2h 22min</td>\n",
              "      <td>[Crime, Drama]</td>\n",
              "      <td>9.3</td>\n",
              "      <td>1994-10-14</td>\n",
              "      <td>In 1947, Andy Dufresne (Tim Robbins), a banker...</td>\n",
              "    </tr>\n",
              "  </tbody>\n",
              "</table>\n",
              "</div>"
            ],
            "text/plain": [
              "       movie_id  ...                                      plot_synopsis\n",
              "1263  tt0111161  ...  In 1947, Andy Dufresne (Tim Robbins), a banker...\n",
              "1263  tt0111161  ...  In 1947, Andy Dufresne (Tim Robbins), a banker...\n",
              "1263  tt0111161  ...  In 1947, Andy Dufresne (Tim Robbins), a banker...\n",
              "1263  tt0111161  ...  In 1947, Andy Dufresne (Tim Robbins), a banker...\n",
              "1263  tt0111161  ...  In 1947, Andy Dufresne (Tim Robbins), a banker...\n",
              "\n",
              "[5 rows x 7 columns]"
            ]
          },
          "metadata": {
            "tags": []
          },
          "execution_count": 10
        }
      ]
    },
    {
      "cell_type": "code",
      "metadata": {
        "id": "BCSpmyL7Ho3z"
      },
      "source": [
        "to_append.to_csv(\"to_append.csv\")"
      ],
      "execution_count": null,
      "outputs": []
    },
    {
      "cell_type": "code",
      "metadata": {
        "colab": {
          "base_uri": "https://localhost:8080/"
        },
        "id": "MLIilYG1ItO9",
        "outputId": "d2dc9a30-c4e4-432f-a028-08763391f5bb"
      },
      "source": [
        "to_append.shape"
      ],
      "execution_count": null,
      "outputs": [
        {
          "output_type": "execute_result",
          "data": {
            "text/plain": [
              "(573906, 7)"
            ]
          },
          "metadata": {
            "tags": []
          },
          "execution_count": 14
        }
      ]
    },
    {
      "cell_type": "code",
      "metadata": {
        "colab": {
          "base_uri": "https://localhost:8080/"
        },
        "id": "8cmGsofMK_oX",
        "outputId": "dce05205-19a3-42bf-c2cc-46889847ba1b"
      },
      "source": [
        "%%bash\n",
        "\n",
        "pip install httplib2==0.15.0"
      ],
      "execution_count": null,
      "outputs": [
        {
          "output_type": "stream",
          "text": [
            "Requirement already satisfied: httplib2==0.15.0 in /usr/local/lib/python3.7/dist-packages (0.15.0)\n"
          ],
          "name": "stdout"
        }
      ]
    },
    {
      "cell_type": "code",
      "metadata": {
        "colab": {
          "base_uri": "https://localhost:8080/",
          "height": 335
        },
        "id": "u9OAfsudKE3o",
        "outputId": "315db17c-6945-4cf0-8972-f6f0c4c7be25"
      },
      "source": [
        "upload_file(\"append.zip\")"
      ],
      "execution_count": null,
      "outputs": [
        {
          "output_type": "error",
          "ename": "RedirectMissingLocation",
          "evalue": "ignored",
          "traceback": [
            "\u001b[0;31m---------------------------------------------------------------------------\u001b[0m",
            "\u001b[0;31mRedirectMissingLocation\u001b[0m                   Traceback (most recent call last)",
            "\u001b[0;32m<ipython-input-31-340ca287363e>\u001b[0m in \u001b[0;36m<module>\u001b[0;34m()\u001b[0m\n\u001b[0;32m----> 1\u001b[0;31m \u001b[0mupload_file\u001b[0m\u001b[0;34m(\u001b[0m\u001b[0;34m\"append.zip\"\u001b[0m\u001b[0;34m)\u001b[0m\u001b[0;34m\u001b[0m\u001b[0;34m\u001b[0m\u001b[0m\n\u001b[0m",
            "\u001b[0;32m<ipython-input-17-98104e3d793e>\u001b[0m in \u001b[0;36mupload_file\u001b[0;34m(file_name)\u001b[0m\n\u001b[1;32m     36\u001b[0m     \u001b[0muploaded\u001b[0m \u001b[0;34m=\u001b[0m \u001b[0mdrive\u001b[0m\u001b[0;34m.\u001b[0m\u001b[0mCreateFile\u001b[0m\u001b[0;34m(\u001b[0m\u001b[0;34m{\u001b[0m\u001b[0;34m'title'\u001b[0m\u001b[0;34m:\u001b[0m \u001b[0mfile_name\u001b[0m\u001b[0;34m}\u001b[0m\u001b[0;34m)\u001b[0m\u001b[0;34m\u001b[0m\u001b[0;34m\u001b[0m\u001b[0m\n\u001b[1;32m     37\u001b[0m     \u001b[0muploaded\u001b[0m\u001b[0;34m.\u001b[0m\u001b[0mSetContentFile\u001b[0m\u001b[0;34m(\u001b[0m\u001b[0mfile_name\u001b[0m\u001b[0;34m)\u001b[0m\u001b[0;34m\u001b[0m\u001b[0;34m\u001b[0m\u001b[0m\n\u001b[0;32m---> 38\u001b[0;31m     \u001b[0muploaded\u001b[0m\u001b[0;34m.\u001b[0m\u001b[0mUpload\u001b[0m\u001b[0;34m(\u001b[0m\u001b[0;34m)\u001b[0m\u001b[0;34m\u001b[0m\u001b[0;34m\u001b[0m\u001b[0m\n\u001b[0m\u001b[1;32m     39\u001b[0m     \u001b[0mprint\u001b[0m\u001b[0;34m(\u001b[0m\u001b[0;34m'Uploaded file with ID {}'\u001b[0m\u001b[0;34m.\u001b[0m\u001b[0mformat\u001b[0m\u001b[0;34m(\u001b[0m\u001b[0muploaded\u001b[0m\u001b[0;34m.\u001b[0m\u001b[0mget\u001b[0m\u001b[0;34m(\u001b[0m\u001b[0;34m'id'\u001b[0m\u001b[0;34m)\u001b[0m\u001b[0;34m)\u001b[0m\u001b[0;34m)\u001b[0m\u001b[0;34m\u001b[0m\u001b[0;34m\u001b[0m\u001b[0m\n",
            "\u001b[0;32m/usr/local/lib/python3.7/dist-packages/pydrive/files.py\u001b[0m in \u001b[0;36mUpload\u001b[0;34m(self, param)\u001b[0m\n\u001b[1;32m    283\u001b[0m         \u001b[0mself\u001b[0m\u001b[0;34m.\u001b[0m\u001b[0m_FilesPatch\u001b[0m\u001b[0;34m(\u001b[0m\u001b[0mparam\u001b[0m\u001b[0;34m=\u001b[0m\u001b[0mparam\u001b[0m\u001b[0;34m)\u001b[0m\u001b[0;34m\u001b[0m\u001b[0;34m\u001b[0m\u001b[0m\n\u001b[1;32m    284\u001b[0m     \u001b[0;32melse\u001b[0m\u001b[0;34m:\u001b[0m\u001b[0;34m\u001b[0m\u001b[0;34m\u001b[0m\u001b[0m\n\u001b[0;32m--> 285\u001b[0;31m       \u001b[0mself\u001b[0m\u001b[0;34m.\u001b[0m\u001b[0m_FilesInsert\u001b[0m\u001b[0;34m(\u001b[0m\u001b[0mparam\u001b[0m\u001b[0;34m=\u001b[0m\u001b[0mparam\u001b[0m\u001b[0;34m)\u001b[0m\u001b[0;34m\u001b[0m\u001b[0;34m\u001b[0m\u001b[0m\n\u001b[0m\u001b[1;32m    286\u001b[0m \u001b[0;34m\u001b[0m\u001b[0m\n\u001b[1;32m    287\u001b[0m   \u001b[0;32mdef\u001b[0m \u001b[0mTrash\u001b[0m\u001b[0;34m(\u001b[0m\u001b[0mself\u001b[0m\u001b[0;34m,\u001b[0m \u001b[0mparam\u001b[0m\u001b[0;34m=\u001b[0m\u001b[0;32mNone\u001b[0m\u001b[0;34m)\u001b[0m\u001b[0;34m:\u001b[0m\u001b[0;34m\u001b[0m\u001b[0;34m\u001b[0m\u001b[0m\n",
            "\u001b[0;32m/usr/local/lib/python3.7/dist-packages/pydrive/auth.py\u001b[0m in \u001b[0;36m_decorated\u001b[0;34m(self, *args, **kwargs)\u001b[0m\n\u001b[1;32m     73\u001b[0m       \u001b[0mself\u001b[0m\u001b[0;34m.\u001b[0m\u001b[0mhttp\u001b[0m \u001b[0;34m=\u001b[0m \u001b[0mself\u001b[0m\u001b[0;34m.\u001b[0m\u001b[0mauth\u001b[0m\u001b[0;34m.\u001b[0m\u001b[0mGet_Http_Object\u001b[0m\u001b[0;34m(\u001b[0m\u001b[0;34m)\u001b[0m\u001b[0;34m\u001b[0m\u001b[0;34m\u001b[0m\u001b[0m\n\u001b[1;32m     74\u001b[0m \u001b[0;34m\u001b[0m\u001b[0m\n\u001b[0;32m---> 75\u001b[0;31m     \u001b[0;32mreturn\u001b[0m \u001b[0mdecoratee\u001b[0m\u001b[0;34m(\u001b[0m\u001b[0mself\u001b[0m\u001b[0;34m,\u001b[0m \u001b[0;34m*\u001b[0m\u001b[0margs\u001b[0m\u001b[0;34m,\u001b[0m \u001b[0;34m**\u001b[0m\u001b[0mkwargs\u001b[0m\u001b[0;34m)\u001b[0m\u001b[0;34m\u001b[0m\u001b[0;34m\u001b[0m\u001b[0m\n\u001b[0m\u001b[1;32m     76\u001b[0m   \u001b[0;32mreturn\u001b[0m \u001b[0m_decorated\u001b[0m\u001b[0;34m\u001b[0m\u001b[0;34m\u001b[0m\u001b[0m\n\u001b[1;32m     77\u001b[0m \u001b[0;34m\u001b[0m\u001b[0m\n",
            "\u001b[0;32m/usr/local/lib/python3.7/dist-packages/pydrive/files.py\u001b[0m in \u001b[0;36m_FilesInsert\u001b[0;34m(self, param)\u001b[0m\n\u001b[1;32m    367\u001b[0m         \u001b[0mparam\u001b[0m\u001b[0;34m[\u001b[0m\u001b[0;34m'media_body'\u001b[0m\u001b[0;34m]\u001b[0m \u001b[0;34m=\u001b[0m \u001b[0mself\u001b[0m\u001b[0;34m.\u001b[0m\u001b[0m_BuildMediaBody\u001b[0m\u001b[0;34m(\u001b[0m\u001b[0;34m)\u001b[0m\u001b[0;34m\u001b[0m\u001b[0;34m\u001b[0m\u001b[0m\n\u001b[1;32m    368\u001b[0m       metadata = self.auth.service.files().insert(**param).execute(\n\u001b[0;32m--> 369\u001b[0;31m         http=self.http)\n\u001b[0m\u001b[1;32m    370\u001b[0m     \u001b[0;32mexcept\u001b[0m \u001b[0merrors\u001b[0m\u001b[0;34m.\u001b[0m\u001b[0mHttpError\u001b[0m \u001b[0;32mas\u001b[0m \u001b[0merror\u001b[0m\u001b[0;34m:\u001b[0m\u001b[0;34m\u001b[0m\u001b[0;34m\u001b[0m\u001b[0m\n\u001b[1;32m    371\u001b[0m       \u001b[0;32mraise\u001b[0m \u001b[0mApiRequestError\u001b[0m\u001b[0;34m(\u001b[0m\u001b[0merror\u001b[0m\u001b[0;34m)\u001b[0m\u001b[0;34m\u001b[0m\u001b[0;34m\u001b[0m\u001b[0m\n",
            "\u001b[0;32m/usr/local/lib/python3.7/dist-packages/googleapiclient/_helpers.py\u001b[0m in \u001b[0;36mpositional_wrapper\u001b[0;34m(*args, **kwargs)\u001b[0m\n",
            "\u001b[0;32m/usr/local/lib/python3.7/dist-packages/googleapiclient/http.py\u001b[0m in \u001b[0;36mexecute\u001b[0;34m(self, http, num_retries)\u001b[0m\n\u001b[1;32m    877\u001b[0m       \u001b[0mhttp\u001b[0m\u001b[0;34m:\u001b[0m \u001b[0mhttplib2\u001b[0m\u001b[0;34m.\u001b[0m\u001b[0mHttp\u001b[0m\u001b[0;34m,\u001b[0m \u001b[0man\u001b[0m \u001b[0mhttp\u001b[0m \u001b[0mobject\u001b[0m \u001b[0mto\u001b[0m \u001b[0mbe\u001b[0m \u001b[0mused\u001b[0m \u001b[0;32min\u001b[0m \u001b[0mplace\u001b[0m \u001b[0mof\u001b[0m \u001b[0mthe\u001b[0m\u001b[0;34m\u001b[0m\u001b[0;34m\u001b[0m\u001b[0m\n\u001b[1;32m    878\u001b[0m             \u001b[0mone\u001b[0m \u001b[0mthe\u001b[0m \u001b[0mHttpRequest\u001b[0m \u001b[0mrequest\u001b[0m \u001b[0mobject\u001b[0m \u001b[0mwas\u001b[0m \u001b[0mconstructed\u001b[0m \u001b[0;32mwith\u001b[0m\u001b[0;34m.\u001b[0m\u001b[0;34m\u001b[0m\u001b[0;34m\u001b[0m\u001b[0m\n\u001b[0;32m--> 879\u001b[0;31m       \u001b[0mnum_retries\u001b[0m\u001b[0;34m:\u001b[0m \u001b[0mInteger\u001b[0m\u001b[0;34m,\u001b[0m \u001b[0mnumber\u001b[0m \u001b[0mof\u001b[0m \u001b[0mtimes\u001b[0m \u001b[0mto\u001b[0m \u001b[0mretry\u001b[0m \u001b[0;32mwith\u001b[0m \u001b[0mrandomized\u001b[0m\u001b[0;34m\u001b[0m\u001b[0;34m\u001b[0m\u001b[0m\n\u001b[0m\u001b[1;32m    880\u001b[0m             \u001b[0mexponential\u001b[0m \u001b[0mbackoff\u001b[0m\u001b[0;34m.\u001b[0m \u001b[0mIf\u001b[0m \u001b[0mall\u001b[0m \u001b[0mretries\u001b[0m \u001b[0mfail\u001b[0m\u001b[0;34m,\u001b[0m \u001b[0mthe\u001b[0m \u001b[0mraised\u001b[0m \u001b[0mHttpError\u001b[0m\u001b[0;34m\u001b[0m\u001b[0;34m\u001b[0m\u001b[0m\n\u001b[1;32m    881\u001b[0m             \u001b[0mrepresents\u001b[0m \u001b[0mthe\u001b[0m \u001b[0mlast\u001b[0m \u001b[0mrequest\u001b[0m\u001b[0;34m.\u001b[0m \u001b[0mIf\u001b[0m \u001b[0mzero\u001b[0m \u001b[0;34m(\u001b[0m\u001b[0mdefault\u001b[0m\u001b[0;34m)\u001b[0m\u001b[0;34m,\u001b[0m \u001b[0mwe\u001b[0m \u001b[0mattempt\u001b[0m \u001b[0mthe\u001b[0m\u001b[0;34m\u001b[0m\u001b[0;34m\u001b[0m\u001b[0m\n",
            "\u001b[0;32m/usr/local/lib/python3.7/dist-packages/googleapiclient/_helpers.py\u001b[0m in \u001b[0;36mpositional_wrapper\u001b[0;34m(*args, **kwargs)\u001b[0m\n",
            "\u001b[0;32m/usr/local/lib/python3.7/dist-packages/googleapiclient/http.py\u001b[0m in \u001b[0;36mnext_chunk\u001b[0;34m(self, http, num_retries)\u001b[0m\n\u001b[1;32m   1056\u001b[0m \u001b[0;34m\u001b[0m\u001b[0m\n\u001b[1;32m   1057\u001b[0m     \u001b[0;32mdef\u001b[0m \u001b[0mlist_farmers\u001b[0m\u001b[0;34m(\u001b[0m\u001b[0mrequest_id\u001b[0m\u001b[0;34m,\u001b[0m \u001b[0mresponse\u001b[0m\u001b[0;34m,\u001b[0m \u001b[0mexception\u001b[0m\u001b[0;34m)\u001b[0m\u001b[0;34m:\u001b[0m\u001b[0;34m\u001b[0m\u001b[0;34m\u001b[0m\u001b[0m\n\u001b[0;32m-> 1058\u001b[0;31m       \u001b[0;31m\\\u001b[0m\u001b[0;31m\"\u001b[0m\u001b[0;31m\\\u001b[0m\u001b[0;31m\"\u001b[0m\u001b[0;31m\\\u001b[0m\u001b[0;31m\"\u001b[0m\u001b[0mDo\u001b[0m \u001b[0msomething\u001b[0m \u001b[0;32mwith\u001b[0m \u001b[0mthe\u001b[0m \u001b[0mfarmers\u001b[0m \u001b[0mlist\u001b[0m \u001b[0mresponse\u001b[0m\u001b[0;34m.\u001b[0m\u001b[0;31m\\\u001b[0m\u001b[0;31m\"\u001b[0m\u001b[0;31m\\\u001b[0m\u001b[0;31m\"\u001b[0m\u001b[0;31m\\\u001b[0m\u001b[0;31m\"\u001b[0m\u001b[0;34m\u001b[0m\u001b[0;34m\u001b[0m\u001b[0m\n\u001b[0m\u001b[1;32m   1059\u001b[0m       \u001b[0;32mif\u001b[0m \u001b[0mexception\u001b[0m \u001b[0;32mis\u001b[0m \u001b[0;32mnot\u001b[0m \u001b[0;32mNone\u001b[0m\u001b[0;34m:\u001b[0m\u001b[0;34m\u001b[0m\u001b[0;34m\u001b[0m\u001b[0m\n\u001b[1;32m   1060\u001b[0m         \u001b[0;31m# Do something with the exception.\u001b[0m\u001b[0;34m\u001b[0m\u001b[0;34m\u001b[0m\u001b[0;34m\u001b[0m\u001b[0m\n",
            "\u001b[0;32m/usr/local/lib/python3.7/dist-packages/oauth2client/transport.py\u001b[0m in \u001b[0;36mnew_request\u001b[0;34m(uri, method, body, headers, redirections, connection_type)\u001b[0m\n\u001b[1;32m    173\u001b[0m         resp, content = request(orig_request_method, uri, method, body,\n\u001b[1;32m    174\u001b[0m                                 \u001b[0mclean_headers\u001b[0m\u001b[0;34m(\u001b[0m\u001b[0mheaders\u001b[0m\u001b[0;34m)\u001b[0m\u001b[0;34m,\u001b[0m\u001b[0;34m\u001b[0m\u001b[0;34m\u001b[0m\u001b[0m\n\u001b[0;32m--> 175\u001b[0;31m                                 redirections, connection_type)\n\u001b[0m\u001b[1;32m    176\u001b[0m \u001b[0;34m\u001b[0m\u001b[0m\n\u001b[1;32m    177\u001b[0m         \u001b[0;31m# A stored token may expire between the time it is retrieved and\u001b[0m\u001b[0;34m\u001b[0m\u001b[0;34m\u001b[0m\u001b[0;34m\u001b[0m\u001b[0m\n",
            "\u001b[0;32m/usr/local/lib/python3.7/dist-packages/oauth2client/transport.py\u001b[0m in \u001b[0;36mrequest\u001b[0;34m(http, uri, method, body, headers, redirections, connection_type)\u001b[0m\n\u001b[1;32m    280\u001b[0m     return http_callable(uri, method=method, body=body, headers=headers,\n\u001b[1;32m    281\u001b[0m                          \u001b[0mredirections\u001b[0m\u001b[0;34m=\u001b[0m\u001b[0mredirections\u001b[0m\u001b[0;34m,\u001b[0m\u001b[0;34m\u001b[0m\u001b[0;34m\u001b[0m\u001b[0m\n\u001b[0;32m--> 282\u001b[0;31m                          connection_type=connection_type)\n\u001b[0m\u001b[1;32m    283\u001b[0m \u001b[0;34m\u001b[0m\u001b[0m\n\u001b[1;32m    284\u001b[0m \u001b[0;34m\u001b[0m\u001b[0m\n",
            "\u001b[0;32m/usr/local/lib/python3.7/dist-packages/httplib2/__init__.py\u001b[0m in \u001b[0;36mrequest\u001b[0;34m(self, uri, method, body, headers, redirections, connection_type)\u001b[0m\n\u001b[1;32m   1989\u001b[0m                     \u001b[0mresponse\u001b[0m\u001b[0;34m.\u001b[0m\u001b[0mstatus\u001b[0m \u001b[0;34m=\u001b[0m \u001b[0;36m500\u001b[0m\u001b[0;34m\u001b[0m\u001b[0;34m\u001b[0m\u001b[0m\n\u001b[1;32m   1990\u001b[0m                     \u001b[0mresponse\u001b[0m\u001b[0;34m.\u001b[0m\u001b[0mreason\u001b[0m \u001b[0;34m=\u001b[0m \u001b[0mstr\u001b[0m\u001b[0;34m(\u001b[0m\u001b[0me\u001b[0m\u001b[0;34m)\u001b[0m\u001b[0;34m\u001b[0m\u001b[0;34m\u001b[0m\u001b[0m\n\u001b[0;32m-> 1991\u001b[0;31m                 \u001b[0;32melif\u001b[0m \u001b[0misinstance\u001b[0m\u001b[0;34m(\u001b[0m\u001b[0me\u001b[0m\u001b[0;34m,\u001b[0m \u001b[0msocket\u001b[0m\u001b[0;34m.\u001b[0m\u001b[0mtimeout\u001b[0m\u001b[0;34m)\u001b[0m\u001b[0;34m:\u001b[0m\u001b[0;34m\u001b[0m\u001b[0;34m\u001b[0m\u001b[0m\n\u001b[0m\u001b[1;32m   1992\u001b[0m                     \u001b[0mcontent\u001b[0m \u001b[0;34m=\u001b[0m \u001b[0;34mb\"Request Timeout\"\u001b[0m\u001b[0;34m\u001b[0m\u001b[0;34m\u001b[0m\u001b[0m\n\u001b[1;32m   1993\u001b[0m                     response = Response(\n",
            "\u001b[0;32m/usr/local/lib/python3.7/dist-packages/httplib2/__init__.py\u001b[0m in \u001b[0;36m_request\u001b[0;34m(self, conn, host, absolute_uri, request_uri, method, body, headers, redirections, cachekey)\u001b[0m\n\u001b[1;32m   1688\u001b[0m                             )\n\u001b[1;32m   1689\u001b[0m                     \u001b[0;32mif\u001b[0m \u001b[0mresponse\u001b[0m\u001b[0;34m.\u001b[0m\u001b[0mstatus\u001b[0m \u001b[0;34m==\u001b[0m \u001b[0;36m301\u001b[0m \u001b[0;32mand\u001b[0m \u001b[0mmethod\u001b[0m \u001b[0;32min\u001b[0m \u001b[0;34m[\u001b[0m\u001b[0;34m\"GET\"\u001b[0m\u001b[0;34m,\u001b[0m \u001b[0;34m\"HEAD\"\u001b[0m\u001b[0;34m]\u001b[0m\u001b[0;34m:\u001b[0m\u001b[0;34m\u001b[0m\u001b[0;34m\u001b[0m\u001b[0m\n\u001b[0;32m-> 1690\u001b[0;31m                         \u001b[0mresponse\u001b[0m\u001b[0;34m[\u001b[0m\u001b[0;34m\"-x-permanent-redirect-url\"\u001b[0m\u001b[0;34m]\u001b[0m \u001b[0;34m=\u001b[0m \u001b[0mresponse\u001b[0m\u001b[0;34m[\u001b[0m\u001b[0;34m\"location\"\u001b[0m\u001b[0;34m]\u001b[0m\u001b[0;34m\u001b[0m\u001b[0;34m\u001b[0m\u001b[0m\n\u001b[0m\u001b[1;32m   1691\u001b[0m                         \u001b[0;32mif\u001b[0m \u001b[0;34m\"content-location\"\u001b[0m \u001b[0;32mnot\u001b[0m \u001b[0;32min\u001b[0m \u001b[0mresponse\u001b[0m\u001b[0;34m:\u001b[0m\u001b[0;34m\u001b[0m\u001b[0;34m\u001b[0m\u001b[0m\n\u001b[1;32m   1692\u001b[0m                             \u001b[0mresponse\u001b[0m\u001b[0;34m[\u001b[0m\u001b[0;34m\"content-location\"\u001b[0m\u001b[0;34m]\u001b[0m \u001b[0;34m=\u001b[0m \u001b[0mabsolute_uri\u001b[0m\u001b[0;34m\u001b[0m\u001b[0;34m\u001b[0m\u001b[0m\n",
            "\u001b[0;31mRedirectMissingLocation\u001b[0m: Redirected but the response is missing a Location: header."
          ]
        }
      ]
    },
    {
      "cell_type": "code",
      "metadata": {
        "colab": {
          "base_uri": "https://localhost:8080/"
        },
        "id": "vI6vctmNLnwe",
        "outputId": "ca09c7de-b500-450d-e6b9-acf51122c014"
      },
      "source": [
        "%%bash\n",
        "zip append.zip to_append.csv"
      ],
      "execution_count": null,
      "outputs": [
        {
          "output_type": "stream",
          "text": [
            "  adding: to_append.csv (deflated 94%)\n"
          ],
          "name": "stdout"
        }
      ]
    },
    {
      "cell_type": "code",
      "metadata": {
        "colab": {
          "base_uri": "https://localhost:8080/",
          "height": 1000
        },
        "id": "lY13852iKu-d",
        "outputId": "24591734-8a31-403a-e166-7f7d1e405bbf"
      },
      "source": [
        "file_list = drive.ListFile({'q': \"'root' in parents and trashed=false\"}).GetList()\n",
        "for file1 in file_list:       \n",
        "    print ('title: %s, id: %s' % (file1['title'], file1['id']))\n",
        "sys.exit()"
      ],
      "execution_count": null,
      "outputs": [
        {
          "output_type": "stream",
          "text": [
            "title: archive.zip, id: 1hDOg7vrsVb6gvpH6qM84tG2Fwz1ndIpE\n",
            "title: ANS Paper, id: 1GohI4FO1sC7ySz_0lj3VRraCSNPN-i2SwomMk_uu-Sg\n",
            "title: Kaggle Writeup, id: 1R5K5fLk8khKYTYDfKuMwxBJ8bnGCanl0NcnbVUanE8o\n",
            "title: DSP Final Proposal, id: 14CMd3Gm0dfohRbo7V1K_re3pDGkczdxJCKHa3HhRKI8\n",
            "title: train_final.csv, id: 11DRW2sehLt4gHTQsuTtEJf1reTrRkfj9\n",
            "title: test_final.csv, id: 1dMcohMzDlDzUdX5m8B7Ko4VCaO6xeta-\n",
            "title: midterm1_Sahil_Vaidya.doc, id: 15ToU9emPJ8nedhbfhJjSVb9_jzcPPYHv\n",
            "title: Thought Paper 1, id: 1AAHtGgHITsRoyqCivH3-qOelx94gPHAWZ3JPkradqm8\n",
            "title: Data Notes, id: 1wNBUm6mbVPbUoFoU72zhoeBF2d4ytrs5ECmo8VZhqXY\n",
            "title: Hendrickson Contract Service Document_Vaidya.xlsx, id: 116d-YhOoQM7RVmuszF9ck09xuKUvsMiW\n",
            "title: w-9_vaidya.pdf, id: 1s3uiwI4KgbbBwLk191-7-hj7zZozpLyx\n",
            "title: Untitled Diagram.drawio, id: 1wW6M06d6POUEurgH2VATzWyPt1djco2C\n",
            "title: Untitled Diagram.drawio, id: 1YpFgaAuWSi2QVgjSgcEdBVDRHTjaRZCW\n",
            "title: task4.drawio, id: 1-ObdDZP-_fwRGcWX-TgbkaDhll3rIMNa\n",
            "title: task2.drawio, id: 1SGKon0LaF1XiA2o6ZKhMklXDk8pbW0rh\n",
            "title: task3.drawio, id: 1JRcbadO3AZGZET3uhjunnWSIHlrBiAV8\n",
            "title: History Essays, id: 1xsFcZF_c1byLyDSW_E_tGJxm8qp2P7AlWcyQt80sZlY\n",
            "title: lab4_report.docx, id: 1XoUOV1cmEI3NLzsjceKcAE8J7dsAOFS8\n",
            "title: Build Management, id: 1E9amdv4ujVcH7uF9H5b6VAc8Mls3EtEU4FxAeYYcfWc\n",
            "title: College Mapping, id: 19GB76w9F1exGL4WAfPBt5AKuq2kSlVH8KX681Cz2rhc\n",
            "title: sequence_diagram.html, id: 1KFJPRJ0bNqlYKdQogMvmemK98EUHVcj2\n",
            "title: class_diagram.html, id: 13dCnSUL7qMZtdFs2iSx0oFeLspdHUzXQ\n",
            "title: state_diagram.html, id: 1PTh5KlrmF1Ytdhs3Ln8Z39lwjH9jIuFw\n",
            "title: library_use_case.html, id: 1V39G5rHy7J0mQpteO0LFlhermrV84NvQ\n",
            "title: Bootstrap Submission, id: 1iuzmYK3wNos9KzGqWqzdfdm4GG_v-kpkK6Ti-r7MOAo\n",
            "title: Tech Showcase, id: 1mdjm1s6v2Ls8D0ISR0TAA8uhDEL5xLxEBm9WTZJb43s\n",
            "title: Flask Tutorial Writeup, id: 10XIT_UCqVscK3MY2q45o2CZ4-aPl1pnhHC4UnBjwY6Y\n",
            "title: Tutorial 2, id: 1ZVwOJjZRu1u_4eYhDoBXwHqRf1OxS-5rW-LRnW0gZd8\n",
            "title: renters insurance.pdf, id: 1Qkgoz0yuS2RyS6bFcrQ0-fuaZv6COzSH\n",
            "title: Expenses, id: 1O7DDFsDNfPMSF0WITQdpcAazluP99TpbEtbA2Ip7YjA\n",
            "title: Colab Notebooks, id: 1kl06U_Ir55SiFOW-I4P3XgFVOPf9dz8Q\n",
            "title: Internship Notes, id: 1Ec6-_lvgObAh4O0MOWcVvXW02Ag8yO1LDCTKEDmLZ2Y\n",
            "title: GEMS NPM - online T + C_ v2.docx, id: 13OjglnXIV0lRhXJe3tWbdFbv3l2abL7T\n",
            "title: BRL-CAD Notes, id: 1zXQ628t3qyPKz_YAOjke7exOBPRKVzgQKtWyLYp7_Gk\n",
            "title: Neuro Exam 3, id: 13cxUAJispeZFicvqGajkhkzqQpExeK9wleKN8hTj164\n",
            "title: 6 - Apple.pptx, id: 1rtYNgJziBmoZ0621KnEq8ZFA0UJ2N7E3\n",
            "title: Eanes invoice, id: 13z_-F2T7792SuroXu-PKNolZBXjhfGSkLwQN3uQOKJU\n",
            "title: Untitled document, id: 1N7ZOBZEyhlA9fR2UKPoUY7WdvtV776ibrKBjVa2A9Cc\n",
            "title: Neuro Exam 2, id: 1tp4VXXgVX4k6d3VWSfKZwIt4LczcEUCE\n",
            "title: 20191004_Student_Outreach_Project_BRLCAD_automated_testing_infrastructure, id: 1RL3Es9BAd53ZzRDVs29YP83b_kgK2IfKvr8WhNXVeU8\n",
            "title: 20191004_Student_Outreach_Project_BRLCAD_automated_testing_infrastructure.docx, id: 0B-y1DTG5QHlNelBZcWoxRHptZVZLQ0ZJczBMcTJDcDI5REln\n",
            "title: Ski Phone Numbers, id: 1OcEKI97p-tmt5n7-L0vrjrryMHVAo831AVziMZoZTRw\n",
            "title: budget, id: 1HdFeKwZ_pR0pawn1GZlnfQD1kqqq5Jd0m-nmh_qgMm0\n",
            "title: README.docx, id: 11MAmMLx8m0EsvaQRSLjO_jkM8AUJLzE7\n",
            "title: 333T Team Project, id: 1CCWiTbVxlXYLcMLp9iwjOVajk0xEsytZ\n",
            "title: How much do i spendsheet, id: 1ohf_Q-OiVHejY5W3jhi-BxJZYhbPVkax6GKLZKQv8C8\n",
            "title: Article Summary, id: 1D1pecggrt6i_XH_ExwDPsYY_zMWSKz-Hfj5b0h0awVA\n",
            "title: What do I need to get, id: 1ht6Hb1a2G4xqtC91F1-m3cOXUWfhhaXImMzy0l5-LT8\n",
            "title: Costa Brava itinerary_UTA_industry_2019.pdf, id: 0B-y1DTG5QHlNdDEtRFY4NlFPb1R2UXhPdE1jN3NEanF1eU1R\n",
            "title: Energy Video, id: 175CDt4lb0YWdjJJkvjCTRorEYxN6cvD8FEepHXhBkgU\n",
            "title: Susanna S. Epp - Discrete Mathematics_ Introduction to Mathematical Reasoning (2011, Brooks_Cole).pdf, id: 1mWHkdyqdwW4H2Gp6eAr-aU1xMuDwSNQN\n",
            "title: UT Classes, id: 1ovUSElmCLiW4J28OEYR_n1wq_J4S-vCj\n",
            "title: Untitled document, id: 1e_097cZnuZyI39NwEZAh0IBDxb0mBeAy8xZ3I-SA7pA\n",
            "title: What People Owe Me, id: 1d2WMyisW49mPeQxCUysLWtr8N8sEohtw6r-mgZ4LA7o\n",
            "title: Questions for Advisors, id: 1Ar4PyJiV3EGHHbrCxW8XFys7eRbSxnNRcxgmesGY-UU\n",
            "title: Grade School, id: 1ISbjadgcnr7_eLKJ-SX___A8ub6QcKw-\n"
          ],
          "name": "stdout"
        },
        {
          "output_type": "error",
          "ename": "NameError",
          "evalue": "ignored",
          "traceback": [
            "\u001b[0;31m---------------------------------------------------------------------------\u001b[0m",
            "\u001b[0;31mNameError\u001b[0m                                 Traceback (most recent call last)",
            "\u001b[0;32m<ipython-input-18-28b84cd139aa>\u001b[0m in \u001b[0;36m<module>\u001b[0;34m()\u001b[0m\n\u001b[1;32m      2\u001b[0m \u001b[0;32mfor\u001b[0m \u001b[0mfile1\u001b[0m \u001b[0;32min\u001b[0m \u001b[0mfile_list\u001b[0m\u001b[0;34m:\u001b[0m\u001b[0;34m\u001b[0m\u001b[0;34m\u001b[0m\u001b[0m\n\u001b[1;32m      3\u001b[0m     \u001b[0mprint\u001b[0m \u001b[0;34m(\u001b[0m\u001b[0;34m'title: %s, id: %s'\u001b[0m \u001b[0;34m%\u001b[0m \u001b[0;34m(\u001b[0m\u001b[0mfile1\u001b[0m\u001b[0;34m[\u001b[0m\u001b[0;34m'title'\u001b[0m\u001b[0;34m]\u001b[0m\u001b[0;34m,\u001b[0m \u001b[0mfile1\u001b[0m\u001b[0;34m[\u001b[0m\u001b[0;34m'id'\u001b[0m\u001b[0;34m]\u001b[0m\u001b[0;34m)\u001b[0m\u001b[0;34m)\u001b[0m\u001b[0;34m\u001b[0m\u001b[0;34m\u001b[0m\u001b[0m\n\u001b[0;32m----> 4\u001b[0;31m \u001b[0msys\u001b[0m\u001b[0;34m.\u001b[0m\u001b[0mexit\u001b[0m\u001b[0;34m(\u001b[0m\u001b[0;34m)\u001b[0m\u001b[0;34m\u001b[0m\u001b[0;34m\u001b[0m\u001b[0m\n\u001b[0m",
            "\u001b[0;31mNameError\u001b[0m: name 'sys' is not defined"
          ]
        }
      ]
    },
    {
      "cell_type": "markdown",
      "metadata": {
        "id": "0SRRu5YeGzy4"
      },
      "source": [
        "Day 2"
      ]
    },
    {
      "cell_type": "code",
      "metadata": {
        "id": "8RuukwWvGwbE"
      },
      "source": [
        ""
      ],
      "execution_count": null,
      "outputs": []
    },
    {
      "cell_type": "code",
      "metadata": {
        "colab": {
          "base_uri": "https://localhost:8080/",
          "height": 204
        },
        "id": "N-12V1uCGrfz",
        "outputId": "6e805824-635b-4006-800c-85a20243bb06"
      },
      "source": [
        "to_append = pd.read_csv('drive/MyDrive/to_append.csv')\n",
        "to_append.head()"
      ],
      "execution_count": null,
      "outputs": [
        {
          "output_type": "execute_result",
          "data": {
            "text/html": [
              "<div>\n",
              "<style scoped>\n",
              "    .dataframe tbody tr th:only-of-type {\n",
              "        vertical-align: middle;\n",
              "    }\n",
              "\n",
              "    .dataframe tbody tr th {\n",
              "        vertical-align: top;\n",
              "    }\n",
              "\n",
              "    .dataframe thead th {\n",
              "        text-align: right;\n",
              "    }\n",
              "</style>\n",
              "<table border=\"1\" class=\"dataframe\">\n",
              "  <thead>\n",
              "    <tr style=\"text-align: right;\">\n",
              "      <th></th>\n",
              "      <th>Unnamed: 0</th>\n",
              "      <th>movie_id</th>\n",
              "      <th>plot_summary</th>\n",
              "      <th>duration</th>\n",
              "      <th>genre</th>\n",
              "      <th>rating</th>\n",
              "      <th>release_date</th>\n",
              "      <th>plot_synopsis</th>\n",
              "    </tr>\n",
              "  </thead>\n",
              "  <tbody>\n",
              "    <tr>\n",
              "      <th>0</th>\n",
              "      <td>1263</td>\n",
              "      <td>tt0111161</td>\n",
              "      <td>Chronicles the experiences of a formerly succe...</td>\n",
              "      <td>2h 22min</td>\n",
              "      <td>['Crime', 'Drama']</td>\n",
              "      <td>9.3</td>\n",
              "      <td>1994-10-14</td>\n",
              "      <td>In 1947, Andy Dufresne (Tim Robbins), a banker...</td>\n",
              "    </tr>\n",
              "    <tr>\n",
              "      <th>1</th>\n",
              "      <td>1263</td>\n",
              "      <td>tt0111161</td>\n",
              "      <td>Chronicles the experiences of a formerly succe...</td>\n",
              "      <td>2h 22min</td>\n",
              "      <td>['Crime', 'Drama']</td>\n",
              "      <td>9.3</td>\n",
              "      <td>1994-10-14</td>\n",
              "      <td>In 1947, Andy Dufresne (Tim Robbins), a banker...</td>\n",
              "    </tr>\n",
              "    <tr>\n",
              "      <th>2</th>\n",
              "      <td>1263</td>\n",
              "      <td>tt0111161</td>\n",
              "      <td>Chronicles the experiences of a formerly succe...</td>\n",
              "      <td>2h 22min</td>\n",
              "      <td>['Crime', 'Drama']</td>\n",
              "      <td>9.3</td>\n",
              "      <td>1994-10-14</td>\n",
              "      <td>In 1947, Andy Dufresne (Tim Robbins), a banker...</td>\n",
              "    </tr>\n",
              "    <tr>\n",
              "      <th>3</th>\n",
              "      <td>1263</td>\n",
              "      <td>tt0111161</td>\n",
              "      <td>Chronicles the experiences of a formerly succe...</td>\n",
              "      <td>2h 22min</td>\n",
              "      <td>['Crime', 'Drama']</td>\n",
              "      <td>9.3</td>\n",
              "      <td>1994-10-14</td>\n",
              "      <td>In 1947, Andy Dufresne (Tim Robbins), a banker...</td>\n",
              "    </tr>\n",
              "    <tr>\n",
              "      <th>4</th>\n",
              "      <td>1263</td>\n",
              "      <td>tt0111161</td>\n",
              "      <td>Chronicles the experiences of a formerly succe...</td>\n",
              "      <td>2h 22min</td>\n",
              "      <td>['Crime', 'Drama']</td>\n",
              "      <td>9.3</td>\n",
              "      <td>1994-10-14</td>\n",
              "      <td>In 1947, Andy Dufresne (Tim Robbins), a banker...</td>\n",
              "    </tr>\n",
              "  </tbody>\n",
              "</table>\n",
              "</div>"
            ],
            "text/plain": [
              "   Unnamed: 0  ...                                      plot_synopsis\n",
              "0        1263  ...  In 1947, Andy Dufresne (Tim Robbins), a banker...\n",
              "1        1263  ...  In 1947, Andy Dufresne (Tim Robbins), a banker...\n",
              "2        1263  ...  In 1947, Andy Dufresne (Tim Robbins), a banker...\n",
              "3        1263  ...  In 1947, Andy Dufresne (Tim Robbins), a banker...\n",
              "4        1263  ...  In 1947, Andy Dufresne (Tim Robbins), a banker...\n",
              "\n",
              "[5 rows x 8 columns]"
            ]
          },
          "metadata": {
            "tags": []
          },
          "execution_count": 4
        }
      ]
    },
    {
      "cell_type": "code",
      "metadata": {
        "colab": {
          "base_uri": "https://localhost:8080/"
        },
        "id": "3XWoWX4rG7rY",
        "outputId": "6390d459-f06d-4935-8761-f5ef3fe85348"
      },
      "source": [
        "to_append.shape"
      ],
      "execution_count": null,
      "outputs": [
        {
          "output_type": "execute_result",
          "data": {
            "text/plain": [
              "(573906, 8)"
            ]
          },
          "metadata": {
            "tags": []
          },
          "execution_count": 5
        }
      ]
    },
    {
      "cell_type": "code",
      "metadata": {
        "colab": {
          "base_uri": "https://localhost:8080/"
        },
        "id": "Tlu33ZF7IdjC",
        "outputId": "26cee313-c6ef-42d1-c754-f6d17454c562"
      },
      "source": [
        "reviews.shape"
      ],
      "execution_count": null,
      "outputs": [
        {
          "output_type": "execute_result",
          "data": {
            "text/plain": [
              "(573906, 7)"
            ]
          },
          "metadata": {
            "tags": []
          },
          "execution_count": 10
        }
      ]
    },
    {
      "cell_type": "code",
      "metadata": {
        "colab": {
          "base_uri": "https://localhost:8080/",
          "height": 197
        },
        "id": "RlzY5uEjI8YK",
        "outputId": "17d763df-5244-4a4a-9c85-e9e257561701"
      },
      "source": [
        "reviews.drop(reviews.tail(7).index,inplace = True)"
      ],
      "execution_count": null,
      "outputs": [
        {
          "output_type": "error",
          "ename": "AttributeError",
          "evalue": "ignored",
          "traceback": [
            "\u001b[0;31m---------------------------------------------------------------------------\u001b[0m",
            "\u001b[0;31mAttributeError\u001b[0m                            Traceback (most recent call last)",
            "\u001b[0;32m<ipython-input-9-9da771e70567>\u001b[0m in \u001b[0;36m<module>\u001b[0;34m()\u001b[0m\n\u001b[1;32m      1\u001b[0m \u001b[0mdrop_reviews\u001b[0m \u001b[0;34m=\u001b[0m \u001b[0mreviews\u001b[0m\u001b[0;34m.\u001b[0m\u001b[0mdrop\u001b[0m\u001b[0;34m(\u001b[0m\u001b[0mreviews\u001b[0m\u001b[0;34m.\u001b[0m\u001b[0mtail\u001b[0m\u001b[0;34m(\u001b[0m\u001b[0;36m7\u001b[0m\u001b[0;34m)\u001b[0m\u001b[0;34m.\u001b[0m\u001b[0mindex\u001b[0m\u001b[0;34m,\u001b[0m\u001b[0minplace\u001b[0m \u001b[0;34m=\u001b[0m \u001b[0;32mTrue\u001b[0m\u001b[0;34m)\u001b[0m\u001b[0;34m\u001b[0m\u001b[0;34m\u001b[0m\u001b[0m\n\u001b[0;32m----> 2\u001b[0;31m \u001b[0mdrop_reviews\u001b[0m\u001b[0;34m.\u001b[0m\u001b[0mshape\u001b[0m\u001b[0;34m\u001b[0m\u001b[0;34m\u001b[0m\u001b[0m\n\u001b[0m",
            "\u001b[0;31mAttributeError\u001b[0m: 'NoneType' object has no attribute 'shape'"
          ]
        }
      ]
    },
    {
      "cell_type": "code",
      "metadata": {
        "colab": {
          "base_uri": "https://localhost:8080/",
          "height": 510
        },
        "id": "yLxCjQp9JV94",
        "outputId": "7a4662ce-e043-49a7-aaee-090b2a0a3f60"
      },
      "source": [
        "merge = pd.merge(reviews,to_append, left_index=True, right_index=True)\n",
        "merge.head()"
      ],
      "execution_count": null,
      "outputs": [
        {
          "output_type": "execute_result",
          "data": {
            "text/html": [
              "<div>\n",
              "<style scoped>\n",
              "    .dataframe tbody tr th:only-of-type {\n",
              "        vertical-align: middle;\n",
              "    }\n",
              "\n",
              "    .dataframe tbody tr th {\n",
              "        vertical-align: top;\n",
              "    }\n",
              "\n",
              "    .dataframe thead th {\n",
              "        text-align: right;\n",
              "    }\n",
              "</style>\n",
              "<table border=\"1\" class=\"dataframe\">\n",
              "  <thead>\n",
              "    <tr style=\"text-align: right;\">\n",
              "      <th></th>\n",
              "      <th>review_date</th>\n",
              "      <th>movie_id_x</th>\n",
              "      <th>user_id</th>\n",
              "      <th>is_spoiler</th>\n",
              "      <th>review_text</th>\n",
              "      <th>rating_x</th>\n",
              "      <th>review_summary</th>\n",
              "      <th>Unnamed: 0</th>\n",
              "      <th>movie_id_y</th>\n",
              "      <th>plot_summary</th>\n",
              "      <th>duration</th>\n",
              "      <th>genre</th>\n",
              "      <th>rating_y</th>\n",
              "      <th>release_date</th>\n",
              "      <th>plot_synopsis</th>\n",
              "    </tr>\n",
              "  </thead>\n",
              "  <tbody>\n",
              "    <tr>\n",
              "      <th>0</th>\n",
              "      <td>10 February 2006</td>\n",
              "      <td>tt0111161</td>\n",
              "      <td>ur1898687</td>\n",
              "      <td>True</td>\n",
              "      <td>In its Oscar year, Shawshank Redemption (writt...</td>\n",
              "      <td>10</td>\n",
              "      <td>A classic piece of unforgettable film-making.</td>\n",
              "      <td>1263</td>\n",
              "      <td>tt0111161</td>\n",
              "      <td>Chronicles the experiences of a formerly succe...</td>\n",
              "      <td>2h 22min</td>\n",
              "      <td>['Crime', 'Drama']</td>\n",
              "      <td>9.3</td>\n",
              "      <td>1994-10-14</td>\n",
              "      <td>In 1947, Andy Dufresne (Tim Robbins), a banker...</td>\n",
              "    </tr>\n",
              "    <tr>\n",
              "      <th>1</th>\n",
              "      <td>6 September 2000</td>\n",
              "      <td>tt0111161</td>\n",
              "      <td>ur0842118</td>\n",
              "      <td>True</td>\n",
              "      <td>The Shawshank Redemption is without a doubt on...</td>\n",
              "      <td>10</td>\n",
              "      <td>Simply amazing. The best film of the 90's.</td>\n",
              "      <td>1263</td>\n",
              "      <td>tt0111161</td>\n",
              "      <td>Chronicles the experiences of a formerly succe...</td>\n",
              "      <td>2h 22min</td>\n",
              "      <td>['Crime', 'Drama']</td>\n",
              "      <td>9.3</td>\n",
              "      <td>1994-10-14</td>\n",
              "      <td>In 1947, Andy Dufresne (Tim Robbins), a banker...</td>\n",
              "    </tr>\n",
              "    <tr>\n",
              "      <th>2</th>\n",
              "      <td>3 August 2001</td>\n",
              "      <td>tt0111161</td>\n",
              "      <td>ur1285640</td>\n",
              "      <td>True</td>\n",
              "      <td>I believe that this film is the best story eve...</td>\n",
              "      <td>8</td>\n",
              "      <td>The best story ever told on film</td>\n",
              "      <td>1263</td>\n",
              "      <td>tt0111161</td>\n",
              "      <td>Chronicles the experiences of a formerly succe...</td>\n",
              "      <td>2h 22min</td>\n",
              "      <td>['Crime', 'Drama']</td>\n",
              "      <td>9.3</td>\n",
              "      <td>1994-10-14</td>\n",
              "      <td>In 1947, Andy Dufresne (Tim Robbins), a banker...</td>\n",
              "    </tr>\n",
              "    <tr>\n",
              "      <th>3</th>\n",
              "      <td>1 September 2002</td>\n",
              "      <td>tt0111161</td>\n",
              "      <td>ur1003471</td>\n",
              "      <td>True</td>\n",
              "      <td>**Yes, there are SPOILERS here**This film has ...</td>\n",
              "      <td>10</td>\n",
              "      <td>Busy dying or busy living?</td>\n",
              "      <td>1263</td>\n",
              "      <td>tt0111161</td>\n",
              "      <td>Chronicles the experiences of a formerly succe...</td>\n",
              "      <td>2h 22min</td>\n",
              "      <td>['Crime', 'Drama']</td>\n",
              "      <td>9.3</td>\n",
              "      <td>1994-10-14</td>\n",
              "      <td>In 1947, Andy Dufresne (Tim Robbins), a banker...</td>\n",
              "    </tr>\n",
              "    <tr>\n",
              "      <th>4</th>\n",
              "      <td>20 May 2004</td>\n",
              "      <td>tt0111161</td>\n",
              "      <td>ur0226855</td>\n",
              "      <td>True</td>\n",
              "      <td>At the heart of this extraordinary movie is a ...</td>\n",
              "      <td>8</td>\n",
              "      <td>Great story, wondrously told and acted</td>\n",
              "      <td>1263</td>\n",
              "      <td>tt0111161</td>\n",
              "      <td>Chronicles the experiences of a formerly succe...</td>\n",
              "      <td>2h 22min</td>\n",
              "      <td>['Crime', 'Drama']</td>\n",
              "      <td>9.3</td>\n",
              "      <td>1994-10-14</td>\n",
              "      <td>In 1947, Andy Dufresne (Tim Robbins), a banker...</td>\n",
              "    </tr>\n",
              "  </tbody>\n",
              "</table>\n",
              "</div>"
            ],
            "text/plain": [
              "        review_date  ...                                      plot_synopsis\n",
              "0  10 February 2006  ...  In 1947, Andy Dufresne (Tim Robbins), a banker...\n",
              "1  6 September 2000  ...  In 1947, Andy Dufresne (Tim Robbins), a banker...\n",
              "2     3 August 2001  ...  In 1947, Andy Dufresne (Tim Robbins), a banker...\n",
              "3  1 September 2002  ...  In 1947, Andy Dufresne (Tim Robbins), a banker...\n",
              "4       20 May 2004  ...  In 1947, Andy Dufresne (Tim Robbins), a banker...\n",
              "\n",
              "[5 rows x 15 columns]"
            ]
          },
          "metadata": {
            "tags": []
          },
          "execution_count": 13
        }
      ]
    },
    {
      "cell_type": "code",
      "metadata": {
        "colab": {
          "base_uri": "https://localhost:8080/"
        },
        "id": "XxujM_dGKNRW",
        "outputId": "aa55a600-d18f-488b-e029-54d98e23e640"
      },
      "source": [
        "merge.shape"
      ],
      "execution_count": null,
      "outputs": [
        {
          "output_type": "execute_result",
          "data": {
            "text/plain": [
              "(573906, 15)"
            ]
          },
          "metadata": {
            "tags": []
          },
          "execution_count": 14
        }
      ]
    },
    {
      "cell_type": "code",
      "metadata": {
        "id": "vVFOQux7K-xq"
      },
      "source": [
        "merge.to_csv(\"dataset.csv\")"
      ],
      "execution_count": null,
      "outputs": []
    },
    {
      "cell_type": "code",
      "metadata": {
        "colab": {
          "base_uri": "https://localhost:8080/"
        },
        "id": "wjU9oCjEKymn",
        "outputId": "dbde5ef7-44a9-408d-bd10-45b3d4785681"
      },
      "source": [
        "%%bash\n",
        "zip dataset.zip dataset.csv"
      ],
      "execution_count": null,
      "outputs": [
        {
          "output_type": "stream",
          "text": [
            "  adding: dataset.csv (deflated 89%)\n"
          ],
          "name": "stdout"
        }
      ]
    },
    {
      "cell_type": "code",
      "metadata": {
        "id": "m2KC39KgL7Lo"
      },
      "source": [
        "X = merge.drop(\"is_spoiler\", 1)\n",
        "y = merge['is_spoiler']"
      ],
      "execution_count": null,
      "outputs": []
    },
    {
      "cell_type": "code",
      "metadata": {
        "colab": {
          "base_uri": "https://localhost:8080/"
        },
        "id": "LfEgdRXDOxAj",
        "outputId": "64429193-0c3d-4002-c898-a8710f61bc81"
      },
      "source": [
        "X['movie_id_x'].value_counts()"
      ],
      "execution_count": null,
      "outputs": [
        {
          "output_type": "execute_result",
          "data": {
            "text/plain": [
              "tt0468569    4845\n",
              "tt0111161    4361\n",
              "tt0167260    2729\n",
              "tt0137523    2480\n",
              "tt0068646    2137\n",
              "             ... \n",
              "tt0107719      12\n",
              "tt6294822      11\n",
              "tt0104014       5\n",
              "tt0201265       4\n",
              "tt0114142       2\n",
              "Name: movie_id_x, Length: 1572, dtype: int64"
            ]
          },
          "metadata": {
            "tags": []
          },
          "execution_count": 20
        }
      ]
    },
    {
      "cell_type": "code",
      "metadata": {
        "colab": {
          "base_uri": "https://localhost:8080/"
        },
        "id": "gI50SxGYO5Uo",
        "outputId": "cb54dda1-c9db-4550-e27f-c2c36b383f09"
      },
      "source": [
        "len(X['movie_id_x'].unique())"
      ],
      "execution_count": null,
      "outputs": [
        {
          "output_type": "execute_result",
          "data": {
            "text/plain": [
              "1572"
            ]
          },
          "metadata": {
            "tags": []
          },
          "execution_count": 22
        }
      ]
    },
    {
      "cell_type": "markdown",
      "metadata": {
        "id": "_zCUV6WkPJ12"
      },
      "source": [
        "1572 unique movies in dataset, ranging from 5000 reviews to 2 reviews"
      ]
    },
    {
      "cell_type": "code",
      "metadata": {
        "colab": {
          "base_uri": "https://localhost:8080/",
          "height": 459
        },
        "id": "IFbEw9BAPJAX",
        "outputId": "775ff0ea-f4af-4b08-897e-a5f7ec73ea77"
      },
      "source": [
        "X.drop([\"user_id\",\"Unnamed: 0\"],1,inplace=True)\n",
        "X.head()"
      ],
      "execution_count": null,
      "outputs": [
        {
          "output_type": "execute_result",
          "data": {
            "text/html": [
              "<div>\n",
              "<style scoped>\n",
              "    .dataframe tbody tr th:only-of-type {\n",
              "        vertical-align: middle;\n",
              "    }\n",
              "\n",
              "    .dataframe tbody tr th {\n",
              "        vertical-align: top;\n",
              "    }\n",
              "\n",
              "    .dataframe thead th {\n",
              "        text-align: right;\n",
              "    }\n",
              "</style>\n",
              "<table border=\"1\" class=\"dataframe\">\n",
              "  <thead>\n",
              "    <tr style=\"text-align: right;\">\n",
              "      <th></th>\n",
              "      <th>review_date</th>\n",
              "      <th>movie_id_x</th>\n",
              "      <th>review_text</th>\n",
              "      <th>rating_x</th>\n",
              "      <th>review_summary</th>\n",
              "      <th>movie_id_y</th>\n",
              "      <th>plot_summary</th>\n",
              "      <th>duration</th>\n",
              "      <th>genre</th>\n",
              "      <th>rating_y</th>\n",
              "      <th>release_date</th>\n",
              "      <th>plot_synopsis</th>\n",
              "    </tr>\n",
              "  </thead>\n",
              "  <tbody>\n",
              "    <tr>\n",
              "      <th>0</th>\n",
              "      <td>10 February 2006</td>\n",
              "      <td>tt0111161</td>\n",
              "      <td>In its Oscar year, Shawshank Redemption (writt...</td>\n",
              "      <td>10</td>\n",
              "      <td>A classic piece of unforgettable film-making.</td>\n",
              "      <td>tt0111161</td>\n",
              "      <td>Chronicles the experiences of a formerly succe...</td>\n",
              "      <td>2h 22min</td>\n",
              "      <td>['Crime', 'Drama']</td>\n",
              "      <td>9.3</td>\n",
              "      <td>1994-10-14</td>\n",
              "      <td>In 1947, Andy Dufresne (Tim Robbins), a banker...</td>\n",
              "    </tr>\n",
              "    <tr>\n",
              "      <th>1</th>\n",
              "      <td>6 September 2000</td>\n",
              "      <td>tt0111161</td>\n",
              "      <td>The Shawshank Redemption is without a doubt on...</td>\n",
              "      <td>10</td>\n",
              "      <td>Simply amazing. The best film of the 90's.</td>\n",
              "      <td>tt0111161</td>\n",
              "      <td>Chronicles the experiences of a formerly succe...</td>\n",
              "      <td>2h 22min</td>\n",
              "      <td>['Crime', 'Drama']</td>\n",
              "      <td>9.3</td>\n",
              "      <td>1994-10-14</td>\n",
              "      <td>In 1947, Andy Dufresne (Tim Robbins), a banker...</td>\n",
              "    </tr>\n",
              "    <tr>\n",
              "      <th>2</th>\n",
              "      <td>3 August 2001</td>\n",
              "      <td>tt0111161</td>\n",
              "      <td>I believe that this film is the best story eve...</td>\n",
              "      <td>8</td>\n",
              "      <td>The best story ever told on film</td>\n",
              "      <td>tt0111161</td>\n",
              "      <td>Chronicles the experiences of a formerly succe...</td>\n",
              "      <td>2h 22min</td>\n",
              "      <td>['Crime', 'Drama']</td>\n",
              "      <td>9.3</td>\n",
              "      <td>1994-10-14</td>\n",
              "      <td>In 1947, Andy Dufresne (Tim Robbins), a banker...</td>\n",
              "    </tr>\n",
              "    <tr>\n",
              "      <th>3</th>\n",
              "      <td>1 September 2002</td>\n",
              "      <td>tt0111161</td>\n",
              "      <td>**Yes, there are SPOILERS here**This film has ...</td>\n",
              "      <td>10</td>\n",
              "      <td>Busy dying or busy living?</td>\n",
              "      <td>tt0111161</td>\n",
              "      <td>Chronicles the experiences of a formerly succe...</td>\n",
              "      <td>2h 22min</td>\n",
              "      <td>['Crime', 'Drama']</td>\n",
              "      <td>9.3</td>\n",
              "      <td>1994-10-14</td>\n",
              "      <td>In 1947, Andy Dufresne (Tim Robbins), a banker...</td>\n",
              "    </tr>\n",
              "    <tr>\n",
              "      <th>4</th>\n",
              "      <td>20 May 2004</td>\n",
              "      <td>tt0111161</td>\n",
              "      <td>At the heart of this extraordinary movie is a ...</td>\n",
              "      <td>8</td>\n",
              "      <td>Great story, wondrously told and acted</td>\n",
              "      <td>tt0111161</td>\n",
              "      <td>Chronicles the experiences of a formerly succe...</td>\n",
              "      <td>2h 22min</td>\n",
              "      <td>['Crime', 'Drama']</td>\n",
              "      <td>9.3</td>\n",
              "      <td>1994-10-14</td>\n",
              "      <td>In 1947, Andy Dufresne (Tim Robbins), a banker...</td>\n",
              "    </tr>\n",
              "  </tbody>\n",
              "</table>\n",
              "</div>"
            ],
            "text/plain": [
              "        review_date  ...                                      plot_synopsis\n",
              "0  10 February 2006  ...  In 1947, Andy Dufresne (Tim Robbins), a banker...\n",
              "1  6 September 2000  ...  In 1947, Andy Dufresne (Tim Robbins), a banker...\n",
              "2     3 August 2001  ...  In 1947, Andy Dufresne (Tim Robbins), a banker...\n",
              "3  1 September 2002  ...  In 1947, Andy Dufresne (Tim Robbins), a banker...\n",
              "4       20 May 2004  ...  In 1947, Andy Dufresne (Tim Robbins), a banker...\n",
              "\n",
              "[5 rows x 12 columns]"
            ]
          },
          "metadata": {
            "tags": []
          },
          "execution_count": 25
        }
      ]
    },
    {
      "cell_type": "code",
      "metadata": {
        "colab": {
          "base_uri": "https://localhost:8080/",
          "height": 374
        },
        "id": "xJ10Y77gPxl5",
        "outputId": "8b6a486a-4f21-43e8-891d-6ec29baeacb2"
      },
      "source": [
        "X.drop([\"movie_id_y\"],1,inplace=True)\n",
        "X.head()"
      ],
      "execution_count": null,
      "outputs": [
        {
          "output_type": "execute_result",
          "data": {
            "text/html": [
              "<div>\n",
              "<style scoped>\n",
              "    .dataframe tbody tr th:only-of-type {\n",
              "        vertical-align: middle;\n",
              "    }\n",
              "\n",
              "    .dataframe tbody tr th {\n",
              "        vertical-align: top;\n",
              "    }\n",
              "\n",
              "    .dataframe thead th {\n",
              "        text-align: right;\n",
              "    }\n",
              "</style>\n",
              "<table border=\"1\" class=\"dataframe\">\n",
              "  <thead>\n",
              "    <tr style=\"text-align: right;\">\n",
              "      <th></th>\n",
              "      <th>review_date</th>\n",
              "      <th>movie_id_x</th>\n",
              "      <th>review_text</th>\n",
              "      <th>rating_x</th>\n",
              "      <th>review_summary</th>\n",
              "      <th>plot_summary</th>\n",
              "      <th>duration</th>\n",
              "      <th>genre</th>\n",
              "      <th>rating_y</th>\n",
              "      <th>release_date</th>\n",
              "      <th>plot_synopsis</th>\n",
              "    </tr>\n",
              "  </thead>\n",
              "  <tbody>\n",
              "    <tr>\n",
              "      <th>0</th>\n",
              "      <td>10 February 2006</td>\n",
              "      <td>tt0111161</td>\n",
              "      <td>In its Oscar year, Shawshank Redemption (writt...</td>\n",
              "      <td>10</td>\n",
              "      <td>A classic piece of unforgettable film-making.</td>\n",
              "      <td>Chronicles the experiences of a formerly succe...</td>\n",
              "      <td>2h 22min</td>\n",
              "      <td>['Crime', 'Drama']</td>\n",
              "      <td>9.3</td>\n",
              "      <td>1994-10-14</td>\n",
              "      <td>In 1947, Andy Dufresne (Tim Robbins), a banker...</td>\n",
              "    </tr>\n",
              "    <tr>\n",
              "      <th>1</th>\n",
              "      <td>6 September 2000</td>\n",
              "      <td>tt0111161</td>\n",
              "      <td>The Shawshank Redemption is without a doubt on...</td>\n",
              "      <td>10</td>\n",
              "      <td>Simply amazing. The best film of the 90's.</td>\n",
              "      <td>Chronicles the experiences of a formerly succe...</td>\n",
              "      <td>2h 22min</td>\n",
              "      <td>['Crime', 'Drama']</td>\n",
              "      <td>9.3</td>\n",
              "      <td>1994-10-14</td>\n",
              "      <td>In 1947, Andy Dufresne (Tim Robbins), a banker...</td>\n",
              "    </tr>\n",
              "    <tr>\n",
              "      <th>2</th>\n",
              "      <td>3 August 2001</td>\n",
              "      <td>tt0111161</td>\n",
              "      <td>I believe that this film is the best story eve...</td>\n",
              "      <td>8</td>\n",
              "      <td>The best story ever told on film</td>\n",
              "      <td>Chronicles the experiences of a formerly succe...</td>\n",
              "      <td>2h 22min</td>\n",
              "      <td>['Crime', 'Drama']</td>\n",
              "      <td>9.3</td>\n",
              "      <td>1994-10-14</td>\n",
              "      <td>In 1947, Andy Dufresne (Tim Robbins), a banker...</td>\n",
              "    </tr>\n",
              "    <tr>\n",
              "      <th>3</th>\n",
              "      <td>1 September 2002</td>\n",
              "      <td>tt0111161</td>\n",
              "      <td>**Yes, there are SPOILERS here**This film has ...</td>\n",
              "      <td>10</td>\n",
              "      <td>Busy dying or busy living?</td>\n",
              "      <td>Chronicles the experiences of a formerly succe...</td>\n",
              "      <td>2h 22min</td>\n",
              "      <td>['Crime', 'Drama']</td>\n",
              "      <td>9.3</td>\n",
              "      <td>1994-10-14</td>\n",
              "      <td>In 1947, Andy Dufresne (Tim Robbins), a banker...</td>\n",
              "    </tr>\n",
              "    <tr>\n",
              "      <th>4</th>\n",
              "      <td>20 May 2004</td>\n",
              "      <td>tt0111161</td>\n",
              "      <td>At the heart of this extraordinary movie is a ...</td>\n",
              "      <td>8</td>\n",
              "      <td>Great story, wondrously told and acted</td>\n",
              "      <td>Chronicles the experiences of a formerly succe...</td>\n",
              "      <td>2h 22min</td>\n",
              "      <td>['Crime', 'Drama']</td>\n",
              "      <td>9.3</td>\n",
              "      <td>1994-10-14</td>\n",
              "      <td>In 1947, Andy Dufresne (Tim Robbins), a banker...</td>\n",
              "    </tr>\n",
              "  </tbody>\n",
              "</table>\n",
              "</div>"
            ],
            "text/plain": [
              "        review_date  ...                                      plot_synopsis\n",
              "0  10 February 2006  ...  In 1947, Andy Dufresne (Tim Robbins), a banker...\n",
              "1  6 September 2000  ...  In 1947, Andy Dufresne (Tim Robbins), a banker...\n",
              "2     3 August 2001  ...  In 1947, Andy Dufresne (Tim Robbins), a banker...\n",
              "3  1 September 2002  ...  In 1947, Andy Dufresne (Tim Robbins), a banker...\n",
              "4       20 May 2004  ...  In 1947, Andy Dufresne (Tim Robbins), a banker...\n",
              "\n",
              "[5 rows x 11 columns]"
            ]
          },
          "metadata": {
            "tags": []
          },
          "execution_count": 26
        }
      ]
    },
    {
      "cell_type": "code",
      "metadata": {
        "id": "A9asPsAjQDal"
      },
      "source": [
        "from sklearn.model_selection import train_test_split\n",
        "from sklearn.linear_model import LogisticRegression\n",
        "from sklearn.metrics import accuracy_score, roc_auc_score\n",
        "from sklearn.preprocessing import OneHotEncoder"
      ],
      "execution_count": null,
      "outputs": []
    },
    {
      "cell_type": "code",
      "metadata": {
        "id": "V1_RURAvRTwt"
      },
      "source": [
        "X_train, X_test, y_train, y_test = train_test_split(X, y, test_size=0.33, random_state=42)"
      ],
      "execution_count": null,
      "outputs": []
    },
    {
      "cell_type": "code",
      "metadata": {
        "colab": {
          "base_uri": "https://localhost:8080/"
        },
        "id": "j90xzItYRbR3",
        "outputId": "41d40070-f941-4578-d2a8-cdf3ce087daf"
      },
      "source": [
        "X_train_continuous = X_train.drop([\"review_date\",\"review_text\",\"review_summary\",\"plot_summary\",\"duration\",\"genre\",\"plot_synopsis\", \"movie_id_x\",\"release_date\"],1)\n",
        "lr = LogisticRegression()\n",
        "lr.fit(X_train_continuous,y_train)"
      ],
      "execution_count": null,
      "outputs": [
        {
          "output_type": "execute_result",
          "data": {
            "text/plain": [
              "LogisticRegression(C=1.0, class_weight=None, dual=False, fit_intercept=True,\n",
              "                   intercept_scaling=1, l1_ratio=None, max_iter=100,\n",
              "                   multi_class='auto', n_jobs=None, penalty='l2',\n",
              "                   random_state=None, solver='lbfgs', tol=0.0001, verbose=0,\n",
              "                   warm_start=False)"
            ]
          },
          "metadata": {
            "tags": []
          },
          "execution_count": 41
        }
      ]
    },
    {
      "cell_type": "code",
      "metadata": {
        "colab": {
          "base_uri": "https://localhost:8080/"
        },
        "id": "1Ks8CQ0_TT71",
        "outputId": "e5f4d722-a1f7-4056-c3ab-350824f88ed8"
      },
      "source": [
        "X_test.shape"
      ],
      "execution_count": null,
      "outputs": [
        {
          "output_type": "execute_result",
          "data": {
            "text/plain": [
              "(189389, 11)"
            ]
          },
          "metadata": {
            "tags": []
          },
          "execution_count": 45
        }
      ]
    },
    {
      "cell_type": "code",
      "metadata": {
        "colab": {
          "base_uri": "https://localhost:8080/"
        },
        "id": "L5c8v7CrS2Vx",
        "outputId": "d4eaec8d-3168-476d-c298-26b143c32f61"
      },
      "source": [
        "X_test_continuous = X_test.drop([\"review_date\",\"review_text\",\"review_summary\",\"plot_summary\",\"duration\",\"genre\",\"plot_synopsis\", \"movie_id_x\",\"release_date\"],1)\n",
        "y_pred = lr.predict(X_test_continuous)\n",
        "print(\"accuracy is \", accuracy_score(y_test,y_pred))\n",
        "print(\"auc score is \", roc_auc_score(y_test,y_pred))"
      ],
      "execution_count": null,
      "outputs": [
        {
          "output_type": "stream",
          "text": [
            "accuracy is  0.7375771560122288\n",
            "auc score is  0.5\n"
          ],
          "name": "stdout"
        }
      ]
    },
    {
      "cell_type": "markdown",
      "metadata": {
        "id": "pLwvIvlnUPqP"
      },
      "source": [
        "Can predict with decent accuracy but likely because there are more non-spoilers than spoilers shown by the auc score"
      ]
    },
    {
      "cell_type": "code",
      "metadata": {
        "colab": {
          "base_uri": "https://localhost:8080/",
          "height": 335
        },
        "id": "sxVW0hKTULzJ",
        "outputId": "4c6ef3cb-f601-4e59-aa94-5e7245777af3"
      },
      "source": [
        "OneHotEncoder().fit_transform(X_train)"
      ],
      "execution_count": null,
      "outputs": [
        {
          "output_type": "error",
          "ename": "ValueError",
          "evalue": "ignored",
          "traceback": [
            "\u001b[0;31m---------------------------------------------------------------------------\u001b[0m",
            "\u001b[0;31mValueError\u001b[0m                                Traceback (most recent call last)",
            "\u001b[0;32m<ipython-input-50-39bd3c4f515b>\u001b[0m in \u001b[0;36m<module>\u001b[0;34m()\u001b[0m\n\u001b[0;32m----> 1\u001b[0;31m \u001b[0mOneHotEncoder\u001b[0m\u001b[0;34m(\u001b[0m\u001b[0;34m)\u001b[0m\u001b[0;34m.\u001b[0m\u001b[0mfit_transform\u001b[0m\u001b[0;34m(\u001b[0m\u001b[0mX_train\u001b[0m\u001b[0;34m)\u001b[0m\u001b[0;34m\u001b[0m\u001b[0;34m\u001b[0m\u001b[0m\n\u001b[0m",
            "\u001b[0;32m/usr/local/lib/python3.7/dist-packages/sklearn/preprocessing/_encoders.py\u001b[0m in \u001b[0;36mfit_transform\u001b[0;34m(self, X, y)\u001b[0m\n\u001b[1;32m    370\u001b[0m         \"\"\"\n\u001b[1;32m    371\u001b[0m         \u001b[0mself\u001b[0m\u001b[0;34m.\u001b[0m\u001b[0m_validate_keywords\u001b[0m\u001b[0;34m(\u001b[0m\u001b[0;34m)\u001b[0m\u001b[0;34m\u001b[0m\u001b[0;34m\u001b[0m\u001b[0m\n\u001b[0;32m--> 372\u001b[0;31m         \u001b[0;32mreturn\u001b[0m \u001b[0msuper\u001b[0m\u001b[0;34m(\u001b[0m\u001b[0;34m)\u001b[0m\u001b[0;34m.\u001b[0m\u001b[0mfit_transform\u001b[0m\u001b[0;34m(\u001b[0m\u001b[0mX\u001b[0m\u001b[0;34m,\u001b[0m \u001b[0my\u001b[0m\u001b[0;34m)\u001b[0m\u001b[0;34m\u001b[0m\u001b[0;34m\u001b[0m\u001b[0m\n\u001b[0m\u001b[1;32m    373\u001b[0m \u001b[0;34m\u001b[0m\u001b[0m\n\u001b[1;32m    374\u001b[0m     \u001b[0;32mdef\u001b[0m \u001b[0mtransform\u001b[0m\u001b[0;34m(\u001b[0m\u001b[0mself\u001b[0m\u001b[0;34m,\u001b[0m \u001b[0mX\u001b[0m\u001b[0;34m)\u001b[0m\u001b[0;34m:\u001b[0m\u001b[0;34m\u001b[0m\u001b[0;34m\u001b[0m\u001b[0m\n",
            "\u001b[0;32m/usr/local/lib/python3.7/dist-packages/sklearn/base.py\u001b[0m in \u001b[0;36mfit_transform\u001b[0;34m(self, X, y, **fit_params)\u001b[0m\n\u001b[1;32m    569\u001b[0m         \u001b[0;32mif\u001b[0m \u001b[0my\u001b[0m \u001b[0;32mis\u001b[0m \u001b[0;32mNone\u001b[0m\u001b[0;34m:\u001b[0m\u001b[0;34m\u001b[0m\u001b[0;34m\u001b[0m\u001b[0m\n\u001b[1;32m    570\u001b[0m             \u001b[0;31m# fit method of arity 1 (unsupervised transformation)\u001b[0m\u001b[0;34m\u001b[0m\u001b[0;34m\u001b[0m\u001b[0;34m\u001b[0m\u001b[0m\n\u001b[0;32m--> 571\u001b[0;31m             \u001b[0;32mreturn\u001b[0m \u001b[0mself\u001b[0m\u001b[0;34m.\u001b[0m\u001b[0mfit\u001b[0m\u001b[0;34m(\u001b[0m\u001b[0mX\u001b[0m\u001b[0;34m,\u001b[0m \u001b[0;34m**\u001b[0m\u001b[0mfit_params\u001b[0m\u001b[0;34m)\u001b[0m\u001b[0;34m.\u001b[0m\u001b[0mtransform\u001b[0m\u001b[0;34m(\u001b[0m\u001b[0mX\u001b[0m\u001b[0;34m)\u001b[0m\u001b[0;34m\u001b[0m\u001b[0;34m\u001b[0m\u001b[0m\n\u001b[0m\u001b[1;32m    572\u001b[0m         \u001b[0;32melse\u001b[0m\u001b[0;34m:\u001b[0m\u001b[0;34m\u001b[0m\u001b[0;34m\u001b[0m\u001b[0m\n\u001b[1;32m    573\u001b[0m             \u001b[0;31m# fit method of arity 2 (supervised transformation)\u001b[0m\u001b[0;34m\u001b[0m\u001b[0;34m\u001b[0m\u001b[0;34m\u001b[0m\u001b[0m\n",
            "\u001b[0;32m/usr/local/lib/python3.7/dist-packages/sklearn/preprocessing/_encoders.py\u001b[0m in \u001b[0;36mfit\u001b[0;34m(self, X, y)\u001b[0m\n\u001b[1;32m    345\u001b[0m         \"\"\"\n\u001b[1;32m    346\u001b[0m         \u001b[0mself\u001b[0m\u001b[0;34m.\u001b[0m\u001b[0m_validate_keywords\u001b[0m\u001b[0;34m(\u001b[0m\u001b[0;34m)\u001b[0m\u001b[0;34m\u001b[0m\u001b[0;34m\u001b[0m\u001b[0m\n\u001b[0;32m--> 347\u001b[0;31m         \u001b[0mself\u001b[0m\u001b[0;34m.\u001b[0m\u001b[0m_fit\u001b[0m\u001b[0;34m(\u001b[0m\u001b[0mX\u001b[0m\u001b[0;34m,\u001b[0m \u001b[0mhandle_unknown\u001b[0m\u001b[0;34m=\u001b[0m\u001b[0mself\u001b[0m\u001b[0;34m.\u001b[0m\u001b[0mhandle_unknown\u001b[0m\u001b[0;34m)\u001b[0m\u001b[0;34m\u001b[0m\u001b[0;34m\u001b[0m\u001b[0m\n\u001b[0m\u001b[1;32m    348\u001b[0m         \u001b[0mself\u001b[0m\u001b[0;34m.\u001b[0m\u001b[0mdrop_idx_\u001b[0m \u001b[0;34m=\u001b[0m \u001b[0mself\u001b[0m\u001b[0;34m.\u001b[0m\u001b[0m_compute_drop_idx\u001b[0m\u001b[0;34m(\u001b[0m\u001b[0;34m)\u001b[0m\u001b[0;34m\u001b[0m\u001b[0;34m\u001b[0m\u001b[0m\n\u001b[1;32m    349\u001b[0m         \u001b[0;32mreturn\u001b[0m \u001b[0mself\u001b[0m\u001b[0;34m\u001b[0m\u001b[0;34m\u001b[0m\u001b[0m\n",
            "\u001b[0;32m/usr/local/lib/python3.7/dist-packages/sklearn/preprocessing/_encoders.py\u001b[0m in \u001b[0;36m_fit\u001b[0;34m(self, X, handle_unknown)\u001b[0m\n\u001b[1;32m     72\u001b[0m \u001b[0;34m\u001b[0m\u001b[0m\n\u001b[1;32m     73\u001b[0m     \u001b[0;32mdef\u001b[0m \u001b[0m_fit\u001b[0m\u001b[0;34m(\u001b[0m\u001b[0mself\u001b[0m\u001b[0;34m,\u001b[0m \u001b[0mX\u001b[0m\u001b[0;34m,\u001b[0m \u001b[0mhandle_unknown\u001b[0m\u001b[0;34m=\u001b[0m\u001b[0;34m'error'\u001b[0m\u001b[0;34m)\u001b[0m\u001b[0;34m:\u001b[0m\u001b[0;34m\u001b[0m\u001b[0;34m\u001b[0m\u001b[0m\n\u001b[0;32m---> 74\u001b[0;31m         \u001b[0mX_list\u001b[0m\u001b[0;34m,\u001b[0m \u001b[0mn_samples\u001b[0m\u001b[0;34m,\u001b[0m \u001b[0mn_features\u001b[0m \u001b[0;34m=\u001b[0m \u001b[0mself\u001b[0m\u001b[0;34m.\u001b[0m\u001b[0m_check_X\u001b[0m\u001b[0;34m(\u001b[0m\u001b[0mX\u001b[0m\u001b[0;34m)\u001b[0m\u001b[0;34m\u001b[0m\u001b[0;34m\u001b[0m\u001b[0m\n\u001b[0m\u001b[1;32m     75\u001b[0m \u001b[0;34m\u001b[0m\u001b[0m\n\u001b[1;32m     76\u001b[0m         \u001b[0;32mif\u001b[0m \u001b[0mself\u001b[0m\u001b[0;34m.\u001b[0m\u001b[0mcategories\u001b[0m \u001b[0;34m!=\u001b[0m \u001b[0;34m'auto'\u001b[0m\u001b[0;34m:\u001b[0m\u001b[0;34m\u001b[0m\u001b[0;34m\u001b[0m\u001b[0m\n",
            "\u001b[0;32m/usr/local/lib/python3.7/dist-packages/sklearn/preprocessing/_encoders.py\u001b[0m in \u001b[0;36m_check_X\u001b[0;34m(self, X)\u001b[0m\n\u001b[1;32m     59\u001b[0m             \u001b[0mXi\u001b[0m \u001b[0;34m=\u001b[0m \u001b[0mself\u001b[0m\u001b[0;34m.\u001b[0m\u001b[0m_get_feature\u001b[0m\u001b[0;34m(\u001b[0m\u001b[0mX\u001b[0m\u001b[0;34m,\u001b[0m \u001b[0mfeature_idx\u001b[0m\u001b[0;34m=\u001b[0m\u001b[0mi\u001b[0m\u001b[0;34m)\u001b[0m\u001b[0;34m\u001b[0m\u001b[0;34m\u001b[0m\u001b[0m\n\u001b[1;32m     60\u001b[0m             Xi = check_array(Xi, ensure_2d=False, dtype=None,\n\u001b[0;32m---> 61\u001b[0;31m                              force_all_finite=needs_validation)\n\u001b[0m\u001b[1;32m     62\u001b[0m             \u001b[0mX_columns\u001b[0m\u001b[0;34m.\u001b[0m\u001b[0mappend\u001b[0m\u001b[0;34m(\u001b[0m\u001b[0mXi\u001b[0m\u001b[0;34m)\u001b[0m\u001b[0;34m\u001b[0m\u001b[0;34m\u001b[0m\u001b[0m\n\u001b[1;32m     63\u001b[0m \u001b[0;34m\u001b[0m\u001b[0m\n",
            "\u001b[0;32m/usr/local/lib/python3.7/dist-packages/sklearn/utils/validation.py\u001b[0m in \u001b[0;36mcheck_array\u001b[0;34m(array, accept_sparse, accept_large_sparse, dtype, order, copy, force_all_finite, ensure_2d, allow_nd, ensure_min_samples, ensure_min_features, warn_on_dtype, estimator)\u001b[0m\n\u001b[1;32m    576\u001b[0m         \u001b[0;32mif\u001b[0m \u001b[0mforce_all_finite\u001b[0m\u001b[0;34m:\u001b[0m\u001b[0;34m\u001b[0m\u001b[0;34m\u001b[0m\u001b[0m\n\u001b[1;32m    577\u001b[0m             _assert_all_finite(array,\n\u001b[0;32m--> 578\u001b[0;31m                                allow_nan=force_all_finite == 'allow-nan')\n\u001b[0m\u001b[1;32m    579\u001b[0m \u001b[0;34m\u001b[0m\u001b[0m\n\u001b[1;32m    580\u001b[0m     \u001b[0;32mif\u001b[0m \u001b[0mensure_min_samples\u001b[0m \u001b[0;34m>\u001b[0m \u001b[0;36m0\u001b[0m\u001b[0;34m:\u001b[0m\u001b[0;34m\u001b[0m\u001b[0;34m\u001b[0m\u001b[0m\n",
            "\u001b[0;32m/usr/local/lib/python3.7/dist-packages/sklearn/utils/validation.py\u001b[0m in \u001b[0;36m_assert_all_finite\u001b[0;34m(X, allow_nan, msg_dtype)\u001b[0m\n\u001b[1;32m     63\u001b[0m     \u001b[0;32melif\u001b[0m \u001b[0mX\u001b[0m\u001b[0;34m.\u001b[0m\u001b[0mdtype\u001b[0m \u001b[0;34m==\u001b[0m \u001b[0mnp\u001b[0m\u001b[0;34m.\u001b[0m\u001b[0mdtype\u001b[0m\u001b[0;34m(\u001b[0m\u001b[0;34m'object'\u001b[0m\u001b[0;34m)\u001b[0m \u001b[0;32mand\u001b[0m \u001b[0;32mnot\u001b[0m \u001b[0mallow_nan\u001b[0m\u001b[0;34m:\u001b[0m\u001b[0;34m\u001b[0m\u001b[0;34m\u001b[0m\u001b[0m\n\u001b[1;32m     64\u001b[0m         \u001b[0;32mif\u001b[0m \u001b[0m_object_dtype_isnan\u001b[0m\u001b[0;34m(\u001b[0m\u001b[0mX\u001b[0m\u001b[0;34m)\u001b[0m\u001b[0;34m.\u001b[0m\u001b[0many\u001b[0m\u001b[0;34m(\u001b[0m\u001b[0;34m)\u001b[0m\u001b[0;34m:\u001b[0m\u001b[0;34m\u001b[0m\u001b[0;34m\u001b[0m\u001b[0m\n\u001b[0;32m---> 65\u001b[0;31m             \u001b[0;32mraise\u001b[0m \u001b[0mValueError\u001b[0m\u001b[0;34m(\u001b[0m\u001b[0;34m\"Input contains NaN\"\u001b[0m\u001b[0;34m)\u001b[0m\u001b[0;34m\u001b[0m\u001b[0;34m\u001b[0m\u001b[0m\n\u001b[0m\u001b[1;32m     66\u001b[0m \u001b[0;34m\u001b[0m\u001b[0m\n\u001b[1;32m     67\u001b[0m \u001b[0;34m\u001b[0m\u001b[0m\n",
            "\u001b[0;31mValueError\u001b[0m: Input contains NaN"
          ]
        }
      ]
    },
    {
      "cell_type": "code",
      "metadata": {
        "colab": {
          "base_uri": "https://localhost:8080/"
        },
        "id": "r-gC4FU4Va6o",
        "outputId": "759421ce-557a-4071-ccd0-1ccae41c6f37"
      },
      "source": [
        "X_train.isna().sum()"
      ],
      "execution_count": null,
      "outputs": [
        {
          "output_type": "execute_result",
          "data": {
            "text/plain": [
              "review_date           0\n",
              "movie_id_x            0\n",
              "review_text           0\n",
              "rating_x              0\n",
              "review_summary        0\n",
              "plot_summary          0\n",
              "duration              0\n",
              "genre                 0\n",
              "rating_y              0\n",
              "release_date          0\n",
              "plot_synopsis     23566\n",
              "dtype: int64"
            ]
          },
          "metadata": {
            "tags": []
          },
          "execution_count": 51
        }
      ]
    },
    {
      "cell_type": "code",
      "metadata": {
        "colab": {
          "base_uri": "https://localhost:8080/"
        },
        "id": "JxT0VLcfVknp",
        "outputId": "101a11d5-7607-4d37-aee9-6232dcac86da"
      },
      "source": [
        "X_train.fillna('',inplace=True)"
      ],
      "execution_count": null,
      "outputs": [
        {
          "output_type": "stream",
          "text": [
            "/usr/local/lib/python3.7/dist-packages/pandas/core/frame.py:4327: SettingWithCopyWarning: \n",
            "A value is trying to be set on a copy of a slice from a DataFrame\n",
            "\n",
            "See the caveats in the documentation: https://pandas.pydata.org/pandas-docs/stable/user_guide/indexing.html#returning-a-view-versus-a-copy\n",
            "  downcast=downcast,\n"
          ],
          "name": "stderr"
        }
      ]
    },
    {
      "cell_type": "code",
      "metadata": {
        "colab": {
          "base_uri": "https://localhost:8080/"
        },
        "id": "LSzOO_RuV1IF",
        "outputId": "095ecea4-f9c3-4538-d160-0f352c92bd33"
      },
      "source": [
        "X_train.isna().sum()"
      ],
      "execution_count": null,
      "outputs": [
        {
          "output_type": "execute_result",
          "data": {
            "text/plain": [
              "review_date       0\n",
              "movie_id_x        0\n",
              "review_text       0\n",
              "rating_x          0\n",
              "review_summary    0\n",
              "plot_summary      0\n",
              "duration          0\n",
              "genre             0\n",
              "rating_y          0\n",
              "release_date      0\n",
              "plot_synopsis     0\n",
              "dtype: int64"
            ]
          },
          "metadata": {
            "tags": []
          },
          "execution_count": 53
        }
      ]
    },
    {
      "cell_type": "code",
      "metadata": {
        "colab": {
          "base_uri": "https://localhost:8080/",
          "height": 178
        },
        "id": "-m3upCK_V2vY",
        "outputId": "673f5713-b596-4e1a-9a4c-aad53440e834"
      },
      "source": [
        "X_train_enc = pd.DataFrame((OneHotEncoder().fit_transform(X_train)).toarray())"
      ],
      "execution_count": null,
      "outputs": [
        {
          "output_type": "error",
          "ename": "NameError",
          "evalue": "ignored",
          "traceback": [
            "\u001b[0;31m---------------------------------------------------------------------------\u001b[0m",
            "\u001b[0;31mNameError\u001b[0m                                 Traceback (most recent call last)",
            "\u001b[0;32m<ipython-input-1-58feafd2ff70>\u001b[0m in \u001b[0;36m<module>\u001b[0;34m()\u001b[0m\n\u001b[0;32m----> 1\u001b[0;31m \u001b[0mX_train_enc\u001b[0m \u001b[0;34m=\u001b[0m \u001b[0mpd\u001b[0m\u001b[0;34m.\u001b[0m\u001b[0mDataFrame\u001b[0m\u001b[0;34m(\u001b[0m\u001b[0;34m(\u001b[0m\u001b[0mOneHotEncoder\u001b[0m\u001b[0;34m(\u001b[0m\u001b[0;34m)\u001b[0m\u001b[0;34m.\u001b[0m\u001b[0mfit_transform\u001b[0m\u001b[0;34m(\u001b[0m\u001b[0mX_train\u001b[0m\u001b[0;34m)\u001b[0m\u001b[0;34m)\u001b[0m\u001b[0;34m.\u001b[0m\u001b[0mtoarray\u001b[0m\u001b[0;34m(\u001b[0m\u001b[0;34m)\u001b[0m\u001b[0;34m)\u001b[0m\u001b[0;34m\u001b[0m\u001b[0;34m\u001b[0m\u001b[0m\n\u001b[0m",
            "\u001b[0;31mNameError\u001b[0m: name 'pd' is not defined"
          ]
        }
      ]
    },
    {
      "cell_type": "code",
      "metadata": {
        "colab": {
          "base_uri": "https://localhost:8080/",
          "height": 391
        },
        "id": "ugwdv7dEV6Pg",
        "outputId": "ded0b13a-b06c-4f8b-9654-9e22feb3702d"
      },
      "source": [
        "X_train_enc.head()"
      ],
      "execution_count": null,
      "outputs": [
        {
          "output_type": "execute_result",
          "data": {
            "text/html": [
              "<div>\n",
              "<style scoped>\n",
              "    .dataframe tbody tr th:only-of-type {\n",
              "        vertical-align: middle;\n",
              "    }\n",
              "\n",
              "    .dataframe tbody tr th {\n",
              "        vertical-align: top;\n",
              "    }\n",
              "\n",
              "    .dataframe thead th {\n",
              "        text-align: right;\n",
              "    }\n",
              "</style>\n",
              "<table border=\"1\" class=\"dataframe\">\n",
              "  <thead>\n",
              "    <tr style=\"text-align: right;\">\n",
              "      <th></th>\n",
              "      <th>review_date</th>\n",
              "      <th>movie_id_x</th>\n",
              "      <th>review_text</th>\n",
              "      <th>rating_x</th>\n",
              "      <th>review_summary</th>\n",
              "      <th>plot_summary</th>\n",
              "      <th>duration</th>\n",
              "      <th>genre</th>\n",
              "      <th>rating_y</th>\n",
              "      <th>release_date</th>\n",
              "      <th>plot_synopsis</th>\n",
              "    </tr>\n",
              "  </thead>\n",
              "  <tbody>\n",
              "    <tr>\n",
              "      <th>160</th>\n",
              "      <td>4 October 2017</td>\n",
              "      <td>tt0111161</td>\n",
              "      <td>I am not a reviewer to write about this movie ...</td>\n",
              "      <td>10</td>\n",
              "      <td>awesome movie</td>\n",
              "      <td>Chronicles the experiences of a formerly succe...</td>\n",
              "      <td>2h 22min</td>\n",
              "      <td>['Crime', 'Drama']</td>\n",
              "      <td>9.3</td>\n",
              "      <td>1994-10-14</td>\n",
              "      <td>In 1947, Andy Dufresne (Tim Robbins), a banker...</td>\n",
              "    </tr>\n",
              "    <tr>\n",
              "      <th>309745</th>\n",
              "      <td>19 August 2014</td>\n",
              "      <td>tt0298203</td>\n",
              "      <td>Simply an amazing portrayal of a man trying to...</td>\n",
              "      <td>10</td>\n",
              "      <td>Extraordinary</td>\n",
              "      <td>This is the inspiring captivating story of the...</td>\n",
              "      <td>1h 50min</td>\n",
              "      <td>['Drama', 'Music']</td>\n",
              "      <td>7.1</td>\n",
              "      <td>2002-11-08</td>\n",
              "      <td>It's 1995. Jimmy \"B-Rabbit\" Smith Jr. (Eminem)...</td>\n",
              "    </tr>\n",
              "    <tr>\n",
              "      <th>119676</th>\n",
              "      <td>23 September 2010</td>\n",
              "      <td>tt0446029</td>\n",
              "      <td>OK, i may have built this film up too much in ...</td>\n",
              "      <td>7</td>\n",
              "      <td>Something very uniquely conceived, but still f...</td>\n",
              "      <td>Scott Pilgrim plays in a band which aspires to...</td>\n",
              "      <td>1h 52min</td>\n",
              "      <td>['Action', 'Comedy', 'Romance']</td>\n",
              "      <td>7.5</td>\n",
              "      <td>2010-08-13</td>\n",
              "      <td>Set in a surreal world where our whole society...</td>\n",
              "    </tr>\n",
              "    <tr>\n",
              "      <th>394727</th>\n",
              "      <td>1 February 2007</td>\n",
              "      <td>tt0482571</td>\n",
              "      <td>Like great stage magic, THE PRESTIGE is a work...</td>\n",
              "      <td>10</td>\n",
              "      <td>True Cinema Magic</td>\n",
              "      <td>In the end of the Nineteenth Century, in Londo...</td>\n",
              "      <td>2h 10min</td>\n",
              "      <td>['Drama', 'Mystery', 'Sci-Fi']</td>\n",
              "      <td>8.5</td>\n",
              "      <td>2006-10-20</td>\n",
              "      <td>The Prestige begins with shots of several doze...</td>\n",
              "    </tr>\n",
              "    <tr>\n",
              "      <th>299024</th>\n",
              "      <td>3 March 2001</td>\n",
              "      <td>tt0212985</td>\n",
              "      <td>I don't know why so many people disliked this ...</td>\n",
              "      <td>7</td>\n",
              "      <td>Good. And tasty.</td>\n",
              "      <td>The continuing saga of Hannibal Lecter, the mu...</td>\n",
              "      <td>2h 11min</td>\n",
              "      <td>['Crime', 'Drama', 'Thriller']</td>\n",
              "      <td>6.8</td>\n",
              "      <td>2001-02-09</td>\n",
              "      <td>The film takes place 10 years after the events...</td>\n",
              "    </tr>\n",
              "  </tbody>\n",
              "</table>\n",
              "</div>"
            ],
            "text/plain": [
              "              review_date  ...                                      plot_synopsis\n",
              "160        4 October 2017  ...  In 1947, Andy Dufresne (Tim Robbins), a banker...\n",
              "309745     19 August 2014  ...  It's 1995. Jimmy \"B-Rabbit\" Smith Jr. (Eminem)...\n",
              "119676  23 September 2010  ...  Set in a surreal world where our whole society...\n",
              "394727    1 February 2007  ...  The Prestige begins with shots of several doze...\n",
              "299024       3 March 2001  ...  The film takes place 10 years after the events...\n",
              "\n",
              "[5 rows x 11 columns]"
            ]
          },
          "metadata": {
            "tags": []
          },
          "execution_count": 55
        }
      ]
    },
    {
      "cell_type": "markdown",
      "metadata": {
        "id": "yi3iGkAHJWmy"
      },
      "source": [
        "Day 3"
      ]
    },
    {
      "cell_type": "code",
      "metadata": {
        "colab": {
          "base_uri": "https://localhost:8080/"
        },
        "id": "Xl2QvtceJVsc",
        "outputId": "77de4648-298e-4ccc-c771-32e539177fd0"
      },
      "source": [
        "!unzip 'drive/MyDrive/dataset.zip'"
      ],
      "execution_count": null,
      "outputs": [
        {
          "output_type": "stream",
          "text": [
            "Archive:  drive/MyDrive/dataset.zip\n",
            "  inflating: dataset.csv             \n"
          ],
          "name": "stdout"
        }
      ]
    },
    {
      "cell_type": "code",
      "metadata": {
        "id": "9w6BXceqJ5n2"
      },
      "source": [
        "df = pd.read_csv(\"dataset.csv\")"
      ],
      "execution_count": null,
      "outputs": []
    },
    {
      "cell_type": "code",
      "metadata": {
        "id": "wbSl0v9BKukW"
      },
      "source": [
        "!pip install -q wordcloud"
      ],
      "execution_count": null,
      "outputs": []
    },
    {
      "cell_type": "code",
      "metadata": {
        "colab": {
          "base_uri": "https://localhost:8080/"
        },
        "id": "-iwMDHfNLOHF",
        "outputId": "64fa84c5-e21e-4cf5-e329-efdd686615b9"
      },
      "source": [
        "import nltk\n",
        "nltk.download('stopwords')"
      ],
      "execution_count": null,
      "outputs": [
        {
          "output_type": "stream",
          "text": [
            "[nltk_data] Downloading package stopwords to /root/nltk_data...\n",
            "[nltk_data]   Unzipping corpora/stopwords.zip.\n"
          ],
          "name": "stdout"
        },
        {
          "output_type": "execute_result",
          "data": {
            "text/plain": [
              "True"
            ]
          },
          "metadata": {
            "tags": []
          },
          "execution_count": 8
        }
      ]
    },
    {
      "cell_type": "code",
      "metadata": {
        "id": "IXlmJBf0JieJ"
      },
      "source": [
        "from nltk.corpus import stopwords\n",
        "stop = stopwords.words('english')"
      ],
      "execution_count": null,
      "outputs": []
    },
    {
      "cell_type": "code",
      "metadata": {
        "id": "gsK17vdRLNWd"
      },
      "source": [
        ""
      ],
      "execution_count": null,
      "outputs": []
    },
    {
      "cell_type": "code",
      "metadata": {
        "colab": {
          "base_uri": "https://localhost:8080/"
        },
        "id": "mOyTRczsKLl5",
        "outputId": "d301f795-30dc-47da-9da7-7f7d9d8d71f9"
      },
      "source": [
        "df['review_text'].apply(lambda x: [item for item in x if item not in stop])"
      ],
      "execution_count": null,
      "outputs": [
        {
          "output_type": "execute_result",
          "data": {
            "text/plain": [
              "0         [I, n,  ,  , O, c, r,  , e, r, ,,  , S, h, w, ...\n",
              "1         [T, h, e,  , S, h, w, h, n, k,  , R, e, e, p, ...\n",
              "2         [I,  , b, e, l, e, v, e,  , h,  , h,  , f, l, ...\n",
              "3         [*, *, Y, e, ,,  , h, e, r, e,  , r, e,  , S, ...\n",
              "4         [A,  , h, e,  , h, e, r,  , f,  , h,  , e, x, ...\n",
              "                                ...                        \n",
              "573901    [I, ',  , e,  ,  , c, k, n, w, l, e, g, e,  , ...\n",
              "573902    [I,  , w, e, n,  ,  , h, e,  , v, e,  , l,  , ...\n",
              "573903    [N,  , b, ,,  , n,  , b,  ,  , l, l, .,  ,  , ...\n",
              "573904    [I,  , h, n, k,  , h,  , v, e,  , w,  , u, n, ...\n",
              "573905    [I,  , w,  , G, !,  ,  ,  , k, n,  , w, h,  , ...\n",
              "Name: review_text, Length: 573906, dtype: object"
            ]
          },
          "metadata": {
            "tags": []
          },
          "execution_count": 10
        }
      ]
    },
    {
      "cell_type": "code",
      "metadata": {
        "colab": {
          "base_uri": "https://localhost:8080/"
        },
        "id": "1ce86ngFKNQt",
        "outputId": "ff6147c4-9c89-4d73-b428-c3b07efe47eb"
      },
      "source": [
        "df['review_text']"
      ],
      "execution_count": null,
      "outputs": [
        {
          "output_type": "execute_result",
          "data": {
            "text/plain": [
              "0         In its Oscar year, Shawshank Redemption (writt...\n",
              "1         The Shawshank Redemption is without a doubt on...\n",
              "2         I believe that this film is the best story eve...\n",
              "3         **Yes, there are SPOILERS here**This film has ...\n",
              "4         At the heart of this extraordinary movie is a ...\n",
              "                                ...                        \n",
              "573901    It's time to acknowledge for once that Pulp Fi...\n",
              "573902    I went to the movies last night, and had the o...\n",
              "573903    Not bad, not bad at all.  I am a sucker for a ...\n",
              "573904    I think this movie was under-appreciated by Am...\n",
              "573905    I saw Go! as a knot with no bows - a very inte...\n",
              "Name: review_text, Length: 573906, dtype: object"
            ]
          },
          "metadata": {
            "tags": []
          },
          "execution_count": 11
        }
      ]
    },
    {
      "cell_type": "code",
      "metadata": {
        "id": "0GKd7XgzRvbn"
      },
      "source": [
        "df['review_without_stopwords'] = df['review_text'].apply(lambda x: ' '.join([word for word in x.split() if word not in (stop)]))"
      ],
      "execution_count": null,
      "outputs": []
    },
    {
      "cell_type": "code",
      "metadata": {
        "colab": {
          "base_uri": "https://localhost:8080/"
        },
        "id": "rHjm22WkZMt9",
        "outputId": "47a30256-cbcf-45e1-b953-277f500de6c4"
      },
      "source": [
        "df['review_without_stopwords']"
      ],
      "execution_count": null,
      "outputs": [
        {
          "output_type": "execute_result",
          "data": {
            "text/plain": [
              "0         In Oscar year, Shawshank Redemption (written d...\n",
              "1         The Shawshank Redemption without doubt one bri...\n",
              "2         I believe film best story ever told film, I'm ...\n",
              "3         **Yes, SPOILERS here**This film emotional impa...\n",
              "4         At heart extraordinary movie brilliant indelib...\n",
              "                                ...                        \n",
              "573901    It's time acknowledge Pulp Fiction pioneer fil...\n",
              "573902    I went movies last night, option watching Go W...\n",
              "573903    Not bad, bad all. I sucker film plays havoc 'p...\n",
              "573904    I think movie under-appreciated American audie...\n",
              "573905    I saw Go! knot bows - interesting look teenage...\n",
              "Name: review_without_stopwords, Length: 573906, dtype: object"
            ]
          },
          "metadata": {
            "tags": []
          },
          "execution_count": 13
        }
      ]
    },
    {
      "cell_type": "code",
      "metadata": {
        "colab": {
          "base_uri": "https://localhost:8080/",
          "height": 297
        },
        "id": "ZxA7OWgKZRug",
        "outputId": "f43c76fe-c6cd-4b09-9d19-e417e917e0b5"
      },
      "source": [
        "df['description_without_stopwords'] = df['plot_synopsis'].apply(lambda x: ' '.join([word for word in x.split() if word not in (stop)]))"
      ],
      "execution_count": null,
      "outputs": [
        {
          "output_type": "error",
          "ename": "AttributeError",
          "evalue": "ignored",
          "traceback": [
            "\u001b[0;31m---------------------------------------------------------------------------\u001b[0m",
            "\u001b[0;31mAttributeError\u001b[0m                            Traceback (most recent call last)",
            "\u001b[0;32m<ipython-input-19-0dfaccbeecaa>\u001b[0m in \u001b[0;36m<module>\u001b[0;34m()\u001b[0m\n\u001b[0;32m----> 1\u001b[0;31m \u001b[0mdf\u001b[0m\u001b[0;34m[\u001b[0m\u001b[0;34m'description_without_stopwords'\u001b[0m\u001b[0;34m]\u001b[0m \u001b[0;34m=\u001b[0m \u001b[0mdf\u001b[0m\u001b[0;34m[\u001b[0m\u001b[0;34m'plot_synopsis'\u001b[0m\u001b[0;34m]\u001b[0m\u001b[0;34m.\u001b[0m\u001b[0mapply\u001b[0m\u001b[0;34m(\u001b[0m\u001b[0;32mlambda\u001b[0m \u001b[0mx\u001b[0m\u001b[0;34m:\u001b[0m \u001b[0;34m' '\u001b[0m\u001b[0;34m.\u001b[0m\u001b[0mjoin\u001b[0m\u001b[0;34m(\u001b[0m\u001b[0;34m[\u001b[0m\u001b[0mword\u001b[0m \u001b[0;32mfor\u001b[0m \u001b[0mword\u001b[0m \u001b[0;32min\u001b[0m \u001b[0mx\u001b[0m\u001b[0;34m.\u001b[0m\u001b[0msplit\u001b[0m\u001b[0;34m(\u001b[0m\u001b[0;34m)\u001b[0m \u001b[0;32mif\u001b[0m \u001b[0mword\u001b[0m \u001b[0;32mnot\u001b[0m \u001b[0;32min\u001b[0m \u001b[0;34m(\u001b[0m\u001b[0mstop\u001b[0m\u001b[0;34m)\u001b[0m\u001b[0;34m]\u001b[0m\u001b[0;34m)\u001b[0m\u001b[0;34m)\u001b[0m\u001b[0;34m\u001b[0m\u001b[0;34m\u001b[0m\u001b[0m\n\u001b[0m",
            "\u001b[0;32m/usr/local/lib/python3.7/dist-packages/pandas/core/series.py\u001b[0m in \u001b[0;36mapply\u001b[0;34m(self, func, convert_dtype, args, **kwds)\u001b[0m\n\u001b[1;32m   4211\u001b[0m             \u001b[0;32melse\u001b[0m\u001b[0;34m:\u001b[0m\u001b[0;34m\u001b[0m\u001b[0;34m\u001b[0m\u001b[0m\n\u001b[1;32m   4212\u001b[0m                 \u001b[0mvalues\u001b[0m \u001b[0;34m=\u001b[0m \u001b[0mself\u001b[0m\u001b[0;34m.\u001b[0m\u001b[0mastype\u001b[0m\u001b[0;34m(\u001b[0m\u001b[0mobject\u001b[0m\u001b[0;34m)\u001b[0m\u001b[0;34m.\u001b[0m\u001b[0m_values\u001b[0m\u001b[0;34m\u001b[0m\u001b[0;34m\u001b[0m\u001b[0m\n\u001b[0;32m-> 4213\u001b[0;31m                 \u001b[0mmapped\u001b[0m \u001b[0;34m=\u001b[0m \u001b[0mlib\u001b[0m\u001b[0;34m.\u001b[0m\u001b[0mmap_infer\u001b[0m\u001b[0;34m(\u001b[0m\u001b[0mvalues\u001b[0m\u001b[0;34m,\u001b[0m \u001b[0mf\u001b[0m\u001b[0;34m,\u001b[0m \u001b[0mconvert\u001b[0m\u001b[0;34m=\u001b[0m\u001b[0mconvert_dtype\u001b[0m\u001b[0;34m)\u001b[0m\u001b[0;34m\u001b[0m\u001b[0;34m\u001b[0m\u001b[0m\n\u001b[0m\u001b[1;32m   4214\u001b[0m \u001b[0;34m\u001b[0m\u001b[0m\n\u001b[1;32m   4215\u001b[0m         \u001b[0;32mif\u001b[0m \u001b[0mlen\u001b[0m\u001b[0;34m(\u001b[0m\u001b[0mmapped\u001b[0m\u001b[0;34m)\u001b[0m \u001b[0;32mand\u001b[0m \u001b[0misinstance\u001b[0m\u001b[0;34m(\u001b[0m\u001b[0mmapped\u001b[0m\u001b[0;34m[\u001b[0m\u001b[0;36m0\u001b[0m\u001b[0;34m]\u001b[0m\u001b[0;34m,\u001b[0m \u001b[0mSeries\u001b[0m\u001b[0;34m)\u001b[0m\u001b[0;34m:\u001b[0m\u001b[0;34m\u001b[0m\u001b[0;34m\u001b[0m\u001b[0m\n",
            "\u001b[0;32mpandas/_libs/lib.pyx\u001b[0m in \u001b[0;36mpandas._libs.lib.map_infer\u001b[0;34m()\u001b[0m\n",
            "\u001b[0;32m<ipython-input-19-0dfaccbeecaa>\u001b[0m in \u001b[0;36m<lambda>\u001b[0;34m(x)\u001b[0m\n\u001b[0;32m----> 1\u001b[0;31m \u001b[0mdf\u001b[0m\u001b[0;34m[\u001b[0m\u001b[0;34m'description_without_stopwords'\u001b[0m\u001b[0;34m]\u001b[0m \u001b[0;34m=\u001b[0m \u001b[0mdf\u001b[0m\u001b[0;34m[\u001b[0m\u001b[0;34m'plot_synopsis'\u001b[0m\u001b[0;34m]\u001b[0m\u001b[0;34m.\u001b[0m\u001b[0mapply\u001b[0m\u001b[0;34m(\u001b[0m\u001b[0;32mlambda\u001b[0m \u001b[0mx\u001b[0m\u001b[0;34m:\u001b[0m \u001b[0;34m' '\u001b[0m\u001b[0;34m.\u001b[0m\u001b[0mjoin\u001b[0m\u001b[0;34m(\u001b[0m\u001b[0;34m[\u001b[0m\u001b[0mword\u001b[0m \u001b[0;32mfor\u001b[0m \u001b[0mword\u001b[0m \u001b[0;32min\u001b[0m \u001b[0mx\u001b[0m\u001b[0;34m.\u001b[0m\u001b[0msplit\u001b[0m\u001b[0;34m(\u001b[0m\u001b[0;34m)\u001b[0m \u001b[0;32mif\u001b[0m \u001b[0mword\u001b[0m \u001b[0;32mnot\u001b[0m \u001b[0;32min\u001b[0m \u001b[0;34m(\u001b[0m\u001b[0mstop\u001b[0m\u001b[0;34m)\u001b[0m\u001b[0;34m]\u001b[0m\u001b[0;34m)\u001b[0m\u001b[0;34m)\u001b[0m\u001b[0;34m\u001b[0m\u001b[0;34m\u001b[0m\u001b[0m\n\u001b[0m",
            "\u001b[0;31mAttributeError\u001b[0m: 'float' object has no attribute 'split'"
          ]
        }
      ]
    },
    {
      "cell_type": "code",
      "metadata": {
        "id": "7M7z6deiavxn"
      },
      "source": [
        ""
      ],
      "execution_count": null,
      "outputs": []
    },
    {
      "cell_type": "code",
      "metadata": {
        "id": "o2jrech0aODo"
      },
      "source": [
        "df.fillna('',inplace=True)"
      ],
      "execution_count": null,
      "outputs": []
    },
    {
      "cell_type": "code",
      "metadata": {
        "id": "BfNIedyKaw5H"
      },
      "source": [
        "df['description_without_stopwords'] = df['plot_synopsis'].apply(lambda x: ' '.join([word for word in str(x).split() if word not in (stop)]))"
      ],
      "execution_count": null,
      "outputs": []
    },
    {
      "cell_type": "code",
      "metadata": {
        "colab": {
          "base_uri": "https://localhost:8080/"
        },
        "id": "1_x0913UisB-",
        "outputId": "4dc42837-ff72-4f74-d7e6-32257a39853c"
      },
      "source": [
        "df['description_without_stopwords']"
      ],
      "execution_count": null,
      "outputs": [
        {
          "output_type": "execute_result",
          "data": {
            "text/plain": [
              "0         In 1947, Andy Dufresne (Tim Robbins), banker M...\n",
              "1         In 1947, Andy Dufresne (Tim Robbins), banker M...\n",
              "2         In 1947, Andy Dufresne (Tim Robbins), banker M...\n",
              "3         In 1947, Andy Dufresne (Tim Robbins), banker M...\n",
              "4         In 1947, Andy Dufresne (Tim Robbins), banker M...\n",
              "                                ...                        \n",
              "573901    The film told chronological format, story told...\n",
              "573902    The film told chronological format, story told...\n",
              "573903    The film told chronological format, story told...\n",
              "573904    The film told chronological format, story told...\n",
              "573905    The film told chronological format, story told...\n",
              "Name: description_without_stopwords, Length: 573906, dtype: object"
            ]
          },
          "metadata": {
            "tags": []
          },
          "execution_count": 16
        }
      ]
    },
    {
      "cell_type": "code",
      "metadata": {
        "colab": {
          "base_uri": "https://localhost:8080/",
          "height": 881
        },
        "id": "HDMS4_RLivo3",
        "outputId": "9bfc68c1-a977-489d-b2d1-91ec08033a95"
      },
      "source": [
        "refined_df = df.drop([\"user_id\",\"Unnamed: 0\",\"movie_id_x\",\"review_text\",\"plot_synopsis\"],1)\n",
        "refined_df"
      ],
      "execution_count": null,
      "outputs": [
        {
          "output_type": "execute_result",
          "data": {
            "text/html": [
              "<div>\n",
              "<style scoped>\n",
              "    .dataframe tbody tr th:only-of-type {\n",
              "        vertical-align: middle;\n",
              "    }\n",
              "\n",
              "    .dataframe tbody tr th {\n",
              "        vertical-align: top;\n",
              "    }\n",
              "\n",
              "    .dataframe thead th {\n",
              "        text-align: right;\n",
              "    }\n",
              "</style>\n",
              "<table border=\"1\" class=\"dataframe\">\n",
              "  <thead>\n",
              "    <tr style=\"text-align: right;\">\n",
              "      <th></th>\n",
              "      <th>review_date</th>\n",
              "      <th>is_spoiler</th>\n",
              "      <th>rating_x</th>\n",
              "      <th>review_summary</th>\n",
              "      <th>Unnamed: 0.1</th>\n",
              "      <th>movie_id_y</th>\n",
              "      <th>plot_summary</th>\n",
              "      <th>duration</th>\n",
              "      <th>genre</th>\n",
              "      <th>rating_y</th>\n",
              "      <th>release_date</th>\n",
              "      <th>review_without_stopwords</th>\n",
              "      <th>description_without_stopwords</th>\n",
              "    </tr>\n",
              "  </thead>\n",
              "  <tbody>\n",
              "    <tr>\n",
              "      <th>0</th>\n",
              "      <td>10 February 2006</td>\n",
              "      <td>True</td>\n",
              "      <td>10</td>\n",
              "      <td>A classic piece of unforgettable film-making.</td>\n",
              "      <td>1263</td>\n",
              "      <td>tt0111161</td>\n",
              "      <td>Chronicles the experiences of a formerly succe...</td>\n",
              "      <td>2h 22min</td>\n",
              "      <td>['Crime', 'Drama']</td>\n",
              "      <td>9.3</td>\n",
              "      <td>1994-10-14</td>\n",
              "      <td>In Oscar year, Shawshank Redemption (written d...</td>\n",
              "      <td>In 1947, Andy Dufresne (Tim Robbins), banker M...</td>\n",
              "    </tr>\n",
              "    <tr>\n",
              "      <th>1</th>\n",
              "      <td>6 September 2000</td>\n",
              "      <td>True</td>\n",
              "      <td>10</td>\n",
              "      <td>Simply amazing. The best film of the 90's.</td>\n",
              "      <td>1263</td>\n",
              "      <td>tt0111161</td>\n",
              "      <td>Chronicles the experiences of a formerly succe...</td>\n",
              "      <td>2h 22min</td>\n",
              "      <td>['Crime', 'Drama']</td>\n",
              "      <td>9.3</td>\n",
              "      <td>1994-10-14</td>\n",
              "      <td>The Shawshank Redemption without doubt one bri...</td>\n",
              "      <td>In 1947, Andy Dufresne (Tim Robbins), banker M...</td>\n",
              "    </tr>\n",
              "    <tr>\n",
              "      <th>2</th>\n",
              "      <td>3 August 2001</td>\n",
              "      <td>True</td>\n",
              "      <td>8</td>\n",
              "      <td>The best story ever told on film</td>\n",
              "      <td>1263</td>\n",
              "      <td>tt0111161</td>\n",
              "      <td>Chronicles the experiences of a formerly succe...</td>\n",
              "      <td>2h 22min</td>\n",
              "      <td>['Crime', 'Drama']</td>\n",
              "      <td>9.3</td>\n",
              "      <td>1994-10-14</td>\n",
              "      <td>I believe film best story ever told film, I'm ...</td>\n",
              "      <td>In 1947, Andy Dufresne (Tim Robbins), banker M...</td>\n",
              "    </tr>\n",
              "    <tr>\n",
              "      <th>3</th>\n",
              "      <td>1 September 2002</td>\n",
              "      <td>True</td>\n",
              "      <td>10</td>\n",
              "      <td>Busy dying or busy living?</td>\n",
              "      <td>1263</td>\n",
              "      <td>tt0111161</td>\n",
              "      <td>Chronicles the experiences of a formerly succe...</td>\n",
              "      <td>2h 22min</td>\n",
              "      <td>['Crime', 'Drama']</td>\n",
              "      <td>9.3</td>\n",
              "      <td>1994-10-14</td>\n",
              "      <td>**Yes, SPOILERS here**This film emotional impa...</td>\n",
              "      <td>In 1947, Andy Dufresne (Tim Robbins), banker M...</td>\n",
              "    </tr>\n",
              "    <tr>\n",
              "      <th>4</th>\n",
              "      <td>20 May 2004</td>\n",
              "      <td>True</td>\n",
              "      <td>8</td>\n",
              "      <td>Great story, wondrously told and acted</td>\n",
              "      <td>1263</td>\n",
              "      <td>tt0111161</td>\n",
              "      <td>Chronicles the experiences of a formerly succe...</td>\n",
              "      <td>2h 22min</td>\n",
              "      <td>['Crime', 'Drama']</td>\n",
              "      <td>9.3</td>\n",
              "      <td>1994-10-14</td>\n",
              "      <td>At heart extraordinary movie brilliant indelib...</td>\n",
              "      <td>In 1947, Andy Dufresne (Tim Robbins), banker M...</td>\n",
              "    </tr>\n",
              "    <tr>\n",
              "      <th>...</th>\n",
              "      <td>...</td>\n",
              "      <td>...</td>\n",
              "      <td>...</td>\n",
              "      <td>...</td>\n",
              "      <td>...</td>\n",
              "      <td>...</td>\n",
              "      <td>...</td>\n",
              "      <td>...</td>\n",
              "      <td>...</td>\n",
              "      <td>...</td>\n",
              "      <td>...</td>\n",
              "      <td>...</td>\n",
              "      <td>...</td>\n",
              "    </tr>\n",
              "    <tr>\n",
              "      <th>573901</th>\n",
              "      <td>11 September 1999</td>\n",
              "      <td>False</td>\n",
              "      <td>10</td>\n",
              "      <td>Go gave me just what I wanted 103 minutes of a...</td>\n",
              "      <td>871</td>\n",
              "      <td>tt0139239</td>\n",
              "      <td>Told from three perspectives, a story of a bun...</td>\n",
              "      <td>1h 42min</td>\n",
              "      <td>['Comedy', 'Crime']</td>\n",
              "      <td>7.3</td>\n",
              "      <td>1999-04-09</td>\n",
              "      <td>It's time acknowledge Pulp Fiction pioneer fil...</td>\n",
              "      <td>The film told chronological format, story told...</td>\n",
              "    </tr>\n",
              "    <tr>\n",
              "      <th>573902</th>\n",
              "      <td>4 September 1999</td>\n",
              "      <td>False</td>\n",
              "      <td>9</td>\n",
              "      <td>Right on the money</td>\n",
              "      <td>871</td>\n",
              "      <td>tt0139239</td>\n",
              "      <td>Told from three perspectives, a story of a bun...</td>\n",
              "      <td>1h 42min</td>\n",
              "      <td>['Comedy', 'Crime']</td>\n",
              "      <td>7.3</td>\n",
              "      <td>1999-04-09</td>\n",
              "      <td>I went movies last night, option watching Go W...</td>\n",
              "      <td>The film told chronological format, story told...</td>\n",
              "    </tr>\n",
              "    <tr>\n",
              "      <th>573903</th>\n",
              "      <td>22 August 1999</td>\n",
              "      <td>False</td>\n",
              "      <td>9</td>\n",
              "      <td>Did somebody say 'Quentin Tarantino'?</td>\n",
              "      <td>871</td>\n",
              "      <td>tt0139239</td>\n",
              "      <td>Told from three perspectives, a story of a bun...</td>\n",
              "      <td>1h 42min</td>\n",
              "      <td>['Comedy', 'Crime']</td>\n",
              "      <td>7.3</td>\n",
              "      <td>1999-04-09</td>\n",
              "      <td>Not bad, bad all. I sucker film plays havoc 'p...</td>\n",
              "      <td>The film told chronological format, story told...</td>\n",
              "    </tr>\n",
              "    <tr>\n",
              "      <th>573904</th>\n",
              "      <td>18 August 1999</td>\n",
              "      <td>False</td>\n",
              "      <td>10</td>\n",
              "      <td>innovative and rockin'...I love Go!</td>\n",
              "      <td>871</td>\n",
              "      <td>tt0139239</td>\n",
              "      <td>Told from three perspectives, a story of a bun...</td>\n",
              "      <td>1h 42min</td>\n",
              "      <td>['Comedy', 'Crime']</td>\n",
              "      <td>7.3</td>\n",
              "      <td>1999-04-09</td>\n",
              "      <td>I think movie under-appreciated American audie...</td>\n",
              "      <td>The film told chronological format, story told...</td>\n",
              "    </tr>\n",
              "    <tr>\n",
              "      <th>573905</th>\n",
              "      <td>29 August 1999</td>\n",
              "      <td>False</td>\n",
              "      <td>8</td>\n",
              "      <td>a knot with no bows</td>\n",
              "      <td>871</td>\n",
              "      <td>tt0139239</td>\n",
              "      <td>Told from three perspectives, a story of a bun...</td>\n",
              "      <td>1h 42min</td>\n",
              "      <td>['Comedy', 'Crime']</td>\n",
              "      <td>7.3</td>\n",
              "      <td>1999-04-09</td>\n",
              "      <td>I saw Go! knot bows - interesting look teenage...</td>\n",
              "      <td>The film told chronological format, story told...</td>\n",
              "    </tr>\n",
              "  </tbody>\n",
              "</table>\n",
              "<p>573906 rows × 13 columns</p>\n",
              "</div>"
            ],
            "text/plain": [
              "              review_date  ...                      description_without_stopwords\n",
              "0        10 February 2006  ...  In 1947, Andy Dufresne (Tim Robbins), banker M...\n",
              "1        6 September 2000  ...  In 1947, Andy Dufresne (Tim Robbins), banker M...\n",
              "2           3 August 2001  ...  In 1947, Andy Dufresne (Tim Robbins), banker M...\n",
              "3        1 September 2002  ...  In 1947, Andy Dufresne (Tim Robbins), banker M...\n",
              "4             20 May 2004  ...  In 1947, Andy Dufresne (Tim Robbins), banker M...\n",
              "...                   ...  ...                                                ...\n",
              "573901  11 September 1999  ...  The film told chronological format, story told...\n",
              "573902   4 September 1999  ...  The film told chronological format, story told...\n",
              "573903     22 August 1999  ...  The film told chronological format, story told...\n",
              "573904     18 August 1999  ...  The film told chronological format, story told...\n",
              "573905     29 August 1999  ...  The film told chronological format, story told...\n",
              "\n",
              "[573906 rows x 13 columns]"
            ]
          },
          "metadata": {
            "tags": []
          },
          "execution_count": 17
        }
      ]
    },
    {
      "cell_type": "code",
      "metadata": {
        "colab": {
          "base_uri": "https://localhost:8080/",
          "height": 864
        },
        "id": "umOWFurWjsQ2",
        "outputId": "0a888170-64c2-4ba8-8e05-8a3c05cfb1bf"
      },
      "source": [
        "refined_df = refined_df.drop([\"Unnamed: 0.1\"],1)\n",
        "refined_df"
      ],
      "execution_count": null,
      "outputs": [
        {
          "output_type": "execute_result",
          "data": {
            "text/html": [
              "<div>\n",
              "<style scoped>\n",
              "    .dataframe tbody tr th:only-of-type {\n",
              "        vertical-align: middle;\n",
              "    }\n",
              "\n",
              "    .dataframe tbody tr th {\n",
              "        vertical-align: top;\n",
              "    }\n",
              "\n",
              "    .dataframe thead th {\n",
              "        text-align: right;\n",
              "    }\n",
              "</style>\n",
              "<table border=\"1\" class=\"dataframe\">\n",
              "  <thead>\n",
              "    <tr style=\"text-align: right;\">\n",
              "      <th></th>\n",
              "      <th>review_date</th>\n",
              "      <th>is_spoiler</th>\n",
              "      <th>rating_x</th>\n",
              "      <th>review_summary</th>\n",
              "      <th>movie_id_y</th>\n",
              "      <th>plot_summary</th>\n",
              "      <th>duration</th>\n",
              "      <th>genre</th>\n",
              "      <th>rating_y</th>\n",
              "      <th>release_date</th>\n",
              "      <th>review_without_stopwords</th>\n",
              "      <th>description_without_stopwords</th>\n",
              "    </tr>\n",
              "  </thead>\n",
              "  <tbody>\n",
              "    <tr>\n",
              "      <th>0</th>\n",
              "      <td>10 February 2006</td>\n",
              "      <td>True</td>\n",
              "      <td>10</td>\n",
              "      <td>A classic piece of unforgettable film-making.</td>\n",
              "      <td>tt0111161</td>\n",
              "      <td>Chronicles the experiences of a formerly succe...</td>\n",
              "      <td>2h 22min</td>\n",
              "      <td>['Crime', 'Drama']</td>\n",
              "      <td>9.3</td>\n",
              "      <td>1994-10-14</td>\n",
              "      <td>In Oscar year, Shawshank Redemption (written d...</td>\n",
              "      <td>In 1947, Andy Dufresne (Tim Robbins), banker M...</td>\n",
              "    </tr>\n",
              "    <tr>\n",
              "      <th>1</th>\n",
              "      <td>6 September 2000</td>\n",
              "      <td>True</td>\n",
              "      <td>10</td>\n",
              "      <td>Simply amazing. The best film of the 90's.</td>\n",
              "      <td>tt0111161</td>\n",
              "      <td>Chronicles the experiences of a formerly succe...</td>\n",
              "      <td>2h 22min</td>\n",
              "      <td>['Crime', 'Drama']</td>\n",
              "      <td>9.3</td>\n",
              "      <td>1994-10-14</td>\n",
              "      <td>The Shawshank Redemption without doubt one bri...</td>\n",
              "      <td>In 1947, Andy Dufresne (Tim Robbins), banker M...</td>\n",
              "    </tr>\n",
              "    <tr>\n",
              "      <th>2</th>\n",
              "      <td>3 August 2001</td>\n",
              "      <td>True</td>\n",
              "      <td>8</td>\n",
              "      <td>The best story ever told on film</td>\n",
              "      <td>tt0111161</td>\n",
              "      <td>Chronicles the experiences of a formerly succe...</td>\n",
              "      <td>2h 22min</td>\n",
              "      <td>['Crime', 'Drama']</td>\n",
              "      <td>9.3</td>\n",
              "      <td>1994-10-14</td>\n",
              "      <td>I believe film best story ever told film, I'm ...</td>\n",
              "      <td>In 1947, Andy Dufresne (Tim Robbins), banker M...</td>\n",
              "    </tr>\n",
              "    <tr>\n",
              "      <th>3</th>\n",
              "      <td>1 September 2002</td>\n",
              "      <td>True</td>\n",
              "      <td>10</td>\n",
              "      <td>Busy dying or busy living?</td>\n",
              "      <td>tt0111161</td>\n",
              "      <td>Chronicles the experiences of a formerly succe...</td>\n",
              "      <td>2h 22min</td>\n",
              "      <td>['Crime', 'Drama']</td>\n",
              "      <td>9.3</td>\n",
              "      <td>1994-10-14</td>\n",
              "      <td>**Yes, SPOILERS here**This film emotional impa...</td>\n",
              "      <td>In 1947, Andy Dufresne (Tim Robbins), banker M...</td>\n",
              "    </tr>\n",
              "    <tr>\n",
              "      <th>4</th>\n",
              "      <td>20 May 2004</td>\n",
              "      <td>True</td>\n",
              "      <td>8</td>\n",
              "      <td>Great story, wondrously told and acted</td>\n",
              "      <td>tt0111161</td>\n",
              "      <td>Chronicles the experiences of a formerly succe...</td>\n",
              "      <td>2h 22min</td>\n",
              "      <td>['Crime', 'Drama']</td>\n",
              "      <td>9.3</td>\n",
              "      <td>1994-10-14</td>\n",
              "      <td>At heart extraordinary movie brilliant indelib...</td>\n",
              "      <td>In 1947, Andy Dufresne (Tim Robbins), banker M...</td>\n",
              "    </tr>\n",
              "    <tr>\n",
              "      <th>...</th>\n",
              "      <td>...</td>\n",
              "      <td>...</td>\n",
              "      <td>...</td>\n",
              "      <td>...</td>\n",
              "      <td>...</td>\n",
              "      <td>...</td>\n",
              "      <td>...</td>\n",
              "      <td>...</td>\n",
              "      <td>...</td>\n",
              "      <td>...</td>\n",
              "      <td>...</td>\n",
              "      <td>...</td>\n",
              "    </tr>\n",
              "    <tr>\n",
              "      <th>573901</th>\n",
              "      <td>11 September 1999</td>\n",
              "      <td>False</td>\n",
              "      <td>10</td>\n",
              "      <td>Go gave me just what I wanted 103 minutes of a...</td>\n",
              "      <td>tt0139239</td>\n",
              "      <td>Told from three perspectives, a story of a bun...</td>\n",
              "      <td>1h 42min</td>\n",
              "      <td>['Comedy', 'Crime']</td>\n",
              "      <td>7.3</td>\n",
              "      <td>1999-04-09</td>\n",
              "      <td>It's time acknowledge Pulp Fiction pioneer fil...</td>\n",
              "      <td>The film told chronological format, story told...</td>\n",
              "    </tr>\n",
              "    <tr>\n",
              "      <th>573902</th>\n",
              "      <td>4 September 1999</td>\n",
              "      <td>False</td>\n",
              "      <td>9</td>\n",
              "      <td>Right on the money</td>\n",
              "      <td>tt0139239</td>\n",
              "      <td>Told from three perspectives, a story of a bun...</td>\n",
              "      <td>1h 42min</td>\n",
              "      <td>['Comedy', 'Crime']</td>\n",
              "      <td>7.3</td>\n",
              "      <td>1999-04-09</td>\n",
              "      <td>I went movies last night, option watching Go W...</td>\n",
              "      <td>The film told chronological format, story told...</td>\n",
              "    </tr>\n",
              "    <tr>\n",
              "      <th>573903</th>\n",
              "      <td>22 August 1999</td>\n",
              "      <td>False</td>\n",
              "      <td>9</td>\n",
              "      <td>Did somebody say 'Quentin Tarantino'?</td>\n",
              "      <td>tt0139239</td>\n",
              "      <td>Told from three perspectives, a story of a bun...</td>\n",
              "      <td>1h 42min</td>\n",
              "      <td>['Comedy', 'Crime']</td>\n",
              "      <td>7.3</td>\n",
              "      <td>1999-04-09</td>\n",
              "      <td>Not bad, bad all. I sucker film plays havoc 'p...</td>\n",
              "      <td>The film told chronological format, story told...</td>\n",
              "    </tr>\n",
              "    <tr>\n",
              "      <th>573904</th>\n",
              "      <td>18 August 1999</td>\n",
              "      <td>False</td>\n",
              "      <td>10</td>\n",
              "      <td>innovative and rockin'...I love Go!</td>\n",
              "      <td>tt0139239</td>\n",
              "      <td>Told from three perspectives, a story of a bun...</td>\n",
              "      <td>1h 42min</td>\n",
              "      <td>['Comedy', 'Crime']</td>\n",
              "      <td>7.3</td>\n",
              "      <td>1999-04-09</td>\n",
              "      <td>I think movie under-appreciated American audie...</td>\n",
              "      <td>The film told chronological format, story told...</td>\n",
              "    </tr>\n",
              "    <tr>\n",
              "      <th>573905</th>\n",
              "      <td>29 August 1999</td>\n",
              "      <td>False</td>\n",
              "      <td>8</td>\n",
              "      <td>a knot with no bows</td>\n",
              "      <td>tt0139239</td>\n",
              "      <td>Told from three perspectives, a story of a bun...</td>\n",
              "      <td>1h 42min</td>\n",
              "      <td>['Comedy', 'Crime']</td>\n",
              "      <td>7.3</td>\n",
              "      <td>1999-04-09</td>\n",
              "      <td>I saw Go! knot bows - interesting look teenage...</td>\n",
              "      <td>The film told chronological format, story told...</td>\n",
              "    </tr>\n",
              "  </tbody>\n",
              "</table>\n",
              "<p>573906 rows × 12 columns</p>\n",
              "</div>"
            ],
            "text/plain": [
              "              review_date  ...                      description_without_stopwords\n",
              "0        10 February 2006  ...  In 1947, Andy Dufresne (Tim Robbins), banker M...\n",
              "1        6 September 2000  ...  In 1947, Andy Dufresne (Tim Robbins), banker M...\n",
              "2           3 August 2001  ...  In 1947, Andy Dufresne (Tim Robbins), banker M...\n",
              "3        1 September 2002  ...  In 1947, Andy Dufresne (Tim Robbins), banker M...\n",
              "4             20 May 2004  ...  In 1947, Andy Dufresne (Tim Robbins), banker M...\n",
              "...                   ...  ...                                                ...\n",
              "573901  11 September 1999  ...  The film told chronological format, story told...\n",
              "573902   4 September 1999  ...  The film told chronological format, story told...\n",
              "573903     22 August 1999  ...  The film told chronological format, story told...\n",
              "573904     18 August 1999  ...  The film told chronological format, story told...\n",
              "573905     29 August 1999  ...  The film told chronological format, story told...\n",
              "\n",
              "[573906 rows x 12 columns]"
            ]
          },
          "metadata": {
            "tags": []
          },
          "execution_count": 18
        }
      ]
    },
    {
      "cell_type": "code",
      "metadata": {
        "id": "vO9hcv-LkA3a"
      },
      "source": [
        "refined_df['review_summary_without_stopwords'] = refined_df['review_summary'].apply(lambda x: ' '.join([word for word in str(x).split() if word not in (stop)]))"
      ],
      "execution_count": null,
      "outputs": []
    },
    {
      "cell_type": "code",
      "metadata": {
        "id": "Xz_JnZgykTKQ"
      },
      "source": [
        "refined_df['plot_summary_without_stopwords'] = refined_df['plot_summary'].apply(lambda x: ' '.join([word for word in str(x).split() if word not in (stop)]))"
      ],
      "execution_count": null,
      "outputs": []
    },
    {
      "cell_type": "code",
      "metadata": {
        "id": "hi2Vd8v1qDfK",
        "colab": {
          "base_uri": "https://localhost:8080/",
          "height": 864
        },
        "outputId": "c32298cb-a1b3-47e3-b019-541e73d61cbe"
      },
      "source": [
        "refined_df"
      ],
      "execution_count": null,
      "outputs": [
        {
          "output_type": "execute_result",
          "data": {
            "text/html": [
              "<div>\n",
              "<style scoped>\n",
              "    .dataframe tbody tr th:only-of-type {\n",
              "        vertical-align: middle;\n",
              "    }\n",
              "\n",
              "    .dataframe tbody tr th {\n",
              "        vertical-align: top;\n",
              "    }\n",
              "\n",
              "    .dataframe thead th {\n",
              "        text-align: right;\n",
              "    }\n",
              "</style>\n",
              "<table border=\"1\" class=\"dataframe\">\n",
              "  <thead>\n",
              "    <tr style=\"text-align: right;\">\n",
              "      <th></th>\n",
              "      <th>review_date</th>\n",
              "      <th>is_spoiler</th>\n",
              "      <th>rating_x</th>\n",
              "      <th>review_summary</th>\n",
              "      <th>movie_id_y</th>\n",
              "      <th>plot_summary</th>\n",
              "      <th>duration</th>\n",
              "      <th>genre</th>\n",
              "      <th>rating_y</th>\n",
              "      <th>release_date</th>\n",
              "      <th>review_without_stopwords</th>\n",
              "      <th>description_without_stopwords</th>\n",
              "      <th>review_summary_without_stopwords</th>\n",
              "      <th>plot_summary_without_stopwords</th>\n",
              "    </tr>\n",
              "  </thead>\n",
              "  <tbody>\n",
              "    <tr>\n",
              "      <th>0</th>\n",
              "      <td>10 February 2006</td>\n",
              "      <td>True</td>\n",
              "      <td>10</td>\n",
              "      <td>A classic piece of unforgettable film-making.</td>\n",
              "      <td>tt0111161</td>\n",
              "      <td>Chronicles the experiences of a formerly succe...</td>\n",
              "      <td>2h 22min</td>\n",
              "      <td>['Crime', 'Drama']</td>\n",
              "      <td>9.3</td>\n",
              "      <td>1994-10-14</td>\n",
              "      <td>In Oscar year, Shawshank Redemption (written d...</td>\n",
              "      <td>In 1947, Andy Dufresne (Tim Robbins), banker M...</td>\n",
              "      <td>A classic piece unforgettable film-making.</td>\n",
              "      <td>Chronicles experiences formerly successful ban...</td>\n",
              "    </tr>\n",
              "    <tr>\n",
              "      <th>1</th>\n",
              "      <td>6 September 2000</td>\n",
              "      <td>True</td>\n",
              "      <td>10</td>\n",
              "      <td>Simply amazing. The best film of the 90's.</td>\n",
              "      <td>tt0111161</td>\n",
              "      <td>Chronicles the experiences of a formerly succe...</td>\n",
              "      <td>2h 22min</td>\n",
              "      <td>['Crime', 'Drama']</td>\n",
              "      <td>9.3</td>\n",
              "      <td>1994-10-14</td>\n",
              "      <td>The Shawshank Redemption without doubt one bri...</td>\n",
              "      <td>In 1947, Andy Dufresne (Tim Robbins), banker M...</td>\n",
              "      <td>Simply amazing. The best film 90's.</td>\n",
              "      <td>Chronicles experiences formerly successful ban...</td>\n",
              "    </tr>\n",
              "    <tr>\n",
              "      <th>2</th>\n",
              "      <td>3 August 2001</td>\n",
              "      <td>True</td>\n",
              "      <td>8</td>\n",
              "      <td>The best story ever told on film</td>\n",
              "      <td>tt0111161</td>\n",
              "      <td>Chronicles the experiences of a formerly succe...</td>\n",
              "      <td>2h 22min</td>\n",
              "      <td>['Crime', 'Drama']</td>\n",
              "      <td>9.3</td>\n",
              "      <td>1994-10-14</td>\n",
              "      <td>I believe film best story ever told film, I'm ...</td>\n",
              "      <td>In 1947, Andy Dufresne (Tim Robbins), banker M...</td>\n",
              "      <td>The best story ever told film</td>\n",
              "      <td>Chronicles experiences formerly successful ban...</td>\n",
              "    </tr>\n",
              "    <tr>\n",
              "      <th>3</th>\n",
              "      <td>1 September 2002</td>\n",
              "      <td>True</td>\n",
              "      <td>10</td>\n",
              "      <td>Busy dying or busy living?</td>\n",
              "      <td>tt0111161</td>\n",
              "      <td>Chronicles the experiences of a formerly succe...</td>\n",
              "      <td>2h 22min</td>\n",
              "      <td>['Crime', 'Drama']</td>\n",
              "      <td>9.3</td>\n",
              "      <td>1994-10-14</td>\n",
              "      <td>**Yes, SPOILERS here**This film emotional impa...</td>\n",
              "      <td>In 1947, Andy Dufresne (Tim Robbins), banker M...</td>\n",
              "      <td>Busy dying busy living?</td>\n",
              "      <td>Chronicles experiences formerly successful ban...</td>\n",
              "    </tr>\n",
              "    <tr>\n",
              "      <th>4</th>\n",
              "      <td>20 May 2004</td>\n",
              "      <td>True</td>\n",
              "      <td>8</td>\n",
              "      <td>Great story, wondrously told and acted</td>\n",
              "      <td>tt0111161</td>\n",
              "      <td>Chronicles the experiences of a formerly succe...</td>\n",
              "      <td>2h 22min</td>\n",
              "      <td>['Crime', 'Drama']</td>\n",
              "      <td>9.3</td>\n",
              "      <td>1994-10-14</td>\n",
              "      <td>At heart extraordinary movie brilliant indelib...</td>\n",
              "      <td>In 1947, Andy Dufresne (Tim Robbins), banker M...</td>\n",
              "      <td>Great story, wondrously told acted</td>\n",
              "      <td>Chronicles experiences formerly successful ban...</td>\n",
              "    </tr>\n",
              "    <tr>\n",
              "      <th>...</th>\n",
              "      <td>...</td>\n",
              "      <td>...</td>\n",
              "      <td>...</td>\n",
              "      <td>...</td>\n",
              "      <td>...</td>\n",
              "      <td>...</td>\n",
              "      <td>...</td>\n",
              "      <td>...</td>\n",
              "      <td>...</td>\n",
              "      <td>...</td>\n",
              "      <td>...</td>\n",
              "      <td>...</td>\n",
              "      <td>...</td>\n",
              "      <td>...</td>\n",
              "    </tr>\n",
              "    <tr>\n",
              "      <th>573901</th>\n",
              "      <td>11 September 1999</td>\n",
              "      <td>False</td>\n",
              "      <td>10</td>\n",
              "      <td>Go gave me just what I wanted 103 minutes of a...</td>\n",
              "      <td>tt0139239</td>\n",
              "      <td>Told from three perspectives, a story of a bun...</td>\n",
              "      <td>1h 42min</td>\n",
              "      <td>['Comedy', 'Crime']</td>\n",
              "      <td>7.3</td>\n",
              "      <td>1999-04-09</td>\n",
              "      <td>It's time acknowledge Pulp Fiction pioneer fil...</td>\n",
              "      <td>The film told chronological format, story told...</td>\n",
              "      <td>Go gave I wanted 103 minutes action, lots supe...</td>\n",
              "      <td>Told three perspectives, story bunch young Cal...</td>\n",
              "    </tr>\n",
              "    <tr>\n",
              "      <th>573902</th>\n",
              "      <td>4 September 1999</td>\n",
              "      <td>False</td>\n",
              "      <td>9</td>\n",
              "      <td>Right on the money</td>\n",
              "      <td>tt0139239</td>\n",
              "      <td>Told from three perspectives, a story of a bun...</td>\n",
              "      <td>1h 42min</td>\n",
              "      <td>['Comedy', 'Crime']</td>\n",
              "      <td>7.3</td>\n",
              "      <td>1999-04-09</td>\n",
              "      <td>I went movies last night, option watching Go W...</td>\n",
              "      <td>The film told chronological format, story told...</td>\n",
              "      <td>Right money</td>\n",
              "      <td>Told three perspectives, story bunch young Cal...</td>\n",
              "    </tr>\n",
              "    <tr>\n",
              "      <th>573903</th>\n",
              "      <td>22 August 1999</td>\n",
              "      <td>False</td>\n",
              "      <td>9</td>\n",
              "      <td>Did somebody say 'Quentin Tarantino'?</td>\n",
              "      <td>tt0139239</td>\n",
              "      <td>Told from three perspectives, a story of a bun...</td>\n",
              "      <td>1h 42min</td>\n",
              "      <td>['Comedy', 'Crime']</td>\n",
              "      <td>7.3</td>\n",
              "      <td>1999-04-09</td>\n",
              "      <td>Not bad, bad all. I sucker film plays havoc 'p...</td>\n",
              "      <td>The film told chronological format, story told...</td>\n",
              "      <td>Did somebody say 'Quentin Tarantino'?</td>\n",
              "      <td>Told three perspectives, story bunch young Cal...</td>\n",
              "    </tr>\n",
              "    <tr>\n",
              "      <th>573904</th>\n",
              "      <td>18 August 1999</td>\n",
              "      <td>False</td>\n",
              "      <td>10</td>\n",
              "      <td>innovative and rockin'...I love Go!</td>\n",
              "      <td>tt0139239</td>\n",
              "      <td>Told from three perspectives, a story of a bun...</td>\n",
              "      <td>1h 42min</td>\n",
              "      <td>['Comedy', 'Crime']</td>\n",
              "      <td>7.3</td>\n",
              "      <td>1999-04-09</td>\n",
              "      <td>I think movie under-appreciated American audie...</td>\n",
              "      <td>The film told chronological format, story told...</td>\n",
              "      <td>innovative rockin'...I love Go!</td>\n",
              "      <td>Told three perspectives, story bunch young Cal...</td>\n",
              "    </tr>\n",
              "    <tr>\n",
              "      <th>573905</th>\n",
              "      <td>29 August 1999</td>\n",
              "      <td>False</td>\n",
              "      <td>8</td>\n",
              "      <td>a knot with no bows</td>\n",
              "      <td>tt0139239</td>\n",
              "      <td>Told from three perspectives, a story of a bun...</td>\n",
              "      <td>1h 42min</td>\n",
              "      <td>['Comedy', 'Crime']</td>\n",
              "      <td>7.3</td>\n",
              "      <td>1999-04-09</td>\n",
              "      <td>I saw Go! knot bows - interesting look teenage...</td>\n",
              "      <td>The film told chronological format, story told...</td>\n",
              "      <td>knot bows</td>\n",
              "      <td>Told three perspectives, story bunch young Cal...</td>\n",
              "    </tr>\n",
              "  </tbody>\n",
              "</table>\n",
              "<p>573906 rows × 14 columns</p>\n",
              "</div>"
            ],
            "text/plain": [
              "              review_date  ...                     plot_summary_without_stopwords\n",
              "0        10 February 2006  ...  Chronicles experiences formerly successful ban...\n",
              "1        6 September 2000  ...  Chronicles experiences formerly successful ban...\n",
              "2           3 August 2001  ...  Chronicles experiences formerly successful ban...\n",
              "3        1 September 2002  ...  Chronicles experiences formerly successful ban...\n",
              "4             20 May 2004  ...  Chronicles experiences formerly successful ban...\n",
              "...                   ...  ...                                                ...\n",
              "573901  11 September 1999  ...  Told three perspectives, story bunch young Cal...\n",
              "573902   4 September 1999  ...  Told three perspectives, story bunch young Cal...\n",
              "573903     22 August 1999  ...  Told three perspectives, story bunch young Cal...\n",
              "573904     18 August 1999  ...  Told three perspectives, story bunch young Cal...\n",
              "573905     29 August 1999  ...  Told three perspectives, story bunch young Cal...\n",
              "\n",
              "[573906 rows x 14 columns]"
            ]
          },
          "metadata": {
            "tags": []
          },
          "execution_count": 21
        }
      ]
    },
    {
      "cell_type": "code",
      "metadata": {
        "id": "C_FsqgI7Die_"
      },
      "source": [
        ""
      ],
      "execution_count": null,
      "outputs": []
    },
    {
      "cell_type": "code",
      "metadata": {
        "id": "AnR8eM0gDorD"
      },
      "source": [
        "refined_df.to_csv(\"refined_ds.csv\")"
      ],
      "execution_count": null,
      "outputs": []
    },
    {
      "cell_type": "code",
      "metadata": {
        "colab": {
          "base_uri": "https://localhost:8080/"
        },
        "id": "kIKJE0c0DorF",
        "outputId": "889b520f-3f7f-4ed3-b834-9d01d635a279"
      },
      "source": [
        "%%bash\n",
        "zip dataset_rf.zip refined_ds.csv"
      ],
      "execution_count": null,
      "outputs": [
        {
          "output_type": "stream",
          "text": [
            "  adding: refined_ds.csv (deflated 92%)\n"
          ],
          "name": "stdout"
        }
      ]
    },
    {
      "cell_type": "markdown",
      "metadata": {
        "id": "2R2H5PhwY0G7"
      },
      "source": [
        "Day 4"
      ]
    },
    {
      "cell_type": "code",
      "metadata": {
        "colab": {
          "base_uri": "https://localhost:8080/"
        },
        "id": "LvGNNBzeYzTK",
        "outputId": "40ccebdf-60a1-44c7-e111-5f939729ca66"
      },
      "source": [
        "!unzip 'drive/MyDrive/dataset_rf.zip'"
      ],
      "execution_count": null,
      "outputs": [
        {
          "output_type": "stream",
          "text": [
            "Archive:  drive/MyDrive/dataset_rf.zip\n",
            "  inflating: refined_ds.csv          \n"
          ],
          "name": "stdout"
        }
      ]
    },
    {
      "cell_type": "code",
      "metadata": {
        "id": "2u3hvyW1DNvW"
      },
      "source": [
        "df = pd.read_csv(\"refined_ds.csv\")"
      ],
      "execution_count": null,
      "outputs": []
    },
    {
      "cell_type": "code",
      "metadata": {
        "colab": {
          "base_uri": "https://localhost:8080/",
          "height": 660
        },
        "id": "FS3H711NDT1N",
        "outputId": "38a1af54-ec1f-40bb-a04d-673b0b726355"
      },
      "source": [
        "df.drop(['review_summary','plot_summary'],axis=1,inplace=True)\n",
        "df"
      ],
      "execution_count": null,
      "outputs": [
        {
          "output_type": "execute_result",
          "data": {
            "text/html": [
              "<div>\n",
              "<style scoped>\n",
              "    .dataframe tbody tr th:only-of-type {\n",
              "        vertical-align: middle;\n",
              "    }\n",
              "\n",
              "    .dataframe tbody tr th {\n",
              "        vertical-align: top;\n",
              "    }\n",
              "\n",
              "    .dataframe thead th {\n",
              "        text-align: right;\n",
              "    }\n",
              "</style>\n",
              "<table border=\"1\" class=\"dataframe\">\n",
              "  <thead>\n",
              "    <tr style=\"text-align: right;\">\n",
              "      <th></th>\n",
              "      <th>Unnamed: 0</th>\n",
              "      <th>review_date</th>\n",
              "      <th>is_spoiler</th>\n",
              "      <th>rating_x</th>\n",
              "      <th>movie_id_y</th>\n",
              "      <th>duration</th>\n",
              "      <th>genre</th>\n",
              "      <th>rating_y</th>\n",
              "      <th>release_date</th>\n",
              "      <th>review_without_stopwords</th>\n",
              "      <th>description_without_stopwords</th>\n",
              "      <th>review_summary_without_stopwords</th>\n",
              "      <th>plot_summary_without_stopwords</th>\n",
              "    </tr>\n",
              "  </thead>\n",
              "  <tbody>\n",
              "    <tr>\n",
              "      <th>0</th>\n",
              "      <td>0</td>\n",
              "      <td>10 February 2006</td>\n",
              "      <td>True</td>\n",
              "      <td>10</td>\n",
              "      <td>tt0111161</td>\n",
              "      <td>2h 22min</td>\n",
              "      <td>['Crime', 'Drama']</td>\n",
              "      <td>9.3</td>\n",
              "      <td>1994-10-14</td>\n",
              "      <td>In Oscar year, Shawshank Redemption (written d...</td>\n",
              "      <td>In 1947, Andy Dufresne (Tim Robbins), banker M...</td>\n",
              "      <td>A classic piece unforgettable film-making.</td>\n",
              "      <td>Chronicles experiences formerly successful ban...</td>\n",
              "    </tr>\n",
              "    <tr>\n",
              "      <th>1</th>\n",
              "      <td>1</td>\n",
              "      <td>6 September 2000</td>\n",
              "      <td>True</td>\n",
              "      <td>10</td>\n",
              "      <td>tt0111161</td>\n",
              "      <td>2h 22min</td>\n",
              "      <td>['Crime', 'Drama']</td>\n",
              "      <td>9.3</td>\n",
              "      <td>1994-10-14</td>\n",
              "      <td>The Shawshank Redemption without doubt one bri...</td>\n",
              "      <td>In 1947, Andy Dufresne (Tim Robbins), banker M...</td>\n",
              "      <td>Simply amazing. The best film 90's.</td>\n",
              "      <td>Chronicles experiences formerly successful ban...</td>\n",
              "    </tr>\n",
              "    <tr>\n",
              "      <th>2</th>\n",
              "      <td>2</td>\n",
              "      <td>3 August 2001</td>\n",
              "      <td>True</td>\n",
              "      <td>8</td>\n",
              "      <td>tt0111161</td>\n",
              "      <td>2h 22min</td>\n",
              "      <td>['Crime', 'Drama']</td>\n",
              "      <td>9.3</td>\n",
              "      <td>1994-10-14</td>\n",
              "      <td>I believe film best story ever told film, I'm ...</td>\n",
              "      <td>In 1947, Andy Dufresne (Tim Robbins), banker M...</td>\n",
              "      <td>The best story ever told film</td>\n",
              "      <td>Chronicles experiences formerly successful ban...</td>\n",
              "    </tr>\n",
              "    <tr>\n",
              "      <th>3</th>\n",
              "      <td>3</td>\n",
              "      <td>1 September 2002</td>\n",
              "      <td>True</td>\n",
              "      <td>10</td>\n",
              "      <td>tt0111161</td>\n",
              "      <td>2h 22min</td>\n",
              "      <td>['Crime', 'Drama']</td>\n",
              "      <td>9.3</td>\n",
              "      <td>1994-10-14</td>\n",
              "      <td>**Yes, SPOILERS here**This film emotional impa...</td>\n",
              "      <td>In 1947, Andy Dufresne (Tim Robbins), banker M...</td>\n",
              "      <td>Busy dying busy living?</td>\n",
              "      <td>Chronicles experiences formerly successful ban...</td>\n",
              "    </tr>\n",
              "    <tr>\n",
              "      <th>4</th>\n",
              "      <td>4</td>\n",
              "      <td>20 May 2004</td>\n",
              "      <td>True</td>\n",
              "      <td>8</td>\n",
              "      <td>tt0111161</td>\n",
              "      <td>2h 22min</td>\n",
              "      <td>['Crime', 'Drama']</td>\n",
              "      <td>9.3</td>\n",
              "      <td>1994-10-14</td>\n",
              "      <td>At heart extraordinary movie brilliant indelib...</td>\n",
              "      <td>In 1947, Andy Dufresne (Tim Robbins), banker M...</td>\n",
              "      <td>Great story, wondrously told acted</td>\n",
              "      <td>Chronicles experiences formerly successful ban...</td>\n",
              "    </tr>\n",
              "    <tr>\n",
              "      <th>...</th>\n",
              "      <td>...</td>\n",
              "      <td>...</td>\n",
              "      <td>...</td>\n",
              "      <td>...</td>\n",
              "      <td>...</td>\n",
              "      <td>...</td>\n",
              "      <td>...</td>\n",
              "      <td>...</td>\n",
              "      <td>...</td>\n",
              "      <td>...</td>\n",
              "      <td>...</td>\n",
              "      <td>...</td>\n",
              "      <td>...</td>\n",
              "    </tr>\n",
              "    <tr>\n",
              "      <th>573901</th>\n",
              "      <td>573901</td>\n",
              "      <td>11 September 1999</td>\n",
              "      <td>False</td>\n",
              "      <td>10</td>\n",
              "      <td>tt0139239</td>\n",
              "      <td>1h 42min</td>\n",
              "      <td>['Comedy', 'Crime']</td>\n",
              "      <td>7.3</td>\n",
              "      <td>1999-04-09</td>\n",
              "      <td>It's time acknowledge Pulp Fiction pioneer fil...</td>\n",
              "      <td>The film told chronological format, story told...</td>\n",
              "      <td>Go gave I wanted 103 minutes action, lots supe...</td>\n",
              "      <td>Told three perspectives, story bunch young Cal...</td>\n",
              "    </tr>\n",
              "    <tr>\n",
              "      <th>573902</th>\n",
              "      <td>573902</td>\n",
              "      <td>4 September 1999</td>\n",
              "      <td>False</td>\n",
              "      <td>9</td>\n",
              "      <td>tt0139239</td>\n",
              "      <td>1h 42min</td>\n",
              "      <td>['Comedy', 'Crime']</td>\n",
              "      <td>7.3</td>\n",
              "      <td>1999-04-09</td>\n",
              "      <td>I went movies last night, option watching Go W...</td>\n",
              "      <td>The film told chronological format, story told...</td>\n",
              "      <td>Right money</td>\n",
              "      <td>Told three perspectives, story bunch young Cal...</td>\n",
              "    </tr>\n",
              "    <tr>\n",
              "      <th>573903</th>\n",
              "      <td>573903</td>\n",
              "      <td>22 August 1999</td>\n",
              "      <td>False</td>\n",
              "      <td>9</td>\n",
              "      <td>tt0139239</td>\n",
              "      <td>1h 42min</td>\n",
              "      <td>['Comedy', 'Crime']</td>\n",
              "      <td>7.3</td>\n",
              "      <td>1999-04-09</td>\n",
              "      <td>Not bad, bad all. I sucker film plays havoc 'p...</td>\n",
              "      <td>The film told chronological format, story told...</td>\n",
              "      <td>Did somebody say 'Quentin Tarantino'?</td>\n",
              "      <td>Told three perspectives, story bunch young Cal...</td>\n",
              "    </tr>\n",
              "    <tr>\n",
              "      <th>573904</th>\n",
              "      <td>573904</td>\n",
              "      <td>18 August 1999</td>\n",
              "      <td>False</td>\n",
              "      <td>10</td>\n",
              "      <td>tt0139239</td>\n",
              "      <td>1h 42min</td>\n",
              "      <td>['Comedy', 'Crime']</td>\n",
              "      <td>7.3</td>\n",
              "      <td>1999-04-09</td>\n",
              "      <td>I think movie under-appreciated American audie...</td>\n",
              "      <td>The film told chronological format, story told...</td>\n",
              "      <td>innovative rockin'...I love Go!</td>\n",
              "      <td>Told three perspectives, story bunch young Cal...</td>\n",
              "    </tr>\n",
              "    <tr>\n",
              "      <th>573905</th>\n",
              "      <td>573905</td>\n",
              "      <td>29 August 1999</td>\n",
              "      <td>False</td>\n",
              "      <td>8</td>\n",
              "      <td>tt0139239</td>\n",
              "      <td>1h 42min</td>\n",
              "      <td>['Comedy', 'Crime']</td>\n",
              "      <td>7.3</td>\n",
              "      <td>1999-04-09</td>\n",
              "      <td>I saw Go! knot bows - interesting look teenage...</td>\n",
              "      <td>The film told chronological format, story told...</td>\n",
              "      <td>knot bows</td>\n",
              "      <td>Told three perspectives, story bunch young Cal...</td>\n",
              "    </tr>\n",
              "  </tbody>\n",
              "</table>\n",
              "<p>573906 rows × 13 columns</p>\n",
              "</div>"
            ],
            "text/plain": [
              "        Unnamed: 0  ...                     plot_summary_without_stopwords\n",
              "0                0  ...  Chronicles experiences formerly successful ban...\n",
              "1                1  ...  Chronicles experiences formerly successful ban...\n",
              "2                2  ...  Chronicles experiences formerly successful ban...\n",
              "3                3  ...  Chronicles experiences formerly successful ban...\n",
              "4                4  ...  Chronicles experiences formerly successful ban...\n",
              "...            ...  ...                                                ...\n",
              "573901      573901  ...  Told three perspectives, story bunch young Cal...\n",
              "573902      573902  ...  Told three perspectives, story bunch young Cal...\n",
              "573903      573903  ...  Told three perspectives, story bunch young Cal...\n",
              "573904      573904  ...  Told three perspectives, story bunch young Cal...\n",
              "573905      573905  ...  Told three perspectives, story bunch young Cal...\n",
              "\n",
              "[573906 rows x 13 columns]"
            ]
          },
          "metadata": {
            "tags": []
          },
          "execution_count": 6
        }
      ]
    },
    {
      "cell_type": "code",
      "metadata": {
        "colab": {
          "base_uri": "https://localhost:8080/",
          "height": 660
        },
        "id": "CAC13z4yEfjq",
        "outputId": "5ec0f1b9-874d-4ee2-aeb6-419fe1727191"
      },
      "source": [
        "df['genre'] =  df['genre'].apply(lambda x: x.replace('[','').replace(']','').replace(\"'\",\"\").replace(\" \",\"\"))\n",
        "df"
      ],
      "execution_count": null,
      "outputs": [
        {
          "output_type": "execute_result",
          "data": {
            "text/html": [
              "<div>\n",
              "<style scoped>\n",
              "    .dataframe tbody tr th:only-of-type {\n",
              "        vertical-align: middle;\n",
              "    }\n",
              "\n",
              "    .dataframe tbody tr th {\n",
              "        vertical-align: top;\n",
              "    }\n",
              "\n",
              "    .dataframe thead th {\n",
              "        text-align: right;\n",
              "    }\n",
              "</style>\n",
              "<table border=\"1\" class=\"dataframe\">\n",
              "  <thead>\n",
              "    <tr style=\"text-align: right;\">\n",
              "      <th></th>\n",
              "      <th>Unnamed: 0</th>\n",
              "      <th>review_date</th>\n",
              "      <th>is_spoiler</th>\n",
              "      <th>rating_x</th>\n",
              "      <th>movie_id_y</th>\n",
              "      <th>duration</th>\n",
              "      <th>genre</th>\n",
              "      <th>rating_y</th>\n",
              "      <th>release_date</th>\n",
              "      <th>review_without_stopwords</th>\n",
              "      <th>description_without_stopwords</th>\n",
              "      <th>review_summary_without_stopwords</th>\n",
              "      <th>plot_summary_without_stopwords</th>\n",
              "    </tr>\n",
              "  </thead>\n",
              "  <tbody>\n",
              "    <tr>\n",
              "      <th>0</th>\n",
              "      <td>0</td>\n",
              "      <td>10 February 2006</td>\n",
              "      <td>True</td>\n",
              "      <td>10</td>\n",
              "      <td>tt0111161</td>\n",
              "      <td>2h 22min</td>\n",
              "      <td>Crime,Drama</td>\n",
              "      <td>9.3</td>\n",
              "      <td>1994-10-14</td>\n",
              "      <td>In Oscar year, Shawshank Redemption (written d...</td>\n",
              "      <td>In 1947, Andy Dufresne (Tim Robbins), banker M...</td>\n",
              "      <td>A classic piece unforgettable film-making.</td>\n",
              "      <td>Chronicles experiences formerly successful ban...</td>\n",
              "    </tr>\n",
              "    <tr>\n",
              "      <th>1</th>\n",
              "      <td>1</td>\n",
              "      <td>6 September 2000</td>\n",
              "      <td>True</td>\n",
              "      <td>10</td>\n",
              "      <td>tt0111161</td>\n",
              "      <td>2h 22min</td>\n",
              "      <td>Crime,Drama</td>\n",
              "      <td>9.3</td>\n",
              "      <td>1994-10-14</td>\n",
              "      <td>The Shawshank Redemption without doubt one bri...</td>\n",
              "      <td>In 1947, Andy Dufresne (Tim Robbins), banker M...</td>\n",
              "      <td>Simply amazing. The best film 90's.</td>\n",
              "      <td>Chronicles experiences formerly successful ban...</td>\n",
              "    </tr>\n",
              "    <tr>\n",
              "      <th>2</th>\n",
              "      <td>2</td>\n",
              "      <td>3 August 2001</td>\n",
              "      <td>True</td>\n",
              "      <td>8</td>\n",
              "      <td>tt0111161</td>\n",
              "      <td>2h 22min</td>\n",
              "      <td>Crime,Drama</td>\n",
              "      <td>9.3</td>\n",
              "      <td>1994-10-14</td>\n",
              "      <td>I believe film best story ever told film, I'm ...</td>\n",
              "      <td>In 1947, Andy Dufresne (Tim Robbins), banker M...</td>\n",
              "      <td>The best story ever told film</td>\n",
              "      <td>Chronicles experiences formerly successful ban...</td>\n",
              "    </tr>\n",
              "    <tr>\n",
              "      <th>3</th>\n",
              "      <td>3</td>\n",
              "      <td>1 September 2002</td>\n",
              "      <td>True</td>\n",
              "      <td>10</td>\n",
              "      <td>tt0111161</td>\n",
              "      <td>2h 22min</td>\n",
              "      <td>Crime,Drama</td>\n",
              "      <td>9.3</td>\n",
              "      <td>1994-10-14</td>\n",
              "      <td>**Yes, SPOILERS here**This film emotional impa...</td>\n",
              "      <td>In 1947, Andy Dufresne (Tim Robbins), banker M...</td>\n",
              "      <td>Busy dying busy living?</td>\n",
              "      <td>Chronicles experiences formerly successful ban...</td>\n",
              "    </tr>\n",
              "    <tr>\n",
              "      <th>4</th>\n",
              "      <td>4</td>\n",
              "      <td>20 May 2004</td>\n",
              "      <td>True</td>\n",
              "      <td>8</td>\n",
              "      <td>tt0111161</td>\n",
              "      <td>2h 22min</td>\n",
              "      <td>Crime,Drama</td>\n",
              "      <td>9.3</td>\n",
              "      <td>1994-10-14</td>\n",
              "      <td>At heart extraordinary movie brilliant indelib...</td>\n",
              "      <td>In 1947, Andy Dufresne (Tim Robbins), banker M...</td>\n",
              "      <td>Great story, wondrously told acted</td>\n",
              "      <td>Chronicles experiences formerly successful ban...</td>\n",
              "    </tr>\n",
              "    <tr>\n",
              "      <th>...</th>\n",
              "      <td>...</td>\n",
              "      <td>...</td>\n",
              "      <td>...</td>\n",
              "      <td>...</td>\n",
              "      <td>...</td>\n",
              "      <td>...</td>\n",
              "      <td>...</td>\n",
              "      <td>...</td>\n",
              "      <td>...</td>\n",
              "      <td>...</td>\n",
              "      <td>...</td>\n",
              "      <td>...</td>\n",
              "      <td>...</td>\n",
              "    </tr>\n",
              "    <tr>\n",
              "      <th>573901</th>\n",
              "      <td>573901</td>\n",
              "      <td>11 September 1999</td>\n",
              "      <td>False</td>\n",
              "      <td>10</td>\n",
              "      <td>tt0139239</td>\n",
              "      <td>1h 42min</td>\n",
              "      <td>Comedy,Crime</td>\n",
              "      <td>7.3</td>\n",
              "      <td>1999-04-09</td>\n",
              "      <td>It's time acknowledge Pulp Fiction pioneer fil...</td>\n",
              "      <td>The film told chronological format, story told...</td>\n",
              "      <td>Go gave I wanted 103 minutes action, lots supe...</td>\n",
              "      <td>Told three perspectives, story bunch young Cal...</td>\n",
              "    </tr>\n",
              "    <tr>\n",
              "      <th>573902</th>\n",
              "      <td>573902</td>\n",
              "      <td>4 September 1999</td>\n",
              "      <td>False</td>\n",
              "      <td>9</td>\n",
              "      <td>tt0139239</td>\n",
              "      <td>1h 42min</td>\n",
              "      <td>Comedy,Crime</td>\n",
              "      <td>7.3</td>\n",
              "      <td>1999-04-09</td>\n",
              "      <td>I went movies last night, option watching Go W...</td>\n",
              "      <td>The film told chronological format, story told...</td>\n",
              "      <td>Right money</td>\n",
              "      <td>Told three perspectives, story bunch young Cal...</td>\n",
              "    </tr>\n",
              "    <tr>\n",
              "      <th>573903</th>\n",
              "      <td>573903</td>\n",
              "      <td>22 August 1999</td>\n",
              "      <td>False</td>\n",
              "      <td>9</td>\n",
              "      <td>tt0139239</td>\n",
              "      <td>1h 42min</td>\n",
              "      <td>Comedy,Crime</td>\n",
              "      <td>7.3</td>\n",
              "      <td>1999-04-09</td>\n",
              "      <td>Not bad, bad all. I sucker film plays havoc 'p...</td>\n",
              "      <td>The film told chronological format, story told...</td>\n",
              "      <td>Did somebody say 'Quentin Tarantino'?</td>\n",
              "      <td>Told three perspectives, story bunch young Cal...</td>\n",
              "    </tr>\n",
              "    <tr>\n",
              "      <th>573904</th>\n",
              "      <td>573904</td>\n",
              "      <td>18 August 1999</td>\n",
              "      <td>False</td>\n",
              "      <td>10</td>\n",
              "      <td>tt0139239</td>\n",
              "      <td>1h 42min</td>\n",
              "      <td>Comedy,Crime</td>\n",
              "      <td>7.3</td>\n",
              "      <td>1999-04-09</td>\n",
              "      <td>I think movie under-appreciated American audie...</td>\n",
              "      <td>The film told chronological format, story told...</td>\n",
              "      <td>innovative rockin'...I love Go!</td>\n",
              "      <td>Told three perspectives, story bunch young Cal...</td>\n",
              "    </tr>\n",
              "    <tr>\n",
              "      <th>573905</th>\n",
              "      <td>573905</td>\n",
              "      <td>29 August 1999</td>\n",
              "      <td>False</td>\n",
              "      <td>8</td>\n",
              "      <td>tt0139239</td>\n",
              "      <td>1h 42min</td>\n",
              "      <td>Comedy,Crime</td>\n",
              "      <td>7.3</td>\n",
              "      <td>1999-04-09</td>\n",
              "      <td>I saw Go! knot bows - interesting look teenage...</td>\n",
              "      <td>The film told chronological format, story told...</td>\n",
              "      <td>knot bows</td>\n",
              "      <td>Told three perspectives, story bunch young Cal...</td>\n",
              "    </tr>\n",
              "  </tbody>\n",
              "</table>\n",
              "<p>573906 rows × 13 columns</p>\n",
              "</div>"
            ],
            "text/plain": [
              "        Unnamed: 0  ...                     plot_summary_without_stopwords\n",
              "0                0  ...  Chronicles experiences formerly successful ban...\n",
              "1                1  ...  Chronicles experiences formerly successful ban...\n",
              "2                2  ...  Chronicles experiences formerly successful ban...\n",
              "3                3  ...  Chronicles experiences formerly successful ban...\n",
              "4                4  ...  Chronicles experiences formerly successful ban...\n",
              "...            ...  ...                                                ...\n",
              "573901      573901  ...  Told three perspectives, story bunch young Cal...\n",
              "573902      573902  ...  Told three perspectives, story bunch young Cal...\n",
              "573903      573903  ...  Told three perspectives, story bunch young Cal...\n",
              "573904      573904  ...  Told three perspectives, story bunch young Cal...\n",
              "573905      573905  ...  Told three perspectives, story bunch young Cal...\n",
              "\n",
              "[573906 rows x 13 columns]"
            ]
          },
          "metadata": {
            "tags": []
          },
          "execution_count": 17
        }
      ]
    },
    {
      "cell_type": "code",
      "metadata": {
        "colab": {
          "base_uri": "https://localhost:8080/",
          "height": 561
        },
        "id": "rCK01oelDkq6",
        "outputId": "7e455a56-1edc-4c63-f413-ba4844c80f46"
      },
      "source": [
        "cleaned = df.set_index('Unnamed: 0')['genres'].str.split(',', expand=True).stack()\n",
        "df_dummies = pd.get_dummies(df, columns=['genre'])\n",
        "df_dummies"
      ],
      "execution_count": null,
      "outputs": [
        {
          "output_type": "error",
          "ename": "KeyError",
          "evalue": "ignored",
          "traceback": [
            "\u001b[0;31m---------------------------------------------------------------------------\u001b[0m",
            "\u001b[0;31mKeyError\u001b[0m                                  Traceback (most recent call last)",
            "\u001b[0;32m/usr/local/lib/python3.7/dist-packages/pandas/core/indexes/base.py\u001b[0m in \u001b[0;36mget_loc\u001b[0;34m(self, key, method, tolerance)\u001b[0m\n\u001b[1;32m   2897\u001b[0m             \u001b[0;32mtry\u001b[0m\u001b[0;34m:\u001b[0m\u001b[0;34m\u001b[0m\u001b[0;34m\u001b[0m\u001b[0m\n\u001b[0;32m-> 2898\u001b[0;31m                 \u001b[0;32mreturn\u001b[0m \u001b[0mself\u001b[0m\u001b[0;34m.\u001b[0m\u001b[0m_engine\u001b[0m\u001b[0;34m.\u001b[0m\u001b[0mget_loc\u001b[0m\u001b[0;34m(\u001b[0m\u001b[0mcasted_key\u001b[0m\u001b[0;34m)\u001b[0m\u001b[0;34m\u001b[0m\u001b[0;34m\u001b[0m\u001b[0m\n\u001b[0m\u001b[1;32m   2899\u001b[0m             \u001b[0;32mexcept\u001b[0m \u001b[0mKeyError\u001b[0m \u001b[0;32mas\u001b[0m \u001b[0merr\u001b[0m\u001b[0;34m:\u001b[0m\u001b[0;34m\u001b[0m\u001b[0;34m\u001b[0m\u001b[0m\n",
            "\u001b[0;32mpandas/_libs/index.pyx\u001b[0m in \u001b[0;36mpandas._libs.index.IndexEngine.get_loc\u001b[0;34m()\u001b[0m\n",
            "\u001b[0;32mpandas/_libs/index.pyx\u001b[0m in \u001b[0;36mpandas._libs.index.IndexEngine.get_loc\u001b[0;34m()\u001b[0m\n",
            "\u001b[0;32mpandas/_libs/hashtable_class_helper.pxi\u001b[0m in \u001b[0;36mpandas._libs.hashtable.PyObjectHashTable.get_item\u001b[0;34m()\u001b[0m\n",
            "\u001b[0;32mpandas/_libs/hashtable_class_helper.pxi\u001b[0m in \u001b[0;36mpandas._libs.hashtable.PyObjectHashTable.get_item\u001b[0;34m()\u001b[0m\n",
            "\u001b[0;31mKeyError\u001b[0m: 'genres'",
            "\nThe above exception was the direct cause of the following exception:\n",
            "\u001b[0;31mKeyError\u001b[0m                                  Traceback (most recent call last)",
            "\u001b[0;32m<ipython-input-14-bfdd503f7dba>\u001b[0m in \u001b[0;36m<module>\u001b[0;34m()\u001b[0m\n\u001b[0;32m----> 1\u001b[0;31m \u001b[0mcleaned\u001b[0m \u001b[0;34m=\u001b[0m \u001b[0mdf\u001b[0m\u001b[0;34m.\u001b[0m\u001b[0mset_index\u001b[0m\u001b[0;34m(\u001b[0m\u001b[0;34m'Unnamed: 0'\u001b[0m\u001b[0;34m)\u001b[0m\u001b[0;34m[\u001b[0m\u001b[0;34m'genres'\u001b[0m\u001b[0;34m]\u001b[0m\u001b[0;34m.\u001b[0m\u001b[0mstr\u001b[0m\u001b[0;34m.\u001b[0m\u001b[0msplit\u001b[0m\u001b[0;34m(\u001b[0m\u001b[0;34m','\u001b[0m\u001b[0;34m,\u001b[0m \u001b[0mexpand\u001b[0m\u001b[0;34m=\u001b[0m\u001b[0;32mTrue\u001b[0m\u001b[0;34m)\u001b[0m\u001b[0;34m.\u001b[0m\u001b[0mstack\u001b[0m\u001b[0;34m(\u001b[0m\u001b[0;34m)\u001b[0m\u001b[0;34m\u001b[0m\u001b[0;34m\u001b[0m\u001b[0m\n\u001b[0m\u001b[1;32m      2\u001b[0m \u001b[0mdf_dummies\u001b[0m \u001b[0;34m=\u001b[0m \u001b[0mpd\u001b[0m\u001b[0;34m.\u001b[0m\u001b[0mget_dummies\u001b[0m\u001b[0;34m(\u001b[0m\u001b[0mdf\u001b[0m\u001b[0;34m,\u001b[0m \u001b[0mcolumns\u001b[0m\u001b[0;34m=\u001b[0m\u001b[0;34m[\u001b[0m\u001b[0;34m'genre'\u001b[0m\u001b[0;34m]\u001b[0m\u001b[0;34m)\u001b[0m\u001b[0;34m\u001b[0m\u001b[0;34m\u001b[0m\u001b[0m\n\u001b[1;32m      3\u001b[0m \u001b[0mdf_dummies\u001b[0m\u001b[0;34m\u001b[0m\u001b[0;34m\u001b[0m\u001b[0m\n",
            "\u001b[0;32m/usr/local/lib/python3.7/dist-packages/pandas/core/frame.py\u001b[0m in \u001b[0;36m__getitem__\u001b[0;34m(self, key)\u001b[0m\n\u001b[1;32m   2904\u001b[0m             \u001b[0;32mif\u001b[0m \u001b[0mself\u001b[0m\u001b[0;34m.\u001b[0m\u001b[0mcolumns\u001b[0m\u001b[0;34m.\u001b[0m\u001b[0mnlevels\u001b[0m \u001b[0;34m>\u001b[0m \u001b[0;36m1\u001b[0m\u001b[0;34m:\u001b[0m\u001b[0;34m\u001b[0m\u001b[0;34m\u001b[0m\u001b[0m\n\u001b[1;32m   2905\u001b[0m                 \u001b[0;32mreturn\u001b[0m \u001b[0mself\u001b[0m\u001b[0;34m.\u001b[0m\u001b[0m_getitem_multilevel\u001b[0m\u001b[0;34m(\u001b[0m\u001b[0mkey\u001b[0m\u001b[0;34m)\u001b[0m\u001b[0;34m\u001b[0m\u001b[0;34m\u001b[0m\u001b[0m\n\u001b[0;32m-> 2906\u001b[0;31m             \u001b[0mindexer\u001b[0m \u001b[0;34m=\u001b[0m \u001b[0mself\u001b[0m\u001b[0;34m.\u001b[0m\u001b[0mcolumns\u001b[0m\u001b[0;34m.\u001b[0m\u001b[0mget_loc\u001b[0m\u001b[0;34m(\u001b[0m\u001b[0mkey\u001b[0m\u001b[0;34m)\u001b[0m\u001b[0;34m\u001b[0m\u001b[0;34m\u001b[0m\u001b[0m\n\u001b[0m\u001b[1;32m   2907\u001b[0m             \u001b[0;32mif\u001b[0m \u001b[0mis_integer\u001b[0m\u001b[0;34m(\u001b[0m\u001b[0mindexer\u001b[0m\u001b[0;34m)\u001b[0m\u001b[0;34m:\u001b[0m\u001b[0;34m\u001b[0m\u001b[0;34m\u001b[0m\u001b[0m\n\u001b[1;32m   2908\u001b[0m                 \u001b[0mindexer\u001b[0m \u001b[0;34m=\u001b[0m \u001b[0;34m[\u001b[0m\u001b[0mindexer\u001b[0m\u001b[0;34m]\u001b[0m\u001b[0;34m\u001b[0m\u001b[0;34m\u001b[0m\u001b[0m\n",
            "\u001b[0;32m/usr/local/lib/python3.7/dist-packages/pandas/core/indexes/base.py\u001b[0m in \u001b[0;36mget_loc\u001b[0;34m(self, key, method, tolerance)\u001b[0m\n\u001b[1;32m   2898\u001b[0m                 \u001b[0;32mreturn\u001b[0m \u001b[0mself\u001b[0m\u001b[0;34m.\u001b[0m\u001b[0m_engine\u001b[0m\u001b[0;34m.\u001b[0m\u001b[0mget_loc\u001b[0m\u001b[0;34m(\u001b[0m\u001b[0mcasted_key\u001b[0m\u001b[0;34m)\u001b[0m\u001b[0;34m\u001b[0m\u001b[0;34m\u001b[0m\u001b[0m\n\u001b[1;32m   2899\u001b[0m             \u001b[0;32mexcept\u001b[0m \u001b[0mKeyError\u001b[0m \u001b[0;32mas\u001b[0m \u001b[0merr\u001b[0m\u001b[0;34m:\u001b[0m\u001b[0;34m\u001b[0m\u001b[0;34m\u001b[0m\u001b[0m\n\u001b[0;32m-> 2900\u001b[0;31m                 \u001b[0;32mraise\u001b[0m \u001b[0mKeyError\u001b[0m\u001b[0;34m(\u001b[0m\u001b[0mkey\u001b[0m\u001b[0;34m)\u001b[0m \u001b[0;32mfrom\u001b[0m \u001b[0merr\u001b[0m\u001b[0;34m\u001b[0m\u001b[0;34m\u001b[0m\u001b[0m\n\u001b[0m\u001b[1;32m   2901\u001b[0m \u001b[0;34m\u001b[0m\u001b[0m\n\u001b[1;32m   2902\u001b[0m         \u001b[0;32mif\u001b[0m \u001b[0mtolerance\u001b[0m \u001b[0;32mis\u001b[0m \u001b[0;32mnot\u001b[0m \u001b[0;32mNone\u001b[0m\u001b[0;34m:\u001b[0m\u001b[0;34m\u001b[0m\u001b[0;34m\u001b[0m\u001b[0m\n",
            "\u001b[0;31mKeyError\u001b[0m: 'genres'"
          ]
        }
      ]
    },
    {
      "cell_type": "code",
      "metadata": {
        "colab": {
          "base_uri": "https://localhost:8080/",
          "height": 419
        },
        "id": "L6VpYoS7GPNi",
        "outputId": "e979a8c8-94fb-4573-fef5-79a38281e32d"
      },
      "source": [
        "dummies = df['genre'].str.get_dummies(sep=',')\n",
        "dummies"
      ],
      "execution_count": null,
      "outputs": [
        {
          "output_type": "execute_result",
          "data": {
            "text/html": [
              "<div>\n",
              "<style scoped>\n",
              "    .dataframe tbody tr th:only-of-type {\n",
              "        vertical-align: middle;\n",
              "    }\n",
              "\n",
              "    .dataframe tbody tr th {\n",
              "        vertical-align: top;\n",
              "    }\n",
              "\n",
              "    .dataframe thead th {\n",
              "        text-align: right;\n",
              "    }\n",
              "</style>\n",
              "<table border=\"1\" class=\"dataframe\">\n",
              "  <thead>\n",
              "    <tr style=\"text-align: right;\">\n",
              "      <th></th>\n",
              "      <th>Action</th>\n",
              "      <th>Adventure</th>\n",
              "      <th>Animation</th>\n",
              "      <th>Biography</th>\n",
              "      <th>Comedy</th>\n",
              "      <th>Crime</th>\n",
              "      <th>Drama</th>\n",
              "      <th>Family</th>\n",
              "      <th>Fantasy</th>\n",
              "      <th>Film-Noir</th>\n",
              "      <th>History</th>\n",
              "      <th>Horror</th>\n",
              "      <th>Music</th>\n",
              "      <th>Musical</th>\n",
              "      <th>Mystery</th>\n",
              "      <th>Romance</th>\n",
              "      <th>Sci-Fi</th>\n",
              "      <th>Sport</th>\n",
              "      <th>Thriller</th>\n",
              "      <th>War</th>\n",
              "      <th>Western</th>\n",
              "    </tr>\n",
              "  </thead>\n",
              "  <tbody>\n",
              "    <tr>\n",
              "      <th>0</th>\n",
              "      <td>0</td>\n",
              "      <td>0</td>\n",
              "      <td>0</td>\n",
              "      <td>0</td>\n",
              "      <td>0</td>\n",
              "      <td>1</td>\n",
              "      <td>1</td>\n",
              "      <td>0</td>\n",
              "      <td>0</td>\n",
              "      <td>0</td>\n",
              "      <td>0</td>\n",
              "      <td>0</td>\n",
              "      <td>0</td>\n",
              "      <td>0</td>\n",
              "      <td>0</td>\n",
              "      <td>0</td>\n",
              "      <td>0</td>\n",
              "      <td>0</td>\n",
              "      <td>0</td>\n",
              "      <td>0</td>\n",
              "      <td>0</td>\n",
              "    </tr>\n",
              "    <tr>\n",
              "      <th>1</th>\n",
              "      <td>0</td>\n",
              "      <td>0</td>\n",
              "      <td>0</td>\n",
              "      <td>0</td>\n",
              "      <td>0</td>\n",
              "      <td>1</td>\n",
              "      <td>1</td>\n",
              "      <td>0</td>\n",
              "      <td>0</td>\n",
              "      <td>0</td>\n",
              "      <td>0</td>\n",
              "      <td>0</td>\n",
              "      <td>0</td>\n",
              "      <td>0</td>\n",
              "      <td>0</td>\n",
              "      <td>0</td>\n",
              "      <td>0</td>\n",
              "      <td>0</td>\n",
              "      <td>0</td>\n",
              "      <td>0</td>\n",
              "      <td>0</td>\n",
              "    </tr>\n",
              "    <tr>\n",
              "      <th>2</th>\n",
              "      <td>0</td>\n",
              "      <td>0</td>\n",
              "      <td>0</td>\n",
              "      <td>0</td>\n",
              "      <td>0</td>\n",
              "      <td>1</td>\n",
              "      <td>1</td>\n",
              "      <td>0</td>\n",
              "      <td>0</td>\n",
              "      <td>0</td>\n",
              "      <td>0</td>\n",
              "      <td>0</td>\n",
              "      <td>0</td>\n",
              "      <td>0</td>\n",
              "      <td>0</td>\n",
              "      <td>0</td>\n",
              "      <td>0</td>\n",
              "      <td>0</td>\n",
              "      <td>0</td>\n",
              "      <td>0</td>\n",
              "      <td>0</td>\n",
              "    </tr>\n",
              "    <tr>\n",
              "      <th>3</th>\n",
              "      <td>0</td>\n",
              "      <td>0</td>\n",
              "      <td>0</td>\n",
              "      <td>0</td>\n",
              "      <td>0</td>\n",
              "      <td>1</td>\n",
              "      <td>1</td>\n",
              "      <td>0</td>\n",
              "      <td>0</td>\n",
              "      <td>0</td>\n",
              "      <td>0</td>\n",
              "      <td>0</td>\n",
              "      <td>0</td>\n",
              "      <td>0</td>\n",
              "      <td>0</td>\n",
              "      <td>0</td>\n",
              "      <td>0</td>\n",
              "      <td>0</td>\n",
              "      <td>0</td>\n",
              "      <td>0</td>\n",
              "      <td>0</td>\n",
              "    </tr>\n",
              "    <tr>\n",
              "      <th>4</th>\n",
              "      <td>0</td>\n",
              "      <td>0</td>\n",
              "      <td>0</td>\n",
              "      <td>0</td>\n",
              "      <td>0</td>\n",
              "      <td>1</td>\n",
              "      <td>1</td>\n",
              "      <td>0</td>\n",
              "      <td>0</td>\n",
              "      <td>0</td>\n",
              "      <td>0</td>\n",
              "      <td>0</td>\n",
              "      <td>0</td>\n",
              "      <td>0</td>\n",
              "      <td>0</td>\n",
              "      <td>0</td>\n",
              "      <td>0</td>\n",
              "      <td>0</td>\n",
              "      <td>0</td>\n",
              "      <td>0</td>\n",
              "      <td>0</td>\n",
              "    </tr>\n",
              "    <tr>\n",
              "      <th>...</th>\n",
              "      <td>...</td>\n",
              "      <td>...</td>\n",
              "      <td>...</td>\n",
              "      <td>...</td>\n",
              "      <td>...</td>\n",
              "      <td>...</td>\n",
              "      <td>...</td>\n",
              "      <td>...</td>\n",
              "      <td>...</td>\n",
              "      <td>...</td>\n",
              "      <td>...</td>\n",
              "      <td>...</td>\n",
              "      <td>...</td>\n",
              "      <td>...</td>\n",
              "      <td>...</td>\n",
              "      <td>...</td>\n",
              "      <td>...</td>\n",
              "      <td>...</td>\n",
              "      <td>...</td>\n",
              "      <td>...</td>\n",
              "      <td>...</td>\n",
              "    </tr>\n",
              "    <tr>\n",
              "      <th>573901</th>\n",
              "      <td>0</td>\n",
              "      <td>0</td>\n",
              "      <td>0</td>\n",
              "      <td>0</td>\n",
              "      <td>1</td>\n",
              "      <td>1</td>\n",
              "      <td>0</td>\n",
              "      <td>0</td>\n",
              "      <td>0</td>\n",
              "      <td>0</td>\n",
              "      <td>0</td>\n",
              "      <td>0</td>\n",
              "      <td>0</td>\n",
              "      <td>0</td>\n",
              "      <td>0</td>\n",
              "      <td>0</td>\n",
              "      <td>0</td>\n",
              "      <td>0</td>\n",
              "      <td>0</td>\n",
              "      <td>0</td>\n",
              "      <td>0</td>\n",
              "    </tr>\n",
              "    <tr>\n",
              "      <th>573902</th>\n",
              "      <td>0</td>\n",
              "      <td>0</td>\n",
              "      <td>0</td>\n",
              "      <td>0</td>\n",
              "      <td>1</td>\n",
              "      <td>1</td>\n",
              "      <td>0</td>\n",
              "      <td>0</td>\n",
              "      <td>0</td>\n",
              "      <td>0</td>\n",
              "      <td>0</td>\n",
              "      <td>0</td>\n",
              "      <td>0</td>\n",
              "      <td>0</td>\n",
              "      <td>0</td>\n",
              "      <td>0</td>\n",
              "      <td>0</td>\n",
              "      <td>0</td>\n",
              "      <td>0</td>\n",
              "      <td>0</td>\n",
              "      <td>0</td>\n",
              "    </tr>\n",
              "    <tr>\n",
              "      <th>573903</th>\n",
              "      <td>0</td>\n",
              "      <td>0</td>\n",
              "      <td>0</td>\n",
              "      <td>0</td>\n",
              "      <td>1</td>\n",
              "      <td>1</td>\n",
              "      <td>0</td>\n",
              "      <td>0</td>\n",
              "      <td>0</td>\n",
              "      <td>0</td>\n",
              "      <td>0</td>\n",
              "      <td>0</td>\n",
              "      <td>0</td>\n",
              "      <td>0</td>\n",
              "      <td>0</td>\n",
              "      <td>0</td>\n",
              "      <td>0</td>\n",
              "      <td>0</td>\n",
              "      <td>0</td>\n",
              "      <td>0</td>\n",
              "      <td>0</td>\n",
              "    </tr>\n",
              "    <tr>\n",
              "      <th>573904</th>\n",
              "      <td>0</td>\n",
              "      <td>0</td>\n",
              "      <td>0</td>\n",
              "      <td>0</td>\n",
              "      <td>1</td>\n",
              "      <td>1</td>\n",
              "      <td>0</td>\n",
              "      <td>0</td>\n",
              "      <td>0</td>\n",
              "      <td>0</td>\n",
              "      <td>0</td>\n",
              "      <td>0</td>\n",
              "      <td>0</td>\n",
              "      <td>0</td>\n",
              "      <td>0</td>\n",
              "      <td>0</td>\n",
              "      <td>0</td>\n",
              "      <td>0</td>\n",
              "      <td>0</td>\n",
              "      <td>0</td>\n",
              "      <td>0</td>\n",
              "    </tr>\n",
              "    <tr>\n",
              "      <th>573905</th>\n",
              "      <td>0</td>\n",
              "      <td>0</td>\n",
              "      <td>0</td>\n",
              "      <td>0</td>\n",
              "      <td>1</td>\n",
              "      <td>1</td>\n",
              "      <td>0</td>\n",
              "      <td>0</td>\n",
              "      <td>0</td>\n",
              "      <td>0</td>\n",
              "      <td>0</td>\n",
              "      <td>0</td>\n",
              "      <td>0</td>\n",
              "      <td>0</td>\n",
              "      <td>0</td>\n",
              "      <td>0</td>\n",
              "      <td>0</td>\n",
              "      <td>0</td>\n",
              "      <td>0</td>\n",
              "      <td>0</td>\n",
              "      <td>0</td>\n",
              "    </tr>\n",
              "  </tbody>\n",
              "</table>\n",
              "<p>573906 rows × 21 columns</p>\n",
              "</div>"
            ],
            "text/plain": [
              "        Action  Adventure  Animation  Biography  ...  Sport  Thriller  War  Western\n",
              "0            0          0          0          0  ...      0         0    0        0\n",
              "1            0          0          0          0  ...      0         0    0        0\n",
              "2            0          0          0          0  ...      0         0    0        0\n",
              "3            0          0          0          0  ...      0         0    0        0\n",
              "4            0          0          0          0  ...      0         0    0        0\n",
              "...        ...        ...        ...        ...  ...    ...       ...  ...      ...\n",
              "573901       0          0          0          0  ...      0         0    0        0\n",
              "573902       0          0          0          0  ...      0         0    0        0\n",
              "573903       0          0          0          0  ...      0         0    0        0\n",
              "573904       0          0          0          0  ...      0         0    0        0\n",
              "573905       0          0          0          0  ...      0         0    0        0\n",
              "\n",
              "[573906 rows x 21 columns]"
            ]
          },
          "metadata": {
            "tags": []
          },
          "execution_count": 18
        }
      ]
    },
    {
      "cell_type": "code",
      "metadata": {
        "colab": {
          "base_uri": "https://localhost:8080/",
          "height": 660
        },
        "id": "XHgHjUPMGxJv",
        "outputId": "625230ed-c71a-4258-d82e-70e1eef8e4a8"
      },
      "source": [
        "final = pd.concat([df,dummies],axis=1)\n",
        "final"
      ],
      "execution_count": null,
      "outputs": [
        {
          "output_type": "execute_result",
          "data": {
            "text/html": [
              "<div>\n",
              "<style scoped>\n",
              "    .dataframe tbody tr th:only-of-type {\n",
              "        vertical-align: middle;\n",
              "    }\n",
              "\n",
              "    .dataframe tbody tr th {\n",
              "        vertical-align: top;\n",
              "    }\n",
              "\n",
              "    .dataframe thead th {\n",
              "        text-align: right;\n",
              "    }\n",
              "</style>\n",
              "<table border=\"1\" class=\"dataframe\">\n",
              "  <thead>\n",
              "    <tr style=\"text-align: right;\">\n",
              "      <th></th>\n",
              "      <th>Unnamed: 0</th>\n",
              "      <th>review_date</th>\n",
              "      <th>is_spoiler</th>\n",
              "      <th>rating_x</th>\n",
              "      <th>movie_id_y</th>\n",
              "      <th>duration</th>\n",
              "      <th>genre</th>\n",
              "      <th>rating_y</th>\n",
              "      <th>release_date</th>\n",
              "      <th>review_without_stopwords</th>\n",
              "      <th>description_without_stopwords</th>\n",
              "      <th>review_summary_without_stopwords</th>\n",
              "      <th>plot_summary_without_stopwords</th>\n",
              "      <th>Action</th>\n",
              "      <th>Adventure</th>\n",
              "      <th>Animation</th>\n",
              "      <th>Biography</th>\n",
              "      <th>Comedy</th>\n",
              "      <th>Crime</th>\n",
              "      <th>Drama</th>\n",
              "      <th>Family</th>\n",
              "      <th>Fantasy</th>\n",
              "      <th>Film-Noir</th>\n",
              "      <th>History</th>\n",
              "      <th>Horror</th>\n",
              "      <th>Music</th>\n",
              "      <th>Musical</th>\n",
              "      <th>Mystery</th>\n",
              "      <th>Romance</th>\n",
              "      <th>Sci-Fi</th>\n",
              "      <th>Sport</th>\n",
              "      <th>Thriller</th>\n",
              "      <th>War</th>\n",
              "      <th>Western</th>\n",
              "    </tr>\n",
              "  </thead>\n",
              "  <tbody>\n",
              "    <tr>\n",
              "      <th>0</th>\n",
              "      <td>0</td>\n",
              "      <td>10 February 2006</td>\n",
              "      <td>True</td>\n",
              "      <td>10</td>\n",
              "      <td>tt0111161</td>\n",
              "      <td>2h 22min</td>\n",
              "      <td>Crime,Drama</td>\n",
              "      <td>9.3</td>\n",
              "      <td>1994-10-14</td>\n",
              "      <td>In Oscar year, Shawshank Redemption (written d...</td>\n",
              "      <td>In 1947, Andy Dufresne (Tim Robbins), banker M...</td>\n",
              "      <td>A classic piece unforgettable film-making.</td>\n",
              "      <td>Chronicles experiences formerly successful ban...</td>\n",
              "      <td>0</td>\n",
              "      <td>0</td>\n",
              "      <td>0</td>\n",
              "      <td>0</td>\n",
              "      <td>0</td>\n",
              "      <td>1</td>\n",
              "      <td>1</td>\n",
              "      <td>0</td>\n",
              "      <td>0</td>\n",
              "      <td>0</td>\n",
              "      <td>0</td>\n",
              "      <td>0</td>\n",
              "      <td>0</td>\n",
              "      <td>0</td>\n",
              "      <td>0</td>\n",
              "      <td>0</td>\n",
              "      <td>0</td>\n",
              "      <td>0</td>\n",
              "      <td>0</td>\n",
              "      <td>0</td>\n",
              "      <td>0</td>\n",
              "    </tr>\n",
              "    <tr>\n",
              "      <th>1</th>\n",
              "      <td>1</td>\n",
              "      <td>6 September 2000</td>\n",
              "      <td>True</td>\n",
              "      <td>10</td>\n",
              "      <td>tt0111161</td>\n",
              "      <td>2h 22min</td>\n",
              "      <td>Crime,Drama</td>\n",
              "      <td>9.3</td>\n",
              "      <td>1994-10-14</td>\n",
              "      <td>The Shawshank Redemption without doubt one bri...</td>\n",
              "      <td>In 1947, Andy Dufresne (Tim Robbins), banker M...</td>\n",
              "      <td>Simply amazing. The best film 90's.</td>\n",
              "      <td>Chronicles experiences formerly successful ban...</td>\n",
              "      <td>0</td>\n",
              "      <td>0</td>\n",
              "      <td>0</td>\n",
              "      <td>0</td>\n",
              "      <td>0</td>\n",
              "      <td>1</td>\n",
              "      <td>1</td>\n",
              "      <td>0</td>\n",
              "      <td>0</td>\n",
              "      <td>0</td>\n",
              "      <td>0</td>\n",
              "      <td>0</td>\n",
              "      <td>0</td>\n",
              "      <td>0</td>\n",
              "      <td>0</td>\n",
              "      <td>0</td>\n",
              "      <td>0</td>\n",
              "      <td>0</td>\n",
              "      <td>0</td>\n",
              "      <td>0</td>\n",
              "      <td>0</td>\n",
              "    </tr>\n",
              "    <tr>\n",
              "      <th>2</th>\n",
              "      <td>2</td>\n",
              "      <td>3 August 2001</td>\n",
              "      <td>True</td>\n",
              "      <td>8</td>\n",
              "      <td>tt0111161</td>\n",
              "      <td>2h 22min</td>\n",
              "      <td>Crime,Drama</td>\n",
              "      <td>9.3</td>\n",
              "      <td>1994-10-14</td>\n",
              "      <td>I believe film best story ever told film, I'm ...</td>\n",
              "      <td>In 1947, Andy Dufresne (Tim Robbins), banker M...</td>\n",
              "      <td>The best story ever told film</td>\n",
              "      <td>Chronicles experiences formerly successful ban...</td>\n",
              "      <td>0</td>\n",
              "      <td>0</td>\n",
              "      <td>0</td>\n",
              "      <td>0</td>\n",
              "      <td>0</td>\n",
              "      <td>1</td>\n",
              "      <td>1</td>\n",
              "      <td>0</td>\n",
              "      <td>0</td>\n",
              "      <td>0</td>\n",
              "      <td>0</td>\n",
              "      <td>0</td>\n",
              "      <td>0</td>\n",
              "      <td>0</td>\n",
              "      <td>0</td>\n",
              "      <td>0</td>\n",
              "      <td>0</td>\n",
              "      <td>0</td>\n",
              "      <td>0</td>\n",
              "      <td>0</td>\n",
              "      <td>0</td>\n",
              "    </tr>\n",
              "    <tr>\n",
              "      <th>3</th>\n",
              "      <td>3</td>\n",
              "      <td>1 September 2002</td>\n",
              "      <td>True</td>\n",
              "      <td>10</td>\n",
              "      <td>tt0111161</td>\n",
              "      <td>2h 22min</td>\n",
              "      <td>Crime,Drama</td>\n",
              "      <td>9.3</td>\n",
              "      <td>1994-10-14</td>\n",
              "      <td>**Yes, SPOILERS here**This film emotional impa...</td>\n",
              "      <td>In 1947, Andy Dufresne (Tim Robbins), banker M...</td>\n",
              "      <td>Busy dying busy living?</td>\n",
              "      <td>Chronicles experiences formerly successful ban...</td>\n",
              "      <td>0</td>\n",
              "      <td>0</td>\n",
              "      <td>0</td>\n",
              "      <td>0</td>\n",
              "      <td>0</td>\n",
              "      <td>1</td>\n",
              "      <td>1</td>\n",
              "      <td>0</td>\n",
              "      <td>0</td>\n",
              "      <td>0</td>\n",
              "      <td>0</td>\n",
              "      <td>0</td>\n",
              "      <td>0</td>\n",
              "      <td>0</td>\n",
              "      <td>0</td>\n",
              "      <td>0</td>\n",
              "      <td>0</td>\n",
              "      <td>0</td>\n",
              "      <td>0</td>\n",
              "      <td>0</td>\n",
              "      <td>0</td>\n",
              "    </tr>\n",
              "    <tr>\n",
              "      <th>4</th>\n",
              "      <td>4</td>\n",
              "      <td>20 May 2004</td>\n",
              "      <td>True</td>\n",
              "      <td>8</td>\n",
              "      <td>tt0111161</td>\n",
              "      <td>2h 22min</td>\n",
              "      <td>Crime,Drama</td>\n",
              "      <td>9.3</td>\n",
              "      <td>1994-10-14</td>\n",
              "      <td>At heart extraordinary movie brilliant indelib...</td>\n",
              "      <td>In 1947, Andy Dufresne (Tim Robbins), banker M...</td>\n",
              "      <td>Great story, wondrously told acted</td>\n",
              "      <td>Chronicles experiences formerly successful ban...</td>\n",
              "      <td>0</td>\n",
              "      <td>0</td>\n",
              "      <td>0</td>\n",
              "      <td>0</td>\n",
              "      <td>0</td>\n",
              "      <td>1</td>\n",
              "      <td>1</td>\n",
              "      <td>0</td>\n",
              "      <td>0</td>\n",
              "      <td>0</td>\n",
              "      <td>0</td>\n",
              "      <td>0</td>\n",
              "      <td>0</td>\n",
              "      <td>0</td>\n",
              "      <td>0</td>\n",
              "      <td>0</td>\n",
              "      <td>0</td>\n",
              "      <td>0</td>\n",
              "      <td>0</td>\n",
              "      <td>0</td>\n",
              "      <td>0</td>\n",
              "    </tr>\n",
              "    <tr>\n",
              "      <th>...</th>\n",
              "      <td>...</td>\n",
              "      <td>...</td>\n",
              "      <td>...</td>\n",
              "      <td>...</td>\n",
              "      <td>...</td>\n",
              "      <td>...</td>\n",
              "      <td>...</td>\n",
              "      <td>...</td>\n",
              "      <td>...</td>\n",
              "      <td>...</td>\n",
              "      <td>...</td>\n",
              "      <td>...</td>\n",
              "      <td>...</td>\n",
              "      <td>...</td>\n",
              "      <td>...</td>\n",
              "      <td>...</td>\n",
              "      <td>...</td>\n",
              "      <td>...</td>\n",
              "      <td>...</td>\n",
              "      <td>...</td>\n",
              "      <td>...</td>\n",
              "      <td>...</td>\n",
              "      <td>...</td>\n",
              "      <td>...</td>\n",
              "      <td>...</td>\n",
              "      <td>...</td>\n",
              "      <td>...</td>\n",
              "      <td>...</td>\n",
              "      <td>...</td>\n",
              "      <td>...</td>\n",
              "      <td>...</td>\n",
              "      <td>...</td>\n",
              "      <td>...</td>\n",
              "      <td>...</td>\n",
              "    </tr>\n",
              "    <tr>\n",
              "      <th>573901</th>\n",
              "      <td>573901</td>\n",
              "      <td>11 September 1999</td>\n",
              "      <td>False</td>\n",
              "      <td>10</td>\n",
              "      <td>tt0139239</td>\n",
              "      <td>1h 42min</td>\n",
              "      <td>Comedy,Crime</td>\n",
              "      <td>7.3</td>\n",
              "      <td>1999-04-09</td>\n",
              "      <td>It's time acknowledge Pulp Fiction pioneer fil...</td>\n",
              "      <td>The film told chronological format, story told...</td>\n",
              "      <td>Go gave I wanted 103 minutes action, lots supe...</td>\n",
              "      <td>Told three perspectives, story bunch young Cal...</td>\n",
              "      <td>0</td>\n",
              "      <td>0</td>\n",
              "      <td>0</td>\n",
              "      <td>0</td>\n",
              "      <td>1</td>\n",
              "      <td>1</td>\n",
              "      <td>0</td>\n",
              "      <td>0</td>\n",
              "      <td>0</td>\n",
              "      <td>0</td>\n",
              "      <td>0</td>\n",
              "      <td>0</td>\n",
              "      <td>0</td>\n",
              "      <td>0</td>\n",
              "      <td>0</td>\n",
              "      <td>0</td>\n",
              "      <td>0</td>\n",
              "      <td>0</td>\n",
              "      <td>0</td>\n",
              "      <td>0</td>\n",
              "      <td>0</td>\n",
              "    </tr>\n",
              "    <tr>\n",
              "      <th>573902</th>\n",
              "      <td>573902</td>\n",
              "      <td>4 September 1999</td>\n",
              "      <td>False</td>\n",
              "      <td>9</td>\n",
              "      <td>tt0139239</td>\n",
              "      <td>1h 42min</td>\n",
              "      <td>Comedy,Crime</td>\n",
              "      <td>7.3</td>\n",
              "      <td>1999-04-09</td>\n",
              "      <td>I went movies last night, option watching Go W...</td>\n",
              "      <td>The film told chronological format, story told...</td>\n",
              "      <td>Right money</td>\n",
              "      <td>Told three perspectives, story bunch young Cal...</td>\n",
              "      <td>0</td>\n",
              "      <td>0</td>\n",
              "      <td>0</td>\n",
              "      <td>0</td>\n",
              "      <td>1</td>\n",
              "      <td>1</td>\n",
              "      <td>0</td>\n",
              "      <td>0</td>\n",
              "      <td>0</td>\n",
              "      <td>0</td>\n",
              "      <td>0</td>\n",
              "      <td>0</td>\n",
              "      <td>0</td>\n",
              "      <td>0</td>\n",
              "      <td>0</td>\n",
              "      <td>0</td>\n",
              "      <td>0</td>\n",
              "      <td>0</td>\n",
              "      <td>0</td>\n",
              "      <td>0</td>\n",
              "      <td>0</td>\n",
              "    </tr>\n",
              "    <tr>\n",
              "      <th>573903</th>\n",
              "      <td>573903</td>\n",
              "      <td>22 August 1999</td>\n",
              "      <td>False</td>\n",
              "      <td>9</td>\n",
              "      <td>tt0139239</td>\n",
              "      <td>1h 42min</td>\n",
              "      <td>Comedy,Crime</td>\n",
              "      <td>7.3</td>\n",
              "      <td>1999-04-09</td>\n",
              "      <td>Not bad, bad all. I sucker film plays havoc 'p...</td>\n",
              "      <td>The film told chronological format, story told...</td>\n",
              "      <td>Did somebody say 'Quentin Tarantino'?</td>\n",
              "      <td>Told three perspectives, story bunch young Cal...</td>\n",
              "      <td>0</td>\n",
              "      <td>0</td>\n",
              "      <td>0</td>\n",
              "      <td>0</td>\n",
              "      <td>1</td>\n",
              "      <td>1</td>\n",
              "      <td>0</td>\n",
              "      <td>0</td>\n",
              "      <td>0</td>\n",
              "      <td>0</td>\n",
              "      <td>0</td>\n",
              "      <td>0</td>\n",
              "      <td>0</td>\n",
              "      <td>0</td>\n",
              "      <td>0</td>\n",
              "      <td>0</td>\n",
              "      <td>0</td>\n",
              "      <td>0</td>\n",
              "      <td>0</td>\n",
              "      <td>0</td>\n",
              "      <td>0</td>\n",
              "    </tr>\n",
              "    <tr>\n",
              "      <th>573904</th>\n",
              "      <td>573904</td>\n",
              "      <td>18 August 1999</td>\n",
              "      <td>False</td>\n",
              "      <td>10</td>\n",
              "      <td>tt0139239</td>\n",
              "      <td>1h 42min</td>\n",
              "      <td>Comedy,Crime</td>\n",
              "      <td>7.3</td>\n",
              "      <td>1999-04-09</td>\n",
              "      <td>I think movie under-appreciated American audie...</td>\n",
              "      <td>The film told chronological format, story told...</td>\n",
              "      <td>innovative rockin'...I love Go!</td>\n",
              "      <td>Told three perspectives, story bunch young Cal...</td>\n",
              "      <td>0</td>\n",
              "      <td>0</td>\n",
              "      <td>0</td>\n",
              "      <td>0</td>\n",
              "      <td>1</td>\n",
              "      <td>1</td>\n",
              "      <td>0</td>\n",
              "      <td>0</td>\n",
              "      <td>0</td>\n",
              "      <td>0</td>\n",
              "      <td>0</td>\n",
              "      <td>0</td>\n",
              "      <td>0</td>\n",
              "      <td>0</td>\n",
              "      <td>0</td>\n",
              "      <td>0</td>\n",
              "      <td>0</td>\n",
              "      <td>0</td>\n",
              "      <td>0</td>\n",
              "      <td>0</td>\n",
              "      <td>0</td>\n",
              "    </tr>\n",
              "    <tr>\n",
              "      <th>573905</th>\n",
              "      <td>573905</td>\n",
              "      <td>29 August 1999</td>\n",
              "      <td>False</td>\n",
              "      <td>8</td>\n",
              "      <td>tt0139239</td>\n",
              "      <td>1h 42min</td>\n",
              "      <td>Comedy,Crime</td>\n",
              "      <td>7.3</td>\n",
              "      <td>1999-04-09</td>\n",
              "      <td>I saw Go! knot bows - interesting look teenage...</td>\n",
              "      <td>The film told chronological format, story told...</td>\n",
              "      <td>knot bows</td>\n",
              "      <td>Told three perspectives, story bunch young Cal...</td>\n",
              "      <td>0</td>\n",
              "      <td>0</td>\n",
              "      <td>0</td>\n",
              "      <td>0</td>\n",
              "      <td>1</td>\n",
              "      <td>1</td>\n",
              "      <td>0</td>\n",
              "      <td>0</td>\n",
              "      <td>0</td>\n",
              "      <td>0</td>\n",
              "      <td>0</td>\n",
              "      <td>0</td>\n",
              "      <td>0</td>\n",
              "      <td>0</td>\n",
              "      <td>0</td>\n",
              "      <td>0</td>\n",
              "      <td>0</td>\n",
              "      <td>0</td>\n",
              "      <td>0</td>\n",
              "      <td>0</td>\n",
              "      <td>0</td>\n",
              "    </tr>\n",
              "  </tbody>\n",
              "</table>\n",
              "<p>573906 rows × 34 columns</p>\n",
              "</div>"
            ],
            "text/plain": [
              "        Unnamed: 0        review_date  is_spoiler  ...  Thriller War Western\n",
              "0                0   10 February 2006        True  ...         0   0       0\n",
              "1                1   6 September 2000        True  ...         0   0       0\n",
              "2                2      3 August 2001        True  ...         0   0       0\n",
              "3                3   1 September 2002        True  ...         0   0       0\n",
              "4                4        20 May 2004        True  ...         0   0       0\n",
              "...            ...                ...         ...  ...       ...  ..     ...\n",
              "573901      573901  11 September 1999       False  ...         0   0       0\n",
              "573902      573902   4 September 1999       False  ...         0   0       0\n",
              "573903      573903     22 August 1999       False  ...         0   0       0\n",
              "573904      573904     18 August 1999       False  ...         0   0       0\n",
              "573905      573905     29 August 1999       False  ...         0   0       0\n",
              "\n",
              "[573906 rows x 34 columns]"
            ]
          },
          "metadata": {
            "tags": []
          },
          "execution_count": 20
        }
      ]
    },
    {
      "cell_type": "code",
      "metadata": {
        "colab": {
          "base_uri": "https://localhost:8080/",
          "height": 660
        },
        "id": "RRQlscc5G7Wj",
        "outputId": "6aff2509-8473-408f-8222-5763a9b1e239"
      },
      "source": [
        "final.drop(['genre'],1,inplace=True)\n",
        "final"
      ],
      "execution_count": null,
      "outputs": [
        {
          "output_type": "execute_result",
          "data": {
            "text/html": [
              "<div>\n",
              "<style scoped>\n",
              "    .dataframe tbody tr th:only-of-type {\n",
              "        vertical-align: middle;\n",
              "    }\n",
              "\n",
              "    .dataframe tbody tr th {\n",
              "        vertical-align: top;\n",
              "    }\n",
              "\n",
              "    .dataframe thead th {\n",
              "        text-align: right;\n",
              "    }\n",
              "</style>\n",
              "<table border=\"1\" class=\"dataframe\">\n",
              "  <thead>\n",
              "    <tr style=\"text-align: right;\">\n",
              "      <th></th>\n",
              "      <th>Unnamed: 0</th>\n",
              "      <th>review_date</th>\n",
              "      <th>is_spoiler</th>\n",
              "      <th>rating_x</th>\n",
              "      <th>movie_id_y</th>\n",
              "      <th>duration</th>\n",
              "      <th>rating_y</th>\n",
              "      <th>release_date</th>\n",
              "      <th>review_without_stopwords</th>\n",
              "      <th>description_without_stopwords</th>\n",
              "      <th>review_summary_without_stopwords</th>\n",
              "      <th>plot_summary_without_stopwords</th>\n",
              "      <th>Action</th>\n",
              "      <th>Adventure</th>\n",
              "      <th>Animation</th>\n",
              "      <th>Biography</th>\n",
              "      <th>Comedy</th>\n",
              "      <th>Crime</th>\n",
              "      <th>Drama</th>\n",
              "      <th>Family</th>\n",
              "      <th>Fantasy</th>\n",
              "      <th>Film-Noir</th>\n",
              "      <th>History</th>\n",
              "      <th>Horror</th>\n",
              "      <th>Music</th>\n",
              "      <th>Musical</th>\n",
              "      <th>Mystery</th>\n",
              "      <th>Romance</th>\n",
              "      <th>Sci-Fi</th>\n",
              "      <th>Sport</th>\n",
              "      <th>Thriller</th>\n",
              "      <th>War</th>\n",
              "      <th>Western</th>\n",
              "    </tr>\n",
              "  </thead>\n",
              "  <tbody>\n",
              "    <tr>\n",
              "      <th>0</th>\n",
              "      <td>0</td>\n",
              "      <td>10 February 2006</td>\n",
              "      <td>True</td>\n",
              "      <td>10</td>\n",
              "      <td>tt0111161</td>\n",
              "      <td>2h 22min</td>\n",
              "      <td>9.3</td>\n",
              "      <td>1994-10-14</td>\n",
              "      <td>In Oscar year, Shawshank Redemption (written d...</td>\n",
              "      <td>In 1947, Andy Dufresne (Tim Robbins), banker M...</td>\n",
              "      <td>A classic piece unforgettable film-making.</td>\n",
              "      <td>Chronicles experiences formerly successful ban...</td>\n",
              "      <td>0</td>\n",
              "      <td>0</td>\n",
              "      <td>0</td>\n",
              "      <td>0</td>\n",
              "      <td>0</td>\n",
              "      <td>1</td>\n",
              "      <td>1</td>\n",
              "      <td>0</td>\n",
              "      <td>0</td>\n",
              "      <td>0</td>\n",
              "      <td>0</td>\n",
              "      <td>0</td>\n",
              "      <td>0</td>\n",
              "      <td>0</td>\n",
              "      <td>0</td>\n",
              "      <td>0</td>\n",
              "      <td>0</td>\n",
              "      <td>0</td>\n",
              "      <td>0</td>\n",
              "      <td>0</td>\n",
              "      <td>0</td>\n",
              "    </tr>\n",
              "    <tr>\n",
              "      <th>1</th>\n",
              "      <td>1</td>\n",
              "      <td>6 September 2000</td>\n",
              "      <td>True</td>\n",
              "      <td>10</td>\n",
              "      <td>tt0111161</td>\n",
              "      <td>2h 22min</td>\n",
              "      <td>9.3</td>\n",
              "      <td>1994-10-14</td>\n",
              "      <td>The Shawshank Redemption without doubt one bri...</td>\n",
              "      <td>In 1947, Andy Dufresne (Tim Robbins), banker M...</td>\n",
              "      <td>Simply amazing. The best film 90's.</td>\n",
              "      <td>Chronicles experiences formerly successful ban...</td>\n",
              "      <td>0</td>\n",
              "      <td>0</td>\n",
              "      <td>0</td>\n",
              "      <td>0</td>\n",
              "      <td>0</td>\n",
              "      <td>1</td>\n",
              "      <td>1</td>\n",
              "      <td>0</td>\n",
              "      <td>0</td>\n",
              "      <td>0</td>\n",
              "      <td>0</td>\n",
              "      <td>0</td>\n",
              "      <td>0</td>\n",
              "      <td>0</td>\n",
              "      <td>0</td>\n",
              "      <td>0</td>\n",
              "      <td>0</td>\n",
              "      <td>0</td>\n",
              "      <td>0</td>\n",
              "      <td>0</td>\n",
              "      <td>0</td>\n",
              "    </tr>\n",
              "    <tr>\n",
              "      <th>2</th>\n",
              "      <td>2</td>\n",
              "      <td>3 August 2001</td>\n",
              "      <td>True</td>\n",
              "      <td>8</td>\n",
              "      <td>tt0111161</td>\n",
              "      <td>2h 22min</td>\n",
              "      <td>9.3</td>\n",
              "      <td>1994-10-14</td>\n",
              "      <td>I believe film best story ever told film, I'm ...</td>\n",
              "      <td>In 1947, Andy Dufresne (Tim Robbins), banker M...</td>\n",
              "      <td>The best story ever told film</td>\n",
              "      <td>Chronicles experiences formerly successful ban...</td>\n",
              "      <td>0</td>\n",
              "      <td>0</td>\n",
              "      <td>0</td>\n",
              "      <td>0</td>\n",
              "      <td>0</td>\n",
              "      <td>1</td>\n",
              "      <td>1</td>\n",
              "      <td>0</td>\n",
              "      <td>0</td>\n",
              "      <td>0</td>\n",
              "      <td>0</td>\n",
              "      <td>0</td>\n",
              "      <td>0</td>\n",
              "      <td>0</td>\n",
              "      <td>0</td>\n",
              "      <td>0</td>\n",
              "      <td>0</td>\n",
              "      <td>0</td>\n",
              "      <td>0</td>\n",
              "      <td>0</td>\n",
              "      <td>0</td>\n",
              "    </tr>\n",
              "    <tr>\n",
              "      <th>3</th>\n",
              "      <td>3</td>\n",
              "      <td>1 September 2002</td>\n",
              "      <td>True</td>\n",
              "      <td>10</td>\n",
              "      <td>tt0111161</td>\n",
              "      <td>2h 22min</td>\n",
              "      <td>9.3</td>\n",
              "      <td>1994-10-14</td>\n",
              "      <td>**Yes, SPOILERS here**This film emotional impa...</td>\n",
              "      <td>In 1947, Andy Dufresne (Tim Robbins), banker M...</td>\n",
              "      <td>Busy dying busy living?</td>\n",
              "      <td>Chronicles experiences formerly successful ban...</td>\n",
              "      <td>0</td>\n",
              "      <td>0</td>\n",
              "      <td>0</td>\n",
              "      <td>0</td>\n",
              "      <td>0</td>\n",
              "      <td>1</td>\n",
              "      <td>1</td>\n",
              "      <td>0</td>\n",
              "      <td>0</td>\n",
              "      <td>0</td>\n",
              "      <td>0</td>\n",
              "      <td>0</td>\n",
              "      <td>0</td>\n",
              "      <td>0</td>\n",
              "      <td>0</td>\n",
              "      <td>0</td>\n",
              "      <td>0</td>\n",
              "      <td>0</td>\n",
              "      <td>0</td>\n",
              "      <td>0</td>\n",
              "      <td>0</td>\n",
              "    </tr>\n",
              "    <tr>\n",
              "      <th>4</th>\n",
              "      <td>4</td>\n",
              "      <td>20 May 2004</td>\n",
              "      <td>True</td>\n",
              "      <td>8</td>\n",
              "      <td>tt0111161</td>\n",
              "      <td>2h 22min</td>\n",
              "      <td>9.3</td>\n",
              "      <td>1994-10-14</td>\n",
              "      <td>At heart extraordinary movie brilliant indelib...</td>\n",
              "      <td>In 1947, Andy Dufresne (Tim Robbins), banker M...</td>\n",
              "      <td>Great story, wondrously told acted</td>\n",
              "      <td>Chronicles experiences formerly successful ban...</td>\n",
              "      <td>0</td>\n",
              "      <td>0</td>\n",
              "      <td>0</td>\n",
              "      <td>0</td>\n",
              "      <td>0</td>\n",
              "      <td>1</td>\n",
              "      <td>1</td>\n",
              "      <td>0</td>\n",
              "      <td>0</td>\n",
              "      <td>0</td>\n",
              "      <td>0</td>\n",
              "      <td>0</td>\n",
              "      <td>0</td>\n",
              "      <td>0</td>\n",
              "      <td>0</td>\n",
              "      <td>0</td>\n",
              "      <td>0</td>\n",
              "      <td>0</td>\n",
              "      <td>0</td>\n",
              "      <td>0</td>\n",
              "      <td>0</td>\n",
              "    </tr>\n",
              "    <tr>\n",
              "      <th>...</th>\n",
              "      <td>...</td>\n",
              "      <td>...</td>\n",
              "      <td>...</td>\n",
              "      <td>...</td>\n",
              "      <td>...</td>\n",
              "      <td>...</td>\n",
              "      <td>...</td>\n",
              "      <td>...</td>\n",
              "      <td>...</td>\n",
              "      <td>...</td>\n",
              "      <td>...</td>\n",
              "      <td>...</td>\n",
              "      <td>...</td>\n",
              "      <td>...</td>\n",
              "      <td>...</td>\n",
              "      <td>...</td>\n",
              "      <td>...</td>\n",
              "      <td>...</td>\n",
              "      <td>...</td>\n",
              "      <td>...</td>\n",
              "      <td>...</td>\n",
              "      <td>...</td>\n",
              "      <td>...</td>\n",
              "      <td>...</td>\n",
              "      <td>...</td>\n",
              "      <td>...</td>\n",
              "      <td>...</td>\n",
              "      <td>...</td>\n",
              "      <td>...</td>\n",
              "      <td>...</td>\n",
              "      <td>...</td>\n",
              "      <td>...</td>\n",
              "      <td>...</td>\n",
              "    </tr>\n",
              "    <tr>\n",
              "      <th>573901</th>\n",
              "      <td>573901</td>\n",
              "      <td>11 September 1999</td>\n",
              "      <td>False</td>\n",
              "      <td>10</td>\n",
              "      <td>tt0139239</td>\n",
              "      <td>1h 42min</td>\n",
              "      <td>7.3</td>\n",
              "      <td>1999-04-09</td>\n",
              "      <td>It's time acknowledge Pulp Fiction pioneer fil...</td>\n",
              "      <td>The film told chronological format, story told...</td>\n",
              "      <td>Go gave I wanted 103 minutes action, lots supe...</td>\n",
              "      <td>Told three perspectives, story bunch young Cal...</td>\n",
              "      <td>0</td>\n",
              "      <td>0</td>\n",
              "      <td>0</td>\n",
              "      <td>0</td>\n",
              "      <td>1</td>\n",
              "      <td>1</td>\n",
              "      <td>0</td>\n",
              "      <td>0</td>\n",
              "      <td>0</td>\n",
              "      <td>0</td>\n",
              "      <td>0</td>\n",
              "      <td>0</td>\n",
              "      <td>0</td>\n",
              "      <td>0</td>\n",
              "      <td>0</td>\n",
              "      <td>0</td>\n",
              "      <td>0</td>\n",
              "      <td>0</td>\n",
              "      <td>0</td>\n",
              "      <td>0</td>\n",
              "      <td>0</td>\n",
              "    </tr>\n",
              "    <tr>\n",
              "      <th>573902</th>\n",
              "      <td>573902</td>\n",
              "      <td>4 September 1999</td>\n",
              "      <td>False</td>\n",
              "      <td>9</td>\n",
              "      <td>tt0139239</td>\n",
              "      <td>1h 42min</td>\n",
              "      <td>7.3</td>\n",
              "      <td>1999-04-09</td>\n",
              "      <td>I went movies last night, option watching Go W...</td>\n",
              "      <td>The film told chronological format, story told...</td>\n",
              "      <td>Right money</td>\n",
              "      <td>Told three perspectives, story bunch young Cal...</td>\n",
              "      <td>0</td>\n",
              "      <td>0</td>\n",
              "      <td>0</td>\n",
              "      <td>0</td>\n",
              "      <td>1</td>\n",
              "      <td>1</td>\n",
              "      <td>0</td>\n",
              "      <td>0</td>\n",
              "      <td>0</td>\n",
              "      <td>0</td>\n",
              "      <td>0</td>\n",
              "      <td>0</td>\n",
              "      <td>0</td>\n",
              "      <td>0</td>\n",
              "      <td>0</td>\n",
              "      <td>0</td>\n",
              "      <td>0</td>\n",
              "      <td>0</td>\n",
              "      <td>0</td>\n",
              "      <td>0</td>\n",
              "      <td>0</td>\n",
              "    </tr>\n",
              "    <tr>\n",
              "      <th>573903</th>\n",
              "      <td>573903</td>\n",
              "      <td>22 August 1999</td>\n",
              "      <td>False</td>\n",
              "      <td>9</td>\n",
              "      <td>tt0139239</td>\n",
              "      <td>1h 42min</td>\n",
              "      <td>7.3</td>\n",
              "      <td>1999-04-09</td>\n",
              "      <td>Not bad, bad all. I sucker film plays havoc 'p...</td>\n",
              "      <td>The film told chronological format, story told...</td>\n",
              "      <td>Did somebody say 'Quentin Tarantino'?</td>\n",
              "      <td>Told three perspectives, story bunch young Cal...</td>\n",
              "      <td>0</td>\n",
              "      <td>0</td>\n",
              "      <td>0</td>\n",
              "      <td>0</td>\n",
              "      <td>1</td>\n",
              "      <td>1</td>\n",
              "      <td>0</td>\n",
              "      <td>0</td>\n",
              "      <td>0</td>\n",
              "      <td>0</td>\n",
              "      <td>0</td>\n",
              "      <td>0</td>\n",
              "      <td>0</td>\n",
              "      <td>0</td>\n",
              "      <td>0</td>\n",
              "      <td>0</td>\n",
              "      <td>0</td>\n",
              "      <td>0</td>\n",
              "      <td>0</td>\n",
              "      <td>0</td>\n",
              "      <td>0</td>\n",
              "    </tr>\n",
              "    <tr>\n",
              "      <th>573904</th>\n",
              "      <td>573904</td>\n",
              "      <td>18 August 1999</td>\n",
              "      <td>False</td>\n",
              "      <td>10</td>\n",
              "      <td>tt0139239</td>\n",
              "      <td>1h 42min</td>\n",
              "      <td>7.3</td>\n",
              "      <td>1999-04-09</td>\n",
              "      <td>I think movie under-appreciated American audie...</td>\n",
              "      <td>The film told chronological format, story told...</td>\n",
              "      <td>innovative rockin'...I love Go!</td>\n",
              "      <td>Told three perspectives, story bunch young Cal...</td>\n",
              "      <td>0</td>\n",
              "      <td>0</td>\n",
              "      <td>0</td>\n",
              "      <td>0</td>\n",
              "      <td>1</td>\n",
              "      <td>1</td>\n",
              "      <td>0</td>\n",
              "      <td>0</td>\n",
              "      <td>0</td>\n",
              "      <td>0</td>\n",
              "      <td>0</td>\n",
              "      <td>0</td>\n",
              "      <td>0</td>\n",
              "      <td>0</td>\n",
              "      <td>0</td>\n",
              "      <td>0</td>\n",
              "      <td>0</td>\n",
              "      <td>0</td>\n",
              "      <td>0</td>\n",
              "      <td>0</td>\n",
              "      <td>0</td>\n",
              "    </tr>\n",
              "    <tr>\n",
              "      <th>573905</th>\n",
              "      <td>573905</td>\n",
              "      <td>29 August 1999</td>\n",
              "      <td>False</td>\n",
              "      <td>8</td>\n",
              "      <td>tt0139239</td>\n",
              "      <td>1h 42min</td>\n",
              "      <td>7.3</td>\n",
              "      <td>1999-04-09</td>\n",
              "      <td>I saw Go! knot bows - interesting look teenage...</td>\n",
              "      <td>The film told chronological format, story told...</td>\n",
              "      <td>knot bows</td>\n",
              "      <td>Told three perspectives, story bunch young Cal...</td>\n",
              "      <td>0</td>\n",
              "      <td>0</td>\n",
              "      <td>0</td>\n",
              "      <td>0</td>\n",
              "      <td>1</td>\n",
              "      <td>1</td>\n",
              "      <td>0</td>\n",
              "      <td>0</td>\n",
              "      <td>0</td>\n",
              "      <td>0</td>\n",
              "      <td>0</td>\n",
              "      <td>0</td>\n",
              "      <td>0</td>\n",
              "      <td>0</td>\n",
              "      <td>0</td>\n",
              "      <td>0</td>\n",
              "      <td>0</td>\n",
              "      <td>0</td>\n",
              "      <td>0</td>\n",
              "      <td>0</td>\n",
              "      <td>0</td>\n",
              "    </tr>\n",
              "  </tbody>\n",
              "</table>\n",
              "<p>573906 rows × 33 columns</p>\n",
              "</div>"
            ],
            "text/plain": [
              "        Unnamed: 0        review_date  is_spoiler  ...  Thriller War Western\n",
              "0                0   10 February 2006        True  ...         0   0       0\n",
              "1                1   6 September 2000        True  ...         0   0       0\n",
              "2                2      3 August 2001        True  ...         0   0       0\n",
              "3                3   1 September 2002        True  ...         0   0       0\n",
              "4                4        20 May 2004        True  ...         0   0       0\n",
              "...            ...                ...         ...  ...       ...  ..     ...\n",
              "573901      573901  11 September 1999       False  ...         0   0       0\n",
              "573902      573902   4 September 1999       False  ...         0   0       0\n",
              "573903      573903     22 August 1999       False  ...         0   0       0\n",
              "573904      573904     18 August 1999       False  ...         0   0       0\n",
              "573905      573905     29 August 1999       False  ...         0   0       0\n",
              "\n",
              "[573906 rows x 33 columns]"
            ]
          },
          "metadata": {
            "tags": []
          },
          "execution_count": 22
        }
      ]
    },
    {
      "cell_type": "code",
      "metadata": {
        "id": "DxCjqglkHSkx"
      },
      "source": [
        "final['review_date'] =  df['review_date'].apply(lambda x: x[-4:])"
      ],
      "execution_count": null,
      "outputs": []
    },
    {
      "cell_type": "code",
      "metadata": {
        "id": "3jPRQCgNHnM5"
      },
      "source": [
        "final['release_date'] =  df['release_date'].apply(lambda x: x[:4])"
      ],
      "execution_count": null,
      "outputs": []
    },
    {
      "cell_type": "code",
      "metadata": {
        "colab": {
          "base_uri": "https://localhost:8080/"
        },
        "id": "5MNURUKCH3Mk",
        "outputId": "5c65bdb6-9537-4ffa-b0ff-9541d2704602"
      },
      "source": [
        "duration = df['duration']\n",
        "duration = duration.str.replace(\"h\",\"\")\n",
        "duration = duration.str.replace(\"min\",\"\")\n",
        "split_dur = duration.str.split(\" \")\n",
        "split_dur"
      ],
      "execution_count": null,
      "outputs": [
        {
          "output_type": "execute_result",
          "data": {
            "text/plain": [
              "0         [2, 22]\n",
              "1         [2, 22]\n",
              "2         [2, 22]\n",
              "3         [2, 22]\n",
              "4         [2, 22]\n",
              "           ...   \n",
              "573901    [1, 42]\n",
              "573902    [1, 42]\n",
              "573903    [1, 42]\n",
              "573904    [1, 42]\n",
              "573905    [1, 42]\n",
              "Name: duration, Length: 573906, dtype: object"
            ]
          },
          "metadata": {
            "tags": []
          },
          "execution_count": 35
        }
      ]
    },
    {
      "cell_type": "code",
      "metadata": {
        "colab": {
          "base_uri": "https://localhost:8080/"
        },
        "id": "VK9WZKLOKGeL",
        "outputId": "ffb00f1e-1d4d-4f85-b6a7-fd5db1b97882"
      },
      "source": [
        "minutes = []\n",
        "for i in split_dur:\n",
        "  if len(i) == 2:\n",
        "    mins = int(i[0]) * 60 + int(i[1])\n",
        "  else:\n",
        "    if int(i[0]) > 6:\n",
        "      mins = int(i[0])\n",
        "    else:\n",
        "      mins = int(i[0]) * 60\n",
        "  minutes.append(mins)\n",
        "minutes[-1000]"
      ],
      "execution_count": null,
      "outputs": [
        {
          "output_type": "execute_result",
          "data": {
            "text/plain": [
              "97"
            ]
          },
          "metadata": {
            "tags": []
          },
          "execution_count": 46
        }
      ]
    },
    {
      "cell_type": "code",
      "metadata": {
        "colab": {
          "base_uri": "https://localhost:8080/",
          "height": 643
        },
        "id": "_7Vpj_YGLlzh",
        "outputId": "7e044e91-b896-4135-81f6-23c167620543"
      },
      "source": [
        "final['duration'] = minutes\n",
        "final"
      ],
      "execution_count": null,
      "outputs": [
        {
          "output_type": "execute_result",
          "data": {
            "text/html": [
              "<div>\n",
              "<style scoped>\n",
              "    .dataframe tbody tr th:only-of-type {\n",
              "        vertical-align: middle;\n",
              "    }\n",
              "\n",
              "    .dataframe tbody tr th {\n",
              "        vertical-align: top;\n",
              "    }\n",
              "\n",
              "    .dataframe thead th {\n",
              "        text-align: right;\n",
              "    }\n",
              "</style>\n",
              "<table border=\"1\" class=\"dataframe\">\n",
              "  <thead>\n",
              "    <tr style=\"text-align: right;\">\n",
              "      <th></th>\n",
              "      <th>Unnamed: 0</th>\n",
              "      <th>review_date</th>\n",
              "      <th>is_spoiler</th>\n",
              "      <th>rating_x</th>\n",
              "      <th>movie_id_y</th>\n",
              "      <th>duration</th>\n",
              "      <th>rating_y</th>\n",
              "      <th>release_date</th>\n",
              "      <th>review_without_stopwords</th>\n",
              "      <th>description_without_stopwords</th>\n",
              "      <th>review_summary_without_stopwords</th>\n",
              "      <th>plot_summary_without_stopwords</th>\n",
              "      <th>Action</th>\n",
              "      <th>Adventure</th>\n",
              "      <th>Animation</th>\n",
              "      <th>Biography</th>\n",
              "      <th>Comedy</th>\n",
              "      <th>Crime</th>\n",
              "      <th>Drama</th>\n",
              "      <th>Family</th>\n",
              "      <th>Fantasy</th>\n",
              "      <th>Film-Noir</th>\n",
              "      <th>History</th>\n",
              "      <th>Horror</th>\n",
              "      <th>Music</th>\n",
              "      <th>Musical</th>\n",
              "      <th>Mystery</th>\n",
              "      <th>Romance</th>\n",
              "      <th>Sci-Fi</th>\n",
              "      <th>Sport</th>\n",
              "      <th>Thriller</th>\n",
              "      <th>War</th>\n",
              "      <th>Western</th>\n",
              "    </tr>\n",
              "  </thead>\n",
              "  <tbody>\n",
              "    <tr>\n",
              "      <th>0</th>\n",
              "      <td>0</td>\n",
              "      <td>2006</td>\n",
              "      <td>True</td>\n",
              "      <td>10</td>\n",
              "      <td>tt0111161</td>\n",
              "      <td>142</td>\n",
              "      <td>9.3</td>\n",
              "      <td>1994</td>\n",
              "      <td>In Oscar year, Shawshank Redemption (written d...</td>\n",
              "      <td>In 1947, Andy Dufresne (Tim Robbins), banker M...</td>\n",
              "      <td>A classic piece unforgettable film-making.</td>\n",
              "      <td>Chronicles experiences formerly successful ban...</td>\n",
              "      <td>0</td>\n",
              "      <td>0</td>\n",
              "      <td>0</td>\n",
              "      <td>0</td>\n",
              "      <td>0</td>\n",
              "      <td>1</td>\n",
              "      <td>1</td>\n",
              "      <td>0</td>\n",
              "      <td>0</td>\n",
              "      <td>0</td>\n",
              "      <td>0</td>\n",
              "      <td>0</td>\n",
              "      <td>0</td>\n",
              "      <td>0</td>\n",
              "      <td>0</td>\n",
              "      <td>0</td>\n",
              "      <td>0</td>\n",
              "      <td>0</td>\n",
              "      <td>0</td>\n",
              "      <td>0</td>\n",
              "      <td>0</td>\n",
              "    </tr>\n",
              "    <tr>\n",
              "      <th>1</th>\n",
              "      <td>1</td>\n",
              "      <td>2000</td>\n",
              "      <td>True</td>\n",
              "      <td>10</td>\n",
              "      <td>tt0111161</td>\n",
              "      <td>142</td>\n",
              "      <td>9.3</td>\n",
              "      <td>1994</td>\n",
              "      <td>The Shawshank Redemption without doubt one bri...</td>\n",
              "      <td>In 1947, Andy Dufresne (Tim Robbins), banker M...</td>\n",
              "      <td>Simply amazing. The best film 90's.</td>\n",
              "      <td>Chronicles experiences formerly successful ban...</td>\n",
              "      <td>0</td>\n",
              "      <td>0</td>\n",
              "      <td>0</td>\n",
              "      <td>0</td>\n",
              "      <td>0</td>\n",
              "      <td>1</td>\n",
              "      <td>1</td>\n",
              "      <td>0</td>\n",
              "      <td>0</td>\n",
              "      <td>0</td>\n",
              "      <td>0</td>\n",
              "      <td>0</td>\n",
              "      <td>0</td>\n",
              "      <td>0</td>\n",
              "      <td>0</td>\n",
              "      <td>0</td>\n",
              "      <td>0</td>\n",
              "      <td>0</td>\n",
              "      <td>0</td>\n",
              "      <td>0</td>\n",
              "      <td>0</td>\n",
              "    </tr>\n",
              "    <tr>\n",
              "      <th>2</th>\n",
              "      <td>2</td>\n",
              "      <td>2001</td>\n",
              "      <td>True</td>\n",
              "      <td>8</td>\n",
              "      <td>tt0111161</td>\n",
              "      <td>142</td>\n",
              "      <td>9.3</td>\n",
              "      <td>1994</td>\n",
              "      <td>I believe film best story ever told film, I'm ...</td>\n",
              "      <td>In 1947, Andy Dufresne (Tim Robbins), banker M...</td>\n",
              "      <td>The best story ever told film</td>\n",
              "      <td>Chronicles experiences formerly successful ban...</td>\n",
              "      <td>0</td>\n",
              "      <td>0</td>\n",
              "      <td>0</td>\n",
              "      <td>0</td>\n",
              "      <td>0</td>\n",
              "      <td>1</td>\n",
              "      <td>1</td>\n",
              "      <td>0</td>\n",
              "      <td>0</td>\n",
              "      <td>0</td>\n",
              "      <td>0</td>\n",
              "      <td>0</td>\n",
              "      <td>0</td>\n",
              "      <td>0</td>\n",
              "      <td>0</td>\n",
              "      <td>0</td>\n",
              "      <td>0</td>\n",
              "      <td>0</td>\n",
              "      <td>0</td>\n",
              "      <td>0</td>\n",
              "      <td>0</td>\n",
              "    </tr>\n",
              "    <tr>\n",
              "      <th>3</th>\n",
              "      <td>3</td>\n",
              "      <td>2002</td>\n",
              "      <td>True</td>\n",
              "      <td>10</td>\n",
              "      <td>tt0111161</td>\n",
              "      <td>142</td>\n",
              "      <td>9.3</td>\n",
              "      <td>1994</td>\n",
              "      <td>**Yes, SPOILERS here**This film emotional impa...</td>\n",
              "      <td>In 1947, Andy Dufresne (Tim Robbins), banker M...</td>\n",
              "      <td>Busy dying busy living?</td>\n",
              "      <td>Chronicles experiences formerly successful ban...</td>\n",
              "      <td>0</td>\n",
              "      <td>0</td>\n",
              "      <td>0</td>\n",
              "      <td>0</td>\n",
              "      <td>0</td>\n",
              "      <td>1</td>\n",
              "      <td>1</td>\n",
              "      <td>0</td>\n",
              "      <td>0</td>\n",
              "      <td>0</td>\n",
              "      <td>0</td>\n",
              "      <td>0</td>\n",
              "      <td>0</td>\n",
              "      <td>0</td>\n",
              "      <td>0</td>\n",
              "      <td>0</td>\n",
              "      <td>0</td>\n",
              "      <td>0</td>\n",
              "      <td>0</td>\n",
              "      <td>0</td>\n",
              "      <td>0</td>\n",
              "    </tr>\n",
              "    <tr>\n",
              "      <th>4</th>\n",
              "      <td>4</td>\n",
              "      <td>2004</td>\n",
              "      <td>True</td>\n",
              "      <td>8</td>\n",
              "      <td>tt0111161</td>\n",
              "      <td>142</td>\n",
              "      <td>9.3</td>\n",
              "      <td>1994</td>\n",
              "      <td>At heart extraordinary movie brilliant indelib...</td>\n",
              "      <td>In 1947, Andy Dufresne (Tim Robbins), banker M...</td>\n",
              "      <td>Great story, wondrously told acted</td>\n",
              "      <td>Chronicles experiences formerly successful ban...</td>\n",
              "      <td>0</td>\n",
              "      <td>0</td>\n",
              "      <td>0</td>\n",
              "      <td>0</td>\n",
              "      <td>0</td>\n",
              "      <td>1</td>\n",
              "      <td>1</td>\n",
              "      <td>0</td>\n",
              "      <td>0</td>\n",
              "      <td>0</td>\n",
              "      <td>0</td>\n",
              "      <td>0</td>\n",
              "      <td>0</td>\n",
              "      <td>0</td>\n",
              "      <td>0</td>\n",
              "      <td>0</td>\n",
              "      <td>0</td>\n",
              "      <td>0</td>\n",
              "      <td>0</td>\n",
              "      <td>0</td>\n",
              "      <td>0</td>\n",
              "    </tr>\n",
              "    <tr>\n",
              "      <th>...</th>\n",
              "      <td>...</td>\n",
              "      <td>...</td>\n",
              "      <td>...</td>\n",
              "      <td>...</td>\n",
              "      <td>...</td>\n",
              "      <td>...</td>\n",
              "      <td>...</td>\n",
              "      <td>...</td>\n",
              "      <td>...</td>\n",
              "      <td>...</td>\n",
              "      <td>...</td>\n",
              "      <td>...</td>\n",
              "      <td>...</td>\n",
              "      <td>...</td>\n",
              "      <td>...</td>\n",
              "      <td>...</td>\n",
              "      <td>...</td>\n",
              "      <td>...</td>\n",
              "      <td>...</td>\n",
              "      <td>...</td>\n",
              "      <td>...</td>\n",
              "      <td>...</td>\n",
              "      <td>...</td>\n",
              "      <td>...</td>\n",
              "      <td>...</td>\n",
              "      <td>...</td>\n",
              "      <td>...</td>\n",
              "      <td>...</td>\n",
              "      <td>...</td>\n",
              "      <td>...</td>\n",
              "      <td>...</td>\n",
              "      <td>...</td>\n",
              "      <td>...</td>\n",
              "    </tr>\n",
              "    <tr>\n",
              "      <th>573901</th>\n",
              "      <td>573901</td>\n",
              "      <td>1999</td>\n",
              "      <td>False</td>\n",
              "      <td>10</td>\n",
              "      <td>tt0139239</td>\n",
              "      <td>102</td>\n",
              "      <td>7.3</td>\n",
              "      <td>1999</td>\n",
              "      <td>It's time acknowledge Pulp Fiction pioneer fil...</td>\n",
              "      <td>The film told chronological format, story told...</td>\n",
              "      <td>Go gave I wanted 103 minutes action, lots supe...</td>\n",
              "      <td>Told three perspectives, story bunch young Cal...</td>\n",
              "      <td>0</td>\n",
              "      <td>0</td>\n",
              "      <td>0</td>\n",
              "      <td>0</td>\n",
              "      <td>1</td>\n",
              "      <td>1</td>\n",
              "      <td>0</td>\n",
              "      <td>0</td>\n",
              "      <td>0</td>\n",
              "      <td>0</td>\n",
              "      <td>0</td>\n",
              "      <td>0</td>\n",
              "      <td>0</td>\n",
              "      <td>0</td>\n",
              "      <td>0</td>\n",
              "      <td>0</td>\n",
              "      <td>0</td>\n",
              "      <td>0</td>\n",
              "      <td>0</td>\n",
              "      <td>0</td>\n",
              "      <td>0</td>\n",
              "    </tr>\n",
              "    <tr>\n",
              "      <th>573902</th>\n",
              "      <td>573902</td>\n",
              "      <td>1999</td>\n",
              "      <td>False</td>\n",
              "      <td>9</td>\n",
              "      <td>tt0139239</td>\n",
              "      <td>102</td>\n",
              "      <td>7.3</td>\n",
              "      <td>1999</td>\n",
              "      <td>I went movies last night, option watching Go W...</td>\n",
              "      <td>The film told chronological format, story told...</td>\n",
              "      <td>Right money</td>\n",
              "      <td>Told three perspectives, story bunch young Cal...</td>\n",
              "      <td>0</td>\n",
              "      <td>0</td>\n",
              "      <td>0</td>\n",
              "      <td>0</td>\n",
              "      <td>1</td>\n",
              "      <td>1</td>\n",
              "      <td>0</td>\n",
              "      <td>0</td>\n",
              "      <td>0</td>\n",
              "      <td>0</td>\n",
              "      <td>0</td>\n",
              "      <td>0</td>\n",
              "      <td>0</td>\n",
              "      <td>0</td>\n",
              "      <td>0</td>\n",
              "      <td>0</td>\n",
              "      <td>0</td>\n",
              "      <td>0</td>\n",
              "      <td>0</td>\n",
              "      <td>0</td>\n",
              "      <td>0</td>\n",
              "    </tr>\n",
              "    <tr>\n",
              "      <th>573903</th>\n",
              "      <td>573903</td>\n",
              "      <td>1999</td>\n",
              "      <td>False</td>\n",
              "      <td>9</td>\n",
              "      <td>tt0139239</td>\n",
              "      <td>102</td>\n",
              "      <td>7.3</td>\n",
              "      <td>1999</td>\n",
              "      <td>Not bad, bad all. I sucker film plays havoc 'p...</td>\n",
              "      <td>The film told chronological format, story told...</td>\n",
              "      <td>Did somebody say 'Quentin Tarantino'?</td>\n",
              "      <td>Told three perspectives, story bunch young Cal...</td>\n",
              "      <td>0</td>\n",
              "      <td>0</td>\n",
              "      <td>0</td>\n",
              "      <td>0</td>\n",
              "      <td>1</td>\n",
              "      <td>1</td>\n",
              "      <td>0</td>\n",
              "      <td>0</td>\n",
              "      <td>0</td>\n",
              "      <td>0</td>\n",
              "      <td>0</td>\n",
              "      <td>0</td>\n",
              "      <td>0</td>\n",
              "      <td>0</td>\n",
              "      <td>0</td>\n",
              "      <td>0</td>\n",
              "      <td>0</td>\n",
              "      <td>0</td>\n",
              "      <td>0</td>\n",
              "      <td>0</td>\n",
              "      <td>0</td>\n",
              "    </tr>\n",
              "    <tr>\n",
              "      <th>573904</th>\n",
              "      <td>573904</td>\n",
              "      <td>1999</td>\n",
              "      <td>False</td>\n",
              "      <td>10</td>\n",
              "      <td>tt0139239</td>\n",
              "      <td>102</td>\n",
              "      <td>7.3</td>\n",
              "      <td>1999</td>\n",
              "      <td>I think movie under-appreciated American audie...</td>\n",
              "      <td>The film told chronological format, story told...</td>\n",
              "      <td>innovative rockin'...I love Go!</td>\n",
              "      <td>Told three perspectives, story bunch young Cal...</td>\n",
              "      <td>0</td>\n",
              "      <td>0</td>\n",
              "      <td>0</td>\n",
              "      <td>0</td>\n",
              "      <td>1</td>\n",
              "      <td>1</td>\n",
              "      <td>0</td>\n",
              "      <td>0</td>\n",
              "      <td>0</td>\n",
              "      <td>0</td>\n",
              "      <td>0</td>\n",
              "      <td>0</td>\n",
              "      <td>0</td>\n",
              "      <td>0</td>\n",
              "      <td>0</td>\n",
              "      <td>0</td>\n",
              "      <td>0</td>\n",
              "      <td>0</td>\n",
              "      <td>0</td>\n",
              "      <td>0</td>\n",
              "      <td>0</td>\n",
              "    </tr>\n",
              "    <tr>\n",
              "      <th>573905</th>\n",
              "      <td>573905</td>\n",
              "      <td>1999</td>\n",
              "      <td>False</td>\n",
              "      <td>8</td>\n",
              "      <td>tt0139239</td>\n",
              "      <td>102</td>\n",
              "      <td>7.3</td>\n",
              "      <td>1999</td>\n",
              "      <td>I saw Go! knot bows - interesting look teenage...</td>\n",
              "      <td>The film told chronological format, story told...</td>\n",
              "      <td>knot bows</td>\n",
              "      <td>Told three perspectives, story bunch young Cal...</td>\n",
              "      <td>0</td>\n",
              "      <td>0</td>\n",
              "      <td>0</td>\n",
              "      <td>0</td>\n",
              "      <td>1</td>\n",
              "      <td>1</td>\n",
              "      <td>0</td>\n",
              "      <td>0</td>\n",
              "      <td>0</td>\n",
              "      <td>0</td>\n",
              "      <td>0</td>\n",
              "      <td>0</td>\n",
              "      <td>0</td>\n",
              "      <td>0</td>\n",
              "      <td>0</td>\n",
              "      <td>0</td>\n",
              "      <td>0</td>\n",
              "      <td>0</td>\n",
              "      <td>0</td>\n",
              "      <td>0</td>\n",
              "      <td>0</td>\n",
              "    </tr>\n",
              "  </tbody>\n",
              "</table>\n",
              "<p>573906 rows × 33 columns</p>\n",
              "</div>"
            ],
            "text/plain": [
              "        Unnamed: 0 review_date  is_spoiler  ...  Thriller War  Western\n",
              "0                0        2006        True  ...         0   0        0\n",
              "1                1        2000        True  ...         0   0        0\n",
              "2                2        2001        True  ...         0   0        0\n",
              "3                3        2002        True  ...         0   0        0\n",
              "4                4        2004        True  ...         0   0        0\n",
              "...            ...         ...         ...  ...       ...  ..      ...\n",
              "573901      573901        1999       False  ...         0   0        0\n",
              "573902      573902        1999       False  ...         0   0        0\n",
              "573903      573903        1999       False  ...         0   0        0\n",
              "573904      573904        1999       False  ...         0   0        0\n",
              "573905      573905        1999       False  ...         0   0        0\n",
              "\n",
              "[573906 rows x 33 columns]"
            ]
          },
          "metadata": {
            "tags": []
          },
          "execution_count": 49
        }
      ]
    },
    {
      "cell_type": "code",
      "metadata": {
        "colab": {
          "base_uri": "https://localhost:8080/"
        },
        "id": "2LnVDyDpL9Zv",
        "outputId": "39898f0e-34e7-4f64-f8d6-2cc4d7f81444"
      },
      "source": [
        "final.dtypes"
      ],
      "execution_count": null,
      "outputs": [
        {
          "output_type": "execute_result",
          "data": {
            "text/plain": [
              "Unnamed: 0                            int64\n",
              "review_date                          object\n",
              "is_spoiler                             bool\n",
              "rating_x                              int64\n",
              "movie_id_y                           object\n",
              "duration                              int64\n",
              "rating_y                            float64\n",
              "release_date                         object\n",
              "review_without_stopwords             object\n",
              "description_without_stopwords        object\n",
              "review_summary_without_stopwords     object\n",
              "plot_summary_without_stopwords       object\n",
              "Action                                int64\n",
              "Adventure                             int64\n",
              "Animation                             int64\n",
              "Biography                             int64\n",
              "Comedy                                int64\n",
              "Crime                                 int64\n",
              "Drama                                 int64\n",
              "Family                                int64\n",
              "Fantasy                               int64\n",
              "Film-Noir                             int64\n",
              "History                               int64\n",
              "Horror                                int64\n",
              "Music                                 int64\n",
              "Musical                               int64\n",
              "Mystery                               int64\n",
              "Romance                               int64\n",
              "Sci-Fi                                int64\n",
              "Sport                                 int64\n",
              "Thriller                              int64\n",
              "War                                   int64\n",
              "Western                               int64\n",
              "dtype: object"
            ]
          },
          "metadata": {
            "tags": []
          },
          "execution_count": 50
        }
      ]
    },
    {
      "cell_type": "code",
      "metadata": {
        "id": "g9zkEhhkMKNf"
      },
      "source": [
        "final = final.astype({'review_date':'int64','release_date':'int64'})"
      ],
      "execution_count": null,
      "outputs": []
    },
    {
      "cell_type": "code",
      "metadata": {
        "colab": {
          "base_uri": "https://localhost:8080/"
        },
        "id": "sMy5ZDpjMj-x",
        "outputId": "ab1dbb30-3cae-4d48-e8b0-9da63ec27dda"
      },
      "source": [
        "final.dtypes"
      ],
      "execution_count": null,
      "outputs": [
        {
          "output_type": "execute_result",
          "data": {
            "text/plain": [
              "Unnamed: 0                            int64\n",
              "review_date                           int64\n",
              "is_spoiler                             bool\n",
              "rating_x                              int64\n",
              "movie_id_y                           object\n",
              "duration                              int64\n",
              "rating_y                            float64\n",
              "release_date                          int64\n",
              "review_without_stopwords             object\n",
              "description_without_stopwords        object\n",
              "review_summary_without_stopwords     object\n",
              "plot_summary_without_stopwords       object\n",
              "Action                                int64\n",
              "Adventure                             int64\n",
              "Animation                             int64\n",
              "Biography                             int64\n",
              "Comedy                                int64\n",
              "Crime                                 int64\n",
              "Drama                                 int64\n",
              "Family                                int64\n",
              "Fantasy                               int64\n",
              "Film-Noir                             int64\n",
              "History                               int64\n",
              "Horror                                int64\n",
              "Music                                 int64\n",
              "Musical                               int64\n",
              "Mystery                               int64\n",
              "Romance                               int64\n",
              "Sci-Fi                                int64\n",
              "Sport                                 int64\n",
              "Thriller                              int64\n",
              "War                                   int64\n",
              "Western                               int64\n",
              "dtype: object"
            ]
          },
          "metadata": {
            "tags": []
          },
          "execution_count": 57
        }
      ]
    },
    {
      "cell_type": "code",
      "metadata": {
        "colab": {
          "base_uri": "https://localhost:8080/",
          "height": 643
        },
        "id": "V8yeDf2LM9ZR",
        "outputId": "f6d4a5a9-aa0f-4efc-dd97-683f443304fa"
      },
      "source": [
        "final.drop(['Unnamed: 0'],1,inplace=True)\n",
        "final"
      ],
      "execution_count": null,
      "outputs": [
        {
          "output_type": "execute_result",
          "data": {
            "text/html": [
              "<div>\n",
              "<style scoped>\n",
              "    .dataframe tbody tr th:only-of-type {\n",
              "        vertical-align: middle;\n",
              "    }\n",
              "\n",
              "    .dataframe tbody tr th {\n",
              "        vertical-align: top;\n",
              "    }\n",
              "\n",
              "    .dataframe thead th {\n",
              "        text-align: right;\n",
              "    }\n",
              "</style>\n",
              "<table border=\"1\" class=\"dataframe\">\n",
              "  <thead>\n",
              "    <tr style=\"text-align: right;\">\n",
              "      <th></th>\n",
              "      <th>review_date</th>\n",
              "      <th>is_spoiler</th>\n",
              "      <th>rating_x</th>\n",
              "      <th>movie_id_y</th>\n",
              "      <th>duration</th>\n",
              "      <th>rating_y</th>\n",
              "      <th>release_date</th>\n",
              "      <th>review_without_stopwords</th>\n",
              "      <th>description_without_stopwords</th>\n",
              "      <th>review_summary_without_stopwords</th>\n",
              "      <th>plot_summary_without_stopwords</th>\n",
              "      <th>Action</th>\n",
              "      <th>Adventure</th>\n",
              "      <th>Animation</th>\n",
              "      <th>Biography</th>\n",
              "      <th>Comedy</th>\n",
              "      <th>Crime</th>\n",
              "      <th>Drama</th>\n",
              "      <th>Family</th>\n",
              "      <th>Fantasy</th>\n",
              "      <th>Film-Noir</th>\n",
              "      <th>History</th>\n",
              "      <th>Horror</th>\n",
              "      <th>Music</th>\n",
              "      <th>Musical</th>\n",
              "      <th>Mystery</th>\n",
              "      <th>Romance</th>\n",
              "      <th>Sci-Fi</th>\n",
              "      <th>Sport</th>\n",
              "      <th>Thriller</th>\n",
              "      <th>War</th>\n",
              "      <th>Western</th>\n",
              "    </tr>\n",
              "  </thead>\n",
              "  <tbody>\n",
              "    <tr>\n",
              "      <th>0</th>\n",
              "      <td>2006</td>\n",
              "      <td>True</td>\n",
              "      <td>10</td>\n",
              "      <td>tt0111161</td>\n",
              "      <td>142</td>\n",
              "      <td>9.3</td>\n",
              "      <td>1994</td>\n",
              "      <td>In Oscar year, Shawshank Redemption (written d...</td>\n",
              "      <td>In 1947, Andy Dufresne (Tim Robbins), banker M...</td>\n",
              "      <td>A classic piece unforgettable film-making.</td>\n",
              "      <td>Chronicles experiences formerly successful ban...</td>\n",
              "      <td>0</td>\n",
              "      <td>0</td>\n",
              "      <td>0</td>\n",
              "      <td>0</td>\n",
              "      <td>0</td>\n",
              "      <td>1</td>\n",
              "      <td>1</td>\n",
              "      <td>0</td>\n",
              "      <td>0</td>\n",
              "      <td>0</td>\n",
              "      <td>0</td>\n",
              "      <td>0</td>\n",
              "      <td>0</td>\n",
              "      <td>0</td>\n",
              "      <td>0</td>\n",
              "      <td>0</td>\n",
              "      <td>0</td>\n",
              "      <td>0</td>\n",
              "      <td>0</td>\n",
              "      <td>0</td>\n",
              "      <td>0</td>\n",
              "    </tr>\n",
              "    <tr>\n",
              "      <th>1</th>\n",
              "      <td>2000</td>\n",
              "      <td>True</td>\n",
              "      <td>10</td>\n",
              "      <td>tt0111161</td>\n",
              "      <td>142</td>\n",
              "      <td>9.3</td>\n",
              "      <td>1994</td>\n",
              "      <td>The Shawshank Redemption without doubt one bri...</td>\n",
              "      <td>In 1947, Andy Dufresne (Tim Robbins), banker M...</td>\n",
              "      <td>Simply amazing. The best film 90's.</td>\n",
              "      <td>Chronicles experiences formerly successful ban...</td>\n",
              "      <td>0</td>\n",
              "      <td>0</td>\n",
              "      <td>0</td>\n",
              "      <td>0</td>\n",
              "      <td>0</td>\n",
              "      <td>1</td>\n",
              "      <td>1</td>\n",
              "      <td>0</td>\n",
              "      <td>0</td>\n",
              "      <td>0</td>\n",
              "      <td>0</td>\n",
              "      <td>0</td>\n",
              "      <td>0</td>\n",
              "      <td>0</td>\n",
              "      <td>0</td>\n",
              "      <td>0</td>\n",
              "      <td>0</td>\n",
              "      <td>0</td>\n",
              "      <td>0</td>\n",
              "      <td>0</td>\n",
              "      <td>0</td>\n",
              "    </tr>\n",
              "    <tr>\n",
              "      <th>2</th>\n",
              "      <td>2001</td>\n",
              "      <td>True</td>\n",
              "      <td>8</td>\n",
              "      <td>tt0111161</td>\n",
              "      <td>142</td>\n",
              "      <td>9.3</td>\n",
              "      <td>1994</td>\n",
              "      <td>I believe film best story ever told film, I'm ...</td>\n",
              "      <td>In 1947, Andy Dufresne (Tim Robbins), banker M...</td>\n",
              "      <td>The best story ever told film</td>\n",
              "      <td>Chronicles experiences formerly successful ban...</td>\n",
              "      <td>0</td>\n",
              "      <td>0</td>\n",
              "      <td>0</td>\n",
              "      <td>0</td>\n",
              "      <td>0</td>\n",
              "      <td>1</td>\n",
              "      <td>1</td>\n",
              "      <td>0</td>\n",
              "      <td>0</td>\n",
              "      <td>0</td>\n",
              "      <td>0</td>\n",
              "      <td>0</td>\n",
              "      <td>0</td>\n",
              "      <td>0</td>\n",
              "      <td>0</td>\n",
              "      <td>0</td>\n",
              "      <td>0</td>\n",
              "      <td>0</td>\n",
              "      <td>0</td>\n",
              "      <td>0</td>\n",
              "      <td>0</td>\n",
              "    </tr>\n",
              "    <tr>\n",
              "      <th>3</th>\n",
              "      <td>2002</td>\n",
              "      <td>True</td>\n",
              "      <td>10</td>\n",
              "      <td>tt0111161</td>\n",
              "      <td>142</td>\n",
              "      <td>9.3</td>\n",
              "      <td>1994</td>\n",
              "      <td>**Yes, SPOILERS here**This film emotional impa...</td>\n",
              "      <td>In 1947, Andy Dufresne (Tim Robbins), banker M...</td>\n",
              "      <td>Busy dying busy living?</td>\n",
              "      <td>Chronicles experiences formerly successful ban...</td>\n",
              "      <td>0</td>\n",
              "      <td>0</td>\n",
              "      <td>0</td>\n",
              "      <td>0</td>\n",
              "      <td>0</td>\n",
              "      <td>1</td>\n",
              "      <td>1</td>\n",
              "      <td>0</td>\n",
              "      <td>0</td>\n",
              "      <td>0</td>\n",
              "      <td>0</td>\n",
              "      <td>0</td>\n",
              "      <td>0</td>\n",
              "      <td>0</td>\n",
              "      <td>0</td>\n",
              "      <td>0</td>\n",
              "      <td>0</td>\n",
              "      <td>0</td>\n",
              "      <td>0</td>\n",
              "      <td>0</td>\n",
              "      <td>0</td>\n",
              "    </tr>\n",
              "    <tr>\n",
              "      <th>4</th>\n",
              "      <td>2004</td>\n",
              "      <td>True</td>\n",
              "      <td>8</td>\n",
              "      <td>tt0111161</td>\n",
              "      <td>142</td>\n",
              "      <td>9.3</td>\n",
              "      <td>1994</td>\n",
              "      <td>At heart extraordinary movie brilliant indelib...</td>\n",
              "      <td>In 1947, Andy Dufresne (Tim Robbins), banker M...</td>\n",
              "      <td>Great story, wondrously told acted</td>\n",
              "      <td>Chronicles experiences formerly successful ban...</td>\n",
              "      <td>0</td>\n",
              "      <td>0</td>\n",
              "      <td>0</td>\n",
              "      <td>0</td>\n",
              "      <td>0</td>\n",
              "      <td>1</td>\n",
              "      <td>1</td>\n",
              "      <td>0</td>\n",
              "      <td>0</td>\n",
              "      <td>0</td>\n",
              "      <td>0</td>\n",
              "      <td>0</td>\n",
              "      <td>0</td>\n",
              "      <td>0</td>\n",
              "      <td>0</td>\n",
              "      <td>0</td>\n",
              "      <td>0</td>\n",
              "      <td>0</td>\n",
              "      <td>0</td>\n",
              "      <td>0</td>\n",
              "      <td>0</td>\n",
              "    </tr>\n",
              "    <tr>\n",
              "      <th>...</th>\n",
              "      <td>...</td>\n",
              "      <td>...</td>\n",
              "      <td>...</td>\n",
              "      <td>...</td>\n",
              "      <td>...</td>\n",
              "      <td>...</td>\n",
              "      <td>...</td>\n",
              "      <td>...</td>\n",
              "      <td>...</td>\n",
              "      <td>...</td>\n",
              "      <td>...</td>\n",
              "      <td>...</td>\n",
              "      <td>...</td>\n",
              "      <td>...</td>\n",
              "      <td>...</td>\n",
              "      <td>...</td>\n",
              "      <td>...</td>\n",
              "      <td>...</td>\n",
              "      <td>...</td>\n",
              "      <td>...</td>\n",
              "      <td>...</td>\n",
              "      <td>...</td>\n",
              "      <td>...</td>\n",
              "      <td>...</td>\n",
              "      <td>...</td>\n",
              "      <td>...</td>\n",
              "      <td>...</td>\n",
              "      <td>...</td>\n",
              "      <td>...</td>\n",
              "      <td>...</td>\n",
              "      <td>...</td>\n",
              "      <td>...</td>\n",
              "    </tr>\n",
              "    <tr>\n",
              "      <th>573901</th>\n",
              "      <td>1999</td>\n",
              "      <td>False</td>\n",
              "      <td>10</td>\n",
              "      <td>tt0139239</td>\n",
              "      <td>102</td>\n",
              "      <td>7.3</td>\n",
              "      <td>1999</td>\n",
              "      <td>It's time acknowledge Pulp Fiction pioneer fil...</td>\n",
              "      <td>The film told chronological format, story told...</td>\n",
              "      <td>Go gave I wanted 103 minutes action, lots supe...</td>\n",
              "      <td>Told three perspectives, story bunch young Cal...</td>\n",
              "      <td>0</td>\n",
              "      <td>0</td>\n",
              "      <td>0</td>\n",
              "      <td>0</td>\n",
              "      <td>1</td>\n",
              "      <td>1</td>\n",
              "      <td>0</td>\n",
              "      <td>0</td>\n",
              "      <td>0</td>\n",
              "      <td>0</td>\n",
              "      <td>0</td>\n",
              "      <td>0</td>\n",
              "      <td>0</td>\n",
              "      <td>0</td>\n",
              "      <td>0</td>\n",
              "      <td>0</td>\n",
              "      <td>0</td>\n",
              "      <td>0</td>\n",
              "      <td>0</td>\n",
              "      <td>0</td>\n",
              "      <td>0</td>\n",
              "    </tr>\n",
              "    <tr>\n",
              "      <th>573902</th>\n",
              "      <td>1999</td>\n",
              "      <td>False</td>\n",
              "      <td>9</td>\n",
              "      <td>tt0139239</td>\n",
              "      <td>102</td>\n",
              "      <td>7.3</td>\n",
              "      <td>1999</td>\n",
              "      <td>I went movies last night, option watching Go W...</td>\n",
              "      <td>The film told chronological format, story told...</td>\n",
              "      <td>Right money</td>\n",
              "      <td>Told three perspectives, story bunch young Cal...</td>\n",
              "      <td>0</td>\n",
              "      <td>0</td>\n",
              "      <td>0</td>\n",
              "      <td>0</td>\n",
              "      <td>1</td>\n",
              "      <td>1</td>\n",
              "      <td>0</td>\n",
              "      <td>0</td>\n",
              "      <td>0</td>\n",
              "      <td>0</td>\n",
              "      <td>0</td>\n",
              "      <td>0</td>\n",
              "      <td>0</td>\n",
              "      <td>0</td>\n",
              "      <td>0</td>\n",
              "      <td>0</td>\n",
              "      <td>0</td>\n",
              "      <td>0</td>\n",
              "      <td>0</td>\n",
              "      <td>0</td>\n",
              "      <td>0</td>\n",
              "    </tr>\n",
              "    <tr>\n",
              "      <th>573903</th>\n",
              "      <td>1999</td>\n",
              "      <td>False</td>\n",
              "      <td>9</td>\n",
              "      <td>tt0139239</td>\n",
              "      <td>102</td>\n",
              "      <td>7.3</td>\n",
              "      <td>1999</td>\n",
              "      <td>Not bad, bad all. I sucker film plays havoc 'p...</td>\n",
              "      <td>The film told chronological format, story told...</td>\n",
              "      <td>Did somebody say 'Quentin Tarantino'?</td>\n",
              "      <td>Told three perspectives, story bunch young Cal...</td>\n",
              "      <td>0</td>\n",
              "      <td>0</td>\n",
              "      <td>0</td>\n",
              "      <td>0</td>\n",
              "      <td>1</td>\n",
              "      <td>1</td>\n",
              "      <td>0</td>\n",
              "      <td>0</td>\n",
              "      <td>0</td>\n",
              "      <td>0</td>\n",
              "      <td>0</td>\n",
              "      <td>0</td>\n",
              "      <td>0</td>\n",
              "      <td>0</td>\n",
              "      <td>0</td>\n",
              "      <td>0</td>\n",
              "      <td>0</td>\n",
              "      <td>0</td>\n",
              "      <td>0</td>\n",
              "      <td>0</td>\n",
              "      <td>0</td>\n",
              "    </tr>\n",
              "    <tr>\n",
              "      <th>573904</th>\n",
              "      <td>1999</td>\n",
              "      <td>False</td>\n",
              "      <td>10</td>\n",
              "      <td>tt0139239</td>\n",
              "      <td>102</td>\n",
              "      <td>7.3</td>\n",
              "      <td>1999</td>\n",
              "      <td>I think movie under-appreciated American audie...</td>\n",
              "      <td>The film told chronological format, story told...</td>\n",
              "      <td>innovative rockin'...I love Go!</td>\n",
              "      <td>Told three perspectives, story bunch young Cal...</td>\n",
              "      <td>0</td>\n",
              "      <td>0</td>\n",
              "      <td>0</td>\n",
              "      <td>0</td>\n",
              "      <td>1</td>\n",
              "      <td>1</td>\n",
              "      <td>0</td>\n",
              "      <td>0</td>\n",
              "      <td>0</td>\n",
              "      <td>0</td>\n",
              "      <td>0</td>\n",
              "      <td>0</td>\n",
              "      <td>0</td>\n",
              "      <td>0</td>\n",
              "      <td>0</td>\n",
              "      <td>0</td>\n",
              "      <td>0</td>\n",
              "      <td>0</td>\n",
              "      <td>0</td>\n",
              "      <td>0</td>\n",
              "      <td>0</td>\n",
              "    </tr>\n",
              "    <tr>\n",
              "      <th>573905</th>\n",
              "      <td>1999</td>\n",
              "      <td>False</td>\n",
              "      <td>8</td>\n",
              "      <td>tt0139239</td>\n",
              "      <td>102</td>\n",
              "      <td>7.3</td>\n",
              "      <td>1999</td>\n",
              "      <td>I saw Go! knot bows - interesting look teenage...</td>\n",
              "      <td>The film told chronological format, story told...</td>\n",
              "      <td>knot bows</td>\n",
              "      <td>Told three perspectives, story bunch young Cal...</td>\n",
              "      <td>0</td>\n",
              "      <td>0</td>\n",
              "      <td>0</td>\n",
              "      <td>0</td>\n",
              "      <td>1</td>\n",
              "      <td>1</td>\n",
              "      <td>0</td>\n",
              "      <td>0</td>\n",
              "      <td>0</td>\n",
              "      <td>0</td>\n",
              "      <td>0</td>\n",
              "      <td>0</td>\n",
              "      <td>0</td>\n",
              "      <td>0</td>\n",
              "      <td>0</td>\n",
              "      <td>0</td>\n",
              "      <td>0</td>\n",
              "      <td>0</td>\n",
              "      <td>0</td>\n",
              "      <td>0</td>\n",
              "      <td>0</td>\n",
              "    </tr>\n",
              "  </tbody>\n",
              "</table>\n",
              "<p>573906 rows × 32 columns</p>\n",
              "</div>"
            ],
            "text/plain": [
              "        review_date  is_spoiler  rating_x  ... Thriller  War  Western\n",
              "0              2006        True        10  ...        0    0        0\n",
              "1              2000        True        10  ...        0    0        0\n",
              "2              2001        True         8  ...        0    0        0\n",
              "3              2002        True        10  ...        0    0        0\n",
              "4              2004        True         8  ...        0    0        0\n",
              "...             ...         ...       ...  ...      ...  ...      ...\n",
              "573901         1999       False        10  ...        0    0        0\n",
              "573902         1999       False         9  ...        0    0        0\n",
              "573903         1999       False         9  ...        0    0        0\n",
              "573904         1999       False        10  ...        0    0        0\n",
              "573905         1999       False         8  ...        0    0        0\n",
              "\n",
              "[573906 rows x 32 columns]"
            ]
          },
          "metadata": {
            "tags": []
          },
          "execution_count": 59
        }
      ]
    },
    {
      "cell_type": "code",
      "metadata": {
        "id": "rFlI2kI2NUi-"
      },
      "source": [
        "final.to_csv(\"final_dataset.csv\")"
      ],
      "execution_count": null,
      "outputs": []
    },
    {
      "cell_type": "code",
      "metadata": {
        "colab": {
          "base_uri": "https://localhost:8080/"
        },
        "id": "zsK8884yNcoF",
        "outputId": "9f1a5b85-715d-4d44-b106-99a9ba469b2f"
      },
      "source": [
        "!zip final_dataset.zip final_dataset.csv"
      ],
      "execution_count": null,
      "outputs": [
        {
          "output_type": "stream",
          "text": [
            "  adding: final_dataset.csv (deflated 92%)\n"
          ],
          "name": "stdout"
        }
      ]
    },
    {
      "cell_type": "code",
      "metadata": {
        "id": "9_bkeAyNQQu9"
      },
      "source": [
        ""
      ],
      "execution_count": null,
      "outputs": []
    },
    {
      "cell_type": "markdown",
      "metadata": {
        "id": "m-5aTFGZMSSg"
      },
      "source": [
        "Day 5"
      ]
    },
    {
      "cell_type": "markdown",
      "metadata": {
        "id": "PLP_qCByMRsJ"
      },
      "source": [
        ""
      ]
    },
    {
      "cell_type": "code",
      "metadata": {
        "colab": {
          "base_uri": "https://localhost:8080/"
        },
        "id": "umXydNN1MVSz",
        "outputId": "bc702b8a-b3f9-49b1-fc5d-9c781bfdda14"
      },
      "source": [
        "!unzip 'drive/MyDrive/final_dataset.zip'"
      ],
      "execution_count": null,
      "outputs": [
        {
          "output_type": "stream",
          "text": [
            "Archive:  drive/MyDrive/final_dataset.zip\n",
            "  inflating: final_dataset.csv       \n"
          ],
          "name": "stdout"
        }
      ]
    },
    {
      "cell_type": "code",
      "metadata": {
        "id": "sN8LCN4LNOG5"
      },
      "source": [
        "df = pd.read_csv('final_dataset.csv')"
      ],
      "execution_count": null,
      "outputs": []
    },
    {
      "cell_type": "code",
      "metadata": {
        "colab": {
          "base_uri": "https://localhost:8080/",
          "height": 813
        },
        "id": "vof1xkAjUK6R",
        "outputId": "337e8b4a-e723-4e0a-e1b1-cc1a60212818"
      },
      "source": [
        "df[\"new_column\"] = df['review_summary_without_stopwords'].str.replace('[^\\w\\s]','')\n",
        "df"
      ],
      "execution_count": null,
      "outputs": [
        {
          "output_type": "execute_result",
          "data": {
            "text/html": [
              "<div>\n",
              "<style scoped>\n",
              "    .dataframe tbody tr th:only-of-type {\n",
              "        vertical-align: middle;\n",
              "    }\n",
              "\n",
              "    .dataframe tbody tr th {\n",
              "        vertical-align: top;\n",
              "    }\n",
              "\n",
              "    .dataframe thead th {\n",
              "        text-align: right;\n",
              "    }\n",
              "</style>\n",
              "<table border=\"1\" class=\"dataframe\">\n",
              "  <thead>\n",
              "    <tr style=\"text-align: right;\">\n",
              "      <th></th>\n",
              "      <th>Unnamed: 0</th>\n",
              "      <th>review_date</th>\n",
              "      <th>is_spoiler</th>\n",
              "      <th>rating_x</th>\n",
              "      <th>movie_id_y</th>\n",
              "      <th>duration</th>\n",
              "      <th>rating_y</th>\n",
              "      <th>release_date</th>\n",
              "      <th>review_without_stopwords</th>\n",
              "      <th>description_without_stopwords</th>\n",
              "      <th>review_summary_without_stopwords</th>\n",
              "      <th>plot_summary_without_stopwords</th>\n",
              "      <th>Action</th>\n",
              "      <th>Adventure</th>\n",
              "      <th>Animation</th>\n",
              "      <th>Biography</th>\n",
              "      <th>Comedy</th>\n",
              "      <th>Crime</th>\n",
              "      <th>Drama</th>\n",
              "      <th>Family</th>\n",
              "      <th>Fantasy</th>\n",
              "      <th>Film-Noir</th>\n",
              "      <th>History</th>\n",
              "      <th>Horror</th>\n",
              "      <th>Music</th>\n",
              "      <th>Musical</th>\n",
              "      <th>Mystery</th>\n",
              "      <th>Romance</th>\n",
              "      <th>Sci-Fi</th>\n",
              "      <th>Sport</th>\n",
              "      <th>Thriller</th>\n",
              "      <th>War</th>\n",
              "      <th>Western</th>\n",
              "      <th>new_column</th>\n",
              "    </tr>\n",
              "  </thead>\n",
              "  <tbody>\n",
              "    <tr>\n",
              "      <th>0</th>\n",
              "      <td>0</td>\n",
              "      <td>2006</td>\n",
              "      <td>True</td>\n",
              "      <td>10</td>\n",
              "      <td>tt0111161</td>\n",
              "      <td>142</td>\n",
              "      <td>9.3</td>\n",
              "      <td>1994</td>\n",
              "      <td>In Oscar year, Shawshank Redemption (written d...</td>\n",
              "      <td>In 1947, Andy Dufresne (Tim Robbins), banker M...</td>\n",
              "      <td>A classic piece unforgettable film-making.</td>\n",
              "      <td>Chronicles experiences formerly successful ban...</td>\n",
              "      <td>0</td>\n",
              "      <td>0</td>\n",
              "      <td>0</td>\n",
              "      <td>0</td>\n",
              "      <td>0</td>\n",
              "      <td>1</td>\n",
              "      <td>1</td>\n",
              "      <td>0</td>\n",
              "      <td>0</td>\n",
              "      <td>0</td>\n",
              "      <td>0</td>\n",
              "      <td>0</td>\n",
              "      <td>0</td>\n",
              "      <td>0</td>\n",
              "      <td>0</td>\n",
              "      <td>0</td>\n",
              "      <td>0</td>\n",
              "      <td>0</td>\n",
              "      <td>0</td>\n",
              "      <td>0</td>\n",
              "      <td>0</td>\n",
              "      <td>A classic piece unforgettable filmmaking</td>\n",
              "    </tr>\n",
              "    <tr>\n",
              "      <th>1</th>\n",
              "      <td>1</td>\n",
              "      <td>2000</td>\n",
              "      <td>True</td>\n",
              "      <td>10</td>\n",
              "      <td>tt0111161</td>\n",
              "      <td>142</td>\n",
              "      <td>9.3</td>\n",
              "      <td>1994</td>\n",
              "      <td>The Shawshank Redemption without doubt one bri...</td>\n",
              "      <td>In 1947, Andy Dufresne (Tim Robbins), banker M...</td>\n",
              "      <td>Simply amazing. The best film 90's.</td>\n",
              "      <td>Chronicles experiences formerly successful ban...</td>\n",
              "      <td>0</td>\n",
              "      <td>0</td>\n",
              "      <td>0</td>\n",
              "      <td>0</td>\n",
              "      <td>0</td>\n",
              "      <td>1</td>\n",
              "      <td>1</td>\n",
              "      <td>0</td>\n",
              "      <td>0</td>\n",
              "      <td>0</td>\n",
              "      <td>0</td>\n",
              "      <td>0</td>\n",
              "      <td>0</td>\n",
              "      <td>0</td>\n",
              "      <td>0</td>\n",
              "      <td>0</td>\n",
              "      <td>0</td>\n",
              "      <td>0</td>\n",
              "      <td>0</td>\n",
              "      <td>0</td>\n",
              "      <td>0</td>\n",
              "      <td>Simply amazing The best film 90s</td>\n",
              "    </tr>\n",
              "    <tr>\n",
              "      <th>2</th>\n",
              "      <td>2</td>\n",
              "      <td>2001</td>\n",
              "      <td>True</td>\n",
              "      <td>8</td>\n",
              "      <td>tt0111161</td>\n",
              "      <td>142</td>\n",
              "      <td>9.3</td>\n",
              "      <td>1994</td>\n",
              "      <td>I believe film best story ever told film, I'm ...</td>\n",
              "      <td>In 1947, Andy Dufresne (Tim Robbins), banker M...</td>\n",
              "      <td>The best story ever told film</td>\n",
              "      <td>Chronicles experiences formerly successful ban...</td>\n",
              "      <td>0</td>\n",
              "      <td>0</td>\n",
              "      <td>0</td>\n",
              "      <td>0</td>\n",
              "      <td>0</td>\n",
              "      <td>1</td>\n",
              "      <td>1</td>\n",
              "      <td>0</td>\n",
              "      <td>0</td>\n",
              "      <td>0</td>\n",
              "      <td>0</td>\n",
              "      <td>0</td>\n",
              "      <td>0</td>\n",
              "      <td>0</td>\n",
              "      <td>0</td>\n",
              "      <td>0</td>\n",
              "      <td>0</td>\n",
              "      <td>0</td>\n",
              "      <td>0</td>\n",
              "      <td>0</td>\n",
              "      <td>0</td>\n",
              "      <td>The best story ever told film</td>\n",
              "    </tr>\n",
              "    <tr>\n",
              "      <th>3</th>\n",
              "      <td>3</td>\n",
              "      <td>2002</td>\n",
              "      <td>True</td>\n",
              "      <td>10</td>\n",
              "      <td>tt0111161</td>\n",
              "      <td>142</td>\n",
              "      <td>9.3</td>\n",
              "      <td>1994</td>\n",
              "      <td>**Yes, SPOILERS here**This film emotional impa...</td>\n",
              "      <td>In 1947, Andy Dufresne (Tim Robbins), banker M...</td>\n",
              "      <td>Busy dying busy living?</td>\n",
              "      <td>Chronicles experiences formerly successful ban...</td>\n",
              "      <td>0</td>\n",
              "      <td>0</td>\n",
              "      <td>0</td>\n",
              "      <td>0</td>\n",
              "      <td>0</td>\n",
              "      <td>1</td>\n",
              "      <td>1</td>\n",
              "      <td>0</td>\n",
              "      <td>0</td>\n",
              "      <td>0</td>\n",
              "      <td>0</td>\n",
              "      <td>0</td>\n",
              "      <td>0</td>\n",
              "      <td>0</td>\n",
              "      <td>0</td>\n",
              "      <td>0</td>\n",
              "      <td>0</td>\n",
              "      <td>0</td>\n",
              "      <td>0</td>\n",
              "      <td>0</td>\n",
              "      <td>0</td>\n",
              "      <td>Busy dying busy living</td>\n",
              "    </tr>\n",
              "    <tr>\n",
              "      <th>4</th>\n",
              "      <td>4</td>\n",
              "      <td>2004</td>\n",
              "      <td>True</td>\n",
              "      <td>8</td>\n",
              "      <td>tt0111161</td>\n",
              "      <td>142</td>\n",
              "      <td>9.3</td>\n",
              "      <td>1994</td>\n",
              "      <td>At heart extraordinary movie brilliant indelib...</td>\n",
              "      <td>In 1947, Andy Dufresne (Tim Robbins), banker M...</td>\n",
              "      <td>Great story, wondrously told acted</td>\n",
              "      <td>Chronicles experiences formerly successful ban...</td>\n",
              "      <td>0</td>\n",
              "      <td>0</td>\n",
              "      <td>0</td>\n",
              "      <td>0</td>\n",
              "      <td>0</td>\n",
              "      <td>1</td>\n",
              "      <td>1</td>\n",
              "      <td>0</td>\n",
              "      <td>0</td>\n",
              "      <td>0</td>\n",
              "      <td>0</td>\n",
              "      <td>0</td>\n",
              "      <td>0</td>\n",
              "      <td>0</td>\n",
              "      <td>0</td>\n",
              "      <td>0</td>\n",
              "      <td>0</td>\n",
              "      <td>0</td>\n",
              "      <td>0</td>\n",
              "      <td>0</td>\n",
              "      <td>0</td>\n",
              "      <td>Great story wondrously told acted</td>\n",
              "    </tr>\n",
              "    <tr>\n",
              "      <th>...</th>\n",
              "      <td>...</td>\n",
              "      <td>...</td>\n",
              "      <td>...</td>\n",
              "      <td>...</td>\n",
              "      <td>...</td>\n",
              "      <td>...</td>\n",
              "      <td>...</td>\n",
              "      <td>...</td>\n",
              "      <td>...</td>\n",
              "      <td>...</td>\n",
              "      <td>...</td>\n",
              "      <td>...</td>\n",
              "      <td>...</td>\n",
              "      <td>...</td>\n",
              "      <td>...</td>\n",
              "      <td>...</td>\n",
              "      <td>...</td>\n",
              "      <td>...</td>\n",
              "      <td>...</td>\n",
              "      <td>...</td>\n",
              "      <td>...</td>\n",
              "      <td>...</td>\n",
              "      <td>...</td>\n",
              "      <td>...</td>\n",
              "      <td>...</td>\n",
              "      <td>...</td>\n",
              "      <td>...</td>\n",
              "      <td>...</td>\n",
              "      <td>...</td>\n",
              "      <td>...</td>\n",
              "      <td>...</td>\n",
              "      <td>...</td>\n",
              "      <td>...</td>\n",
              "      <td>...</td>\n",
              "    </tr>\n",
              "    <tr>\n",
              "      <th>573901</th>\n",
              "      <td>573901</td>\n",
              "      <td>1999</td>\n",
              "      <td>False</td>\n",
              "      <td>10</td>\n",
              "      <td>tt0139239</td>\n",
              "      <td>102</td>\n",
              "      <td>7.3</td>\n",
              "      <td>1999</td>\n",
              "      <td>It's time acknowledge Pulp Fiction pioneer fil...</td>\n",
              "      <td>The film told chronological format, story told...</td>\n",
              "      <td>Go gave I wanted 103 minutes action, lots supe...</td>\n",
              "      <td>Told three perspectives, story bunch young Cal...</td>\n",
              "      <td>0</td>\n",
              "      <td>0</td>\n",
              "      <td>0</td>\n",
              "      <td>0</td>\n",
              "      <td>1</td>\n",
              "      <td>1</td>\n",
              "      <td>0</td>\n",
              "      <td>0</td>\n",
              "      <td>0</td>\n",
              "      <td>0</td>\n",
              "      <td>0</td>\n",
              "      <td>0</td>\n",
              "      <td>0</td>\n",
              "      <td>0</td>\n",
              "      <td>0</td>\n",
              "      <td>0</td>\n",
              "      <td>0</td>\n",
              "      <td>0</td>\n",
              "      <td>0</td>\n",
              "      <td>0</td>\n",
              "      <td>0</td>\n",
              "      <td>Go gave I wanted 103 minutes action lots super...</td>\n",
              "    </tr>\n",
              "    <tr>\n",
              "      <th>573902</th>\n",
              "      <td>573902</td>\n",
              "      <td>1999</td>\n",
              "      <td>False</td>\n",
              "      <td>9</td>\n",
              "      <td>tt0139239</td>\n",
              "      <td>102</td>\n",
              "      <td>7.3</td>\n",
              "      <td>1999</td>\n",
              "      <td>I went movies last night, option watching Go W...</td>\n",
              "      <td>The film told chronological format, story told...</td>\n",
              "      <td>Right money</td>\n",
              "      <td>Told three perspectives, story bunch young Cal...</td>\n",
              "      <td>0</td>\n",
              "      <td>0</td>\n",
              "      <td>0</td>\n",
              "      <td>0</td>\n",
              "      <td>1</td>\n",
              "      <td>1</td>\n",
              "      <td>0</td>\n",
              "      <td>0</td>\n",
              "      <td>0</td>\n",
              "      <td>0</td>\n",
              "      <td>0</td>\n",
              "      <td>0</td>\n",
              "      <td>0</td>\n",
              "      <td>0</td>\n",
              "      <td>0</td>\n",
              "      <td>0</td>\n",
              "      <td>0</td>\n",
              "      <td>0</td>\n",
              "      <td>0</td>\n",
              "      <td>0</td>\n",
              "      <td>0</td>\n",
              "      <td>Right money</td>\n",
              "    </tr>\n",
              "    <tr>\n",
              "      <th>573903</th>\n",
              "      <td>573903</td>\n",
              "      <td>1999</td>\n",
              "      <td>False</td>\n",
              "      <td>9</td>\n",
              "      <td>tt0139239</td>\n",
              "      <td>102</td>\n",
              "      <td>7.3</td>\n",
              "      <td>1999</td>\n",
              "      <td>Not bad, bad all. I sucker film plays havoc 'p...</td>\n",
              "      <td>The film told chronological format, story told...</td>\n",
              "      <td>Did somebody say 'Quentin Tarantino'?</td>\n",
              "      <td>Told three perspectives, story bunch young Cal...</td>\n",
              "      <td>0</td>\n",
              "      <td>0</td>\n",
              "      <td>0</td>\n",
              "      <td>0</td>\n",
              "      <td>1</td>\n",
              "      <td>1</td>\n",
              "      <td>0</td>\n",
              "      <td>0</td>\n",
              "      <td>0</td>\n",
              "      <td>0</td>\n",
              "      <td>0</td>\n",
              "      <td>0</td>\n",
              "      <td>0</td>\n",
              "      <td>0</td>\n",
              "      <td>0</td>\n",
              "      <td>0</td>\n",
              "      <td>0</td>\n",
              "      <td>0</td>\n",
              "      <td>0</td>\n",
              "      <td>0</td>\n",
              "      <td>0</td>\n",
              "      <td>Did somebody say Quentin Tarantino</td>\n",
              "    </tr>\n",
              "    <tr>\n",
              "      <th>573904</th>\n",
              "      <td>573904</td>\n",
              "      <td>1999</td>\n",
              "      <td>False</td>\n",
              "      <td>10</td>\n",
              "      <td>tt0139239</td>\n",
              "      <td>102</td>\n",
              "      <td>7.3</td>\n",
              "      <td>1999</td>\n",
              "      <td>I think movie under-appreciated American audie...</td>\n",
              "      <td>The film told chronological format, story told...</td>\n",
              "      <td>innovative rockin'...I love Go!</td>\n",
              "      <td>Told three perspectives, story bunch young Cal...</td>\n",
              "      <td>0</td>\n",
              "      <td>0</td>\n",
              "      <td>0</td>\n",
              "      <td>0</td>\n",
              "      <td>1</td>\n",
              "      <td>1</td>\n",
              "      <td>0</td>\n",
              "      <td>0</td>\n",
              "      <td>0</td>\n",
              "      <td>0</td>\n",
              "      <td>0</td>\n",
              "      <td>0</td>\n",
              "      <td>0</td>\n",
              "      <td>0</td>\n",
              "      <td>0</td>\n",
              "      <td>0</td>\n",
              "      <td>0</td>\n",
              "      <td>0</td>\n",
              "      <td>0</td>\n",
              "      <td>0</td>\n",
              "      <td>0</td>\n",
              "      <td>innovative rockinI love Go</td>\n",
              "    </tr>\n",
              "    <tr>\n",
              "      <th>573905</th>\n",
              "      <td>573905</td>\n",
              "      <td>1999</td>\n",
              "      <td>False</td>\n",
              "      <td>8</td>\n",
              "      <td>tt0139239</td>\n",
              "      <td>102</td>\n",
              "      <td>7.3</td>\n",
              "      <td>1999</td>\n",
              "      <td>I saw Go! knot bows - interesting look teenage...</td>\n",
              "      <td>The film told chronological format, story told...</td>\n",
              "      <td>knot bows</td>\n",
              "      <td>Told three perspectives, story bunch young Cal...</td>\n",
              "      <td>0</td>\n",
              "      <td>0</td>\n",
              "      <td>0</td>\n",
              "      <td>0</td>\n",
              "      <td>1</td>\n",
              "      <td>1</td>\n",
              "      <td>0</td>\n",
              "      <td>0</td>\n",
              "      <td>0</td>\n",
              "      <td>0</td>\n",
              "      <td>0</td>\n",
              "      <td>0</td>\n",
              "      <td>0</td>\n",
              "      <td>0</td>\n",
              "      <td>0</td>\n",
              "      <td>0</td>\n",
              "      <td>0</td>\n",
              "      <td>0</td>\n",
              "      <td>0</td>\n",
              "      <td>0</td>\n",
              "      <td>0</td>\n",
              "      <td>knot bows</td>\n",
              "    </tr>\n",
              "  </tbody>\n",
              "</table>\n",
              "<p>573906 rows × 34 columns</p>\n",
              "</div>"
            ],
            "text/plain": [
              "        Unnamed: 0  ...                                         new_column\n",
              "0                0  ...           A classic piece unforgettable filmmaking\n",
              "1                1  ...                   Simply amazing The best film 90s\n",
              "2                2  ...                      The best story ever told film\n",
              "3                3  ...                             Busy dying busy living\n",
              "4                4  ...                  Great story wondrously told acted\n",
              "...            ...  ...                                                ...\n",
              "573901      573901  ...  Go gave I wanted 103 minutes action lots super...\n",
              "573902      573902  ...                                        Right money\n",
              "573903      573903  ...                 Did somebody say Quentin Tarantino\n",
              "573904      573904  ...                         innovative rockinI love Go\n",
              "573905      573905  ...                                          knot bows\n",
              "\n",
              "[573906 rows x 34 columns]"
            ]
          },
          "metadata": {
            "tags": []
          },
          "execution_count": 4
        }
      ]
    },
    {
      "cell_type": "markdown",
      "metadata": {
        "id": "zSMkjGsRUKXH"
      },
      "source": [
        ""
      ]
    },
    {
      "cell_type": "code",
      "metadata": {
        "id": "xZQnIFl8NS-e"
      },
      "source": [
        "df['review_summary_without_stopwords']([y for x in df.values.flatten() for y in str(x).split()]).value_counts()"
      ],
      "execution_count": null,
      "outputs": []
    },
    {
      "cell_type": "markdown",
      "metadata": {
        "id": "5ZE6Bxv-vMX3"
      },
      "source": [
        "Lets try fitting models on the non-text variables"
      ]
    },
    {
      "cell_type": "code",
      "metadata": {
        "colab": {
          "base_uri": "https://localhost:8080/"
        },
        "id": "G7pAlpvgwyd_",
        "outputId": "68a7fcf3-a359-409d-9530-c7d134bcfb3f"
      },
      "source": [
        "!pip install catboost"
      ],
      "execution_count": null,
      "outputs": [
        {
          "output_type": "stream",
          "text": [
            "Collecting catboost\n",
            "\u001b[?25l  Downloading https://files.pythonhosted.org/packages/47/80/8e9c57ec32dfed6ba2922bc5c96462cbf8596ce1a6f5de532ad1e43e53fe/catboost-0.25.1-cp37-none-manylinux1_x86_64.whl (67.3MB)\n",
            "\u001b[K     |████████████████████████████████| 67.3MB 64kB/s \n",
            "\u001b[?25hRequirement already satisfied: graphviz in /usr/local/lib/python3.7/dist-packages (from catboost) (0.10.1)\n",
            "Requirement already satisfied: numpy>=1.16.0 in /usr/local/lib/python3.7/dist-packages (from catboost) (1.19.5)\n",
            "Requirement already satisfied: plotly in /usr/local/lib/python3.7/dist-packages (from catboost) (4.4.1)\n",
            "Requirement already satisfied: matplotlib in /usr/local/lib/python3.7/dist-packages (from catboost) (3.2.2)\n",
            "Requirement already satisfied: scipy in /usr/local/lib/python3.7/dist-packages (from catboost) (1.4.1)\n",
            "Requirement already satisfied: six in /usr/local/lib/python3.7/dist-packages (from catboost) (1.15.0)\n",
            "Requirement already satisfied: pandas>=0.24.0 in /usr/local/lib/python3.7/dist-packages (from catboost) (1.1.5)\n",
            "Requirement already satisfied: retrying>=1.3.3 in /usr/local/lib/python3.7/dist-packages (from plotly->catboost) (1.3.3)\n",
            "Requirement already satisfied: cycler>=0.10 in /usr/local/lib/python3.7/dist-packages (from matplotlib->catboost) (0.10.0)\n",
            "Requirement already satisfied: python-dateutil>=2.1 in /usr/local/lib/python3.7/dist-packages (from matplotlib->catboost) (2.8.1)\n",
            "Requirement already satisfied: pyparsing!=2.0.4,!=2.1.2,!=2.1.6,>=2.0.1 in /usr/local/lib/python3.7/dist-packages (from matplotlib->catboost) (2.4.7)\n",
            "Requirement already satisfied: kiwisolver>=1.0.1 in /usr/local/lib/python3.7/dist-packages (from matplotlib->catboost) (1.3.1)\n",
            "Requirement already satisfied: pytz>=2017.2 in /usr/local/lib/python3.7/dist-packages (from pandas>=0.24.0->catboost) (2018.9)\n",
            "Installing collected packages: catboost\n",
            "Successfully installed catboost-0.25.1\n"
          ],
          "name": "stdout"
        }
      ]
    },
    {
      "cell_type": "code",
      "metadata": {
        "id": "cstuL27rvaAX"
      },
      "source": [
        "from sklearn.model_selection import train_test_split\n",
        "from sklearn.preprocessing import StandardScaler\n",
        "from sklearn.datasets import make_moons, make_circles, make_classification\n",
        "from sklearn.neural_network import MLPClassifier\n",
        "from sklearn.neighbors import KNeighborsClassifier\n",
        "from sklearn.svm import SVC\n",
        "from sklearn.gaussian_process import GaussianProcessClassifier\n",
        "from sklearn.gaussian_process.kernels import RBF\n",
        "from sklearn.tree import DecisionTreeClassifier\n",
        "from sklearn.ensemble import RandomForestClassifier, AdaBoostClassifier\n",
        "from sklearn.naive_bayes import GaussianNB\n",
        "from sklearn.discriminant_analysis import QuadraticDiscriminantAnalysis\n",
        "from catboost import CatBoostClassifier\n",
        "from xgboost import XGBClassifier\n",
        "from sklearn.linear_model import SGDClassifier\n",
        "from lightgbm import LGBMClassifier\n",
        "from sklearn.linear_model import LogisticRegression\n",
        "from sklearn.metrics import accuracy_score, roc_auc_score\n",
        "from sklearn.preprocessing import LabelEncoder\n",
        "from sklearn.inspection import permutation_importance\n"
      ],
      "execution_count": null,
      "outputs": []
    },
    {
      "cell_type": "code",
      "metadata": {
        "id": "ddVw2GMpvPWt"
      },
      "source": [
        "classifiers = [[CatBoostClassifier(verbose=0),'CatBoost Classifier'],[XGBClassifier(),'XGB Classifier'], [RandomForestClassifier(),'Random Forest'], \n",
        "    [KNeighborsClassifier(), 'K-Nearest Neighbours'], [SGDClassifier(),'SGD Classifier'], [SVC(),'SVC'],[LGBMClassifier(),'LGBM Classifier'],\n",
        "              [GaussianNB(),'GaussianNB'],[DecisionTreeClassifier(),'Decision Tree Classifier'],[LogisticRegression(),'Logistic Regression']]"
      ],
      "execution_count": null,
      "outputs": []
    },
    {
      "cell_type": "code",
      "metadata": {
        "id": "SYgMuuZcvsPP"
      },
      "source": [
        "names = [\"Nearest Neighbors\", \"Linear SVM\", \"RBF SVM\", \"Gaussian Process\",\n",
        "         \"Decision Tree\", \"Random Forest\", \"Neural Net\", \"AdaBoost\",\n",
        "         \"Naive Bayes\", \"QDA\"]"
      ],
      "execution_count": null,
      "outputs": []
    },
    {
      "cell_type": "code",
      "metadata": {
        "id": "PwebTkEwvuoZ"
      },
      "source": [
        "X = df.copy()\n",
        "y = X['is_spoiler']\n",
        "X = X.drop([\"review_without_stopwords\",\"description_without_stopwords\",\"review_summary_without_stopwords\",\"plot_summary_without_stopwords\"],1)"
      ],
      "execution_count": null,
      "outputs": []
    },
    {
      "cell_type": "code",
      "metadata": {
        "id": "PHt0x_JCwNz_"
      },
      "source": [
        "X.drop([\"Unnamed: 0\"], 1,inplace=True)"
      ],
      "execution_count": null,
      "outputs": []
    },
    {
      "cell_type": "code",
      "metadata": {
        "colab": {
          "base_uri": "https://localhost:8080/",
          "height": 438
        },
        "id": "cX5aaepPwUC0",
        "outputId": "32328b32-d42b-4db8-a604-a968573d451d"
      },
      "source": [
        "X = X.drop(['is_spoiler'],1)\n",
        "X"
      ],
      "execution_count": null,
      "outputs": [
        {
          "output_type": "execute_result",
          "data": {
            "text/html": [
              "<div>\n",
              "<style scoped>\n",
              "    .dataframe tbody tr th:only-of-type {\n",
              "        vertical-align: middle;\n",
              "    }\n",
              "\n",
              "    .dataframe tbody tr th {\n",
              "        vertical-align: top;\n",
              "    }\n",
              "\n",
              "    .dataframe thead th {\n",
              "        text-align: right;\n",
              "    }\n",
              "</style>\n",
              "<table border=\"1\" class=\"dataframe\">\n",
              "  <thead>\n",
              "    <tr style=\"text-align: right;\">\n",
              "      <th></th>\n",
              "      <th>review_date</th>\n",
              "      <th>rating_x</th>\n",
              "      <th>movie_id_y</th>\n",
              "      <th>duration</th>\n",
              "      <th>rating_y</th>\n",
              "      <th>release_date</th>\n",
              "      <th>Action</th>\n",
              "      <th>Adventure</th>\n",
              "      <th>Animation</th>\n",
              "      <th>Biography</th>\n",
              "      <th>Comedy</th>\n",
              "      <th>Crime</th>\n",
              "      <th>Drama</th>\n",
              "      <th>Family</th>\n",
              "      <th>Fantasy</th>\n",
              "      <th>Film-Noir</th>\n",
              "      <th>History</th>\n",
              "      <th>Horror</th>\n",
              "      <th>Music</th>\n",
              "      <th>Musical</th>\n",
              "      <th>Mystery</th>\n",
              "      <th>Romance</th>\n",
              "      <th>Sci-Fi</th>\n",
              "      <th>Sport</th>\n",
              "      <th>Thriller</th>\n",
              "      <th>War</th>\n",
              "      <th>Western</th>\n",
              "    </tr>\n",
              "  </thead>\n",
              "  <tbody>\n",
              "    <tr>\n",
              "      <th>0</th>\n",
              "      <td>2006</td>\n",
              "      <td>10</td>\n",
              "      <td>tt0111161</td>\n",
              "      <td>142</td>\n",
              "      <td>9.3</td>\n",
              "      <td>1994</td>\n",
              "      <td>0</td>\n",
              "      <td>0</td>\n",
              "      <td>0</td>\n",
              "      <td>0</td>\n",
              "      <td>0</td>\n",
              "      <td>1</td>\n",
              "      <td>1</td>\n",
              "      <td>0</td>\n",
              "      <td>0</td>\n",
              "      <td>0</td>\n",
              "      <td>0</td>\n",
              "      <td>0</td>\n",
              "      <td>0</td>\n",
              "      <td>0</td>\n",
              "      <td>0</td>\n",
              "      <td>0</td>\n",
              "      <td>0</td>\n",
              "      <td>0</td>\n",
              "      <td>0</td>\n",
              "      <td>0</td>\n",
              "      <td>0</td>\n",
              "    </tr>\n",
              "    <tr>\n",
              "      <th>1</th>\n",
              "      <td>2000</td>\n",
              "      <td>10</td>\n",
              "      <td>tt0111161</td>\n",
              "      <td>142</td>\n",
              "      <td>9.3</td>\n",
              "      <td>1994</td>\n",
              "      <td>0</td>\n",
              "      <td>0</td>\n",
              "      <td>0</td>\n",
              "      <td>0</td>\n",
              "      <td>0</td>\n",
              "      <td>1</td>\n",
              "      <td>1</td>\n",
              "      <td>0</td>\n",
              "      <td>0</td>\n",
              "      <td>0</td>\n",
              "      <td>0</td>\n",
              "      <td>0</td>\n",
              "      <td>0</td>\n",
              "      <td>0</td>\n",
              "      <td>0</td>\n",
              "      <td>0</td>\n",
              "      <td>0</td>\n",
              "      <td>0</td>\n",
              "      <td>0</td>\n",
              "      <td>0</td>\n",
              "      <td>0</td>\n",
              "    </tr>\n",
              "    <tr>\n",
              "      <th>2</th>\n",
              "      <td>2001</td>\n",
              "      <td>8</td>\n",
              "      <td>tt0111161</td>\n",
              "      <td>142</td>\n",
              "      <td>9.3</td>\n",
              "      <td>1994</td>\n",
              "      <td>0</td>\n",
              "      <td>0</td>\n",
              "      <td>0</td>\n",
              "      <td>0</td>\n",
              "      <td>0</td>\n",
              "      <td>1</td>\n",
              "      <td>1</td>\n",
              "      <td>0</td>\n",
              "      <td>0</td>\n",
              "      <td>0</td>\n",
              "      <td>0</td>\n",
              "      <td>0</td>\n",
              "      <td>0</td>\n",
              "      <td>0</td>\n",
              "      <td>0</td>\n",
              "      <td>0</td>\n",
              "      <td>0</td>\n",
              "      <td>0</td>\n",
              "      <td>0</td>\n",
              "      <td>0</td>\n",
              "      <td>0</td>\n",
              "    </tr>\n",
              "    <tr>\n",
              "      <th>3</th>\n",
              "      <td>2002</td>\n",
              "      <td>10</td>\n",
              "      <td>tt0111161</td>\n",
              "      <td>142</td>\n",
              "      <td>9.3</td>\n",
              "      <td>1994</td>\n",
              "      <td>0</td>\n",
              "      <td>0</td>\n",
              "      <td>0</td>\n",
              "      <td>0</td>\n",
              "      <td>0</td>\n",
              "      <td>1</td>\n",
              "      <td>1</td>\n",
              "      <td>0</td>\n",
              "      <td>0</td>\n",
              "      <td>0</td>\n",
              "      <td>0</td>\n",
              "      <td>0</td>\n",
              "      <td>0</td>\n",
              "      <td>0</td>\n",
              "      <td>0</td>\n",
              "      <td>0</td>\n",
              "      <td>0</td>\n",
              "      <td>0</td>\n",
              "      <td>0</td>\n",
              "      <td>0</td>\n",
              "      <td>0</td>\n",
              "    </tr>\n",
              "    <tr>\n",
              "      <th>4</th>\n",
              "      <td>2004</td>\n",
              "      <td>8</td>\n",
              "      <td>tt0111161</td>\n",
              "      <td>142</td>\n",
              "      <td>9.3</td>\n",
              "      <td>1994</td>\n",
              "      <td>0</td>\n",
              "      <td>0</td>\n",
              "      <td>0</td>\n",
              "      <td>0</td>\n",
              "      <td>0</td>\n",
              "      <td>1</td>\n",
              "      <td>1</td>\n",
              "      <td>0</td>\n",
              "      <td>0</td>\n",
              "      <td>0</td>\n",
              "      <td>0</td>\n",
              "      <td>0</td>\n",
              "      <td>0</td>\n",
              "      <td>0</td>\n",
              "      <td>0</td>\n",
              "      <td>0</td>\n",
              "      <td>0</td>\n",
              "      <td>0</td>\n",
              "      <td>0</td>\n",
              "      <td>0</td>\n",
              "      <td>0</td>\n",
              "    </tr>\n",
              "    <tr>\n",
              "      <th>...</th>\n",
              "      <td>...</td>\n",
              "      <td>...</td>\n",
              "      <td>...</td>\n",
              "      <td>...</td>\n",
              "      <td>...</td>\n",
              "      <td>...</td>\n",
              "      <td>...</td>\n",
              "      <td>...</td>\n",
              "      <td>...</td>\n",
              "      <td>...</td>\n",
              "      <td>...</td>\n",
              "      <td>...</td>\n",
              "      <td>...</td>\n",
              "      <td>...</td>\n",
              "      <td>...</td>\n",
              "      <td>...</td>\n",
              "      <td>...</td>\n",
              "      <td>...</td>\n",
              "      <td>...</td>\n",
              "      <td>...</td>\n",
              "      <td>...</td>\n",
              "      <td>...</td>\n",
              "      <td>...</td>\n",
              "      <td>...</td>\n",
              "      <td>...</td>\n",
              "      <td>...</td>\n",
              "      <td>...</td>\n",
              "    </tr>\n",
              "    <tr>\n",
              "      <th>573901</th>\n",
              "      <td>1999</td>\n",
              "      <td>10</td>\n",
              "      <td>tt0139239</td>\n",
              "      <td>102</td>\n",
              "      <td>7.3</td>\n",
              "      <td>1999</td>\n",
              "      <td>0</td>\n",
              "      <td>0</td>\n",
              "      <td>0</td>\n",
              "      <td>0</td>\n",
              "      <td>1</td>\n",
              "      <td>1</td>\n",
              "      <td>0</td>\n",
              "      <td>0</td>\n",
              "      <td>0</td>\n",
              "      <td>0</td>\n",
              "      <td>0</td>\n",
              "      <td>0</td>\n",
              "      <td>0</td>\n",
              "      <td>0</td>\n",
              "      <td>0</td>\n",
              "      <td>0</td>\n",
              "      <td>0</td>\n",
              "      <td>0</td>\n",
              "      <td>0</td>\n",
              "      <td>0</td>\n",
              "      <td>0</td>\n",
              "    </tr>\n",
              "    <tr>\n",
              "      <th>573902</th>\n",
              "      <td>1999</td>\n",
              "      <td>9</td>\n",
              "      <td>tt0139239</td>\n",
              "      <td>102</td>\n",
              "      <td>7.3</td>\n",
              "      <td>1999</td>\n",
              "      <td>0</td>\n",
              "      <td>0</td>\n",
              "      <td>0</td>\n",
              "      <td>0</td>\n",
              "      <td>1</td>\n",
              "      <td>1</td>\n",
              "      <td>0</td>\n",
              "      <td>0</td>\n",
              "      <td>0</td>\n",
              "      <td>0</td>\n",
              "      <td>0</td>\n",
              "      <td>0</td>\n",
              "      <td>0</td>\n",
              "      <td>0</td>\n",
              "      <td>0</td>\n",
              "      <td>0</td>\n",
              "      <td>0</td>\n",
              "      <td>0</td>\n",
              "      <td>0</td>\n",
              "      <td>0</td>\n",
              "      <td>0</td>\n",
              "    </tr>\n",
              "    <tr>\n",
              "      <th>573903</th>\n",
              "      <td>1999</td>\n",
              "      <td>9</td>\n",
              "      <td>tt0139239</td>\n",
              "      <td>102</td>\n",
              "      <td>7.3</td>\n",
              "      <td>1999</td>\n",
              "      <td>0</td>\n",
              "      <td>0</td>\n",
              "      <td>0</td>\n",
              "      <td>0</td>\n",
              "      <td>1</td>\n",
              "      <td>1</td>\n",
              "      <td>0</td>\n",
              "      <td>0</td>\n",
              "      <td>0</td>\n",
              "      <td>0</td>\n",
              "      <td>0</td>\n",
              "      <td>0</td>\n",
              "      <td>0</td>\n",
              "      <td>0</td>\n",
              "      <td>0</td>\n",
              "      <td>0</td>\n",
              "      <td>0</td>\n",
              "      <td>0</td>\n",
              "      <td>0</td>\n",
              "      <td>0</td>\n",
              "      <td>0</td>\n",
              "    </tr>\n",
              "    <tr>\n",
              "      <th>573904</th>\n",
              "      <td>1999</td>\n",
              "      <td>10</td>\n",
              "      <td>tt0139239</td>\n",
              "      <td>102</td>\n",
              "      <td>7.3</td>\n",
              "      <td>1999</td>\n",
              "      <td>0</td>\n",
              "      <td>0</td>\n",
              "      <td>0</td>\n",
              "      <td>0</td>\n",
              "      <td>1</td>\n",
              "      <td>1</td>\n",
              "      <td>0</td>\n",
              "      <td>0</td>\n",
              "      <td>0</td>\n",
              "      <td>0</td>\n",
              "      <td>0</td>\n",
              "      <td>0</td>\n",
              "      <td>0</td>\n",
              "      <td>0</td>\n",
              "      <td>0</td>\n",
              "      <td>0</td>\n",
              "      <td>0</td>\n",
              "      <td>0</td>\n",
              "      <td>0</td>\n",
              "      <td>0</td>\n",
              "      <td>0</td>\n",
              "    </tr>\n",
              "    <tr>\n",
              "      <th>573905</th>\n",
              "      <td>1999</td>\n",
              "      <td>8</td>\n",
              "      <td>tt0139239</td>\n",
              "      <td>102</td>\n",
              "      <td>7.3</td>\n",
              "      <td>1999</td>\n",
              "      <td>0</td>\n",
              "      <td>0</td>\n",
              "      <td>0</td>\n",
              "      <td>0</td>\n",
              "      <td>1</td>\n",
              "      <td>1</td>\n",
              "      <td>0</td>\n",
              "      <td>0</td>\n",
              "      <td>0</td>\n",
              "      <td>0</td>\n",
              "      <td>0</td>\n",
              "      <td>0</td>\n",
              "      <td>0</td>\n",
              "      <td>0</td>\n",
              "      <td>0</td>\n",
              "      <td>0</td>\n",
              "      <td>0</td>\n",
              "      <td>0</td>\n",
              "      <td>0</td>\n",
              "      <td>0</td>\n",
              "      <td>0</td>\n",
              "    </tr>\n",
              "  </tbody>\n",
              "</table>\n",
              "<p>573906 rows × 27 columns</p>\n",
              "</div>"
            ],
            "text/plain": [
              "        review_date  rating_x movie_id_y  ...  Thriller  War  Western\n",
              "0              2006        10  tt0111161  ...         0    0        0\n",
              "1              2000        10  tt0111161  ...         0    0        0\n",
              "2              2001         8  tt0111161  ...         0    0        0\n",
              "3              2002        10  tt0111161  ...         0    0        0\n",
              "4              2004         8  tt0111161  ...         0    0        0\n",
              "...             ...       ...        ...  ...       ...  ...      ...\n",
              "573901         1999        10  tt0139239  ...         0    0        0\n",
              "573902         1999         9  tt0139239  ...         0    0        0\n",
              "573903         1999         9  tt0139239  ...         0    0        0\n",
              "573904         1999        10  tt0139239  ...         0    0        0\n",
              "573905         1999         8  tt0139239  ...         0    0        0\n",
              "\n",
              "[573906 rows x 27 columns]"
            ]
          },
          "metadata": {
            "tags": []
          },
          "execution_count": 10
        }
      ]
    },
    {
      "cell_type": "code",
      "metadata": {
        "id": "u0YrfHP5xnvu"
      },
      "source": [
        "X.drop(['movie_id_y'],1,inplace=True)"
      ],
      "execution_count": null,
      "outputs": []
    },
    {
      "cell_type": "code",
      "metadata": {
        "id": "FsRZ8nlMwb0y"
      },
      "source": [
        "X_train, X_test, y_train, y_test = train_test_split(X, y, random_state = 42)\n"
      ],
      "execution_count": null,
      "outputs": []
    },
    {
      "cell_type": "code",
      "metadata": {
        "id": "uwrugZG7wqMu"
      },
      "source": [
        "def predict(X_train, y_train,X_test,y_test):\n",
        "    for cls in classifiers:\n",
        "        model = cls[0]\n",
        "        model.fit(X_test, y_test)\n",
        "\n",
        "        y_pred = model.predict(X_test)\n",
        "        print(cls[1])\n",
        "        print(\"Accuracy : \", accuracy_score(y_test, y_pred) *  100)\n",
        "        print(\"Roc AUC score: \", roc_auc_score(y_test,y_pred))"
      ],
      "execution_count": null,
      "outputs": []
    },
    {
      "cell_type": "code",
      "metadata": {
        "colab": {
          "base_uri": "https://localhost:8080/"
        },
        "id": "x-gbOs8dkzYC",
        "outputId": "086945a4-62d7-4b27-d518-15c0a05cf116"
      },
      "source": [
        "X_train.dtypes"
      ],
      "execution_count": null,
      "outputs": [
        {
          "output_type": "execute_result",
          "data": {
            "text/plain": [
              "review_date       int64\n",
              "rating_x          int64\n",
              "duration          int64\n",
              "rating_y        float64\n",
              "release_date      int64\n",
              "Action            int64\n",
              "Adventure         int64\n",
              "Animation         int64\n",
              "Biography         int64\n",
              "Comedy            int64\n",
              "Crime             int64\n",
              "Drama             int64\n",
              "Family            int64\n",
              "Fantasy           int64\n",
              "Film-Noir         int64\n",
              "History           int64\n",
              "Horror            int64\n",
              "Music             int64\n",
              "Musical           int64\n",
              "Mystery           int64\n",
              "Romance           int64\n",
              "Sci-Fi            int64\n",
              "Sport             int64\n",
              "Thriller          int64\n",
              "War               int64\n",
              "Western           int64\n",
              "dtype: object"
            ]
          },
          "metadata": {
            "tags": []
          },
          "execution_count": 15
        }
      ]
    },
    {
      "cell_type": "code",
      "metadata": {
        "colab": {
          "base_uri": "https://localhost:8080/",
          "height": 387
        },
        "id": "Xeg28MLQxcAf",
        "outputId": "ce174470-bf7d-4a99-8ca0-242a0056303d"
      },
      "source": [
        "predict(X_train, y_train,X_test,y_test)\n"
      ],
      "execution_count": null,
      "outputs": [
        {
          "output_type": "stream",
          "text": [
            "CatBoost Classifier\n"
          ],
          "name": "stdout"
        },
        {
          "output_type": "error",
          "ename": "TypeError",
          "evalue": "ignored",
          "traceback": [
            "\u001b[0;31m---------------------------------------------------------------------------\u001b[0m",
            "\u001b[0;31mTypeError\u001b[0m                                 Traceback (most recent call last)",
            "\u001b[0;32m<ipython-input-14-e4a1776d67ef>\u001b[0m in \u001b[0;36m<module>\u001b[0;34m()\u001b[0m\n\u001b[0;32m----> 1\u001b[0;31m \u001b[0mpredict\u001b[0m\u001b[0;34m(\u001b[0m\u001b[0mX_train\u001b[0m\u001b[0;34m,\u001b[0m \u001b[0my_train\u001b[0m\u001b[0;34m,\u001b[0m\u001b[0mX_test\u001b[0m\u001b[0;34m,\u001b[0m\u001b[0my_test\u001b[0m\u001b[0;34m)\u001b[0m\u001b[0;34m\u001b[0m\u001b[0;34m\u001b[0m\u001b[0m\n\u001b[0m",
            "\u001b[0;32m<ipython-input-13-b0631226349d>\u001b[0m in \u001b[0;36mpredict\u001b[0;34m(X_train, y_train, X_test, y_test)\u001b[0m\n\u001b[1;32m      6\u001b[0m         \u001b[0my_pred\u001b[0m \u001b[0;34m=\u001b[0m \u001b[0mmodel\u001b[0m\u001b[0;34m.\u001b[0m\u001b[0mpredict\u001b[0m\u001b[0;34m(\u001b[0m\u001b[0mX_test\u001b[0m\u001b[0;34m)\u001b[0m\u001b[0;34m\u001b[0m\u001b[0;34m\u001b[0m\u001b[0m\n\u001b[1;32m      7\u001b[0m         \u001b[0mprint\u001b[0m\u001b[0;34m(\u001b[0m\u001b[0mcls\u001b[0m\u001b[0;34m[\u001b[0m\u001b[0;36m1\u001b[0m\u001b[0;34m]\u001b[0m\u001b[0;34m)\u001b[0m\u001b[0;34m\u001b[0m\u001b[0;34m\u001b[0m\u001b[0m\n\u001b[0;32m----> 8\u001b[0;31m         \u001b[0mprint\u001b[0m\u001b[0;34m(\u001b[0m\u001b[0;34m\"Accuracy : \"\u001b[0m\u001b[0;34m,\u001b[0m \u001b[0maccuracy_score\u001b[0m\u001b[0;34m(\u001b[0m\u001b[0my_test\u001b[0m\u001b[0;34m,\u001b[0m \u001b[0my_pred\u001b[0m\u001b[0;34m)\u001b[0m \u001b[0;34m*\u001b[0m  \u001b[0;36m100\u001b[0m\u001b[0;34m)\u001b[0m\u001b[0;34m\u001b[0m\u001b[0;34m\u001b[0m\u001b[0m\n\u001b[0m\u001b[1;32m      9\u001b[0m         \u001b[0mprint\u001b[0m\u001b[0;34m(\u001b[0m\u001b[0;34m\"Roc AUC score: \"\u001b[0m\u001b[0;34m,\u001b[0m \u001b[0mroc_auc_score\u001b[0m\u001b[0;34m(\u001b[0m\u001b[0my_test\u001b[0m\u001b[0;34m,\u001b[0m\u001b[0my_pred\u001b[0m\u001b[0;34m)\u001b[0m\u001b[0;34m)\u001b[0m\u001b[0;34m\u001b[0m\u001b[0;34m\u001b[0m\u001b[0m\n",
            "\u001b[0;32m/usr/local/lib/python3.7/dist-packages/sklearn/metrics/_classification.py\u001b[0m in \u001b[0;36maccuracy_score\u001b[0;34m(y_true, y_pred, normalize, sample_weight)\u001b[0m\n\u001b[1;32m    183\u001b[0m \u001b[0;34m\u001b[0m\u001b[0m\n\u001b[1;32m    184\u001b[0m     \u001b[0;31m# Compute accuracy for each possible representation\u001b[0m\u001b[0;34m\u001b[0m\u001b[0;34m\u001b[0m\u001b[0;34m\u001b[0m\u001b[0m\n\u001b[0;32m--> 185\u001b[0;31m     \u001b[0my_type\u001b[0m\u001b[0;34m,\u001b[0m \u001b[0my_true\u001b[0m\u001b[0;34m,\u001b[0m \u001b[0my_pred\u001b[0m \u001b[0;34m=\u001b[0m \u001b[0m_check_targets\u001b[0m\u001b[0;34m(\u001b[0m\u001b[0my_true\u001b[0m\u001b[0;34m,\u001b[0m \u001b[0my_pred\u001b[0m\u001b[0;34m)\u001b[0m\u001b[0;34m\u001b[0m\u001b[0;34m\u001b[0m\u001b[0m\n\u001b[0m\u001b[1;32m    186\u001b[0m     \u001b[0mcheck_consistent_length\u001b[0m\u001b[0;34m(\u001b[0m\u001b[0my_true\u001b[0m\u001b[0;34m,\u001b[0m \u001b[0my_pred\u001b[0m\u001b[0;34m,\u001b[0m \u001b[0msample_weight\u001b[0m\u001b[0;34m)\u001b[0m\u001b[0;34m\u001b[0m\u001b[0;34m\u001b[0m\u001b[0m\n\u001b[1;32m    187\u001b[0m     \u001b[0;32mif\u001b[0m \u001b[0my_type\u001b[0m\u001b[0;34m.\u001b[0m\u001b[0mstartswith\u001b[0m\u001b[0;34m(\u001b[0m\u001b[0;34m'multilabel'\u001b[0m\u001b[0;34m)\u001b[0m\u001b[0;34m:\u001b[0m\u001b[0;34m\u001b[0m\u001b[0;34m\u001b[0m\u001b[0m\n",
            "\u001b[0;32m/usr/local/lib/python3.7/dist-packages/sklearn/metrics/_classification.py\u001b[0m in \u001b[0;36m_check_targets\u001b[0;34m(y_true, y_pred)\u001b[0m\n\u001b[1;32m    101\u001b[0m         \u001b[0my_pred\u001b[0m \u001b[0;34m=\u001b[0m \u001b[0mcolumn_or_1d\u001b[0m\u001b[0;34m(\u001b[0m\u001b[0my_pred\u001b[0m\u001b[0;34m)\u001b[0m\u001b[0;34m\u001b[0m\u001b[0;34m\u001b[0m\u001b[0m\n\u001b[1;32m    102\u001b[0m         \u001b[0;32mif\u001b[0m \u001b[0my_type\u001b[0m \u001b[0;34m==\u001b[0m \u001b[0;34m\"binary\"\u001b[0m\u001b[0;34m:\u001b[0m\u001b[0;34m\u001b[0m\u001b[0;34m\u001b[0m\u001b[0m\n\u001b[0;32m--> 103\u001b[0;31m             \u001b[0munique_values\u001b[0m \u001b[0;34m=\u001b[0m \u001b[0mnp\u001b[0m\u001b[0;34m.\u001b[0m\u001b[0munion1d\u001b[0m\u001b[0;34m(\u001b[0m\u001b[0my_true\u001b[0m\u001b[0;34m,\u001b[0m \u001b[0my_pred\u001b[0m\u001b[0;34m)\u001b[0m\u001b[0;34m\u001b[0m\u001b[0;34m\u001b[0m\u001b[0m\n\u001b[0m\u001b[1;32m    104\u001b[0m             \u001b[0;32mif\u001b[0m \u001b[0mlen\u001b[0m\u001b[0;34m(\u001b[0m\u001b[0munique_values\u001b[0m\u001b[0;34m)\u001b[0m \u001b[0;34m>\u001b[0m \u001b[0;36m2\u001b[0m\u001b[0;34m:\u001b[0m\u001b[0;34m\u001b[0m\u001b[0;34m\u001b[0m\u001b[0m\n\u001b[1;32m    105\u001b[0m                 \u001b[0my_type\u001b[0m \u001b[0;34m=\u001b[0m \u001b[0;34m\"multiclass\"\u001b[0m\u001b[0;34m\u001b[0m\u001b[0;34m\u001b[0m\u001b[0m\n",
            "\u001b[0;32m<__array_function__ internals>\u001b[0m in \u001b[0;36munion1d\u001b[0;34m(*args, **kwargs)\u001b[0m\n",
            "\u001b[0;32m/usr/local/lib/python3.7/dist-packages/numpy/lib/arraysetops.py\u001b[0m in \u001b[0;36munion1d\u001b[0;34m(ar1, ar2)\u001b[0m\n\u001b[1;32m    747\u001b[0m     \u001b[0marray\u001b[0m\u001b[0;34m(\u001b[0m\u001b[0;34m[\u001b[0m\u001b[0;36m1\u001b[0m\u001b[0;34m,\u001b[0m \u001b[0;36m2\u001b[0m\u001b[0;34m,\u001b[0m \u001b[0;36m3\u001b[0m\u001b[0;34m,\u001b[0m \u001b[0;36m4\u001b[0m\u001b[0;34m,\u001b[0m \u001b[0;36m6\u001b[0m\u001b[0;34m]\u001b[0m\u001b[0;34m)\u001b[0m\u001b[0;34m\u001b[0m\u001b[0;34m\u001b[0m\u001b[0m\n\u001b[1;32m    748\u001b[0m     \"\"\"\n\u001b[0;32m--> 749\u001b[0;31m     \u001b[0;32mreturn\u001b[0m \u001b[0munique\u001b[0m\u001b[0;34m(\u001b[0m\u001b[0mnp\u001b[0m\u001b[0;34m.\u001b[0m\u001b[0mconcatenate\u001b[0m\u001b[0;34m(\u001b[0m\u001b[0;34m(\u001b[0m\u001b[0mar1\u001b[0m\u001b[0;34m,\u001b[0m \u001b[0mar2\u001b[0m\u001b[0;34m)\u001b[0m\u001b[0;34m,\u001b[0m \u001b[0maxis\u001b[0m\u001b[0;34m=\u001b[0m\u001b[0;32mNone\u001b[0m\u001b[0;34m)\u001b[0m\u001b[0;34m)\u001b[0m\u001b[0;34m\u001b[0m\u001b[0;34m\u001b[0m\u001b[0m\n\u001b[0m\u001b[1;32m    750\u001b[0m \u001b[0;34m\u001b[0m\u001b[0m\n\u001b[1;32m    751\u001b[0m \u001b[0;34m\u001b[0m\u001b[0m\n",
            "\u001b[0;32m<__array_function__ internals>\u001b[0m in \u001b[0;36munique\u001b[0;34m(*args, **kwargs)\u001b[0m\n",
            "\u001b[0;32m/usr/local/lib/python3.7/dist-packages/numpy/lib/arraysetops.py\u001b[0m in \u001b[0;36munique\u001b[0;34m(ar, return_index, return_inverse, return_counts, axis)\u001b[0m\n\u001b[1;32m    259\u001b[0m     \u001b[0mar\u001b[0m \u001b[0;34m=\u001b[0m \u001b[0mnp\u001b[0m\u001b[0;34m.\u001b[0m\u001b[0masanyarray\u001b[0m\u001b[0;34m(\u001b[0m\u001b[0mar\u001b[0m\u001b[0;34m)\u001b[0m\u001b[0;34m\u001b[0m\u001b[0;34m\u001b[0m\u001b[0m\n\u001b[1;32m    260\u001b[0m     \u001b[0;32mif\u001b[0m \u001b[0maxis\u001b[0m \u001b[0;32mis\u001b[0m \u001b[0;32mNone\u001b[0m\u001b[0;34m:\u001b[0m\u001b[0;34m\u001b[0m\u001b[0;34m\u001b[0m\u001b[0m\n\u001b[0;32m--> 261\u001b[0;31m         \u001b[0mret\u001b[0m \u001b[0;34m=\u001b[0m \u001b[0m_unique1d\u001b[0m\u001b[0;34m(\u001b[0m\u001b[0mar\u001b[0m\u001b[0;34m,\u001b[0m \u001b[0mreturn_index\u001b[0m\u001b[0;34m,\u001b[0m \u001b[0mreturn_inverse\u001b[0m\u001b[0;34m,\u001b[0m \u001b[0mreturn_counts\u001b[0m\u001b[0;34m)\u001b[0m\u001b[0;34m\u001b[0m\u001b[0;34m\u001b[0m\u001b[0m\n\u001b[0m\u001b[1;32m    262\u001b[0m         \u001b[0;32mreturn\u001b[0m \u001b[0m_unpack_tuple\u001b[0m\u001b[0;34m(\u001b[0m\u001b[0mret\u001b[0m\u001b[0;34m)\u001b[0m\u001b[0;34m\u001b[0m\u001b[0;34m\u001b[0m\u001b[0m\n\u001b[1;32m    263\u001b[0m \u001b[0;34m\u001b[0m\u001b[0m\n",
            "\u001b[0;32m/usr/local/lib/python3.7/dist-packages/numpy/lib/arraysetops.py\u001b[0m in \u001b[0;36m_unique1d\u001b[0;34m(ar, return_index, return_inverse, return_counts)\u001b[0m\n\u001b[1;32m    320\u001b[0m         \u001b[0maux\u001b[0m \u001b[0;34m=\u001b[0m \u001b[0mar\u001b[0m\u001b[0;34m[\u001b[0m\u001b[0mperm\u001b[0m\u001b[0;34m]\u001b[0m\u001b[0;34m\u001b[0m\u001b[0;34m\u001b[0m\u001b[0m\n\u001b[1;32m    321\u001b[0m     \u001b[0;32melse\u001b[0m\u001b[0;34m:\u001b[0m\u001b[0;34m\u001b[0m\u001b[0;34m\u001b[0m\u001b[0m\n\u001b[0;32m--> 322\u001b[0;31m         \u001b[0mar\u001b[0m\u001b[0;34m.\u001b[0m\u001b[0msort\u001b[0m\u001b[0;34m(\u001b[0m\u001b[0;34m)\u001b[0m\u001b[0;34m\u001b[0m\u001b[0;34m\u001b[0m\u001b[0m\n\u001b[0m\u001b[1;32m    323\u001b[0m         \u001b[0maux\u001b[0m \u001b[0;34m=\u001b[0m \u001b[0mar\u001b[0m\u001b[0;34m\u001b[0m\u001b[0;34m\u001b[0m\u001b[0m\n\u001b[1;32m    324\u001b[0m     \u001b[0mmask\u001b[0m \u001b[0;34m=\u001b[0m \u001b[0mnp\u001b[0m\u001b[0;34m.\u001b[0m\u001b[0mempty\u001b[0m\u001b[0;34m(\u001b[0m\u001b[0maux\u001b[0m\u001b[0;34m.\u001b[0m\u001b[0mshape\u001b[0m\u001b[0;34m,\u001b[0m \u001b[0mdtype\u001b[0m\u001b[0;34m=\u001b[0m\u001b[0mnp\u001b[0m\u001b[0;34m.\u001b[0m\u001b[0mbool_\u001b[0m\u001b[0;34m)\u001b[0m\u001b[0;34m\u001b[0m\u001b[0;34m\u001b[0m\u001b[0m\n",
            "\u001b[0;31mTypeError\u001b[0m: '<' not supported between instances of 'str' and 'bool'"
          ]
        }
      ]
    },
    {
      "cell_type": "code",
      "metadata": {
        "colab": {
          "base_uri": "https://localhost:8080/"
        },
        "id": "7wLSvcrElCwK",
        "outputId": "b1362987-f68e-4712-b3e3-c44d2854d27c"
      },
      "source": [
        "lr = LogisticRegression()\n",
        "lr.fit(X_train,y_train)"
      ],
      "execution_count": null,
      "outputs": [
        {
          "output_type": "execute_result",
          "data": {
            "text/plain": [
              "LogisticRegression(C=1.0, class_weight=None, dual=False, fit_intercept=True,\n",
              "                   intercept_scaling=1, l1_ratio=None, max_iter=100,\n",
              "                   multi_class='auto', n_jobs=None, penalty='l2',\n",
              "                   random_state=None, solver='lbfgs', tol=0.0001, verbose=0,\n",
              "                   warm_start=False)"
            ]
          },
          "metadata": {
            "tags": []
          },
          "execution_count": 17
        }
      ]
    },
    {
      "cell_type": "code",
      "metadata": {
        "colab": {
          "base_uri": "https://localhost:8080/"
        },
        "id": "KWZZbTkwlI0G",
        "outputId": "1fa7f6be-1078-4b44-8312-4ae313e94c58"
      },
      "source": [
        "y_pred = lr.predict(X_test)\n",
        "print(\"Logistic Regression\")\n",
        "print(\"Accuracy : \", accuracy_score(y_test, y_pred) *  100)\n",
        "print(\"Roc AUC score: \", roc_auc_score(y_test,y_pred))"
      ],
      "execution_count": null,
      "outputs": [
        {
          "output_type": "stream",
          "text": [
            "Logistic Regression\n",
            "Accuracy :  73.79161816876572\n",
            "Roc AUC score:  0.5000132964578237\n"
          ],
          "name": "stdout"
        }
      ]
    },
    {
      "cell_type": "code",
      "metadata": {
        "colab": {
          "base_uri": "https://localhost:8080/"
        },
        "id": "zxCuJ41hlheK",
        "outputId": "02ae5239-9375-4437-93d0-5c9b66061b8d"
      },
      "source": [
        "rf = RandomForestClassifier()\n",
        "rf.fit(X_train,y_train)"
      ],
      "execution_count": null,
      "outputs": [
        {
          "output_type": "execute_result",
          "data": {
            "text/plain": [
              "RandomForestClassifier(bootstrap=True, ccp_alpha=0.0, class_weight=None,\n",
              "                       criterion='gini', max_depth=None, max_features='auto',\n",
              "                       max_leaf_nodes=None, max_samples=None,\n",
              "                       min_impurity_decrease=0.0, min_impurity_split=None,\n",
              "                       min_samples_leaf=1, min_samples_split=2,\n",
              "                       min_weight_fraction_leaf=0.0, n_estimators=100,\n",
              "                       n_jobs=None, oob_score=False, random_state=None,\n",
              "                       verbose=0, warm_start=False)"
            ]
          },
          "metadata": {
            "tags": []
          },
          "execution_count": 20
        }
      ]
    },
    {
      "cell_type": "code",
      "metadata": {
        "colab": {
          "base_uri": "https://localhost:8080/"
        },
        "id": "POa2NO8xlljC",
        "outputId": "b5460b39-f871-4447-b15b-e18b55126ab9"
      },
      "source": [
        "y_pred = rf.predict(X_test)\n",
        "print(\"Random Forest\")\n",
        "print(\"Accuracy : \", accuracy_score(y_test, y_pred) *  100)\n",
        "print(\"Roc AUC score: \", roc_auc_score(y_test,y_pred))"
      ],
      "execution_count": null,
      "outputs": [
        {
          "output_type": "stream",
          "text": [
            "Random Forest\n",
            "Accuracy :  70.88453201558438\n",
            "Roc AUC score:  0.5372453219755127\n"
          ],
          "name": "stdout"
        }
      ]
    },
    {
      "cell_type": "code",
      "metadata": {
        "colab": {
          "base_uri": "https://localhost:8080/"
        },
        "id": "OAQmuNiBl9ST",
        "outputId": "5dc6a5e7-a2b7-4dbf-afef-dacdd2a0dd69"
      },
      "source": [
        "xgb = XGBClassifier()\n",
        "xgb.fit(X_train,y_train)"
      ],
      "execution_count": null,
      "outputs": [
        {
          "output_type": "execute_result",
          "data": {
            "text/plain": [
              "XGBClassifier(base_score=0.5, booster='gbtree', colsample_bylevel=1,\n",
              "              colsample_bynode=1, colsample_bytree=1, gamma=0,\n",
              "              learning_rate=0.1, max_delta_step=0, max_depth=3,\n",
              "              min_child_weight=1, missing=None, n_estimators=100, n_jobs=1,\n",
              "              nthread=None, objective='binary:logistic', random_state=0,\n",
              "              reg_alpha=0, reg_lambda=1, scale_pos_weight=1, seed=None,\n",
              "              silent=None, subsample=1, verbosity=1)"
            ]
          },
          "metadata": {
            "tags": []
          },
          "execution_count": 22
        }
      ]
    },
    {
      "cell_type": "code",
      "metadata": {
        "colab": {
          "base_uri": "https://localhost:8080/"
        },
        "id": "lUSUtb_lmBVW",
        "outputId": "971a0c9b-d406-485f-a1e6-9da735241ed9"
      },
      "source": [
        "y_pred = xgb.predict(X_test)\n",
        "print(\"XGBoost\")\n",
        "print(\"Accuracy : \", accuracy_score(y_test, y_pred) *  100)\n",
        "print(\"Roc AUC score: \", roc_auc_score(y_test,y_pred))"
      ],
      "execution_count": null,
      "outputs": [
        {
          "output_type": "stream",
          "text": [
            "XGBoost\n",
            "Accuracy :  73.79092119294381\n",
            "Roc AUC score:  0.5\n"
          ],
          "name": "stdout"
        }
      ]
    },
    {
      "cell_type": "code",
      "metadata": {
        "colab": {
          "base_uri": "https://localhost:8080/"
        },
        "id": "TMPORqSymKqQ",
        "outputId": "8410c990-7b03-4f5f-8f04-8044a8460502"
      },
      "source": [
        "gnb = GaussianNB()\n",
        "gnb.fit(X_train,y_train)"
      ],
      "execution_count": null,
      "outputs": [
        {
          "output_type": "execute_result",
          "data": {
            "text/plain": [
              "GaussianNB(priors=None, var_smoothing=1e-09)"
            ]
          },
          "metadata": {
            "tags": []
          },
          "execution_count": 24
        }
      ]
    },
    {
      "cell_type": "code",
      "metadata": {
        "colab": {
          "base_uri": "https://localhost:8080/"
        },
        "id": "gcp8xD_EmPTV",
        "outputId": "60a6e7ab-af39-4433-f4b5-252f77bfeedf"
      },
      "source": [
        "y_pred = gnb.predict(X_test)\n",
        "print(\"Gaussian Naive Bayes\")\n",
        "print(\"Accuracy : \", accuracy_score(y_test, y_pred) *  100)\n",
        "print(\"Roc AUC score: \", roc_auc_score(y_test,y_pred))"
      ],
      "execution_count": null,
      "outputs": [
        {
          "output_type": "stream",
          "text": [
            "Gaussian Naive Bayes\n",
            "Accuracy :  64.86056998682716\n",
            "Roc AUC score:  0.5738662778432911\n"
          ],
          "name": "stdout"
        }
      ]
    },
    {
      "cell_type": "code",
      "metadata": {
        "colab": {
          "base_uri": "https://localhost:8080/"
        },
        "id": "D-gQbo16mbXu",
        "outputId": "945a24f6-9b2e-45f5-d471-4d6259653a4f"
      },
      "source": [
        "lgbm = LGBMClassifier()\n",
        "lgbm.fit(X_train,y_train)"
      ],
      "execution_count": null,
      "outputs": [
        {
          "output_type": "execute_result",
          "data": {
            "text/plain": [
              "LGBMClassifier(boosting_type='gbdt', class_weight=None, colsample_bytree=1.0,\n",
              "               importance_type='split', learning_rate=0.1, max_depth=-1,\n",
              "               min_child_samples=20, min_child_weight=0.001, min_split_gain=0.0,\n",
              "               n_estimators=100, n_jobs=-1, num_leaves=31, objective=None,\n",
              "               random_state=None, reg_alpha=0.0, reg_lambda=0.0, silent=True,\n",
              "               subsample=1.0, subsample_for_bin=200000, subsample_freq=0)"
            ]
          },
          "metadata": {
            "tags": []
          },
          "execution_count": 27
        }
      ]
    },
    {
      "cell_type": "code",
      "metadata": {
        "colab": {
          "base_uri": "https://localhost:8080/"
        },
        "id": "c0-6736Bmmrl",
        "outputId": "fd101fcc-318a-41a8-b50f-a143cfc60a61"
      },
      "source": [
        "y_pred = lgbm.predict(X_test)\n",
        "print(\"Light GBM\")\n",
        "print(\"Accuracy : \", accuracy_score(y_test, y_pred) *  100)\n",
        "print(\"Roc AUC score: \", roc_auc_score(y_test,y_pred))"
      ],
      "execution_count": null,
      "outputs": [
        {
          "output_type": "stream",
          "text": [
            "Light GBM\n",
            "Accuracy :  73.91080103431213\n",
            "Roc AUC score:  0.5054164344744163\n"
          ],
          "name": "stdout"
        }
      ]
    },
    {
      "cell_type": "code",
      "metadata": {
        "colab": {
          "base_uri": "https://localhost:8080/"
        },
        "id": "yvLdxZcNm0HG",
        "outputId": "e55ae374-e326-41b9-ff8d-4a8c6f98d5f9"
      },
      "source": [
        "knn = KNeighborsClassifier()\n",
        "knn.fit(X_train,y_train)"
      ],
      "execution_count": null,
      "outputs": [
        {
          "output_type": "execute_result",
          "data": {
            "text/plain": [
              "KNeighborsClassifier(algorithm='auto', leaf_size=30, metric='minkowski',\n",
              "                     metric_params=None, n_jobs=None, n_neighbors=5, p=2,\n",
              "                     weights='uniform')"
            ]
          },
          "metadata": {
            "tags": []
          },
          "execution_count": 30
        }
      ]
    },
    {
      "cell_type": "code",
      "metadata": {
        "colab": {
          "base_uri": "https://localhost:8080/"
        },
        "id": "fSli8rR0m3lR",
        "outputId": "5b9742cc-d3e6-47f0-c094-23161a12c11a"
      },
      "source": [
        "y_pred = knn.predict(X_test)\n",
        "print(\"K Nearest Neighbors\")\n",
        "print(\"Accuracy : \", accuracy_score(y_test, y_pred) *  100)\n",
        "print(\"Roc AUC score: \", roc_auc_score(y_test,y_pred))"
      ],
      "execution_count": null,
      "outputs": [
        {
          "output_type": "stream",
          "text": [
            "K Nearest Neighbors\n",
            "Accuracy :  69.16997149368889\n",
            "Roc AUC score:  0.5421408033849902\n"
          ],
          "name": "stdout"
        }
      ]
    },
    {
      "cell_type": "code",
      "metadata": {
        "colab": {
          "base_uri": "https://localhost:8080/"
        },
        "id": "-Sqrkusfm_v1",
        "outputId": "400783c0-20da-4317-e94f-afb960ee1615"
      },
      "source": [
        "mlp = MLPClassifier()\n",
        "mlp.fit(X_train,y_train)"
      ],
      "execution_count": null,
      "outputs": [
        {
          "output_type": "stream",
          "text": [
            "/usr/local/lib/python3.7/dist-packages/sklearn/neural_network/_multilayer_perceptron.py:573: UserWarning: Training interrupted by user.\n",
            "  warnings.warn(\"Training interrupted by user.\")\n"
          ],
          "name": "stderr"
        },
        {
          "output_type": "execute_result",
          "data": {
            "text/plain": [
              "MLPClassifier(activation='relu', alpha=0.0001, batch_size='auto', beta_1=0.9,\n",
              "              beta_2=0.999, early_stopping=False, epsilon=1e-08,\n",
              "              hidden_layer_sizes=(100,), learning_rate='constant',\n",
              "              learning_rate_init=0.001, max_fun=15000, max_iter=200,\n",
              "              momentum=0.9, n_iter_no_change=10, nesterovs_momentum=True,\n",
              "              power_t=0.5, random_state=None, shuffle=True, solver='adam',\n",
              "              tol=0.0001, validation_fraction=0.1, verbose=False,\n",
              "              warm_start=False)"
            ]
          },
          "metadata": {
            "tags": []
          },
          "execution_count": 32
        }
      ]
    },
    {
      "cell_type": "code",
      "metadata": {
        "colab": {
          "base_uri": "https://localhost:8080/"
        },
        "id": "7I3ZvazAnKOe",
        "outputId": "940da921-133e-4bc4-9f54-54b9d30d80e0"
      },
      "source": [
        "y_pred = mlp.predict(X_test)\n",
        "print(\"MLP Classifier\")\n",
        "print(\"Accuracy : \", accuracy_score(y_test, y_pred) *  100)\n",
        "print(\"Roc AUC score: \", roc_auc_score(y_test,y_pred))"
      ],
      "execution_count": null,
      "outputs": [
        {
          "output_type": "stream",
          "text": [
            "MLP Classifier\n",
            "Accuracy :  73.79092119294381\n",
            "Roc AUC score:  0.5\n"
          ],
          "name": "stdout"
        }
      ]
    },
    {
      "cell_type": "code",
      "metadata": {
        "colab": {
          "base_uri": "https://localhost:8080/"
        },
        "id": "7czdxAOTnQS8",
        "outputId": "1b8a0df1-c05d-43d5-90d4-b4304d1e2160"
      },
      "source": [
        "cat = CatBoostClassifier()\n",
        "le = LabelEncoder()\n",
        "y_enc_train = le.fit_transform(y_train)\n",
        "cat.fit(X_train,y_enc_train)"
      ],
      "execution_count": null,
      "outputs": [
        {
          "output_type": "stream",
          "text": [
            "Learning rate set to 0.137281\n",
            "0:\tlearn: 0.6481301\ttotal: 143ms\tremaining: 2m 23s\n",
            "1:\tlearn: 0.6159434\ttotal: 291ms\tremaining: 2m 25s\n",
            "2:\tlearn: 0.5937506\ttotal: 426ms\tremaining: 2m 21s\n",
            "3:\tlearn: 0.5778389\ttotal: 581ms\tremaining: 2m 24s\n",
            "4:\tlearn: 0.5665350\ttotal: 722ms\tremaining: 2m 23s\n",
            "5:\tlearn: 0.5593394\ttotal: 870ms\tremaining: 2m 24s\n",
            "6:\tlearn: 0.5532265\ttotal: 1.02s\tremaining: 2m 25s\n",
            "7:\tlearn: 0.5490207\ttotal: 1.17s\tremaining: 2m 25s\n",
            "8:\tlearn: 0.5459904\ttotal: 1.33s\tremaining: 2m 26s\n",
            "9:\tlearn: 0.5433015\ttotal: 1.49s\tremaining: 2m 27s\n",
            "10:\tlearn: 0.5413106\ttotal: 1.63s\tremaining: 2m 26s\n",
            "11:\tlearn: 0.5400327\ttotal: 1.78s\tremaining: 2m 26s\n",
            "12:\tlearn: 0.5388702\ttotal: 1.93s\tremaining: 2m 26s\n",
            "13:\tlearn: 0.5382751\ttotal: 2.07s\tremaining: 2m 25s\n",
            "14:\tlearn: 0.5375771\ttotal: 2.21s\tremaining: 2m 25s\n",
            "15:\tlearn: 0.5371854\ttotal: 2.34s\tremaining: 2m 24s\n",
            "16:\tlearn: 0.5367109\ttotal: 2.49s\tremaining: 2m 24s\n",
            "17:\tlearn: 0.5361952\ttotal: 2.64s\tremaining: 2m 24s\n",
            "18:\tlearn: 0.5360151\ttotal: 2.76s\tremaining: 2m 22s\n",
            "19:\tlearn: 0.5357611\ttotal: 2.91s\tremaining: 2m 22s\n",
            "20:\tlearn: 0.5355221\ttotal: 3.05s\tremaining: 2m 22s\n",
            "21:\tlearn: 0.5353325\ttotal: 3.2s\tremaining: 2m 22s\n",
            "22:\tlearn: 0.5352041\ttotal: 3.35s\tremaining: 2m 22s\n",
            "23:\tlearn: 0.5350178\ttotal: 3.5s\tremaining: 2m 22s\n",
            "24:\tlearn: 0.5348690\ttotal: 3.64s\tremaining: 2m 21s\n",
            "25:\tlearn: 0.5347554\ttotal: 3.78s\tremaining: 2m 21s\n",
            "26:\tlearn: 0.5346054\ttotal: 3.93s\tremaining: 2m 21s\n",
            "27:\tlearn: 0.5345057\ttotal: 4.08s\tremaining: 2m 21s\n",
            "28:\tlearn: 0.5343970\ttotal: 4.21s\tremaining: 2m 20s\n",
            "29:\tlearn: 0.5343053\ttotal: 4.36s\tremaining: 2m 21s\n",
            "30:\tlearn: 0.5342532\ttotal: 4.51s\tremaining: 2m 21s\n",
            "31:\tlearn: 0.5341908\ttotal: 4.68s\tremaining: 2m 21s\n",
            "32:\tlearn: 0.5340879\ttotal: 4.83s\tremaining: 2m 21s\n",
            "33:\tlearn: 0.5340024\ttotal: 4.97s\tremaining: 2m 21s\n",
            "34:\tlearn: 0.5339440\ttotal: 5.11s\tremaining: 2m 20s\n",
            "35:\tlearn: 0.5338672\ttotal: 5.26s\tremaining: 2m 20s\n",
            "36:\tlearn: 0.5338101\ttotal: 5.39s\tremaining: 2m 20s\n",
            "37:\tlearn: 0.5337719\ttotal: 5.55s\tremaining: 2m 20s\n",
            "38:\tlearn: 0.5337070\ttotal: 5.69s\tremaining: 2m 20s\n",
            "39:\tlearn: 0.5336555\ttotal: 5.83s\tremaining: 2m 19s\n",
            "40:\tlearn: 0.5336150\ttotal: 5.97s\tremaining: 2m 19s\n",
            "41:\tlearn: 0.5335644\ttotal: 6.1s\tremaining: 2m 19s\n",
            "42:\tlearn: 0.5334997\ttotal: 6.25s\tremaining: 2m 19s\n",
            "43:\tlearn: 0.5334555\ttotal: 6.41s\tremaining: 2m 19s\n",
            "44:\tlearn: 0.5333412\ttotal: 6.54s\tremaining: 2m 18s\n",
            "45:\tlearn: 0.5332925\ttotal: 6.69s\tremaining: 2m 18s\n",
            "46:\tlearn: 0.5332482\ttotal: 6.82s\tremaining: 2m 18s\n",
            "47:\tlearn: 0.5331883\ttotal: 6.96s\tremaining: 2m 18s\n",
            "48:\tlearn: 0.5330985\ttotal: 7.1s\tremaining: 2m 17s\n",
            "49:\tlearn: 0.5330508\ttotal: 7.25s\tremaining: 2m 17s\n",
            "50:\tlearn: 0.5329969\ttotal: 7.41s\tremaining: 2m 17s\n",
            "51:\tlearn: 0.5329521\ttotal: 7.54s\tremaining: 2m 17s\n",
            "52:\tlearn: 0.5329187\ttotal: 7.68s\tremaining: 2m 17s\n",
            "53:\tlearn: 0.5328731\ttotal: 7.83s\tremaining: 2m 17s\n",
            "54:\tlearn: 0.5328312\ttotal: 7.98s\tremaining: 2m 17s\n",
            "55:\tlearn: 0.5327989\ttotal: 8.13s\tremaining: 2m 16s\n",
            "56:\tlearn: 0.5327648\ttotal: 8.28s\tremaining: 2m 17s\n",
            "57:\tlearn: 0.5327330\ttotal: 8.45s\tremaining: 2m 17s\n",
            "58:\tlearn: 0.5326843\ttotal: 8.59s\tremaining: 2m 17s\n",
            "59:\tlearn: 0.5326642\ttotal: 8.73s\tremaining: 2m 16s\n",
            "60:\tlearn: 0.5326252\ttotal: 8.86s\tremaining: 2m 16s\n",
            "61:\tlearn: 0.5325962\ttotal: 9.02s\tremaining: 2m 16s\n",
            "62:\tlearn: 0.5325617\ttotal: 9.15s\tremaining: 2m 16s\n",
            "63:\tlearn: 0.5325262\ttotal: 9.27s\tremaining: 2m 15s\n",
            "64:\tlearn: 0.5324988\ttotal: 9.43s\tremaining: 2m 15s\n",
            "65:\tlearn: 0.5324614\ttotal: 9.57s\tremaining: 2m 15s\n",
            "66:\tlearn: 0.5324232\ttotal: 9.72s\tremaining: 2m 15s\n",
            "67:\tlearn: 0.5323574\ttotal: 9.86s\tremaining: 2m 15s\n",
            "68:\tlearn: 0.5323312\ttotal: 10s\tremaining: 2m 15s\n",
            "69:\tlearn: 0.5322666\ttotal: 10.2s\tremaining: 2m 14s\n",
            "70:\tlearn: 0.5322469\ttotal: 10.3s\tremaining: 2m 14s\n",
            "71:\tlearn: 0.5322061\ttotal: 10.4s\tremaining: 2m 14s\n",
            "72:\tlearn: 0.5321575\ttotal: 10.6s\tremaining: 2m 14s\n",
            "73:\tlearn: 0.5321289\ttotal: 10.7s\tremaining: 2m 14s\n",
            "74:\tlearn: 0.5321100\ttotal: 10.9s\tremaining: 2m 14s\n",
            "75:\tlearn: 0.5320865\ttotal: 11s\tremaining: 2m 14s\n",
            "76:\tlearn: 0.5320568\ttotal: 11.2s\tremaining: 2m 13s\n",
            "77:\tlearn: 0.5320202\ttotal: 11.3s\tremaining: 2m 13s\n",
            "78:\tlearn: 0.5319847\ttotal: 11.4s\tremaining: 2m 13s\n",
            "79:\tlearn: 0.5319681\ttotal: 11.6s\tremaining: 2m 13s\n",
            "80:\tlearn: 0.5319522\ttotal: 11.8s\tremaining: 2m 13s\n",
            "81:\tlearn: 0.5319020\ttotal: 11.9s\tremaining: 2m 13s\n",
            "82:\tlearn: 0.5318541\ttotal: 12s\tremaining: 2m 12s\n",
            "83:\tlearn: 0.5318369\ttotal: 12.2s\tremaining: 2m 12s\n",
            "84:\tlearn: 0.5317905\ttotal: 12.3s\tremaining: 2m 12s\n",
            "85:\tlearn: 0.5317579\ttotal: 12.5s\tremaining: 2m 12s\n",
            "86:\tlearn: 0.5317351\ttotal: 12.6s\tremaining: 2m 12s\n",
            "87:\tlearn: 0.5317128\ttotal: 12.7s\tremaining: 2m 12s\n",
            "88:\tlearn: 0.5316618\ttotal: 12.9s\tremaining: 2m 11s\n",
            "89:\tlearn: 0.5316345\ttotal: 13s\tremaining: 2m 11s\n",
            "90:\tlearn: 0.5315893\ttotal: 13.1s\tremaining: 2m 11s\n",
            "91:\tlearn: 0.5315629\ttotal: 13.3s\tremaining: 2m 11s\n",
            "92:\tlearn: 0.5315306\ttotal: 13.5s\tremaining: 2m 11s\n",
            "93:\tlearn: 0.5315116\ttotal: 13.6s\tremaining: 2m 11s\n",
            "94:\tlearn: 0.5314871\ttotal: 13.7s\tremaining: 2m 10s\n",
            "95:\tlearn: 0.5314509\ttotal: 13.9s\tremaining: 2m 10s\n",
            "96:\tlearn: 0.5314263\ttotal: 14s\tremaining: 2m 10s\n",
            "97:\tlearn: 0.5313944\ttotal: 14.1s\tremaining: 2m 10s\n",
            "98:\tlearn: 0.5313416\ttotal: 14.3s\tremaining: 2m 10s\n",
            "99:\tlearn: 0.5313105\ttotal: 14.5s\tremaining: 2m 10s\n",
            "100:\tlearn: 0.5312866\ttotal: 14.6s\tremaining: 2m 9s\n",
            "101:\tlearn: 0.5312422\ttotal: 14.8s\tremaining: 2m 9s\n",
            "102:\tlearn: 0.5312114\ttotal: 14.9s\tremaining: 2m 9s\n",
            "103:\tlearn: 0.5311933\ttotal: 15.1s\tremaining: 2m 9s\n",
            "104:\tlearn: 0.5311635\ttotal: 15.2s\tremaining: 2m 9s\n",
            "105:\tlearn: 0.5311298\ttotal: 15.3s\tremaining: 2m 9s\n",
            "106:\tlearn: 0.5311115\ttotal: 15.5s\tremaining: 2m 9s\n",
            "107:\tlearn: 0.5310852\ttotal: 15.6s\tremaining: 2m 9s\n",
            "108:\tlearn: 0.5310414\ttotal: 15.8s\tremaining: 2m 8s\n",
            "109:\tlearn: 0.5310085\ttotal: 15.9s\tremaining: 2m 8s\n",
            "110:\tlearn: 0.5309485\ttotal: 16s\tremaining: 2m 8s\n",
            "111:\tlearn: 0.5309103\ttotal: 16.2s\tremaining: 2m 8s\n",
            "112:\tlearn: 0.5308801\ttotal: 16.3s\tremaining: 2m 8s\n",
            "113:\tlearn: 0.5308293\ttotal: 16.5s\tremaining: 2m 8s\n",
            "114:\tlearn: 0.5307952\ttotal: 16.6s\tremaining: 2m 7s\n",
            "115:\tlearn: 0.5307680\ttotal: 16.8s\tremaining: 2m 7s\n",
            "116:\tlearn: 0.5307424\ttotal: 16.9s\tremaining: 2m 7s\n",
            "117:\tlearn: 0.5307147\ttotal: 17.1s\tremaining: 2m 7s\n",
            "118:\tlearn: 0.5306730\ttotal: 17.2s\tremaining: 2m 7s\n",
            "119:\tlearn: 0.5306381\ttotal: 17.3s\tremaining: 2m 7s\n",
            "120:\tlearn: 0.5305826\ttotal: 17.5s\tremaining: 2m 6s\n",
            "121:\tlearn: 0.5305384\ttotal: 17.6s\tremaining: 2m 6s\n",
            "122:\tlearn: 0.5305155\ttotal: 17.7s\tremaining: 2m 6s\n",
            "123:\tlearn: 0.5304909\ttotal: 17.9s\tremaining: 2m 6s\n",
            "124:\tlearn: 0.5304735\ttotal: 18s\tremaining: 2m 6s\n",
            "125:\tlearn: 0.5304375\ttotal: 18.2s\tremaining: 2m 6s\n",
            "126:\tlearn: 0.5304136\ttotal: 18.3s\tremaining: 2m 5s\n",
            "127:\tlearn: 0.5303901\ttotal: 18.5s\tremaining: 2m 5s\n",
            "128:\tlearn: 0.5303582\ttotal: 18.6s\tremaining: 2m 5s\n",
            "129:\tlearn: 0.5303366\ttotal: 18.7s\tremaining: 2m 5s\n",
            "130:\tlearn: 0.5303245\ttotal: 18.9s\tremaining: 2m 5s\n",
            "131:\tlearn: 0.5302920\ttotal: 19s\tremaining: 2m 5s\n",
            "132:\tlearn: 0.5302623\ttotal: 19.2s\tremaining: 2m 4s\n",
            "133:\tlearn: 0.5302286\ttotal: 19.3s\tremaining: 2m 4s\n",
            "134:\tlearn: 0.5302083\ttotal: 19.5s\tremaining: 2m 4s\n",
            "135:\tlearn: 0.5301863\ttotal: 19.6s\tremaining: 2m 4s\n",
            "136:\tlearn: 0.5301678\ttotal: 19.7s\tremaining: 2m 4s\n",
            "137:\tlearn: 0.5301444\ttotal: 19.9s\tremaining: 2m 4s\n",
            "138:\tlearn: 0.5301216\ttotal: 20s\tremaining: 2m 4s\n",
            "139:\tlearn: 0.5300926\ttotal: 20.2s\tremaining: 2m 4s\n",
            "140:\tlearn: 0.5300763\ttotal: 20.4s\tremaining: 2m 3s\n",
            "141:\tlearn: 0.5300467\ttotal: 20.5s\tremaining: 2m 3s\n",
            "142:\tlearn: 0.5300350\ttotal: 20.7s\tremaining: 2m 3s\n",
            "143:\tlearn: 0.5300101\ttotal: 20.8s\tremaining: 2m 3s\n",
            "144:\tlearn: 0.5299899\ttotal: 21s\tremaining: 2m 3s\n",
            "145:\tlearn: 0.5299589\ttotal: 21.1s\tremaining: 2m 3s\n",
            "146:\tlearn: 0.5299436\ttotal: 21.3s\tremaining: 2m 3s\n",
            "147:\tlearn: 0.5299181\ttotal: 21.4s\tremaining: 2m 3s\n",
            "148:\tlearn: 0.5299007\ttotal: 21.6s\tremaining: 2m 3s\n",
            "149:\tlearn: 0.5298578\ttotal: 21.7s\tremaining: 2m 3s\n",
            "150:\tlearn: 0.5298342\ttotal: 21.9s\tremaining: 2m 2s\n",
            "151:\tlearn: 0.5298084\ttotal: 22s\tremaining: 2m 2s\n",
            "152:\tlearn: 0.5297814\ttotal: 22.1s\tremaining: 2m 2s\n",
            "153:\tlearn: 0.5297553\ttotal: 22.3s\tremaining: 2m 2s\n",
            "154:\tlearn: 0.5297099\ttotal: 22.5s\tremaining: 2m 2s\n",
            "155:\tlearn: 0.5296817\ttotal: 22.6s\tremaining: 2m 2s\n",
            "156:\tlearn: 0.5296500\ttotal: 22.7s\tremaining: 2m 2s\n",
            "157:\tlearn: 0.5296204\ttotal: 22.9s\tremaining: 2m 1s\n",
            "158:\tlearn: 0.5295951\ttotal: 23s\tremaining: 2m 1s\n",
            "159:\tlearn: 0.5295821\ttotal: 23.1s\tremaining: 2m 1s\n",
            "160:\tlearn: 0.5295609\ttotal: 23.3s\tremaining: 2m 1s\n",
            "161:\tlearn: 0.5295355\ttotal: 23.4s\tremaining: 2m 1s\n",
            "162:\tlearn: 0.5295059\ttotal: 23.6s\tremaining: 2m 1s\n",
            "163:\tlearn: 0.5294773\ttotal: 23.7s\tremaining: 2m\n",
            "164:\tlearn: 0.5294548\ttotal: 23.9s\tremaining: 2m\n",
            "165:\tlearn: 0.5294355\ttotal: 24s\tremaining: 2m\n",
            "166:\tlearn: 0.5294144\ttotal: 24.1s\tremaining: 2m\n",
            "167:\tlearn: 0.5293923\ttotal: 24.3s\tremaining: 2m\n",
            "168:\tlearn: 0.5293669\ttotal: 24.4s\tremaining: 2m\n",
            "169:\tlearn: 0.5293463\ttotal: 24.6s\tremaining: 2m\n",
            "170:\tlearn: 0.5293198\ttotal: 24.7s\tremaining: 1m 59s\n",
            "171:\tlearn: 0.5292925\ttotal: 24.9s\tremaining: 1m 59s\n",
            "172:\tlearn: 0.5292720\ttotal: 25s\tremaining: 1m 59s\n",
            "173:\tlearn: 0.5292586\ttotal: 25.2s\tremaining: 1m 59s\n",
            "174:\tlearn: 0.5292299\ttotal: 25.3s\tremaining: 1m 59s\n",
            "175:\tlearn: 0.5292113\ttotal: 25.4s\tremaining: 1m 59s\n",
            "176:\tlearn: 0.5291953\ttotal: 25.6s\tremaining: 1m 59s\n",
            "177:\tlearn: 0.5291741\ttotal: 25.7s\tremaining: 1m 58s\n",
            "178:\tlearn: 0.5291493\ttotal: 25.9s\tremaining: 1m 58s\n",
            "179:\tlearn: 0.5291331\ttotal: 26s\tremaining: 1m 58s\n",
            "180:\tlearn: 0.5291047\ttotal: 26.2s\tremaining: 1m 58s\n",
            "181:\tlearn: 0.5290768\ttotal: 26.3s\tremaining: 1m 58s\n",
            "182:\tlearn: 0.5290557\ttotal: 26.4s\tremaining: 1m 58s\n",
            "183:\tlearn: 0.5290240\ttotal: 26.6s\tremaining: 1m 57s\n",
            "184:\tlearn: 0.5290010\ttotal: 26.7s\tremaining: 1m 57s\n",
            "185:\tlearn: 0.5289839\ttotal: 26.9s\tremaining: 1m 57s\n",
            "186:\tlearn: 0.5289611\ttotal: 27s\tremaining: 1m 57s\n",
            "187:\tlearn: 0.5289297\ttotal: 27.2s\tremaining: 1m 57s\n",
            "188:\tlearn: 0.5289151\ttotal: 27.3s\tremaining: 1m 57s\n",
            "189:\tlearn: 0.5288855\ttotal: 27.5s\tremaining: 1m 57s\n",
            "190:\tlearn: 0.5288666\ttotal: 27.6s\tremaining: 1m 57s\n",
            "191:\tlearn: 0.5288488\ttotal: 27.8s\tremaining: 1m 56s\n",
            "192:\tlearn: 0.5288371\ttotal: 27.9s\tremaining: 1m 56s\n",
            "193:\tlearn: 0.5288150\ttotal: 28.1s\tremaining: 1m 56s\n",
            "194:\tlearn: 0.5287879\ttotal: 28.2s\tremaining: 1m 56s\n",
            "195:\tlearn: 0.5287667\ttotal: 28.4s\tremaining: 1m 56s\n",
            "196:\tlearn: 0.5287434\ttotal: 28.5s\tremaining: 1m 56s\n",
            "197:\tlearn: 0.5287087\ttotal: 28.7s\tremaining: 1m 56s\n",
            "198:\tlearn: 0.5286885\ttotal: 28.8s\tremaining: 1m 55s\n",
            "199:\tlearn: 0.5286603\ttotal: 29s\tremaining: 1m 55s\n",
            "200:\tlearn: 0.5286442\ttotal: 29.1s\tremaining: 1m 55s\n",
            "201:\tlearn: 0.5286225\ttotal: 29.3s\tremaining: 1m 55s\n",
            "202:\tlearn: 0.5285950\ttotal: 29.4s\tremaining: 1m 55s\n",
            "203:\tlearn: 0.5285803\ttotal: 29.6s\tremaining: 1m 55s\n",
            "204:\tlearn: 0.5285644\ttotal: 29.7s\tremaining: 1m 55s\n",
            "205:\tlearn: 0.5285444\ttotal: 29.9s\tremaining: 1m 55s\n",
            "206:\tlearn: 0.5285246\ttotal: 30s\tremaining: 1m 54s\n",
            "207:\tlearn: 0.5284913\ttotal: 30.2s\tremaining: 1m 54s\n",
            "208:\tlearn: 0.5284742\ttotal: 30.3s\tremaining: 1m 54s\n",
            "209:\tlearn: 0.5284508\ttotal: 30.5s\tremaining: 1m 54s\n",
            "210:\tlearn: 0.5284345\ttotal: 30.6s\tremaining: 1m 54s\n",
            "211:\tlearn: 0.5284137\ttotal: 30.8s\tremaining: 1m 54s\n",
            "212:\tlearn: 0.5283977\ttotal: 30.9s\tremaining: 1m 54s\n",
            "213:\tlearn: 0.5283851\ttotal: 31.1s\tremaining: 1m 54s\n",
            "214:\tlearn: 0.5283653\ttotal: 31.2s\tremaining: 1m 54s\n",
            "215:\tlearn: 0.5283511\ttotal: 31.4s\tremaining: 1m 53s\n",
            "216:\tlearn: 0.5283307\ttotal: 31.5s\tremaining: 1m 53s\n",
            "217:\tlearn: 0.5283105\ttotal: 31.7s\tremaining: 1m 53s\n",
            "218:\tlearn: 0.5282959\ttotal: 31.8s\tremaining: 1m 53s\n",
            "219:\tlearn: 0.5282766\ttotal: 32s\tremaining: 1m 53s\n",
            "220:\tlearn: 0.5282583\ttotal: 32.1s\tremaining: 1m 53s\n",
            "221:\tlearn: 0.5282318\ttotal: 32.3s\tremaining: 1m 53s\n",
            "222:\tlearn: 0.5282224\ttotal: 32.4s\tremaining: 1m 52s\n",
            "223:\tlearn: 0.5281973\ttotal: 32.6s\tremaining: 1m 52s\n",
            "224:\tlearn: 0.5281820\ttotal: 32.7s\tremaining: 1m 52s\n",
            "225:\tlearn: 0.5281689\ttotal: 32.8s\tremaining: 1m 52s\n",
            "226:\tlearn: 0.5281519\ttotal: 33s\tremaining: 1m 52s\n",
            "227:\tlearn: 0.5281393\ttotal: 33.1s\tremaining: 1m 52s\n",
            "228:\tlearn: 0.5281221\ttotal: 33.3s\tremaining: 1m 52s\n",
            "229:\tlearn: 0.5281035\ttotal: 33.4s\tremaining: 1m 51s\n",
            "230:\tlearn: 0.5280870\ttotal: 33.6s\tremaining: 1m 51s\n",
            "231:\tlearn: 0.5280685\ttotal: 33.7s\tremaining: 1m 51s\n",
            "232:\tlearn: 0.5280430\ttotal: 33.8s\tremaining: 1m 51s\n",
            "233:\tlearn: 0.5280281\ttotal: 34s\tremaining: 1m 51s\n",
            "234:\tlearn: 0.5279995\ttotal: 34.1s\tremaining: 1m 51s\n",
            "235:\tlearn: 0.5279737\ttotal: 34.3s\tremaining: 1m 50s\n",
            "236:\tlearn: 0.5279391\ttotal: 34.4s\tremaining: 1m 50s\n",
            "237:\tlearn: 0.5279199\ttotal: 34.6s\tremaining: 1m 50s\n",
            "238:\tlearn: 0.5278991\ttotal: 34.7s\tremaining: 1m 50s\n",
            "239:\tlearn: 0.5278781\ttotal: 34.9s\tremaining: 1m 50s\n",
            "240:\tlearn: 0.5278551\ttotal: 35s\tremaining: 1m 50s\n",
            "241:\tlearn: 0.5278357\ttotal: 35.2s\tremaining: 1m 50s\n",
            "242:\tlearn: 0.5278139\ttotal: 35.4s\tremaining: 1m 50s\n",
            "243:\tlearn: 0.5278015\ttotal: 35.5s\tremaining: 1m 49s\n",
            "244:\tlearn: 0.5277895\ttotal: 35.7s\tremaining: 1m 49s\n",
            "245:\tlearn: 0.5277729\ttotal: 35.8s\tremaining: 1m 49s\n",
            "246:\tlearn: 0.5277567\ttotal: 35.9s\tremaining: 1m 49s\n",
            "247:\tlearn: 0.5277371\ttotal: 36.1s\tremaining: 1m 49s\n",
            "248:\tlearn: 0.5277257\ttotal: 36.2s\tremaining: 1m 49s\n",
            "249:\tlearn: 0.5277092\ttotal: 36.4s\tremaining: 1m 49s\n",
            "250:\tlearn: 0.5276885\ttotal: 36.5s\tremaining: 1m 48s\n",
            "251:\tlearn: 0.5276680\ttotal: 36.6s\tremaining: 1m 48s\n",
            "252:\tlearn: 0.5276510\ttotal: 36.8s\tremaining: 1m 48s\n",
            "253:\tlearn: 0.5276279\ttotal: 36.9s\tremaining: 1m 48s\n",
            "254:\tlearn: 0.5276139\ttotal: 37.1s\tremaining: 1m 48s\n",
            "255:\tlearn: 0.5275915\ttotal: 37.2s\tremaining: 1m 48s\n",
            "256:\tlearn: 0.5275797\ttotal: 37.3s\tremaining: 1m 47s\n",
            "257:\tlearn: 0.5275650\ttotal: 37.5s\tremaining: 1m 47s\n",
            "258:\tlearn: 0.5275494\ttotal: 37.7s\tremaining: 1m 47s\n",
            "259:\tlearn: 0.5275337\ttotal: 37.8s\tremaining: 1m 47s\n",
            "260:\tlearn: 0.5275181\ttotal: 38s\tremaining: 1m 47s\n",
            "261:\tlearn: 0.5274996\ttotal: 38.1s\tremaining: 1m 47s\n",
            "262:\tlearn: 0.5274792\ttotal: 38.3s\tremaining: 1m 47s\n",
            "263:\tlearn: 0.5274596\ttotal: 38.4s\tremaining: 1m 47s\n",
            "264:\tlearn: 0.5274501\ttotal: 38.6s\tremaining: 1m 46s\n",
            "265:\tlearn: 0.5274384\ttotal: 38.7s\tremaining: 1m 46s\n",
            "266:\tlearn: 0.5274190\ttotal: 38.9s\tremaining: 1m 46s\n",
            "267:\tlearn: 0.5274054\ttotal: 39s\tremaining: 1m 46s\n",
            "268:\tlearn: 0.5273845\ttotal: 39.2s\tremaining: 1m 46s\n",
            "269:\tlearn: 0.5273763\ttotal: 39.3s\tremaining: 1m 46s\n",
            "270:\tlearn: 0.5273652\ttotal: 39.5s\tremaining: 1m 46s\n",
            "271:\tlearn: 0.5273530\ttotal: 39.6s\tremaining: 1m 45s\n",
            "272:\tlearn: 0.5273418\ttotal: 39.8s\tremaining: 1m 45s\n",
            "273:\tlearn: 0.5273227\ttotal: 39.9s\tremaining: 1m 45s\n",
            "274:\tlearn: 0.5273008\ttotal: 40s\tremaining: 1m 45s\n",
            "275:\tlearn: 0.5272895\ttotal: 40.2s\tremaining: 1m 45s\n",
            "276:\tlearn: 0.5272780\ttotal: 40.3s\tremaining: 1m 45s\n",
            "277:\tlearn: 0.5272579\ttotal: 40.5s\tremaining: 1m 45s\n",
            "278:\tlearn: 0.5272429\ttotal: 40.6s\tremaining: 1m 44s\n",
            "279:\tlearn: 0.5272240\ttotal: 40.8s\tremaining: 1m 44s\n",
            "280:\tlearn: 0.5272085\ttotal: 40.9s\tremaining: 1m 44s\n",
            "281:\tlearn: 0.5271960\ttotal: 41.1s\tremaining: 1m 44s\n",
            "282:\tlearn: 0.5271803\ttotal: 41.3s\tremaining: 1m 44s\n",
            "283:\tlearn: 0.5271709\ttotal: 41.4s\tremaining: 1m 44s\n",
            "284:\tlearn: 0.5271618\ttotal: 41.6s\tremaining: 1m 44s\n",
            "285:\tlearn: 0.5271477\ttotal: 41.7s\tremaining: 1m 44s\n",
            "286:\tlearn: 0.5271351\ttotal: 41.9s\tremaining: 1m 44s\n",
            "287:\tlearn: 0.5271176\ttotal: 42s\tremaining: 1m 43s\n",
            "288:\tlearn: 0.5271034\ttotal: 42.2s\tremaining: 1m 43s\n",
            "289:\tlearn: 0.5270812\ttotal: 42.3s\tremaining: 1m 43s\n",
            "290:\tlearn: 0.5270675\ttotal: 42.4s\tremaining: 1m 43s\n",
            "291:\tlearn: 0.5270557\ttotal: 42.6s\tremaining: 1m 43s\n",
            "292:\tlearn: 0.5270412\ttotal: 42.8s\tremaining: 1m 43s\n",
            "293:\tlearn: 0.5270327\ttotal: 42.9s\tremaining: 1m 43s\n",
            "294:\tlearn: 0.5270177\ttotal: 43.1s\tremaining: 1m 42s\n",
            "295:\tlearn: 0.5270026\ttotal: 43.2s\tremaining: 1m 42s\n",
            "296:\tlearn: 0.5269876\ttotal: 43.3s\tremaining: 1m 42s\n",
            "297:\tlearn: 0.5269759\ttotal: 43.5s\tremaining: 1m 42s\n",
            "298:\tlearn: 0.5269653\ttotal: 43.7s\tremaining: 1m 42s\n",
            "299:\tlearn: 0.5269456\ttotal: 43.8s\tremaining: 1m 42s\n",
            "300:\tlearn: 0.5269211\ttotal: 44s\tremaining: 1m 42s\n",
            "301:\tlearn: 0.5269019\ttotal: 44.1s\tremaining: 1m 41s\n",
            "302:\tlearn: 0.5268871\ttotal: 44.3s\tremaining: 1m 41s\n",
            "303:\tlearn: 0.5268647\ttotal: 44.4s\tremaining: 1m 41s\n",
            "304:\tlearn: 0.5268550\ttotal: 44.5s\tremaining: 1m 41s\n",
            "305:\tlearn: 0.5268426\ttotal: 44.7s\tremaining: 1m 41s\n",
            "306:\tlearn: 0.5268278\ttotal: 44.9s\tremaining: 1m 41s\n",
            "307:\tlearn: 0.5268135\ttotal: 45s\tremaining: 1m 41s\n",
            "308:\tlearn: 0.5267959\ttotal: 45.2s\tremaining: 1m 41s\n",
            "309:\tlearn: 0.5267759\ttotal: 45.3s\tremaining: 1m 40s\n",
            "310:\tlearn: 0.5267606\ttotal: 45.5s\tremaining: 1m 40s\n",
            "311:\tlearn: 0.5267536\ttotal: 45.6s\tremaining: 1m 40s\n",
            "312:\tlearn: 0.5267368\ttotal: 45.8s\tremaining: 1m 40s\n",
            "313:\tlearn: 0.5267179\ttotal: 45.9s\tremaining: 1m 40s\n",
            "314:\tlearn: 0.5267089\ttotal: 46.1s\tremaining: 1m 40s\n",
            "315:\tlearn: 0.5266911\ttotal: 46.2s\tremaining: 1m 40s\n",
            "316:\tlearn: 0.5266776\ttotal: 46.4s\tremaining: 1m 39s\n",
            "317:\tlearn: 0.5266513\ttotal: 46.5s\tremaining: 1m 39s\n",
            "318:\tlearn: 0.5266361\ttotal: 46.7s\tremaining: 1m 39s\n",
            "319:\tlearn: 0.5266234\ttotal: 46.8s\tremaining: 1m 39s\n",
            "320:\tlearn: 0.5266117\ttotal: 47s\tremaining: 1m 39s\n",
            "321:\tlearn: 0.5265923\ttotal: 47.1s\tremaining: 1m 39s\n",
            "322:\tlearn: 0.5265730\ttotal: 47.3s\tremaining: 1m 39s\n",
            "323:\tlearn: 0.5265591\ttotal: 47.4s\tremaining: 1m 38s\n",
            "324:\tlearn: 0.5265450\ttotal: 47.6s\tremaining: 1m 38s\n",
            "325:\tlearn: 0.5265329\ttotal: 47.7s\tremaining: 1m 38s\n",
            "326:\tlearn: 0.5265195\ttotal: 47.9s\tremaining: 1m 38s\n",
            "327:\tlearn: 0.5265084\ttotal: 48s\tremaining: 1m 38s\n",
            "328:\tlearn: 0.5264986\ttotal: 48.2s\tremaining: 1m 38s\n",
            "329:\tlearn: 0.5264878\ttotal: 48.3s\tremaining: 1m 38s\n",
            "330:\tlearn: 0.5264719\ttotal: 48.5s\tremaining: 1m 37s\n",
            "331:\tlearn: 0.5264644\ttotal: 48.6s\tremaining: 1m 37s\n",
            "332:\tlearn: 0.5264502\ttotal: 48.8s\tremaining: 1m 37s\n",
            "333:\tlearn: 0.5264385\ttotal: 48.9s\tremaining: 1m 37s\n",
            "334:\tlearn: 0.5264182\ttotal: 49.1s\tremaining: 1m 37s\n",
            "335:\tlearn: 0.5264095\ttotal: 49.2s\tremaining: 1m 37s\n",
            "336:\tlearn: 0.5263945\ttotal: 49.4s\tremaining: 1m 37s\n",
            "337:\tlearn: 0.5263776\ttotal: 49.5s\tremaining: 1m 36s\n",
            "338:\tlearn: 0.5263686\ttotal: 49.6s\tremaining: 1m 36s\n",
            "339:\tlearn: 0.5263502\ttotal: 49.8s\tremaining: 1m 36s\n",
            "340:\tlearn: 0.5263407\ttotal: 49.9s\tremaining: 1m 36s\n",
            "341:\tlearn: 0.5263210\ttotal: 50.1s\tremaining: 1m 36s\n",
            "342:\tlearn: 0.5263080\ttotal: 50.2s\tremaining: 1m 36s\n",
            "343:\tlearn: 0.5262909\ttotal: 50.4s\tremaining: 1m 36s\n",
            "344:\tlearn: 0.5262719\ttotal: 50.5s\tremaining: 1m 35s\n",
            "345:\tlearn: 0.5262601\ttotal: 50.7s\tremaining: 1m 35s\n",
            "346:\tlearn: 0.5262468\ttotal: 50.8s\tremaining: 1m 35s\n",
            "347:\tlearn: 0.5262370\ttotal: 51s\tremaining: 1m 35s\n",
            "348:\tlearn: 0.5262201\ttotal: 51.1s\tremaining: 1m 35s\n",
            "349:\tlearn: 0.5262058\ttotal: 51.3s\tremaining: 1m 35s\n",
            "350:\tlearn: 0.5261917\ttotal: 51.4s\tremaining: 1m 35s\n",
            "351:\tlearn: 0.5261784\ttotal: 51.6s\tremaining: 1m 34s\n",
            "352:\tlearn: 0.5261649\ttotal: 51.7s\tremaining: 1m 34s\n",
            "353:\tlearn: 0.5261527\ttotal: 51.9s\tremaining: 1m 34s\n",
            "354:\tlearn: 0.5261422\ttotal: 52s\tremaining: 1m 34s\n",
            "355:\tlearn: 0.5261309\ttotal: 52.2s\tremaining: 1m 34s\n",
            "356:\tlearn: 0.5261184\ttotal: 52.3s\tremaining: 1m 34s\n",
            "357:\tlearn: 0.5261001\ttotal: 52.5s\tremaining: 1m 34s\n",
            "358:\tlearn: 0.5260893\ttotal: 52.6s\tremaining: 1m 33s\n",
            "359:\tlearn: 0.5260821\ttotal: 52.8s\tremaining: 1m 33s\n",
            "360:\tlearn: 0.5260719\ttotal: 52.9s\tremaining: 1m 33s\n",
            "361:\tlearn: 0.5260581\ttotal: 53.1s\tremaining: 1m 33s\n",
            "362:\tlearn: 0.5260410\ttotal: 53.2s\tremaining: 1m 33s\n",
            "363:\tlearn: 0.5260273\ttotal: 53.4s\tremaining: 1m 33s\n",
            "364:\tlearn: 0.5260135\ttotal: 53.5s\tremaining: 1m 33s\n",
            "365:\tlearn: 0.5260032\ttotal: 53.7s\tremaining: 1m 32s\n",
            "366:\tlearn: 0.5259870\ttotal: 53.8s\tremaining: 1m 32s\n",
            "367:\tlearn: 0.5259732\ttotal: 54s\tremaining: 1m 32s\n",
            "368:\tlearn: 0.5259620\ttotal: 54.1s\tremaining: 1m 32s\n",
            "369:\tlearn: 0.5259471\ttotal: 54.2s\tremaining: 1m 32s\n",
            "370:\tlearn: 0.5259357\ttotal: 54.4s\tremaining: 1m 32s\n",
            "371:\tlearn: 0.5259188\ttotal: 54.6s\tremaining: 1m 32s\n",
            "372:\tlearn: 0.5259102\ttotal: 54.7s\tremaining: 1m 31s\n",
            "373:\tlearn: 0.5258999\ttotal: 54.9s\tremaining: 1m 31s\n",
            "374:\tlearn: 0.5258877\ttotal: 55s\tremaining: 1m 31s\n",
            "375:\tlearn: 0.5258736\ttotal: 55.2s\tremaining: 1m 31s\n",
            "376:\tlearn: 0.5258636\ttotal: 55.3s\tremaining: 1m 31s\n",
            "377:\tlearn: 0.5258445\ttotal: 55.5s\tremaining: 1m 31s\n",
            "378:\tlearn: 0.5258248\ttotal: 55.6s\tremaining: 1m 31s\n",
            "379:\tlearn: 0.5258089\ttotal: 55.8s\tremaining: 1m 31s\n",
            "380:\tlearn: 0.5257952\ttotal: 55.9s\tremaining: 1m 30s\n",
            "381:\tlearn: 0.5257750\ttotal: 56.1s\tremaining: 1m 30s\n",
            "382:\tlearn: 0.5257684\ttotal: 56.2s\tremaining: 1m 30s\n",
            "383:\tlearn: 0.5257601\ttotal: 56.4s\tremaining: 1m 30s\n",
            "384:\tlearn: 0.5257377\ttotal: 56.5s\tremaining: 1m 30s\n",
            "385:\tlearn: 0.5257236\ttotal: 56.7s\tremaining: 1m 30s\n",
            "386:\tlearn: 0.5257148\ttotal: 56.8s\tremaining: 1m 29s\n",
            "387:\tlearn: 0.5256978\ttotal: 57s\tremaining: 1m 29s\n",
            "388:\tlearn: 0.5256782\ttotal: 57.1s\tremaining: 1m 29s\n",
            "389:\tlearn: 0.5256684\ttotal: 57.3s\tremaining: 1m 29s\n",
            "390:\tlearn: 0.5256537\ttotal: 57.4s\tremaining: 1m 29s\n",
            "391:\tlearn: 0.5256422\ttotal: 57.6s\tremaining: 1m 29s\n",
            "392:\tlearn: 0.5256311\ttotal: 57.7s\tremaining: 1m 29s\n",
            "393:\tlearn: 0.5256173\ttotal: 57.9s\tremaining: 1m 29s\n",
            "394:\tlearn: 0.5256053\ttotal: 58s\tremaining: 1m 28s\n",
            "395:\tlearn: 0.5255929\ttotal: 58.2s\tremaining: 1m 28s\n",
            "396:\tlearn: 0.5255863\ttotal: 58.3s\tremaining: 1m 28s\n",
            "397:\tlearn: 0.5255807\ttotal: 58.5s\tremaining: 1m 28s\n",
            "398:\tlearn: 0.5255713\ttotal: 58.6s\tremaining: 1m 28s\n",
            "399:\tlearn: 0.5255555\ttotal: 58.8s\tremaining: 1m 28s\n",
            "400:\tlearn: 0.5255443\ttotal: 58.9s\tremaining: 1m 28s\n",
            "401:\tlearn: 0.5255354\ttotal: 59.1s\tremaining: 1m 27s\n",
            "402:\tlearn: 0.5255202\ttotal: 59.2s\tremaining: 1m 27s\n",
            "403:\tlearn: 0.5255077\ttotal: 59.4s\tremaining: 1m 27s\n",
            "404:\tlearn: 0.5254996\ttotal: 59.5s\tremaining: 1m 27s\n",
            "405:\tlearn: 0.5254889\ttotal: 59.7s\tremaining: 1m 27s\n",
            "406:\tlearn: 0.5254808\ttotal: 59.8s\tremaining: 1m 27s\n",
            "407:\tlearn: 0.5254663\ttotal: 60s\tremaining: 1m 27s\n",
            "408:\tlearn: 0.5254495\ttotal: 1m\tremaining: 1m 26s\n",
            "409:\tlearn: 0.5254416\ttotal: 1m\tremaining: 1m 26s\n",
            "410:\tlearn: 0.5254361\ttotal: 1m\tremaining: 1m 26s\n",
            "411:\tlearn: 0.5254278\ttotal: 1m\tremaining: 1m 26s\n",
            "412:\tlearn: 0.5254137\ttotal: 1m\tremaining: 1m 26s\n",
            "413:\tlearn: 0.5254068\ttotal: 1m\tremaining: 1m 26s\n",
            "414:\tlearn: 0.5253880\ttotal: 1m 1s\tremaining: 1m 26s\n",
            "415:\tlearn: 0.5253773\ttotal: 1m 1s\tremaining: 1m 25s\n",
            "416:\tlearn: 0.5253653\ttotal: 1m 1s\tremaining: 1m 25s\n",
            "417:\tlearn: 0.5253493\ttotal: 1m 1s\tremaining: 1m 25s\n",
            "418:\tlearn: 0.5253418\ttotal: 1m 1s\tremaining: 1m 25s\n",
            "419:\tlearn: 0.5253394\ttotal: 1m 1s\tremaining: 1m 25s\n",
            "420:\tlearn: 0.5253279\ttotal: 1m 1s\tremaining: 1m 25s\n",
            "421:\tlearn: 0.5253180\ttotal: 1m 2s\tremaining: 1m 25s\n",
            "422:\tlearn: 0.5253088\ttotal: 1m 2s\tremaining: 1m 24s\n",
            "423:\tlearn: 0.5252928\ttotal: 1m 2s\tremaining: 1m 24s\n",
            "424:\tlearn: 0.5252815\ttotal: 1m 2s\tremaining: 1m 24s\n",
            "425:\tlearn: 0.5252650\ttotal: 1m 2s\tremaining: 1m 24s\n",
            "426:\tlearn: 0.5252485\ttotal: 1m 2s\tremaining: 1m 24s\n",
            "427:\tlearn: 0.5252326\ttotal: 1m 2s\tremaining: 1m 24s\n",
            "428:\tlearn: 0.5252181\ttotal: 1m 3s\tremaining: 1m 24s\n",
            "429:\tlearn: 0.5252135\ttotal: 1m 3s\tremaining: 1m 23s\n",
            "430:\tlearn: 0.5252011\ttotal: 1m 3s\tremaining: 1m 23s\n",
            "431:\tlearn: 0.5251941\ttotal: 1m 3s\tremaining: 1m 23s\n",
            "432:\tlearn: 0.5251846\ttotal: 1m 3s\tremaining: 1m 23s\n",
            "433:\tlearn: 0.5251751\ttotal: 1m 3s\tremaining: 1m 23s\n",
            "434:\tlearn: 0.5251705\ttotal: 1m 3s\tremaining: 1m 23s\n",
            "435:\tlearn: 0.5251575\ttotal: 1m 4s\tremaining: 1m 22s\n",
            "436:\tlearn: 0.5251435\ttotal: 1m 4s\tremaining: 1m 22s\n",
            "437:\tlearn: 0.5251298\ttotal: 1m 4s\tremaining: 1m 22s\n",
            "438:\tlearn: 0.5251168\ttotal: 1m 4s\tremaining: 1m 22s\n",
            "439:\tlearn: 0.5251082\ttotal: 1m 4s\tremaining: 1m 22s\n",
            "440:\tlearn: 0.5250949\ttotal: 1m 4s\tremaining: 1m 22s\n",
            "441:\tlearn: 0.5250788\ttotal: 1m 5s\tremaining: 1m 22s\n",
            "442:\tlearn: 0.5250657\ttotal: 1m 5s\tremaining: 1m 21s\n",
            "443:\tlearn: 0.5250532\ttotal: 1m 5s\tremaining: 1m 21s\n",
            "444:\tlearn: 0.5250430\ttotal: 1m 5s\tremaining: 1m 21s\n",
            "445:\tlearn: 0.5250323\ttotal: 1m 5s\tremaining: 1m 21s\n",
            "446:\tlearn: 0.5250219\ttotal: 1m 5s\tremaining: 1m 21s\n",
            "447:\tlearn: 0.5250141\ttotal: 1m 5s\tremaining: 1m 21s\n",
            "448:\tlearn: 0.5250021\ttotal: 1m 6s\tremaining: 1m 21s\n",
            "449:\tlearn: 0.5249892\ttotal: 1m 6s\tremaining: 1m 20s\n",
            "450:\tlearn: 0.5249706\ttotal: 1m 6s\tremaining: 1m 20s\n",
            "451:\tlearn: 0.5249658\ttotal: 1m 6s\tremaining: 1m 20s\n",
            "452:\tlearn: 0.5249601\ttotal: 1m 6s\tremaining: 1m 20s\n",
            "453:\tlearn: 0.5249524\ttotal: 1m 6s\tremaining: 1m 20s\n",
            "454:\tlearn: 0.5249426\ttotal: 1m 6s\tremaining: 1m 20s\n",
            "455:\tlearn: 0.5249306\ttotal: 1m 7s\tremaining: 1m 20s\n",
            "456:\tlearn: 0.5249133\ttotal: 1m 7s\tremaining: 1m 19s\n",
            "457:\tlearn: 0.5248959\ttotal: 1m 7s\tremaining: 1m 19s\n",
            "458:\tlearn: 0.5248878\ttotal: 1m 7s\tremaining: 1m 19s\n",
            "459:\tlearn: 0.5248728\ttotal: 1m 7s\tremaining: 1m 19s\n",
            "460:\tlearn: 0.5248607\ttotal: 1m 7s\tremaining: 1m 19s\n",
            "461:\tlearn: 0.5248501\ttotal: 1m 7s\tremaining: 1m 19s\n",
            "462:\tlearn: 0.5248360\ttotal: 1m 8s\tremaining: 1m 18s\n",
            "463:\tlearn: 0.5248227\ttotal: 1m 8s\tremaining: 1m 18s\n",
            "464:\tlearn: 0.5248147\ttotal: 1m 8s\tremaining: 1m 18s\n",
            "465:\tlearn: 0.5248053\ttotal: 1m 8s\tremaining: 1m 18s\n",
            "466:\tlearn: 0.5247977\ttotal: 1m 8s\tremaining: 1m 18s\n",
            "467:\tlearn: 0.5247906\ttotal: 1m 8s\tremaining: 1m 18s\n",
            "468:\tlearn: 0.5247848\ttotal: 1m 8s\tremaining: 1m 18s\n",
            "469:\tlearn: 0.5247637\ttotal: 1m 9s\tremaining: 1m 17s\n",
            "470:\tlearn: 0.5247550\ttotal: 1m 9s\tremaining: 1m 17s\n",
            "471:\tlearn: 0.5247451\ttotal: 1m 9s\tremaining: 1m 17s\n",
            "472:\tlearn: 0.5247320\ttotal: 1m 9s\tremaining: 1m 17s\n",
            "473:\tlearn: 0.5247179\ttotal: 1m 9s\tremaining: 1m 17s\n",
            "474:\tlearn: 0.5247107\ttotal: 1m 9s\tremaining: 1m 17s\n",
            "475:\tlearn: 0.5247000\ttotal: 1m 10s\tremaining: 1m 17s\n",
            "476:\tlearn: 0.5246956\ttotal: 1m 10s\tremaining: 1m 16s\n",
            "477:\tlearn: 0.5246834\ttotal: 1m 10s\tremaining: 1m 16s\n",
            "478:\tlearn: 0.5246736\ttotal: 1m 10s\tremaining: 1m 16s\n",
            "479:\tlearn: 0.5246639\ttotal: 1m 10s\tremaining: 1m 16s\n",
            "480:\tlearn: 0.5246572\ttotal: 1m 10s\tremaining: 1m 16s\n",
            "481:\tlearn: 0.5246459\ttotal: 1m 10s\tremaining: 1m 16s\n",
            "482:\tlearn: 0.5246333\ttotal: 1m 11s\tremaining: 1m 16s\n",
            "483:\tlearn: 0.5246252\ttotal: 1m 11s\tremaining: 1m 16s\n",
            "484:\tlearn: 0.5246131\ttotal: 1m 11s\tremaining: 1m 15s\n",
            "485:\tlearn: 0.5245958\ttotal: 1m 11s\tremaining: 1m 15s\n",
            "486:\tlearn: 0.5245786\ttotal: 1m 11s\tremaining: 1m 15s\n",
            "487:\tlearn: 0.5245638\ttotal: 1m 11s\tremaining: 1m 15s\n",
            "488:\tlearn: 0.5245568\ttotal: 1m 12s\tremaining: 1m 15s\n",
            "489:\tlearn: 0.5245453\ttotal: 1m 12s\tremaining: 1m 15s\n",
            "490:\tlearn: 0.5245335\ttotal: 1m 12s\tremaining: 1m 14s\n",
            "491:\tlearn: 0.5245159\ttotal: 1m 12s\tremaining: 1m 14s\n",
            "492:\tlearn: 0.5245073\ttotal: 1m 12s\tremaining: 1m 14s\n",
            "493:\tlearn: 0.5245002\ttotal: 1m 12s\tremaining: 1m 14s\n",
            "494:\tlearn: 0.5244871\ttotal: 1m 12s\tremaining: 1m 14s\n",
            "495:\tlearn: 0.5244752\ttotal: 1m 13s\tremaining: 1m 14s\n",
            "496:\tlearn: 0.5244598\ttotal: 1m 13s\tremaining: 1m 14s\n",
            "497:\tlearn: 0.5244533\ttotal: 1m 13s\tremaining: 1m 13s\n",
            "498:\tlearn: 0.5244413\ttotal: 1m 13s\tremaining: 1m 13s\n",
            "499:\tlearn: 0.5244284\ttotal: 1m 13s\tremaining: 1m 13s\n",
            "500:\tlearn: 0.5244151\ttotal: 1m 13s\tremaining: 1m 13s\n",
            "501:\tlearn: 0.5243981\ttotal: 1m 13s\tremaining: 1m 13s\n",
            "502:\tlearn: 0.5243949\ttotal: 1m 14s\tremaining: 1m 13s\n",
            "503:\tlearn: 0.5243856\ttotal: 1m 14s\tremaining: 1m 13s\n",
            "504:\tlearn: 0.5243723\ttotal: 1m 14s\tremaining: 1m 12s\n",
            "505:\tlearn: 0.5243591\ttotal: 1m 14s\tremaining: 1m 12s\n",
            "506:\tlearn: 0.5243483\ttotal: 1m 14s\tremaining: 1m 12s\n",
            "507:\tlearn: 0.5243358\ttotal: 1m 14s\tremaining: 1m 12s\n",
            "508:\tlearn: 0.5243289\ttotal: 1m 14s\tremaining: 1m 12s\n",
            "509:\tlearn: 0.5243103\ttotal: 1m 15s\tremaining: 1m 12s\n",
            "510:\tlearn: 0.5242999\ttotal: 1m 15s\tremaining: 1m 12s\n",
            "511:\tlearn: 0.5242962\ttotal: 1m 15s\tremaining: 1m 11s\n",
            "512:\tlearn: 0.5242868\ttotal: 1m 15s\tremaining: 1m 11s\n",
            "513:\tlearn: 0.5242766\ttotal: 1m 15s\tremaining: 1m 11s\n",
            "514:\tlearn: 0.5242690\ttotal: 1m 15s\tremaining: 1m 11s\n",
            "515:\tlearn: 0.5242625\ttotal: 1m 16s\tremaining: 1m 11s\n",
            "516:\tlearn: 0.5242424\ttotal: 1m 16s\tremaining: 1m 11s\n",
            "517:\tlearn: 0.5242336\ttotal: 1m 16s\tremaining: 1m 11s\n",
            "518:\tlearn: 0.5242221\ttotal: 1m 16s\tremaining: 1m 10s\n",
            "519:\tlearn: 0.5242145\ttotal: 1m 16s\tremaining: 1m 10s\n",
            "520:\tlearn: 0.5242084\ttotal: 1m 16s\tremaining: 1m 10s\n",
            "521:\tlearn: 0.5242012\ttotal: 1m 16s\tremaining: 1m 10s\n",
            "522:\tlearn: 0.5241913\ttotal: 1m 17s\tremaining: 1m 10s\n",
            "523:\tlearn: 0.5241787\ttotal: 1m 17s\tremaining: 1m 10s\n",
            "524:\tlearn: 0.5241658\ttotal: 1m 17s\tremaining: 1m 10s\n",
            "525:\tlearn: 0.5241574\ttotal: 1m 17s\tremaining: 1m 9s\n",
            "526:\tlearn: 0.5241484\ttotal: 1m 17s\tremaining: 1m 9s\n",
            "527:\tlearn: 0.5241433\ttotal: 1m 17s\tremaining: 1m 9s\n",
            "528:\tlearn: 0.5241376\ttotal: 1m 17s\tremaining: 1m 9s\n",
            "529:\tlearn: 0.5241280\ttotal: 1m 18s\tremaining: 1m 9s\n",
            "530:\tlearn: 0.5241179\ttotal: 1m 18s\tremaining: 1m 9s\n",
            "531:\tlearn: 0.5241044\ttotal: 1m 18s\tremaining: 1m 8s\n",
            "532:\tlearn: 0.5240948\ttotal: 1m 18s\tremaining: 1m 8s\n",
            "533:\tlearn: 0.5240839\ttotal: 1m 18s\tremaining: 1m 8s\n",
            "534:\tlearn: 0.5240750\ttotal: 1m 18s\tremaining: 1m 8s\n",
            "535:\tlearn: 0.5240689\ttotal: 1m 19s\tremaining: 1m 8s\n",
            "536:\tlearn: 0.5240649\ttotal: 1m 19s\tremaining: 1m 8s\n",
            "537:\tlearn: 0.5240502\ttotal: 1m 19s\tremaining: 1m 8s\n",
            "538:\tlearn: 0.5240385\ttotal: 1m 19s\tremaining: 1m 7s\n",
            "539:\tlearn: 0.5240323\ttotal: 1m 19s\tremaining: 1m 7s\n",
            "540:\tlearn: 0.5240258\ttotal: 1m 19s\tremaining: 1m 7s\n",
            "541:\tlearn: 0.5240185\ttotal: 1m 19s\tremaining: 1m 7s\n",
            "542:\tlearn: 0.5240079\ttotal: 1m 20s\tremaining: 1m 7s\n",
            "543:\tlearn: 0.5239959\ttotal: 1m 20s\tremaining: 1m 7s\n",
            "544:\tlearn: 0.5239867\ttotal: 1m 20s\tremaining: 1m 7s\n",
            "545:\tlearn: 0.5239767\ttotal: 1m 20s\tremaining: 1m 6s\n",
            "546:\tlearn: 0.5239660\ttotal: 1m 20s\tremaining: 1m 6s\n",
            "547:\tlearn: 0.5239585\ttotal: 1m 20s\tremaining: 1m 6s\n",
            "548:\tlearn: 0.5239404\ttotal: 1m 20s\tremaining: 1m 6s\n",
            "549:\tlearn: 0.5239277\ttotal: 1m 21s\tremaining: 1m 6s\n",
            "550:\tlearn: 0.5239171\ttotal: 1m 21s\tremaining: 1m 6s\n",
            "551:\tlearn: 0.5239058\ttotal: 1m 21s\tremaining: 1m 6s\n",
            "552:\tlearn: 0.5238894\ttotal: 1m 21s\tremaining: 1m 5s\n",
            "553:\tlearn: 0.5238824\ttotal: 1m 21s\tremaining: 1m 5s\n",
            "554:\tlearn: 0.5238755\ttotal: 1m 21s\tremaining: 1m 5s\n",
            "555:\tlearn: 0.5238625\ttotal: 1m 22s\tremaining: 1m 5s\n",
            "556:\tlearn: 0.5238538\ttotal: 1m 22s\tremaining: 1m 5s\n",
            "557:\tlearn: 0.5238405\ttotal: 1m 22s\tremaining: 1m 5s\n",
            "558:\tlearn: 0.5238270\ttotal: 1m 22s\tremaining: 1m 5s\n",
            "559:\tlearn: 0.5238155\ttotal: 1m 22s\tremaining: 1m 4s\n",
            "560:\tlearn: 0.5238089\ttotal: 1m 22s\tremaining: 1m 4s\n",
            "561:\tlearn: 0.5237984\ttotal: 1m 22s\tremaining: 1m 4s\n",
            "562:\tlearn: 0.5237887\ttotal: 1m 23s\tremaining: 1m 4s\n",
            "563:\tlearn: 0.5237797\ttotal: 1m 23s\tremaining: 1m 4s\n",
            "564:\tlearn: 0.5237737\ttotal: 1m 23s\tremaining: 1m 4s\n",
            "565:\tlearn: 0.5237659\ttotal: 1m 23s\tremaining: 1m 4s\n",
            "566:\tlearn: 0.5237551\ttotal: 1m 23s\tremaining: 1m 3s\n",
            "567:\tlearn: 0.5237412\ttotal: 1m 23s\tremaining: 1m 3s\n",
            "568:\tlearn: 0.5237279\ttotal: 1m 24s\tremaining: 1m 3s\n",
            "569:\tlearn: 0.5237183\ttotal: 1m 24s\tremaining: 1m 3s\n",
            "570:\tlearn: 0.5237044\ttotal: 1m 24s\tremaining: 1m 3s\n",
            "571:\tlearn: 0.5236965\ttotal: 1m 24s\tremaining: 1m 3s\n",
            "572:\tlearn: 0.5236863\ttotal: 1m 24s\tremaining: 1m 3s\n",
            "573:\tlearn: 0.5236744\ttotal: 1m 24s\tremaining: 1m 2s\n",
            "574:\tlearn: 0.5236676\ttotal: 1m 24s\tremaining: 1m 2s\n",
            "575:\tlearn: 0.5236631\ttotal: 1m 25s\tremaining: 1m 2s\n",
            "576:\tlearn: 0.5236536\ttotal: 1m 25s\tremaining: 1m 2s\n",
            "577:\tlearn: 0.5236450\ttotal: 1m 25s\tremaining: 1m 2s\n",
            "578:\tlearn: 0.5236353\ttotal: 1m 25s\tremaining: 1m 2s\n",
            "579:\tlearn: 0.5236292\ttotal: 1m 25s\tremaining: 1m 2s\n",
            "580:\tlearn: 0.5236191\ttotal: 1m 25s\tremaining: 1m 1s\n",
            "581:\tlearn: 0.5236122\ttotal: 1m 25s\tremaining: 1m 1s\n",
            "582:\tlearn: 0.5235991\ttotal: 1m 26s\tremaining: 1m 1s\n",
            "583:\tlearn: 0.5235916\ttotal: 1m 26s\tremaining: 1m 1s\n",
            "584:\tlearn: 0.5235812\ttotal: 1m 26s\tremaining: 1m 1s\n",
            "585:\tlearn: 0.5235740\ttotal: 1m 26s\tremaining: 1m 1s\n",
            "586:\tlearn: 0.5235643\ttotal: 1m 26s\tremaining: 1m\n",
            "587:\tlearn: 0.5235534\ttotal: 1m 26s\tremaining: 1m\n",
            "588:\tlearn: 0.5235454\ttotal: 1m 26s\tremaining: 1m\n",
            "589:\tlearn: 0.5235372\ttotal: 1m 27s\tremaining: 1m\n",
            "590:\tlearn: 0.5235338\ttotal: 1m 27s\tremaining: 1m\n",
            "591:\tlearn: 0.5235271\ttotal: 1m 27s\tremaining: 1m\n",
            "592:\tlearn: 0.5235194\ttotal: 1m 27s\tremaining: 1m\n",
            "593:\tlearn: 0.5235100\ttotal: 1m 27s\tremaining: 60s\n",
            "594:\tlearn: 0.5234988\ttotal: 1m 27s\tremaining: 59.8s\n",
            "595:\tlearn: 0.5234891\ttotal: 1m 28s\tremaining: 59.7s\n",
            "596:\tlearn: 0.5234704\ttotal: 1m 28s\tremaining: 59.5s\n",
            "597:\tlearn: 0.5234643\ttotal: 1m 28s\tremaining: 59.4s\n",
            "598:\tlearn: 0.5234508\ttotal: 1m 28s\tremaining: 59.2s\n",
            "599:\tlearn: 0.5234396\ttotal: 1m 28s\tremaining: 59.1s\n",
            "600:\tlearn: 0.5234297\ttotal: 1m 28s\tremaining: 59s\n",
            "601:\tlearn: 0.5234178\ttotal: 1m 28s\tremaining: 58.8s\n",
            "602:\tlearn: 0.5234019\ttotal: 1m 29s\tremaining: 58.7s\n",
            "603:\tlearn: 0.5233924\ttotal: 1m 29s\tremaining: 58.5s\n",
            "604:\tlearn: 0.5233862\ttotal: 1m 29s\tremaining: 58.4s\n",
            "605:\tlearn: 0.5233822\ttotal: 1m 29s\tremaining: 58.2s\n",
            "606:\tlearn: 0.5233765\ttotal: 1m 29s\tremaining: 58.1s\n",
            "607:\tlearn: 0.5233639\ttotal: 1m 29s\tremaining: 57.9s\n",
            "608:\tlearn: 0.5233453\ttotal: 1m 30s\tremaining: 57.8s\n",
            "609:\tlearn: 0.5233373\ttotal: 1m 30s\tremaining: 57.6s\n",
            "610:\tlearn: 0.5233301\ttotal: 1m 30s\tremaining: 57.5s\n",
            "611:\tlearn: 0.5233176\ttotal: 1m 30s\tremaining: 57.3s\n",
            "612:\tlearn: 0.5233075\ttotal: 1m 30s\tremaining: 57.2s\n",
            "613:\tlearn: 0.5233003\ttotal: 1m 30s\tremaining: 57.1s\n",
            "614:\tlearn: 0.5232893\ttotal: 1m 30s\tremaining: 56.9s\n",
            "615:\tlearn: 0.5232810\ttotal: 1m 31s\tremaining: 56.8s\n",
            "616:\tlearn: 0.5232717\ttotal: 1m 31s\tremaining: 56.6s\n",
            "617:\tlearn: 0.5232685\ttotal: 1m 31s\tremaining: 56.5s\n",
            "618:\tlearn: 0.5232648\ttotal: 1m 31s\tremaining: 56.3s\n",
            "619:\tlearn: 0.5232598\ttotal: 1m 31s\tremaining: 56.2s\n",
            "620:\tlearn: 0.5232471\ttotal: 1m 31s\tremaining: 56.1s\n",
            "621:\tlearn: 0.5232380\ttotal: 1m 31s\tremaining: 55.9s\n",
            "622:\tlearn: 0.5232272\ttotal: 1m 32s\tremaining: 55.7s\n",
            "623:\tlearn: 0.5232201\ttotal: 1m 32s\tremaining: 55.6s\n",
            "624:\tlearn: 0.5232120\ttotal: 1m 32s\tremaining: 55.5s\n",
            "625:\tlearn: 0.5232070\ttotal: 1m 32s\tremaining: 55.3s\n",
            "626:\tlearn: 0.5232007\ttotal: 1m 32s\tremaining: 55.2s\n",
            "627:\tlearn: 0.5231876\ttotal: 1m 32s\tremaining: 55s\n",
            "628:\tlearn: 0.5231752\ttotal: 1m 33s\tremaining: 54.9s\n",
            "629:\tlearn: 0.5231653\ttotal: 1m 33s\tremaining: 54.7s\n",
            "630:\tlearn: 0.5231563\ttotal: 1m 33s\tremaining: 54.6s\n",
            "631:\tlearn: 0.5231488\ttotal: 1m 33s\tremaining: 54.4s\n",
            "632:\tlearn: 0.5231392\ttotal: 1m 33s\tremaining: 54.3s\n",
            "633:\tlearn: 0.5231301\ttotal: 1m 33s\tremaining: 54.1s\n",
            "634:\tlearn: 0.5231208\ttotal: 1m 33s\tremaining: 54s\n",
            "635:\tlearn: 0.5231108\ttotal: 1m 34s\tremaining: 53.8s\n",
            "636:\tlearn: 0.5231041\ttotal: 1m 34s\tremaining: 53.7s\n",
            "637:\tlearn: 0.5230978\ttotal: 1m 34s\tremaining: 53.5s\n",
            "638:\tlearn: 0.5230849\ttotal: 1m 34s\tremaining: 53.4s\n",
            "639:\tlearn: 0.5230776\ttotal: 1m 34s\tremaining: 53.3s\n",
            "640:\tlearn: 0.5230680\ttotal: 1m 34s\tremaining: 53.1s\n",
            "641:\tlearn: 0.5230583\ttotal: 1m 34s\tremaining: 53s\n",
            "642:\tlearn: 0.5230497\ttotal: 1m 35s\tremaining: 52.8s\n",
            "643:\tlearn: 0.5230386\ttotal: 1m 35s\tremaining: 52.7s\n",
            "644:\tlearn: 0.5230385\ttotal: 1m 35s\tremaining: 52.5s\n",
            "645:\tlearn: 0.5230291\ttotal: 1m 35s\tremaining: 52.4s\n",
            "646:\tlearn: 0.5230228\ttotal: 1m 35s\tremaining: 52.2s\n",
            "647:\tlearn: 0.5230111\ttotal: 1m 35s\tremaining: 52.1s\n",
            "648:\tlearn: 0.5230038\ttotal: 1m 36s\tremaining: 51.9s\n",
            "649:\tlearn: 0.5229924\ttotal: 1m 36s\tremaining: 51.8s\n",
            "650:\tlearn: 0.5229835\ttotal: 1m 36s\tremaining: 51.6s\n",
            "651:\tlearn: 0.5229746\ttotal: 1m 36s\tremaining: 51.5s\n",
            "652:\tlearn: 0.5229682\ttotal: 1m 36s\tremaining: 51.3s\n",
            "653:\tlearn: 0.5229593\ttotal: 1m 36s\tremaining: 51.2s\n",
            "654:\tlearn: 0.5229502\ttotal: 1m 36s\tremaining: 51s\n",
            "655:\tlearn: 0.5229356\ttotal: 1m 37s\tremaining: 50.9s\n",
            "656:\tlearn: 0.5229249\ttotal: 1m 37s\tremaining: 50.8s\n",
            "657:\tlearn: 0.5229151\ttotal: 1m 37s\tremaining: 50.6s\n",
            "658:\tlearn: 0.5229031\ttotal: 1m 37s\tremaining: 50.5s\n",
            "659:\tlearn: 0.5228983\ttotal: 1m 37s\tremaining: 50.3s\n",
            "660:\tlearn: 0.5228894\ttotal: 1m 37s\tremaining: 50.2s\n",
            "661:\tlearn: 0.5228801\ttotal: 1m 37s\tremaining: 50s\n",
            "662:\tlearn: 0.5228715\ttotal: 1m 38s\tremaining: 49.9s\n",
            "663:\tlearn: 0.5228679\ttotal: 1m 38s\tremaining: 49.7s\n",
            "664:\tlearn: 0.5228634\ttotal: 1m 38s\tremaining: 49.6s\n",
            "665:\tlearn: 0.5228499\ttotal: 1m 38s\tremaining: 49.4s\n",
            "666:\tlearn: 0.5228440\ttotal: 1m 38s\tremaining: 49.3s\n",
            "667:\tlearn: 0.5228339\ttotal: 1m 38s\tremaining: 49.2s\n",
            "668:\tlearn: 0.5228296\ttotal: 1m 39s\tremaining: 49s\n",
            "669:\tlearn: 0.5228215\ttotal: 1m 39s\tremaining: 48.9s\n",
            "670:\tlearn: 0.5228119\ttotal: 1m 39s\tremaining: 48.7s\n",
            "671:\tlearn: 0.5228042\ttotal: 1m 39s\tremaining: 48.6s\n",
            "672:\tlearn: 0.5227936\ttotal: 1m 39s\tremaining: 48.4s\n",
            "673:\tlearn: 0.5227869\ttotal: 1m 39s\tremaining: 48.3s\n",
            "674:\tlearn: 0.5227796\ttotal: 1m 39s\tremaining: 48.1s\n",
            "675:\tlearn: 0.5227647\ttotal: 1m 40s\tremaining: 48s\n",
            "676:\tlearn: 0.5227501\ttotal: 1m 40s\tremaining: 47.8s\n",
            "677:\tlearn: 0.5227444\ttotal: 1m 40s\tremaining: 47.7s\n",
            "678:\tlearn: 0.5227333\ttotal: 1m 40s\tremaining: 47.5s\n",
            "679:\tlearn: 0.5227233\ttotal: 1m 40s\tremaining: 47.4s\n",
            "680:\tlearn: 0.5227140\ttotal: 1m 40s\tremaining: 47.3s\n",
            "681:\tlearn: 0.5227083\ttotal: 1m 41s\tremaining: 47.1s\n",
            "682:\tlearn: 0.5226983\ttotal: 1m 41s\tremaining: 47s\n",
            "683:\tlearn: 0.5226883\ttotal: 1m 41s\tremaining: 46.8s\n",
            "684:\tlearn: 0.5226798\ttotal: 1m 41s\tremaining: 46.7s\n",
            "685:\tlearn: 0.5226714\ttotal: 1m 41s\tremaining: 46.5s\n",
            "686:\tlearn: 0.5226647\ttotal: 1m 41s\tremaining: 46.4s\n",
            "687:\tlearn: 0.5226593\ttotal: 1m 41s\tremaining: 46.2s\n",
            "688:\tlearn: 0.5226484\ttotal: 1m 42s\tremaining: 46.1s\n",
            "689:\tlearn: 0.5226410\ttotal: 1m 42s\tremaining: 45.9s\n",
            "690:\tlearn: 0.5226305\ttotal: 1m 42s\tremaining: 45.8s\n",
            "691:\tlearn: 0.5226217\ttotal: 1m 42s\tremaining: 45.7s\n",
            "692:\tlearn: 0.5226151\ttotal: 1m 42s\tremaining: 45.5s\n",
            "693:\tlearn: 0.5226081\ttotal: 1m 42s\tremaining: 45.4s\n",
            "694:\tlearn: 0.5226011\ttotal: 1m 43s\tremaining: 45.2s\n",
            "695:\tlearn: 0.5225915\ttotal: 1m 43s\tremaining: 45.1s\n",
            "696:\tlearn: 0.5225827\ttotal: 1m 43s\tremaining: 44.9s\n",
            "697:\tlearn: 0.5225688\ttotal: 1m 43s\tremaining: 44.8s\n",
            "698:\tlearn: 0.5225588\ttotal: 1m 43s\tremaining: 44.6s\n",
            "699:\tlearn: 0.5225526\ttotal: 1m 43s\tremaining: 44.5s\n",
            "700:\tlearn: 0.5225483\ttotal: 1m 43s\tremaining: 44.3s\n",
            "701:\tlearn: 0.5225407\ttotal: 1m 44s\tremaining: 44.2s\n",
            "702:\tlearn: 0.5225300\ttotal: 1m 44s\tremaining: 44s\n",
            "703:\tlearn: 0.5225176\ttotal: 1m 44s\tremaining: 43.9s\n",
            "704:\tlearn: 0.5225056\ttotal: 1m 44s\tremaining: 43.7s\n",
            "705:\tlearn: 0.5224996\ttotal: 1m 44s\tremaining: 43.6s\n",
            "706:\tlearn: 0.5224940\ttotal: 1m 44s\tremaining: 43.4s\n",
            "707:\tlearn: 0.5224863\ttotal: 1m 44s\tremaining: 43.3s\n",
            "708:\tlearn: 0.5224810\ttotal: 1m 45s\tremaining: 43.1s\n",
            "709:\tlearn: 0.5224741\ttotal: 1m 45s\tremaining: 43s\n",
            "710:\tlearn: 0.5224677\ttotal: 1m 45s\tremaining: 42.8s\n",
            "711:\tlearn: 0.5224605\ttotal: 1m 45s\tremaining: 42.7s\n",
            "712:\tlearn: 0.5224483\ttotal: 1m 45s\tremaining: 42.6s\n",
            "713:\tlearn: 0.5224426\ttotal: 1m 45s\tremaining: 42.4s\n",
            "714:\tlearn: 0.5224341\ttotal: 1m 46s\tremaining: 42.3s\n",
            "715:\tlearn: 0.5224279\ttotal: 1m 46s\tremaining: 42.1s\n",
            "716:\tlearn: 0.5224206\ttotal: 1m 46s\tremaining: 42s\n",
            "717:\tlearn: 0.5224150\ttotal: 1m 46s\tremaining: 41.8s\n",
            "718:\tlearn: 0.5224044\ttotal: 1m 46s\tremaining: 41.7s\n",
            "719:\tlearn: 0.5223953\ttotal: 1m 46s\tremaining: 41.5s\n",
            "720:\tlearn: 0.5223826\ttotal: 1m 46s\tremaining: 41.4s\n",
            "721:\tlearn: 0.5223764\ttotal: 1m 47s\tremaining: 41.3s\n",
            "722:\tlearn: 0.5223674\ttotal: 1m 47s\tremaining: 41.1s\n",
            "723:\tlearn: 0.5223622\ttotal: 1m 47s\tremaining: 41s\n",
            "724:\tlearn: 0.5223566\ttotal: 1m 47s\tremaining: 40.8s\n",
            "725:\tlearn: 0.5223444\ttotal: 1m 47s\tremaining: 40.7s\n",
            "726:\tlearn: 0.5223327\ttotal: 1m 47s\tremaining: 40.5s\n",
            "727:\tlearn: 0.5223277\ttotal: 1m 48s\tremaining: 40.4s\n",
            "728:\tlearn: 0.5223193\ttotal: 1m 48s\tremaining: 40.2s\n",
            "729:\tlearn: 0.5223111\ttotal: 1m 48s\tremaining: 40.1s\n",
            "730:\tlearn: 0.5223028\ttotal: 1m 48s\tremaining: 39.9s\n",
            "731:\tlearn: 0.5222933\ttotal: 1m 48s\tremaining: 39.8s\n",
            "732:\tlearn: 0.5222830\ttotal: 1m 48s\tremaining: 39.6s\n",
            "733:\tlearn: 0.5222762\ttotal: 1m 48s\tremaining: 39.5s\n",
            "734:\tlearn: 0.5222678\ttotal: 1m 49s\tremaining: 39.3s\n",
            "735:\tlearn: 0.5222612\ttotal: 1m 49s\tremaining: 39.2s\n",
            "736:\tlearn: 0.5222520\ttotal: 1m 49s\tremaining: 39s\n",
            "737:\tlearn: 0.5222420\ttotal: 1m 49s\tremaining: 38.9s\n",
            "738:\tlearn: 0.5222354\ttotal: 1m 49s\tremaining: 38.7s\n",
            "739:\tlearn: 0.5222311\ttotal: 1m 49s\tremaining: 38.6s\n",
            "740:\tlearn: 0.5222240\ttotal: 1m 49s\tremaining: 38.4s\n",
            "741:\tlearn: 0.5222160\ttotal: 1m 50s\tremaining: 38.3s\n",
            "742:\tlearn: 0.5222083\ttotal: 1m 50s\tremaining: 38.2s\n",
            "743:\tlearn: 0.5222057\ttotal: 1m 50s\tremaining: 38s\n",
            "744:\tlearn: 0.5221980\ttotal: 1m 50s\tremaining: 37.9s\n",
            "745:\tlearn: 0.5221924\ttotal: 1m 50s\tremaining: 37.7s\n",
            "746:\tlearn: 0.5221827\ttotal: 1m 50s\tremaining: 37.6s\n",
            "747:\tlearn: 0.5221699\ttotal: 1m 51s\tremaining: 37.4s\n",
            "748:\tlearn: 0.5221623\ttotal: 1m 51s\tremaining: 37.3s\n",
            "749:\tlearn: 0.5221542\ttotal: 1m 51s\tremaining: 37.1s\n",
            "750:\tlearn: 0.5221461\ttotal: 1m 51s\tremaining: 37s\n",
            "751:\tlearn: 0.5221373\ttotal: 1m 51s\tremaining: 36.8s\n",
            "752:\tlearn: 0.5221304\ttotal: 1m 51s\tremaining: 36.7s\n",
            "753:\tlearn: 0.5221265\ttotal: 1m 51s\tremaining: 36.5s\n",
            "754:\tlearn: 0.5221184\ttotal: 1m 52s\tremaining: 36.4s\n",
            "755:\tlearn: 0.5221068\ttotal: 1m 52s\tremaining: 36.2s\n",
            "756:\tlearn: 0.5221015\ttotal: 1m 52s\tremaining: 36.1s\n",
            "757:\tlearn: 0.5220917\ttotal: 1m 52s\tremaining: 35.9s\n",
            "758:\tlearn: 0.5220806\ttotal: 1m 52s\tremaining: 35.8s\n",
            "759:\tlearn: 0.5220701\ttotal: 1m 52s\tremaining: 35.6s\n",
            "760:\tlearn: 0.5220622\ttotal: 1m 53s\tremaining: 35.5s\n",
            "761:\tlearn: 0.5220543\ttotal: 1m 53s\tremaining: 35.3s\n",
            "762:\tlearn: 0.5220423\ttotal: 1m 53s\tremaining: 35.2s\n",
            "763:\tlearn: 0.5220382\ttotal: 1m 53s\tremaining: 35s\n",
            "764:\tlearn: 0.5220268\ttotal: 1m 53s\tremaining: 34.9s\n",
            "765:\tlearn: 0.5220169\ttotal: 1m 53s\tremaining: 34.7s\n",
            "766:\tlearn: 0.5220046\ttotal: 1m 53s\tremaining: 34.6s\n",
            "767:\tlearn: 0.5219956\ttotal: 1m 54s\tremaining: 34.5s\n",
            "768:\tlearn: 0.5219892\ttotal: 1m 54s\tremaining: 34.3s\n",
            "769:\tlearn: 0.5219802\ttotal: 1m 54s\tremaining: 34.2s\n",
            "770:\tlearn: 0.5219714\ttotal: 1m 54s\tremaining: 34s\n",
            "771:\tlearn: 0.5219658\ttotal: 1m 54s\tremaining: 33.9s\n",
            "772:\tlearn: 0.5219558\ttotal: 1m 54s\tremaining: 33.7s\n",
            "773:\tlearn: 0.5219482\ttotal: 1m 54s\tremaining: 33.6s\n",
            "774:\tlearn: 0.5219385\ttotal: 1m 55s\tremaining: 33.4s\n",
            "775:\tlearn: 0.5219321\ttotal: 1m 55s\tremaining: 33.3s\n",
            "776:\tlearn: 0.5219262\ttotal: 1m 55s\tremaining: 33.1s\n",
            "777:\tlearn: 0.5219181\ttotal: 1m 55s\tremaining: 33s\n",
            "778:\tlearn: 0.5219047\ttotal: 1m 55s\tremaining: 32.8s\n",
            "779:\tlearn: 0.5219008\ttotal: 1m 55s\tremaining: 32.7s\n",
            "780:\tlearn: 0.5218914\ttotal: 1m 56s\tremaining: 32.5s\n",
            "781:\tlearn: 0.5218812\ttotal: 1m 56s\tremaining: 32.4s\n",
            "782:\tlearn: 0.5218753\ttotal: 1m 56s\tremaining: 32.2s\n",
            "783:\tlearn: 0.5218696\ttotal: 1m 56s\tremaining: 32.1s\n",
            "784:\tlearn: 0.5218584\ttotal: 1m 56s\tremaining: 31.9s\n",
            "785:\tlearn: 0.5218517\ttotal: 1m 56s\tremaining: 31.8s\n",
            "786:\tlearn: 0.5218465\ttotal: 1m 56s\tremaining: 31.6s\n",
            "787:\tlearn: 0.5218381\ttotal: 1m 57s\tremaining: 31.5s\n",
            "788:\tlearn: 0.5218319\ttotal: 1m 57s\tremaining: 31.3s\n",
            "789:\tlearn: 0.5218217\ttotal: 1m 57s\tremaining: 31.2s\n",
            "790:\tlearn: 0.5218157\ttotal: 1m 57s\tremaining: 31s\n",
            "791:\tlearn: 0.5218108\ttotal: 1m 57s\tremaining: 30.9s\n",
            "792:\tlearn: 0.5218039\ttotal: 1m 57s\tremaining: 30.7s\n",
            "793:\tlearn: 0.5217974\ttotal: 1m 57s\tremaining: 30.6s\n",
            "794:\tlearn: 0.5217931\ttotal: 1m 58s\tremaining: 30.4s\n",
            "795:\tlearn: 0.5217829\ttotal: 1m 58s\tremaining: 30.3s\n",
            "796:\tlearn: 0.5217765\ttotal: 1m 58s\tremaining: 30.1s\n",
            "797:\tlearn: 0.5217662\ttotal: 1m 58s\tremaining: 30s\n",
            "798:\tlearn: 0.5217581\ttotal: 1m 58s\tremaining: 29.8s\n",
            "799:\tlearn: 0.5217490\ttotal: 1m 58s\tremaining: 29.7s\n",
            "800:\tlearn: 0.5217446\ttotal: 1m 58s\tremaining: 29.5s\n",
            "801:\tlearn: 0.5217357\ttotal: 1m 59s\tremaining: 29.4s\n",
            "802:\tlearn: 0.5217269\ttotal: 1m 59s\tremaining: 29.3s\n",
            "803:\tlearn: 0.5217166\ttotal: 1m 59s\tremaining: 29.1s\n",
            "804:\tlearn: 0.5217117\ttotal: 1m 59s\tremaining: 29s\n",
            "805:\tlearn: 0.5217035\ttotal: 1m 59s\tremaining: 28.8s\n",
            "806:\tlearn: 0.5216956\ttotal: 1m 59s\tremaining: 28.7s\n",
            "807:\tlearn: 0.5216895\ttotal: 1m 59s\tremaining: 28.5s\n",
            "808:\tlearn: 0.5216812\ttotal: 2m\tremaining: 28.4s\n",
            "809:\tlearn: 0.5216751\ttotal: 2m\tremaining: 28.2s\n",
            "810:\tlearn: 0.5216697\ttotal: 2m\tremaining: 28.1s\n",
            "811:\tlearn: 0.5216588\ttotal: 2m\tremaining: 27.9s\n",
            "812:\tlearn: 0.5216537\ttotal: 2m\tremaining: 27.8s\n",
            "813:\tlearn: 0.5216481\ttotal: 2m\tremaining: 27.6s\n",
            "814:\tlearn: 0.5216417\ttotal: 2m 1s\tremaining: 27.5s\n",
            "815:\tlearn: 0.5216310\ttotal: 2m 1s\tremaining: 27.3s\n",
            "816:\tlearn: 0.5216213\ttotal: 2m 1s\tremaining: 27.2s\n",
            "817:\tlearn: 0.5216145\ttotal: 2m 1s\tremaining: 27s\n",
            "818:\tlearn: 0.5216099\ttotal: 2m 1s\tremaining: 26.9s\n",
            "819:\tlearn: 0.5216002\ttotal: 2m 1s\tremaining: 26.7s\n",
            "820:\tlearn: 0.5215932\ttotal: 2m 1s\tremaining: 26.6s\n",
            "821:\tlearn: 0.5215886\ttotal: 2m 2s\tremaining: 26.4s\n",
            "822:\tlearn: 0.5215797\ttotal: 2m 2s\tremaining: 26.3s\n",
            "823:\tlearn: 0.5215696\ttotal: 2m 2s\tremaining: 26.1s\n",
            "824:\tlearn: 0.5215586\ttotal: 2m 2s\tremaining: 26s\n",
            "825:\tlearn: 0.5215547\ttotal: 2m 2s\tremaining: 25.8s\n",
            "826:\tlearn: 0.5215478\ttotal: 2m 2s\tremaining: 25.7s\n",
            "827:\tlearn: 0.5215432\ttotal: 2m 2s\tremaining: 25.6s\n",
            "828:\tlearn: 0.5215318\ttotal: 2m 3s\tremaining: 25.4s\n",
            "829:\tlearn: 0.5215232\ttotal: 2m 3s\tremaining: 25.3s\n",
            "830:\tlearn: 0.5215182\ttotal: 2m 3s\tremaining: 25.1s\n",
            "831:\tlearn: 0.5215085\ttotal: 2m 3s\tremaining: 25s\n",
            "832:\tlearn: 0.5214991\ttotal: 2m 3s\tremaining: 24.8s\n",
            "833:\tlearn: 0.5214925\ttotal: 2m 3s\tremaining: 24.7s\n",
            "834:\tlearn: 0.5214890\ttotal: 2m 4s\tremaining: 24.5s\n",
            "835:\tlearn: 0.5214833\ttotal: 2m 4s\tremaining: 24.4s\n",
            "836:\tlearn: 0.5214720\ttotal: 2m 4s\tremaining: 24.2s\n",
            "837:\tlearn: 0.5214633\ttotal: 2m 4s\tremaining: 24.1s\n",
            "838:\tlearn: 0.5214575\ttotal: 2m 4s\tremaining: 23.9s\n",
            "839:\tlearn: 0.5214503\ttotal: 2m 4s\tremaining: 23.8s\n",
            "840:\tlearn: 0.5214435\ttotal: 2m 4s\tremaining: 23.6s\n",
            "841:\tlearn: 0.5214370\ttotal: 2m 5s\tremaining: 23.5s\n",
            "842:\tlearn: 0.5214315\ttotal: 2m 5s\tremaining: 23.3s\n",
            "843:\tlearn: 0.5214247\ttotal: 2m 5s\tremaining: 23.2s\n",
            "844:\tlearn: 0.5214196\ttotal: 2m 5s\tremaining: 23s\n",
            "845:\tlearn: 0.5214157\ttotal: 2m 5s\tremaining: 22.9s\n",
            "846:\tlearn: 0.5214070\ttotal: 2m 5s\tremaining: 22.7s\n",
            "847:\tlearn: 0.5213990\ttotal: 2m 6s\tremaining: 22.6s\n",
            "848:\tlearn: 0.5213897\ttotal: 2m 6s\tremaining: 22.4s\n",
            "849:\tlearn: 0.5213735\ttotal: 2m 6s\tremaining: 22.3s\n",
            "850:\tlearn: 0.5213671\ttotal: 2m 6s\tremaining: 22.1s\n",
            "851:\tlearn: 0.5213640\ttotal: 2m 6s\tremaining: 22s\n",
            "852:\tlearn: 0.5213589\ttotal: 2m 6s\tremaining: 21.8s\n",
            "853:\tlearn: 0.5213548\ttotal: 2m 6s\tremaining: 21.7s\n",
            "854:\tlearn: 0.5213457\ttotal: 2m 7s\tremaining: 21.5s\n",
            "855:\tlearn: 0.5213410\ttotal: 2m 7s\tremaining: 21.4s\n",
            "856:\tlearn: 0.5213339\ttotal: 2m 7s\tremaining: 21.2s\n",
            "857:\tlearn: 0.5213271\ttotal: 2m 7s\tremaining: 21.1s\n",
            "858:\tlearn: 0.5213211\ttotal: 2m 7s\tremaining: 21s\n",
            "859:\tlearn: 0.5213123\ttotal: 2m 7s\tremaining: 20.8s\n",
            "860:\tlearn: 0.5213037\ttotal: 2m 7s\tremaining: 20.7s\n",
            "861:\tlearn: 0.5212983\ttotal: 2m 8s\tremaining: 20.5s\n",
            "862:\tlearn: 0.5212810\ttotal: 2m 8s\tremaining: 20.4s\n",
            "863:\tlearn: 0.5212728\ttotal: 2m 8s\tremaining: 20.2s\n",
            "864:\tlearn: 0.5212665\ttotal: 2m 8s\tremaining: 20.1s\n",
            "865:\tlearn: 0.5212578\ttotal: 2m 8s\tremaining: 19.9s\n",
            "866:\tlearn: 0.5212487\ttotal: 2m 8s\tremaining: 19.8s\n",
            "867:\tlearn: 0.5212419\ttotal: 2m 9s\tremaining: 19.6s\n",
            "868:\tlearn: 0.5212366\ttotal: 2m 9s\tremaining: 19.5s\n",
            "869:\tlearn: 0.5212281\ttotal: 2m 9s\tremaining: 19.3s\n",
            "870:\tlearn: 0.5212213\ttotal: 2m 9s\tremaining: 19.2s\n",
            "871:\tlearn: 0.5212134\ttotal: 2m 9s\tremaining: 19s\n",
            "872:\tlearn: 0.5212069\ttotal: 2m 9s\tremaining: 18.9s\n",
            "873:\tlearn: 0.5212008\ttotal: 2m 9s\tremaining: 18.7s\n",
            "874:\tlearn: 0.5211942\ttotal: 2m 10s\tremaining: 18.6s\n",
            "875:\tlearn: 0.5211871\ttotal: 2m 10s\tremaining: 18.4s\n",
            "876:\tlearn: 0.5211731\ttotal: 2m 10s\tremaining: 18.3s\n",
            "877:\tlearn: 0.5211664\ttotal: 2m 10s\tremaining: 18.1s\n",
            "878:\tlearn: 0.5211602\ttotal: 2m 10s\tremaining: 18s\n",
            "879:\tlearn: 0.5211494\ttotal: 2m 10s\tremaining: 17.9s\n",
            "880:\tlearn: 0.5211435\ttotal: 2m 11s\tremaining: 17.7s\n",
            "881:\tlearn: 0.5211305\ttotal: 2m 11s\tremaining: 17.6s\n",
            "882:\tlearn: 0.5211218\ttotal: 2m 11s\tremaining: 17.4s\n",
            "883:\tlearn: 0.5211154\ttotal: 2m 11s\tremaining: 17.3s\n",
            "884:\tlearn: 0.5211073\ttotal: 2m 11s\tremaining: 17.1s\n",
            "885:\tlearn: 0.5211008\ttotal: 2m 11s\tremaining: 17s\n",
            "886:\tlearn: 0.5210930\ttotal: 2m 11s\tremaining: 16.8s\n",
            "887:\tlearn: 0.5210797\ttotal: 2m 12s\tremaining: 16.7s\n",
            "888:\tlearn: 0.5210716\ttotal: 2m 12s\tremaining: 16.5s\n",
            "889:\tlearn: 0.5210640\ttotal: 2m 12s\tremaining: 16.4s\n",
            "890:\tlearn: 0.5210588\ttotal: 2m 12s\tremaining: 16.2s\n",
            "891:\tlearn: 0.5210556\ttotal: 2m 12s\tremaining: 16.1s\n",
            "892:\tlearn: 0.5210508\ttotal: 2m 12s\tremaining: 15.9s\n",
            "893:\tlearn: 0.5210384\ttotal: 2m 13s\tremaining: 15.8s\n",
            "894:\tlearn: 0.5210343\ttotal: 2m 13s\tremaining: 15.6s\n",
            "895:\tlearn: 0.5210298\ttotal: 2m 13s\tremaining: 15.5s\n",
            "896:\tlearn: 0.5210188\ttotal: 2m 13s\tremaining: 15.3s\n",
            "897:\tlearn: 0.5210108\ttotal: 2m 13s\tremaining: 15.2s\n",
            "898:\tlearn: 0.5210023\ttotal: 2m 13s\tremaining: 15s\n",
            "899:\tlearn: 0.5209948\ttotal: 2m 13s\tremaining: 14.9s\n",
            "900:\tlearn: 0.5209881\ttotal: 2m 14s\tremaining: 14.7s\n",
            "901:\tlearn: 0.5209799\ttotal: 2m 14s\tremaining: 14.6s\n",
            "902:\tlearn: 0.5209752\ttotal: 2m 14s\tremaining: 14.4s\n",
            "903:\tlearn: 0.5209674\ttotal: 2m 14s\tremaining: 14.3s\n",
            "904:\tlearn: 0.5209616\ttotal: 2m 14s\tremaining: 14.1s\n",
            "905:\tlearn: 0.5209568\ttotal: 2m 14s\tremaining: 14s\n",
            "906:\tlearn: 0.5209478\ttotal: 2m 14s\tremaining: 13.8s\n",
            "907:\tlearn: 0.5209380\ttotal: 2m 15s\tremaining: 13.7s\n",
            "908:\tlearn: 0.5209285\ttotal: 2m 15s\tremaining: 13.5s\n",
            "909:\tlearn: 0.5209184\ttotal: 2m 15s\tremaining: 13.4s\n",
            "910:\tlearn: 0.5209129\ttotal: 2m 15s\tremaining: 13.2s\n",
            "911:\tlearn: 0.5209066\ttotal: 2m 15s\tremaining: 13.1s\n",
            "912:\tlearn: 0.5209016\ttotal: 2m 15s\tremaining: 13s\n",
            "913:\tlearn: 0.5208945\ttotal: 2m 16s\tremaining: 12.8s\n",
            "914:\tlearn: 0.5208824\ttotal: 2m 16s\tremaining: 12.7s\n",
            "915:\tlearn: 0.5208785\ttotal: 2m 16s\tremaining: 12.5s\n",
            "916:\tlearn: 0.5208739\ttotal: 2m 16s\tremaining: 12.4s\n",
            "917:\tlearn: 0.5208651\ttotal: 2m 16s\tremaining: 12.2s\n",
            "918:\tlearn: 0.5208607\ttotal: 2m 16s\tremaining: 12.1s\n",
            "919:\tlearn: 0.5208553\ttotal: 2m 16s\tremaining: 11.9s\n",
            "920:\tlearn: 0.5208453\ttotal: 2m 17s\tremaining: 11.8s\n",
            "921:\tlearn: 0.5208419\ttotal: 2m 17s\tremaining: 11.6s\n",
            "922:\tlearn: 0.5208357\ttotal: 2m 17s\tremaining: 11.5s\n",
            "923:\tlearn: 0.5208231\ttotal: 2m 17s\tremaining: 11.3s\n",
            "924:\tlearn: 0.5208140\ttotal: 2m 17s\tremaining: 11.2s\n",
            "925:\tlearn: 0.5208059\ttotal: 2m 17s\tremaining: 11s\n",
            "926:\tlearn: 0.5207987\ttotal: 2m 17s\tremaining: 10.9s\n",
            "927:\tlearn: 0.5207917\ttotal: 2m 18s\tremaining: 10.7s\n",
            "928:\tlearn: 0.5207787\ttotal: 2m 18s\tremaining: 10.6s\n",
            "929:\tlearn: 0.5207741\ttotal: 2m 18s\tremaining: 10.4s\n",
            "930:\tlearn: 0.5207685\ttotal: 2m 18s\tremaining: 10.3s\n",
            "931:\tlearn: 0.5207620\ttotal: 2m 18s\tremaining: 10.1s\n",
            "932:\tlearn: 0.5207575\ttotal: 2m 18s\tremaining: 9.97s\n",
            "933:\tlearn: 0.5207473\ttotal: 2m 18s\tremaining: 9.82s\n",
            "934:\tlearn: 0.5207371\ttotal: 2m 19s\tremaining: 9.67s\n",
            "935:\tlearn: 0.5207328\ttotal: 2m 19s\tremaining: 9.52s\n",
            "936:\tlearn: 0.5207235\ttotal: 2m 19s\tremaining: 9.37s\n",
            "937:\tlearn: 0.5207182\ttotal: 2m 19s\tremaining: 9.22s\n",
            "938:\tlearn: 0.5207158\ttotal: 2m 19s\tremaining: 9.07s\n",
            "939:\tlearn: 0.5207064\ttotal: 2m 19s\tremaining: 8.93s\n",
            "940:\tlearn: 0.5206999\ttotal: 2m 20s\tremaining: 8.78s\n",
            "941:\tlearn: 0.5206888\ttotal: 2m 20s\tremaining: 8.63s\n",
            "942:\tlearn: 0.5206816\ttotal: 2m 20s\tremaining: 8.48s\n",
            "943:\tlearn: 0.5206745\ttotal: 2m 20s\tremaining: 8.34s\n",
            "944:\tlearn: 0.5206657\ttotal: 2m 20s\tremaining: 8.19s\n",
            "945:\tlearn: 0.5206517\ttotal: 2m 20s\tremaining: 8.04s\n",
            "946:\tlearn: 0.5206442\ttotal: 2m 20s\tremaining: 7.89s\n",
            "947:\tlearn: 0.5206329\ttotal: 2m 21s\tremaining: 7.74s\n",
            "948:\tlearn: 0.5206291\ttotal: 2m 21s\tremaining: 7.59s\n",
            "949:\tlearn: 0.5206265\ttotal: 2m 21s\tremaining: 7.44s\n",
            "950:\tlearn: 0.5206189\ttotal: 2m 21s\tremaining: 7.29s\n",
            "951:\tlearn: 0.5206109\ttotal: 2m 21s\tremaining: 7.15s\n",
            "952:\tlearn: 0.5206015\ttotal: 2m 21s\tremaining: 7s\n",
            "953:\tlearn: 0.5205950\ttotal: 2m 22s\tremaining: 6.85s\n",
            "954:\tlearn: 0.5205845\ttotal: 2m 22s\tremaining: 6.7s\n",
            "955:\tlearn: 0.5205795\ttotal: 2m 22s\tremaining: 6.55s\n",
            "956:\tlearn: 0.5205731\ttotal: 2m 22s\tremaining: 6.4s\n",
            "957:\tlearn: 0.5205707\ttotal: 2m 22s\tremaining: 6.25s\n",
            "958:\tlearn: 0.5205661\ttotal: 2m 22s\tremaining: 6.11s\n",
            "959:\tlearn: 0.5205598\ttotal: 2m 22s\tremaining: 5.96s\n",
            "960:\tlearn: 0.5205532\ttotal: 2m 23s\tremaining: 5.81s\n",
            "961:\tlearn: 0.5205481\ttotal: 2m 23s\tremaining: 5.66s\n",
            "962:\tlearn: 0.5205398\ttotal: 2m 23s\tremaining: 5.51s\n",
            "963:\tlearn: 0.5205337\ttotal: 2m 23s\tremaining: 5.36s\n",
            "964:\tlearn: 0.5205264\ttotal: 2m 23s\tremaining: 5.21s\n",
            "965:\tlearn: 0.5205221\ttotal: 2m 23s\tremaining: 5.06s\n",
            "966:\tlearn: 0.5205143\ttotal: 2m 24s\tremaining: 4.91s\n",
            "967:\tlearn: 0.5205065\ttotal: 2m 24s\tremaining: 4.76s\n",
            "968:\tlearn: 0.5204972\ttotal: 2m 24s\tremaining: 4.62s\n",
            "969:\tlearn: 0.5204920\ttotal: 2m 24s\tremaining: 4.47s\n",
            "970:\tlearn: 0.5204833\ttotal: 2m 24s\tremaining: 4.32s\n",
            "971:\tlearn: 0.5204756\ttotal: 2m 24s\tremaining: 4.17s\n",
            "972:\tlearn: 0.5204615\ttotal: 2m 24s\tremaining: 4.02s\n",
            "973:\tlearn: 0.5204557\ttotal: 2m 25s\tremaining: 3.87s\n",
            "974:\tlearn: 0.5204473\ttotal: 2m 25s\tremaining: 3.72s\n",
            "975:\tlearn: 0.5204389\ttotal: 2m 25s\tremaining: 3.57s\n",
            "976:\tlearn: 0.5204310\ttotal: 2m 25s\tremaining: 3.42s\n",
            "977:\tlearn: 0.5204233\ttotal: 2m 25s\tremaining: 3.28s\n",
            "978:\tlearn: 0.5204181\ttotal: 2m 25s\tremaining: 3.13s\n",
            "979:\tlearn: 0.5204076\ttotal: 2m 25s\tremaining: 2.98s\n",
            "980:\tlearn: 0.5203999\ttotal: 2m 26s\tremaining: 2.83s\n",
            "981:\tlearn: 0.5203964\ttotal: 2m 26s\tremaining: 2.68s\n",
            "982:\tlearn: 0.5203901\ttotal: 2m 26s\tremaining: 2.53s\n",
            "983:\tlearn: 0.5203816\ttotal: 2m 26s\tremaining: 2.38s\n",
            "984:\tlearn: 0.5203771\ttotal: 2m 26s\tremaining: 2.23s\n",
            "985:\tlearn: 0.5203735\ttotal: 2m 26s\tremaining: 2.08s\n",
            "986:\tlearn: 0.5203699\ttotal: 2m 26s\tremaining: 1.94s\n",
            "987:\tlearn: 0.5203633\ttotal: 2m 27s\tremaining: 1.79s\n",
            "988:\tlearn: 0.5203608\ttotal: 2m 27s\tremaining: 1.64s\n",
            "989:\tlearn: 0.5203559\ttotal: 2m 27s\tremaining: 1.49s\n",
            "990:\tlearn: 0.5203478\ttotal: 2m 27s\tremaining: 1.34s\n",
            "991:\tlearn: 0.5203392\ttotal: 2m 27s\tremaining: 1.19s\n",
            "992:\tlearn: 0.5203345\ttotal: 2m 27s\tremaining: 1.04s\n",
            "993:\tlearn: 0.5203289\ttotal: 2m 28s\tremaining: 894ms\n",
            "994:\tlearn: 0.5203257\ttotal: 2m 28s\tremaining: 745ms\n",
            "995:\tlearn: 0.5203173\ttotal: 2m 28s\tremaining: 596ms\n",
            "996:\tlearn: 0.5203073\ttotal: 2m 28s\tremaining: 447ms\n",
            "997:\tlearn: 0.5203024\ttotal: 2m 28s\tremaining: 298ms\n",
            "998:\tlearn: 0.5202974\ttotal: 2m 28s\tremaining: 149ms\n",
            "999:\tlearn: 0.5202942\ttotal: 2m 28s\tremaining: 0us\n"
          ],
          "name": "stdout"
        },
        {
          "output_type": "execute_result",
          "data": {
            "text/plain": [
              "<catboost.core.CatBoostClassifier at 0x7f96eddc1190>"
            ]
          },
          "metadata": {
            "tags": []
          },
          "execution_count": 41
        }
      ]
    },
    {
      "cell_type": "code",
      "metadata": {
        "colab": {
          "base_uri": "https://localhost:8080/"
        },
        "id": "DjQv4OfdnXlP",
        "outputId": "443d6d6e-d95a-4309-d0e7-0ece23f4ede8"
      },
      "source": [
        "y_enc_test = le.transform(y_test)\n",
        "y_pred = cat.predict(X_test)\n",
        "print(\"CatBoost Classifier\")\n",
        "print(\"Accuracy : \", accuracy_score(y_enc_test, y_pred) *  100)\n",
        "print(\"Roc AUC score: \", roc_auc_score(y_enc_test,y_pred))"
      ],
      "execution_count": null,
      "outputs": [
        {
          "output_type": "stream",
          "text": [
            "CatBoost Classifier\n",
            "Accuracy :  73.93937704301038\n",
            "Roc AUC score:  0.5162844666408463\n"
          ],
          "name": "stdout"
        }
      ]
    },
    {
      "cell_type": "code",
      "metadata": {
        "id": "vWYFf4hNnoUt"
      },
      "source": [
        ""
      ],
      "execution_count": null,
      "outputs": []
    },
    {
      "cell_type": "markdown",
      "metadata": {
        "id": "GvQD2nzdsbcf"
      },
      "source": [
        "Gaussian NB performs the best so far. Lets see its class weights"
      ]
    },
    {
      "cell_type": "code",
      "metadata": {
        "colab": {
          "base_uri": "https://localhost:8080/"
        },
        "id": "lCd5dFDjsbF4",
        "outputId": "ef0b055e-e215-48c2-cafa-8bda7c243399"
      },
      "source": [
        "imps = permutation_importance(gnb, X_test, y_test)\n",
        "print(imps.importances_mean)\n"
      ],
      "execution_count": null,
      "outputs": [
        {
          "output_type": "stream",
          "text": [
            "[ 0.02028339  0.00277536  0.00022303 -0.00042237 -0.00247287 -0.00185674\n",
            "  0.00038891  0.00067467 -0.00314057 -0.00124201  0.00252166 -0.00082661\n",
            " -0.00013661 -0.00110959 -0.00011012 -0.00294681 -0.00091025 -0.00121134\n",
            " -0.0001394  -0.00197105 -0.00316706  0.00021049 -0.00125874 -0.00163789\n",
            " -0.00135492  0.0002537 ]\n"
          ],
          "name": "stdout"
        }
      ]
    },
    {
      "cell_type": "code",
      "metadata": {
        "colab": {
          "base_uri": "https://localhost:8080/"
        },
        "id": "B8H52OwftpBh",
        "outputId": "e5191ea4-4b25-4f95-f9ec-e9912fcbff7c"
      },
      "source": [
        "imps_train = permutation_importance(gnb, X_train, y_train)\n",
        "print(imps.importances_mean)\n"
      ],
      "execution_count": null,
      "outputs": [
        {
          "output_type": "stream",
          "text": [
            "[ 0.02028339  0.00277536  0.00022303 -0.00042237 -0.00247287 -0.00185674\n",
            "  0.00038891  0.00067467 -0.00314057 -0.00124201  0.00252166 -0.00082661\n",
            " -0.00013661 -0.00110959 -0.00011012 -0.00294681 -0.00091025 -0.00121134\n",
            " -0.0001394  -0.00197105 -0.00316706  0.00021049 -0.00125874 -0.00163789\n",
            " -0.00135492  0.0002537 ]\n"
          ],
          "name": "stdout"
        }
      ]
    },
    {
      "cell_type": "code",
      "metadata": {
        "colab": {
          "base_uri": "https://localhost:8080/"
        },
        "id": "uOY7yUIZt3yE",
        "outputId": "f1ff7b77-60bd-4281-9839-8ffcaedef85a"
      },
      "source": [
        "importance = [x for x in (imps.importances_mean,X_train.columns)]\n",
        "importance"
      ],
      "execution_count": null,
      "outputs": [
        {
          "output_type": "execute_result",
          "data": {
            "text/plain": [
              "[array([ 0.02028339,  0.00277536,  0.00022303, -0.00042237, -0.00247287,\n",
              "        -0.00185674,  0.00038891,  0.00067467, -0.00314057, -0.00124201,\n",
              "         0.00252166, -0.00082661, -0.00013661, -0.00110959, -0.00011012,\n",
              "        -0.00294681, -0.00091025, -0.00121134, -0.0001394 , -0.00197105,\n",
              "        -0.00316706,  0.00021049, -0.00125874, -0.00163789, -0.00135492,\n",
              "         0.0002537 ]),\n",
              " Index(['review_date', 'rating_x', 'duration', 'rating_y', 'release_date',\n",
              "        'Action', 'Adventure', 'Animation', 'Biography', 'Comedy', 'Crime',\n",
              "        'Drama', 'Family', 'Fantasy', 'Film-Noir', 'History', 'Horror', 'Music',\n",
              "        'Musical', 'Mystery', 'Romance', 'Sci-Fi', 'Sport', 'Thriller', 'War',\n",
              "        'Western'],\n",
              "       dtype='object')]"
            ]
          },
          "metadata": {
            "tags": []
          },
          "execution_count": 57
        }
      ]
    },
    {
      "cell_type": "code",
      "metadata": {
        "colab": {
          "base_uri": "https://localhost:8080/"
        },
        "id": "inxNNqfyvf7k",
        "outputId": "f72600e7-6616-40da-ddbf-0797f8e65520"
      },
      "source": [
        "print(sorted(imps.importances_mean))"
      ],
      "execution_count": null,
      "outputs": [
        {
          "output_type": "stream",
          "text": [
            "[-0.0031670581347533087, -0.003140573053520801, -0.002946813775030166, -0.0024728702161322057, -0.0019710476243579135, -0.0018567435895649354, -0.0016378931814855723, -0.0013549209977906207, -0.001258738334367182, -0.0012420109146414004, -0.0012113439784773971, -0.0011095855084787276, -0.0009102504234128394, -0.0008266133247837981, -0.0004223673480767243, -0.00013939516438175037, -0.000136607261094146, -0.00011012217986161588, 0.00021048669821643884, 0.0002230322630107695, 0.0002536991991747728, 0.00038891250862507223, 0.0006746725956076283, 0.002521658523665793, 0.0027753577228405656, 0.020283390369188047]\n"
          ],
          "name": "stdout"
        }
      ]
    },
    {
      "cell_type": "markdown",
      "metadata": {
        "id": "pkb0OD7bvEG-"
      },
      "source": [
        "Highest value features are review_date, crime, IMDB rating, Animation"
      ]
    },
    {
      "cell_type": "markdown",
      "metadata": {
        "id": "hrQc45Eawa04"
      },
      "source": [
        "Lowest value features are Romance, Biography, History"
      ]
    },
    {
      "cell_type": "code",
      "metadata": {
        "colab": {
          "base_uri": "https://localhost:8080/",
          "height": 623
        },
        "id": "6IHJxtRYuaF4",
        "outputId": "f322a10a-dfc5-4ac7-b8cc-f8a86c3b1c5a"
      },
      "source": [
        "spoilers = df[df[\"is_spoiler\"]]\n",
        "spoilers"
      ],
      "execution_count": null,
      "outputs": [
        {
          "output_type": "execute_result",
          "data": {
            "text/html": [
              "<div>\n",
              "<style scoped>\n",
              "    .dataframe tbody tr th:only-of-type {\n",
              "        vertical-align: middle;\n",
              "    }\n",
              "\n",
              "    .dataframe tbody tr th {\n",
              "        vertical-align: top;\n",
              "    }\n",
              "\n",
              "    .dataframe thead th {\n",
              "        text-align: right;\n",
              "    }\n",
              "</style>\n",
              "<table border=\"1\" class=\"dataframe\">\n",
              "  <thead>\n",
              "    <tr style=\"text-align: right;\">\n",
              "      <th></th>\n",
              "      <th>Unnamed: 0</th>\n",
              "      <th>review_date</th>\n",
              "      <th>is_spoiler</th>\n",
              "      <th>rating_x</th>\n",
              "      <th>movie_id_y</th>\n",
              "      <th>duration</th>\n",
              "      <th>rating_y</th>\n",
              "      <th>release_date</th>\n",
              "      <th>review_without_stopwords</th>\n",
              "      <th>description_without_stopwords</th>\n",
              "      <th>review_summary_without_stopwords</th>\n",
              "      <th>plot_summary_without_stopwords</th>\n",
              "      <th>Action</th>\n",
              "      <th>Adventure</th>\n",
              "      <th>Animation</th>\n",
              "      <th>Biography</th>\n",
              "      <th>Comedy</th>\n",
              "      <th>Crime</th>\n",
              "      <th>Drama</th>\n",
              "      <th>Family</th>\n",
              "      <th>Fantasy</th>\n",
              "      <th>Film-Noir</th>\n",
              "      <th>History</th>\n",
              "      <th>Horror</th>\n",
              "      <th>Music</th>\n",
              "      <th>Musical</th>\n",
              "      <th>Mystery</th>\n",
              "      <th>Romance</th>\n",
              "      <th>Sci-Fi</th>\n",
              "      <th>Sport</th>\n",
              "      <th>Thriller</th>\n",
              "      <th>War</th>\n",
              "      <th>Western</th>\n",
              "    </tr>\n",
              "  </thead>\n",
              "  <tbody>\n",
              "    <tr>\n",
              "      <th>0</th>\n",
              "      <td>0</td>\n",
              "      <td>2006</td>\n",
              "      <td>True</td>\n",
              "      <td>10</td>\n",
              "      <td>tt0111161</td>\n",
              "      <td>142</td>\n",
              "      <td>9.3</td>\n",
              "      <td>1994</td>\n",
              "      <td>In Oscar year, Shawshank Redemption (written d...</td>\n",
              "      <td>In 1947, Andy Dufresne (Tim Robbins), banker M...</td>\n",
              "      <td>A classic piece unforgettable film-making.</td>\n",
              "      <td>Chronicles experiences formerly successful ban...</td>\n",
              "      <td>0</td>\n",
              "      <td>0</td>\n",
              "      <td>0</td>\n",
              "      <td>0</td>\n",
              "      <td>0</td>\n",
              "      <td>1</td>\n",
              "      <td>1</td>\n",
              "      <td>0</td>\n",
              "      <td>0</td>\n",
              "      <td>0</td>\n",
              "      <td>0</td>\n",
              "      <td>0</td>\n",
              "      <td>0</td>\n",
              "      <td>0</td>\n",
              "      <td>0</td>\n",
              "      <td>0</td>\n",
              "      <td>0</td>\n",
              "      <td>0</td>\n",
              "      <td>0</td>\n",
              "      <td>0</td>\n",
              "      <td>0</td>\n",
              "    </tr>\n",
              "    <tr>\n",
              "      <th>1</th>\n",
              "      <td>1</td>\n",
              "      <td>2000</td>\n",
              "      <td>True</td>\n",
              "      <td>10</td>\n",
              "      <td>tt0111161</td>\n",
              "      <td>142</td>\n",
              "      <td>9.3</td>\n",
              "      <td>1994</td>\n",
              "      <td>The Shawshank Redemption without doubt one bri...</td>\n",
              "      <td>In 1947, Andy Dufresne (Tim Robbins), banker M...</td>\n",
              "      <td>Simply amazing. The best film 90's.</td>\n",
              "      <td>Chronicles experiences formerly successful ban...</td>\n",
              "      <td>0</td>\n",
              "      <td>0</td>\n",
              "      <td>0</td>\n",
              "      <td>0</td>\n",
              "      <td>0</td>\n",
              "      <td>1</td>\n",
              "      <td>1</td>\n",
              "      <td>0</td>\n",
              "      <td>0</td>\n",
              "      <td>0</td>\n",
              "      <td>0</td>\n",
              "      <td>0</td>\n",
              "      <td>0</td>\n",
              "      <td>0</td>\n",
              "      <td>0</td>\n",
              "      <td>0</td>\n",
              "      <td>0</td>\n",
              "      <td>0</td>\n",
              "      <td>0</td>\n",
              "      <td>0</td>\n",
              "      <td>0</td>\n",
              "    </tr>\n",
              "    <tr>\n",
              "      <th>2</th>\n",
              "      <td>2</td>\n",
              "      <td>2001</td>\n",
              "      <td>True</td>\n",
              "      <td>8</td>\n",
              "      <td>tt0111161</td>\n",
              "      <td>142</td>\n",
              "      <td>9.3</td>\n",
              "      <td>1994</td>\n",
              "      <td>I believe film best story ever told film, I'm ...</td>\n",
              "      <td>In 1947, Andy Dufresne (Tim Robbins), banker M...</td>\n",
              "      <td>The best story ever told film</td>\n",
              "      <td>Chronicles experiences formerly successful ban...</td>\n",
              "      <td>0</td>\n",
              "      <td>0</td>\n",
              "      <td>0</td>\n",
              "      <td>0</td>\n",
              "      <td>0</td>\n",
              "      <td>1</td>\n",
              "      <td>1</td>\n",
              "      <td>0</td>\n",
              "      <td>0</td>\n",
              "      <td>0</td>\n",
              "      <td>0</td>\n",
              "      <td>0</td>\n",
              "      <td>0</td>\n",
              "      <td>0</td>\n",
              "      <td>0</td>\n",
              "      <td>0</td>\n",
              "      <td>0</td>\n",
              "      <td>0</td>\n",
              "      <td>0</td>\n",
              "      <td>0</td>\n",
              "      <td>0</td>\n",
              "    </tr>\n",
              "    <tr>\n",
              "      <th>3</th>\n",
              "      <td>3</td>\n",
              "      <td>2002</td>\n",
              "      <td>True</td>\n",
              "      <td>10</td>\n",
              "      <td>tt0111161</td>\n",
              "      <td>142</td>\n",
              "      <td>9.3</td>\n",
              "      <td>1994</td>\n",
              "      <td>**Yes, SPOILERS here**This film emotional impa...</td>\n",
              "      <td>In 1947, Andy Dufresne (Tim Robbins), banker M...</td>\n",
              "      <td>Busy dying busy living?</td>\n",
              "      <td>Chronicles experiences formerly successful ban...</td>\n",
              "      <td>0</td>\n",
              "      <td>0</td>\n",
              "      <td>0</td>\n",
              "      <td>0</td>\n",
              "      <td>0</td>\n",
              "      <td>1</td>\n",
              "      <td>1</td>\n",
              "      <td>0</td>\n",
              "      <td>0</td>\n",
              "      <td>0</td>\n",
              "      <td>0</td>\n",
              "      <td>0</td>\n",
              "      <td>0</td>\n",
              "      <td>0</td>\n",
              "      <td>0</td>\n",
              "      <td>0</td>\n",
              "      <td>0</td>\n",
              "      <td>0</td>\n",
              "      <td>0</td>\n",
              "      <td>0</td>\n",
              "      <td>0</td>\n",
              "    </tr>\n",
              "    <tr>\n",
              "      <th>4</th>\n",
              "      <td>4</td>\n",
              "      <td>2004</td>\n",
              "      <td>True</td>\n",
              "      <td>8</td>\n",
              "      <td>tt0111161</td>\n",
              "      <td>142</td>\n",
              "      <td>9.3</td>\n",
              "      <td>1994</td>\n",
              "      <td>At heart extraordinary movie brilliant indelib...</td>\n",
              "      <td>In 1947, Andy Dufresne (Tim Robbins), banker M...</td>\n",
              "      <td>Great story, wondrously told acted</td>\n",
              "      <td>Chronicles experiences formerly successful ban...</td>\n",
              "      <td>0</td>\n",
              "      <td>0</td>\n",
              "      <td>0</td>\n",
              "      <td>0</td>\n",
              "      <td>0</td>\n",
              "      <td>1</td>\n",
              "      <td>1</td>\n",
              "      <td>0</td>\n",
              "      <td>0</td>\n",
              "      <td>0</td>\n",
              "      <td>0</td>\n",
              "      <td>0</td>\n",
              "      <td>0</td>\n",
              "      <td>0</td>\n",
              "      <td>0</td>\n",
              "      <td>0</td>\n",
              "      <td>0</td>\n",
              "      <td>0</td>\n",
              "      <td>0</td>\n",
              "      <td>0</td>\n",
              "      <td>0</td>\n",
              "    </tr>\n",
              "    <tr>\n",
              "      <th>...</th>\n",
              "      <td>...</td>\n",
              "      <td>...</td>\n",
              "      <td>...</td>\n",
              "      <td>...</td>\n",
              "      <td>...</td>\n",
              "      <td>...</td>\n",
              "      <td>...</td>\n",
              "      <td>...</td>\n",
              "      <td>...</td>\n",
              "      <td>...</td>\n",
              "      <td>...</td>\n",
              "      <td>...</td>\n",
              "      <td>...</td>\n",
              "      <td>...</td>\n",
              "      <td>...</td>\n",
              "      <td>...</td>\n",
              "      <td>...</td>\n",
              "      <td>...</td>\n",
              "      <td>...</td>\n",
              "      <td>...</td>\n",
              "      <td>...</td>\n",
              "      <td>...</td>\n",
              "      <td>...</td>\n",
              "      <td>...</td>\n",
              "      <td>...</td>\n",
              "      <td>...</td>\n",
              "      <td>...</td>\n",
              "      <td>...</td>\n",
              "      <td>...</td>\n",
              "      <td>...</td>\n",
              "      <td>...</td>\n",
              "      <td>...</td>\n",
              "      <td>...</td>\n",
              "    </tr>\n",
              "    <tr>\n",
              "      <th>573640</th>\n",
              "      <td>573640</td>\n",
              "      <td>1999</td>\n",
              "      <td>True</td>\n",
              "      <td>1</td>\n",
              "      <td>tt0139239</td>\n",
              "      <td>102</td>\n",
              "      <td>7.3</td>\n",
              "      <td>1999</td>\n",
              "      <td>Since crime without punishment supposed funny?...</td>\n",
              "      <td>The film told chronological format, story told...</td>\n",
              "      <td>Spoiler Warning! It mistake rented trash! Stay...</td>\n",
              "      <td>Told three perspectives, story bunch young Cal...</td>\n",
              "      <td>0</td>\n",
              "      <td>0</td>\n",
              "      <td>0</td>\n",
              "      <td>0</td>\n",
              "      <td>1</td>\n",
              "      <td>1</td>\n",
              "      <td>0</td>\n",
              "      <td>0</td>\n",
              "      <td>0</td>\n",
              "      <td>0</td>\n",
              "      <td>0</td>\n",
              "      <td>0</td>\n",
              "      <td>0</td>\n",
              "      <td>0</td>\n",
              "      <td>0</td>\n",
              "      <td>0</td>\n",
              "      <td>0</td>\n",
              "      <td>0</td>\n",
              "      <td>0</td>\n",
              "      <td>0</td>\n",
              "      <td>0</td>\n",
              "    </tr>\n",
              "    <tr>\n",
              "      <th>573641</th>\n",
              "      <td>573641</td>\n",
              "      <td>2006</td>\n",
              "      <td>True</td>\n",
              "      <td>7</td>\n",
              "      <td>tt0139239</td>\n",
              "      <td>102</td>\n",
              "      <td>7.3</td>\n",
              "      <td>1999</td>\n",
              "      <td>The film without doubt traces \"Pulp Fiction\" e...</td>\n",
              "      <td>The film told chronological format, story told...</td>\n",
              "      <td>\"Pulp Fiction\"-lite...</td>\n",
              "      <td>Told three perspectives, story bunch young Cal...</td>\n",
              "      <td>0</td>\n",
              "      <td>0</td>\n",
              "      <td>0</td>\n",
              "      <td>0</td>\n",
              "      <td>1</td>\n",
              "      <td>1</td>\n",
              "      <td>0</td>\n",
              "      <td>0</td>\n",
              "      <td>0</td>\n",
              "      <td>0</td>\n",
              "      <td>0</td>\n",
              "      <td>0</td>\n",
              "      <td>0</td>\n",
              "      <td>0</td>\n",
              "      <td>0</td>\n",
              "      <td>0</td>\n",
              "      <td>0</td>\n",
              "      <td>0</td>\n",
              "      <td>0</td>\n",
              "      <td>0</td>\n",
              "      <td>0</td>\n",
              "    </tr>\n",
              "    <tr>\n",
              "      <th>573642</th>\n",
              "      <td>573642</td>\n",
              "      <td>2000</td>\n",
              "      <td>True</td>\n",
              "      <td>1</td>\n",
              "      <td>tt0139239</td>\n",
              "      <td>102</td>\n",
              "      <td>7.3</td>\n",
              "      <td>1999</td>\n",
              "      <td>This movie lame attempt trying Pulp Fiction. O...</td>\n",
              "      <td>The film told chronological format, story told...</td>\n",
              "      <td>making generation look dumber</td>\n",
              "      <td>Told three perspectives, story bunch young Cal...</td>\n",
              "      <td>0</td>\n",
              "      <td>0</td>\n",
              "      <td>0</td>\n",
              "      <td>0</td>\n",
              "      <td>1</td>\n",
              "      <td>1</td>\n",
              "      <td>0</td>\n",
              "      <td>0</td>\n",
              "      <td>0</td>\n",
              "      <td>0</td>\n",
              "      <td>0</td>\n",
              "      <td>0</td>\n",
              "      <td>0</td>\n",
              "      <td>0</td>\n",
              "      <td>0</td>\n",
              "      <td>0</td>\n",
              "      <td>0</td>\n",
              "      <td>0</td>\n",
              "      <td>0</td>\n",
              "      <td>0</td>\n",
              "      <td>0</td>\n",
              "    </tr>\n",
              "    <tr>\n",
              "      <th>573643</th>\n",
              "      <td>573643</td>\n",
              "      <td>2014</td>\n",
              "      <td>True</td>\n",
              "      <td>6</td>\n",
              "      <td>tt0139239</td>\n",
              "      <td>102</td>\n",
              "      <td>7.3</td>\n",
              "      <td>1999</td>\n",
              "      <td>I got movie around year ago... yes took time w...</td>\n",
              "      <td>The film told chronological format, story told...</td>\n",
              "      <td>Deceiving cover, bad movie but...</td>\n",
              "      <td>Told three perspectives, story bunch young Cal...</td>\n",
              "      <td>0</td>\n",
              "      <td>0</td>\n",
              "      <td>0</td>\n",
              "      <td>0</td>\n",
              "      <td>1</td>\n",
              "      <td>1</td>\n",
              "      <td>0</td>\n",
              "      <td>0</td>\n",
              "      <td>0</td>\n",
              "      <td>0</td>\n",
              "      <td>0</td>\n",
              "      <td>0</td>\n",
              "      <td>0</td>\n",
              "      <td>0</td>\n",
              "      <td>0</td>\n",
              "      <td>0</td>\n",
              "      <td>0</td>\n",
              "      <td>0</td>\n",
              "      <td>0</td>\n",
              "      <td>0</td>\n",
              "      <td>0</td>\n",
              "    </tr>\n",
              "    <tr>\n",
              "      <th>573644</th>\n",
              "      <td>573644</td>\n",
              "      <td>2003</td>\n",
              "      <td>True</td>\n",
              "      <td>10</td>\n",
              "      <td>tt0139239</td>\n",
              "      <td>102</td>\n",
              "      <td>7.3</td>\n",
              "      <td>1999</td>\n",
              "      <td>If heard spoilers film go see someone ruins yo...</td>\n",
              "      <td>The film told chronological format, story told...</td>\n",
              "      <td>Great film see</td>\n",
              "      <td>Told three perspectives, story bunch young Cal...</td>\n",
              "      <td>0</td>\n",
              "      <td>0</td>\n",
              "      <td>0</td>\n",
              "      <td>0</td>\n",
              "      <td>1</td>\n",
              "      <td>1</td>\n",
              "      <td>0</td>\n",
              "      <td>0</td>\n",
              "      <td>0</td>\n",
              "      <td>0</td>\n",
              "      <td>0</td>\n",
              "      <td>0</td>\n",
              "      <td>0</td>\n",
              "      <td>0</td>\n",
              "      <td>0</td>\n",
              "      <td>0</td>\n",
              "      <td>0</td>\n",
              "      <td>0</td>\n",
              "      <td>0</td>\n",
              "      <td>0</td>\n",
              "      <td>0</td>\n",
              "    </tr>\n",
              "  </tbody>\n",
              "</table>\n",
              "<p>150924 rows × 33 columns</p>\n",
              "</div>"
            ],
            "text/plain": [
              "        Unnamed: 0  review_date  is_spoiler  ...  Thriller War  Western\n",
              "0                0         2006        True  ...         0   0        0\n",
              "1                1         2000        True  ...         0   0        0\n",
              "2                2         2001        True  ...         0   0        0\n",
              "3                3         2002        True  ...         0   0        0\n",
              "4                4         2004        True  ...         0   0        0\n",
              "...            ...          ...         ...  ...       ...  ..      ...\n",
              "573640      573640         1999        True  ...         0   0        0\n",
              "573641      573641         2006        True  ...         0   0        0\n",
              "573642      573642         2000        True  ...         0   0        0\n",
              "573643      573643         2014        True  ...         0   0        0\n",
              "573644      573644         2003        True  ...         0   0        0\n",
              "\n",
              "[150924 rows x 33 columns]"
            ]
          },
          "metadata": {
            "tags": []
          },
          "execution_count": 67
        }
      ]
    },
    {
      "cell_type": "code",
      "metadata": {
        "id": "gjet38gUxEel"
      },
      "source": [
        "spoilers_cat = spoilers.drop([\"Unnamed: 0\", 'review_date','is_spoiler','rating_x','movie_id_y','duration','rating_y','release_date','review_without_stopwords','description_without_stopwords','review_summary_without_stopwords','plot_summary_without_stopwords'],1)\n"
      ],
      "execution_count": null,
      "outputs": []
    },
    {
      "cell_type": "code",
      "metadata": {
        "colab": {
          "base_uri": "https://localhost:8080/"
        },
        "id": "JwuTjfZ2x7vg",
        "outputId": "49a4fc88-7e48-41d8-9275-e2ce0079f172"
      },
      "source": [
        "spoilers_cat.value_counts().head(10)"
      ],
      "execution_count": null,
      "outputs": [
        {
          "output_type": "execute_result",
          "data": {
            "text/plain": [
              "Action  Adventure  Animation  Biography  Comedy  Crime  Drama  Family  Fantasy  Film-Noir  History  Horror  Music  Musical  Mystery  Romance  Sci-Fi  Sport  Thriller  War  Western\n",
              "1       1          0          0          0       0      0      0       0        0          0        0       0      0        0        0        1       0      0         0    0          12959\n",
              "                                                                       1        0          0        0       0      0        0        0        0       0      0         0    0           6682\n",
              "0       0          0          0          0       1      1      0       0        0          0        0       0      0        0        0        0       0      0         0    0           4450\n",
              "                                                 0      1      0       0        0          0        0       0      0        0        1        0       0      0         0    0           4211\n",
              "                                                                                                                                     0        0       0      0         0    0           4048\n",
              "1       0          0          0          0       1      1      0       0        0          0        0       0      0        0        0        0       0      0         0    0           3890\n",
              "0       0          0          0          0       1      1      0       0        0          0        0       0      0        0        0        0       0      1         0    0           3771\n",
              "                                                                                                                            1        0        0       0      0         0    0           3747\n",
              "1       1          0          0          0       0      1      0       0        0          0        0       0      0        0        0        0       0      0         0    0           3328\n",
              "0       1          0          0          0       0      0      1       1        0          0        0       0      0        0        0        0       0      0         0    0           3323\n",
              "dtype: int64"
            ]
          },
          "metadata": {
            "tags": []
          },
          "execution_count": 76
        }
      ]
    },
    {
      "cell_type": "code",
      "metadata": {
        "colab": {
          "base_uri": "https://localhost:8080/"
        },
        "id": "YnLHjzyTyw3N",
        "outputId": "39129a1c-c486-4128-f332-db53fb3643b8"
      },
      "source": [
        "spoilers_cat['Action'].value_counts()"
      ],
      "execution_count": null,
      "outputs": [
        {
          "output_type": "execute_result",
          "data": {
            "text/plain": [
              "0    97026\n",
              "1    53898\n",
              "Name: Action, dtype: int64"
            ]
          },
          "metadata": {
            "tags": []
          },
          "execution_count": 77
        }
      ]
    },
    {
      "cell_type": "code",
      "metadata": {
        "colab": {
          "base_uri": "https://localhost:8080/"
        },
        "id": "3dGn5ohHy0oS",
        "outputId": "db0a5048-2b9c-4a3c-918a-e337fbb3cfad"
      },
      "source": [
        "spoilers_cat['Adventure'].value_counts()"
      ],
      "execution_count": null,
      "outputs": [
        {
          "output_type": "execute_result",
          "data": {
            "text/plain": [
              "0    97189\n",
              "1    53735\n",
              "Name: Adventure, dtype: int64"
            ]
          },
          "metadata": {
            "tags": []
          },
          "execution_count": 78
        }
      ]
    },
    {
      "cell_type": "code",
      "metadata": {
        "colab": {
          "base_uri": "https://localhost:8080/"
        },
        "id": "CflyhxNDy3Vf",
        "outputId": "610043c8-2951-4b2f-efe9-a36e6566b721"
      },
      "source": [
        "spoilers_cat['Animation'].value_counts()"
      ],
      "execution_count": null,
      "outputs": [
        {
          "output_type": "execute_result",
          "data": {
            "text/plain": [
              "0    144090\n",
              "1      6834\n",
              "Name: Animation, dtype: int64"
            ]
          },
          "metadata": {
            "tags": []
          },
          "execution_count": 79
        }
      ]
    },
    {
      "cell_type": "code",
      "metadata": {
        "colab": {
          "base_uri": "https://localhost:8080/"
        },
        "id": "mdsraJJby4zA",
        "outputId": "49edf1b6-eef9-4268-811e-a4f75a38e28c"
      },
      "source": [
        "spoilers_cat['Biography'].value_counts()"
      ],
      "execution_count": null,
      "outputs": [
        {
          "output_type": "execute_result",
          "data": {
            "text/plain": [
              "0    142932\n",
              "1      7992\n",
              "Name: Biography, dtype: int64"
            ]
          },
          "metadata": {
            "tags": []
          },
          "execution_count": 80
        }
      ]
    },
    {
      "cell_type": "code",
      "metadata": {
        "colab": {
          "base_uri": "https://localhost:8080/"
        },
        "id": "j6Y0a4kty696",
        "outputId": "702030ee-a913-4e88-fcdd-817e8271d404"
      },
      "source": [
        "spoilers_cat['Comedy'].value_counts()"
      ],
      "execution_count": null,
      "outputs": [
        {
          "output_type": "execute_result",
          "data": {
            "text/plain": [
              "0    121612\n",
              "1     29312\n",
              "Name: Comedy, dtype: int64"
            ]
          },
          "metadata": {
            "tags": []
          },
          "execution_count": 81
        }
      ]
    },
    {
      "cell_type": "code",
      "metadata": {
        "colab": {
          "base_uri": "https://localhost:8080/"
        },
        "id": "eGEkh4lxy8y-",
        "outputId": "22d43e87-7355-4de5-e71d-ef549a036ffe"
      },
      "source": [
        "spoilers_cat['Crime'].value_counts()"
      ],
      "execution_count": null,
      "outputs": [
        {
          "output_type": "execute_result",
          "data": {
            "text/plain": [
              "0    123911\n",
              "1     27013\n",
              "Name: Crime, dtype: int64"
            ]
          },
          "metadata": {
            "tags": []
          },
          "execution_count": 82
        }
      ]
    },
    {
      "cell_type": "code",
      "metadata": {
        "colab": {
          "base_uri": "https://localhost:8080/"
        },
        "id": "-6x-1rBty_0r",
        "outputId": "d0e7c48f-22cf-4a0e-f735-4395ad40238c"
      },
      "source": [
        "spoilers_cat['Drama'].value_counts()"
      ],
      "execution_count": null,
      "outputs": [
        {
          "output_type": "execute_result",
          "data": {
            "text/plain": [
              "0    76693\n",
              "1    74231\n",
              "Name: Drama, dtype: int64"
            ]
          },
          "metadata": {
            "tags": []
          },
          "execution_count": 83
        }
      ]
    },
    {
      "cell_type": "code",
      "metadata": {
        "colab": {
          "base_uri": "https://localhost:8080/"
        },
        "id": "WB0GbuLAzA9F",
        "outputId": "4c97f9b5-7d39-40f3-8c75-72e4186620ff"
      },
      "source": [
        "spoilers_cat['Family'].value_counts()"
      ],
      "execution_count": null,
      "outputs": [
        {
          "output_type": "execute_result",
          "data": {
            "text/plain": [
              "0    140222\n",
              "1     10702\n",
              "Name: Family, dtype: int64"
            ]
          },
          "metadata": {
            "tags": []
          },
          "execution_count": 84
        }
      ]
    },
    {
      "cell_type": "code",
      "metadata": {
        "colab": {
          "base_uri": "https://localhost:8080/"
        },
        "id": "DWOIUppszDiD",
        "outputId": "fb3c0eda-7161-404e-cc1b-6c8ae5cb3797"
      },
      "source": [
        "spoilers_cat['Fantasy'].value_counts()"
      ],
      "execution_count": null,
      "outputs": [
        {
          "output_type": "execute_result",
          "data": {
            "text/plain": [
              "0    129230\n",
              "1     21694\n",
              "Name: Fantasy, dtype: int64"
            ]
          },
          "metadata": {
            "tags": []
          },
          "execution_count": 85
        }
      ]
    },
    {
      "cell_type": "code",
      "metadata": {
        "colab": {
          "base_uri": "https://localhost:8080/"
        },
        "id": "lpaaGv01zE1m",
        "outputId": "34c9316b-5247-487b-ca0c-e0cf1a4be522"
      },
      "source": [
        "spoilers_cat['Film-Noir'].value_counts()"
      ],
      "execution_count": null,
      "outputs": [
        {
          "output_type": "execute_result",
          "data": {
            "text/plain": [
              "0    150436\n",
              "1       488\n",
              "Name: Film-Noir, dtype: int64"
            ]
          },
          "metadata": {
            "tags": []
          },
          "execution_count": 86
        }
      ]
    },
    {
      "cell_type": "code",
      "metadata": {
        "id": "zfDGE-eHzHNR"
      },
      "source": [
        "History  Horror  Music  Musical  Mystery  Romance  Sci-Fi  Sport  Thriller  War  Western"
      ],
      "execution_count": null,
      "outputs": []
    },
    {
      "cell_type": "code",
      "metadata": {
        "colab": {
          "base_uri": "https://localhost:8080/"
        },
        "id": "nW25la_kzL5q",
        "outputId": "b6db5f7e-934f-4cb8-f03c-78abd6649305"
      },
      "source": [
        "spoilers_cat['History'].value_counts()"
      ],
      "execution_count": null,
      "outputs": [
        {
          "output_type": "execute_result",
          "data": {
            "text/plain": [
              "0    145256\n",
              "1      5668\n",
              "Name: History, dtype: int64"
            ]
          },
          "metadata": {
            "tags": []
          },
          "execution_count": 87
        }
      ]
    },
    {
      "cell_type": "code",
      "metadata": {
        "colab": {
          "base_uri": "https://localhost:8080/"
        },
        "id": "7q4DNPu9zPGI",
        "outputId": "ed19ec8b-c2ab-4400-945c-ef41afcbe2ab"
      },
      "source": [
        "spoilers_cat['Horror'].value_counts()"
      ],
      "execution_count": null,
      "outputs": [
        {
          "output_type": "execute_result",
          "data": {
            "text/plain": [
              "0    137045\n",
              "1     13879\n",
              "Name: Horror, dtype: int64"
            ]
          },
          "metadata": {
            "tags": []
          },
          "execution_count": 88
        }
      ]
    },
    {
      "cell_type": "code",
      "metadata": {
        "colab": {
          "base_uri": "https://localhost:8080/"
        },
        "id": "4rk98sZ3zRC3",
        "outputId": "371b85fe-4d08-4960-89b7-e6859dd2a3b8"
      },
      "source": [
        "spoilers_cat['Music'].value_counts()"
      ],
      "execution_count": null,
      "outputs": [
        {
          "output_type": "execute_result",
          "data": {
            "text/plain": [
              "0    149086\n",
              "1      1838\n",
              "Name: Music, dtype: int64"
            ]
          },
          "metadata": {
            "tags": []
          },
          "execution_count": 90
        }
      ]
    },
    {
      "cell_type": "code",
      "metadata": {
        "colab": {
          "base_uri": "https://localhost:8080/"
        },
        "id": "ABtABgpSzSmJ",
        "outputId": "d615fcee-d12f-434f-b913-ca9674482319"
      },
      "source": [
        "spoilers_cat['Musical'].value_counts()"
      ],
      "execution_count": null,
      "outputs": [
        {
          "output_type": "execute_result",
          "data": {
            "text/plain": [
              "0    149804\n",
              "1      1120\n",
              "Name: Musical, dtype: int64"
            ]
          },
          "metadata": {
            "tags": []
          },
          "execution_count": 91
        }
      ]
    },
    {
      "cell_type": "code",
      "metadata": {
        "colab": {
          "base_uri": "https://localhost:8080/"
        },
        "id": "PO42O8KzzUVT",
        "outputId": "981149a9-cbe4-431a-8d36-3af9a1aaaf71"
      },
      "source": [
        "spoilers_cat['Mystery'].value_counts()"
      ],
      "execution_count": null,
      "outputs": [
        {
          "output_type": "execute_result",
          "data": {
            "text/plain": [
              "0    132381\n",
              "1     18543\n",
              "Name: Mystery, dtype: int64"
            ]
          },
          "metadata": {
            "tags": []
          },
          "execution_count": 92
        }
      ]
    },
    {
      "cell_type": "code",
      "metadata": {
        "colab": {
          "base_uri": "https://localhost:8080/"
        },
        "id": "qMUzBs9VzWwM",
        "outputId": "0733caab-1f89-49b1-af1f-76a81b62bbc3"
      },
      "source": [
        "for i in spoilers_cat.columns:\n",
        "  print(spoilers_cat[i].value_counts())\n",
        "  print(spoilers_cat[i].value_counts()[1]/(spoilers_cat[i].value_counts()[1]+spoilers_cat[i].value_counts()[0]) * 100)"
      ],
      "execution_count": null,
      "outputs": [
        {
          "output_type": "stream",
          "text": [
            "0    97026\n",
            "1    53898\n",
            "Name: Action, dtype: int64\n",
            "35.7120139937982\n",
            "0    97189\n",
            "1    53735\n",
            "Name: Adventure, dtype: int64\n",
            "35.60401261562111\n",
            "0    144090\n",
            "1      6834\n",
            "Name: Animation, dtype: int64\n",
            "4.528106861731732\n",
            "0    142932\n",
            "1      7992\n",
            "Name: Biography, dtype: int64\n",
            "5.295380456388646\n",
            "0    121612\n",
            "1     29312\n",
            "Name: Comedy, dtype: int64\n",
            "19.421695687895895\n",
            "0    123911\n",
            "1     27013\n",
            "Name: Crime, dtype: int64\n",
            "17.898412445999313\n",
            "0    76693\n",
            "1    74231\n",
            "Name: Drama, dtype: int64\n",
            "49.18435768996316\n",
            "0    140222\n",
            "1     10702\n",
            "Name: Family, dtype: int64\n",
            "7.090986191725637\n",
            "0    129230\n",
            "1     21694\n",
            "Name: Fantasy, dtype: int64\n",
            "14.374122074686596\n",
            "0    150436\n",
            "1       488\n",
            "Name: Film-Noir, dtype: int64\n",
            "0.3233415493890965\n",
            "0    145256\n",
            "1      5668\n",
            "Name: History, dtype: int64\n",
            "3.7555325859372926\n",
            "0    137045\n",
            "1     13879\n",
            "Name: Horror, dtype: int64\n",
            "9.196019188465717\n",
            "0    149086\n",
            "1      1838\n",
            "Name: Music, dtype: int64\n",
            "1.217831491346638\n",
            "0    149804\n",
            "1      1120\n",
            "Name: Musical, dtype: int64\n",
            "0.7420953592536641\n",
            "0    132381\n",
            "1     18543\n",
            "Name: Mystery, dtype: int64\n",
            "12.286316291643477\n",
            "0    134769\n",
            "1     16155\n",
            "Name: Romance, dtype: int64\n",
            "10.704062972091915\n",
            "0    121101\n",
            "1     29823\n",
            "Name: Sci-Fi, dtype: int64\n",
            "19.76027669555538\n",
            "0    148912\n",
            "1      2012\n",
            "Name: Sport, dtype: int64\n",
            "1.3331213060878322\n",
            "0    124153\n",
            "1     26771\n",
            "Name: Thriller, dtype: int64\n",
            "17.738066841589145\n",
            "0    148438\n",
            "1      2486\n",
            "Name: War, dtype: int64\n",
            "1.647186663486258\n",
            "0    149715\n",
            "1      1209\n",
            "Name: Western, dtype: int64\n",
            "0.8010654369086427\n"
          ],
          "name": "stdout"
        }
      ]
    },
    {
      "cell_type": "markdown",
      "metadata": {
        "id": "6wr6bMdjmJUO"
      },
      "source": [
        "Day 6"
      ]
    },
    {
      "cell_type": "code",
      "metadata": {
        "id": "42kBDd-dmLqi"
      },
      "source": [
        ""
      ],
      "execution_count": null,
      "outputs": []
    },
    {
      "cell_type": "code",
      "metadata": {
        "colab": {
          "base_uri": "https://localhost:8080/"
        },
        "id": "VqKruJWvmQBW",
        "outputId": "6233b924-7c6c-45f8-8104-5abffe8d436c"
      },
      "source": [
        "!unzip 'drive/MyDrive/final_dataset.zip'"
      ],
      "execution_count": null,
      "outputs": [
        {
          "output_type": "stream",
          "text": [
            "Archive:  drive/MyDrive/final_dataset.zip\n",
            "  inflating: final_dataset.csv       \n"
          ],
          "name": "stdout"
        }
      ]
    },
    {
      "cell_type": "code",
      "metadata": {
        "id": "fbsRzZXhmQBY"
      },
      "source": [
        "df = pd.read_csv('final_dataset.csv')"
      ],
      "execution_count": null,
      "outputs": []
    },
    {
      "cell_type": "code",
      "metadata": {
        "id": "hMJlkiHcnC5k"
      },
      "source": [
        "import re\n",
        "\n",
        "\n",
        "def clean_text(text):\n",
        "    \"\"\"\n",
        "    Applies some pre-processing on the given text.\n",
        "\n",
        "    Steps :\n",
        "    - Removing HTML tags\n",
        "    - Removing punctuation\n",
        "    - Lowering text\n",
        "    \"\"\"\n",
        "    \n",
        "    # remove HTML tags\n",
        "    text = re.sub(r'<.*?>', '', text)\n",
        "    \n",
        "    # remove the characters [\\], ['] and [\"]\n",
        "    text = re.sub(r\"\\\\\", \"\", text)    \n",
        "    text = re.sub(r\"\\'\", \"\", text)    \n",
        "    text = re.sub(r\"\\\"\", \"\", text)    \n",
        "    \n",
        "    # convert text to lowercase\n",
        "    text = text.strip().lower()\n",
        "    \n",
        "    # replace punctuation characters with spaces\n",
        "    filters='!\"\\'#$%&()*+,-./:;<=>?@[\\\\]^_`{|}~\\t\\n'\n",
        "    translate_dict = dict((c, \" \") for c in filters)\n",
        "    translate_map = str.maketrans(translate_dict)\n",
        "    text = text.translate(translate_map)\n",
        "\n",
        "    return text\n"
      ],
      "execution_count": null,
      "outputs": []
    },
    {
      "cell_type": "code",
      "metadata": {
        "id": "GgIeSVtSnHzm"
      },
      "source": [
        "df[\"review_summary_without_stopwords\"] = df[\"review_summary_without_stopwords\"].astype(str)"
      ],
      "execution_count": null,
      "outputs": []
    },
    {
      "cell_type": "code",
      "metadata": {
        "id": "cZCYMGlWmr7R"
      },
      "source": [
        "from sklearn.metrics import accuracy_score\n",
        "from sklearn.svm import LinearSVC\n",
        "from sklearn.feature_extraction.text import CountVectorizer\n",
        "\n",
        "\n",
        "\n",
        "# Transform each text into a vector of word counts\n",
        "vectorizer = CountVectorizer(stop_words=\"english\",\n",
        "                             preprocessor=clean_text)\n",
        "\n",
        "summary_bow = vectorizer.fit_transform(df[\"review_summary_without_stopwords\"])    "
      ],
      "execution_count": null,
      "outputs": []
    },
    {
      "cell_type": "code",
      "metadata": {
        "id": "faQiO3nUm2wq"
      },
      "source": [
        "summary_bow.toarray()"
      ],
      "execution_count": null,
      "outputs": []
    }
  ]
}
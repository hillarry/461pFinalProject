{
 "cells": [
  {
   "cell_type": "code",
   "execution_count": 1,
   "metadata": {},
   "outputs": [],
   "source": [
    "from sklearn.model_selection import train_test_split"
   ]
  },
  {
   "cell_type": "code",
   "execution_count": 2,
   "metadata": {
    "scrolled": true
   },
   "outputs": [
    {
     "data": {
      "text/html": [
       "<div>\n",
       "<style scoped>\n",
       "    .dataframe tbody tr th:only-of-type {\n",
       "        vertical-align: middle;\n",
       "    }\n",
       "\n",
       "    .dataframe tbody tr th {\n",
       "        vertical-align: top;\n",
       "    }\n",
       "\n",
       "    .dataframe thead th {\n",
       "        text-align: right;\n",
       "    }\n",
       "</style>\n",
       "<table border=\"1\" class=\"dataframe\">\n",
       "  <thead>\n",
       "    <tr style=\"text-align: right;\">\n",
       "      <th></th>\n",
       "      <th>Unnamed: 0</th>\n",
       "      <th>review_date</th>\n",
       "      <th>is_spoiler</th>\n",
       "      <th>rating_x</th>\n",
       "      <th>movie_id_y</th>\n",
       "      <th>duration</th>\n",
       "      <th>rating_y</th>\n",
       "      <th>release_date</th>\n",
       "      <th>review_without_stopwords</th>\n",
       "      <th>description_without_stopwords</th>\n",
       "      <th>review_summary_without_stopwords</th>\n",
       "      <th>plot_summary_without_stopwords</th>\n",
       "      <th>Action</th>\n",
       "      <th>Adventure</th>\n",
       "      <th>Animation</th>\n",
       "      <th>Biography</th>\n",
       "      <th>Comedy</th>\n",
       "      <th>Crime</th>\n",
       "      <th>Drama</th>\n",
       "      <th>Family</th>\n",
       "      <th>Fantasy</th>\n",
       "      <th>Film-Noir</th>\n",
       "      <th>History</th>\n",
       "      <th>Horror</th>\n",
       "      <th>Music</th>\n",
       "      <th>Musical</th>\n",
       "      <th>Mystery</th>\n",
       "      <th>Romance</th>\n",
       "      <th>Sci-Fi</th>\n",
       "      <th>Sport</th>\n",
       "      <th>Thriller</th>\n",
       "      <th>War</th>\n",
       "      <th>Western</th>\n",
       "    </tr>\n",
       "  </thead>\n",
       "  <tbody>\n",
       "    <tr>\n",
       "      <th>0</th>\n",
       "      <td>0</td>\n",
       "      <td>2006</td>\n",
       "      <td>True</td>\n",
       "      <td>10</td>\n",
       "      <td>tt0111161</td>\n",
       "      <td>142</td>\n",
       "      <td>9.3</td>\n",
       "      <td>1994</td>\n",
       "      <td>In Oscar year, Shawshank Redemption (written d...</td>\n",
       "      <td>In 1947, Andy Dufresne (Tim Robbins), banker M...</td>\n",
       "      <td>A classic piece unforgettable film-making.</td>\n",
       "      <td>Chronicles experiences formerly successful ban...</td>\n",
       "      <td>0</td>\n",
       "      <td>0</td>\n",
       "      <td>0</td>\n",
       "      <td>0</td>\n",
       "      <td>0</td>\n",
       "      <td>1</td>\n",
       "      <td>1</td>\n",
       "      <td>0</td>\n",
       "      <td>0</td>\n",
       "      <td>0</td>\n",
       "      <td>0</td>\n",
       "      <td>0</td>\n",
       "      <td>0</td>\n",
       "      <td>0</td>\n",
       "      <td>0</td>\n",
       "      <td>0</td>\n",
       "      <td>0</td>\n",
       "      <td>0</td>\n",
       "      <td>0</td>\n",
       "      <td>0</td>\n",
       "      <td>0</td>\n",
       "    </tr>\n",
       "    <tr>\n",
       "      <th>1</th>\n",
       "      <td>1</td>\n",
       "      <td>2000</td>\n",
       "      <td>True</td>\n",
       "      <td>10</td>\n",
       "      <td>tt0111161</td>\n",
       "      <td>142</td>\n",
       "      <td>9.3</td>\n",
       "      <td>1994</td>\n",
       "      <td>The Shawshank Redemption without doubt one bri...</td>\n",
       "      <td>In 1947, Andy Dufresne (Tim Robbins), banker M...</td>\n",
       "      <td>Simply amazing. The best film 90's.</td>\n",
       "      <td>Chronicles experiences formerly successful ban...</td>\n",
       "      <td>0</td>\n",
       "      <td>0</td>\n",
       "      <td>0</td>\n",
       "      <td>0</td>\n",
       "      <td>0</td>\n",
       "      <td>1</td>\n",
       "      <td>1</td>\n",
       "      <td>0</td>\n",
       "      <td>0</td>\n",
       "      <td>0</td>\n",
       "      <td>0</td>\n",
       "      <td>0</td>\n",
       "      <td>0</td>\n",
       "      <td>0</td>\n",
       "      <td>0</td>\n",
       "      <td>0</td>\n",
       "      <td>0</td>\n",
       "      <td>0</td>\n",
       "      <td>0</td>\n",
       "      <td>0</td>\n",
       "      <td>0</td>\n",
       "    </tr>\n",
       "    <tr>\n",
       "      <th>2</th>\n",
       "      <td>2</td>\n",
       "      <td>2001</td>\n",
       "      <td>True</td>\n",
       "      <td>8</td>\n",
       "      <td>tt0111161</td>\n",
       "      <td>142</td>\n",
       "      <td>9.3</td>\n",
       "      <td>1994</td>\n",
       "      <td>I believe film best story ever told film, I'm ...</td>\n",
       "      <td>In 1947, Andy Dufresne (Tim Robbins), banker M...</td>\n",
       "      <td>The best story ever told film</td>\n",
       "      <td>Chronicles experiences formerly successful ban...</td>\n",
       "      <td>0</td>\n",
       "      <td>0</td>\n",
       "      <td>0</td>\n",
       "      <td>0</td>\n",
       "      <td>0</td>\n",
       "      <td>1</td>\n",
       "      <td>1</td>\n",
       "      <td>0</td>\n",
       "      <td>0</td>\n",
       "      <td>0</td>\n",
       "      <td>0</td>\n",
       "      <td>0</td>\n",
       "      <td>0</td>\n",
       "      <td>0</td>\n",
       "      <td>0</td>\n",
       "      <td>0</td>\n",
       "      <td>0</td>\n",
       "      <td>0</td>\n",
       "      <td>0</td>\n",
       "      <td>0</td>\n",
       "      <td>0</td>\n",
       "    </tr>\n",
       "    <tr>\n",
       "      <th>3</th>\n",
       "      <td>3</td>\n",
       "      <td>2002</td>\n",
       "      <td>True</td>\n",
       "      <td>10</td>\n",
       "      <td>tt0111161</td>\n",
       "      <td>142</td>\n",
       "      <td>9.3</td>\n",
       "      <td>1994</td>\n",
       "      <td>**Yes, SPOILERS here**This film emotional impa...</td>\n",
       "      <td>In 1947, Andy Dufresne (Tim Robbins), banker M...</td>\n",
       "      <td>Busy dying busy living?</td>\n",
       "      <td>Chronicles experiences formerly successful ban...</td>\n",
       "      <td>0</td>\n",
       "      <td>0</td>\n",
       "      <td>0</td>\n",
       "      <td>0</td>\n",
       "      <td>0</td>\n",
       "      <td>1</td>\n",
       "      <td>1</td>\n",
       "      <td>0</td>\n",
       "      <td>0</td>\n",
       "      <td>0</td>\n",
       "      <td>0</td>\n",
       "      <td>0</td>\n",
       "      <td>0</td>\n",
       "      <td>0</td>\n",
       "      <td>0</td>\n",
       "      <td>0</td>\n",
       "      <td>0</td>\n",
       "      <td>0</td>\n",
       "      <td>0</td>\n",
       "      <td>0</td>\n",
       "      <td>0</td>\n",
       "    </tr>\n",
       "    <tr>\n",
       "      <th>4</th>\n",
       "      <td>4</td>\n",
       "      <td>2004</td>\n",
       "      <td>True</td>\n",
       "      <td>8</td>\n",
       "      <td>tt0111161</td>\n",
       "      <td>142</td>\n",
       "      <td>9.3</td>\n",
       "      <td>1994</td>\n",
       "      <td>At heart extraordinary movie brilliant indelib...</td>\n",
       "      <td>In 1947, Andy Dufresne (Tim Robbins), banker M...</td>\n",
       "      <td>Great story, wondrously told acted</td>\n",
       "      <td>Chronicles experiences formerly successful ban...</td>\n",
       "      <td>0</td>\n",
       "      <td>0</td>\n",
       "      <td>0</td>\n",
       "      <td>0</td>\n",
       "      <td>0</td>\n",
       "      <td>1</td>\n",
       "      <td>1</td>\n",
       "      <td>0</td>\n",
       "      <td>0</td>\n",
       "      <td>0</td>\n",
       "      <td>0</td>\n",
       "      <td>0</td>\n",
       "      <td>0</td>\n",
       "      <td>0</td>\n",
       "      <td>0</td>\n",
       "      <td>0</td>\n",
       "      <td>0</td>\n",
       "      <td>0</td>\n",
       "      <td>0</td>\n",
       "      <td>0</td>\n",
       "      <td>0</td>\n",
       "    </tr>\n",
       "  </tbody>\n",
       "</table>\n",
       "</div>"
      ],
      "text/plain": [
       "   Unnamed: 0  review_date  is_spoiler  rating_x movie_id_y  duration  \\\n",
       "0           0         2006        True        10  tt0111161       142   \n",
       "1           1         2000        True        10  tt0111161       142   \n",
       "2           2         2001        True         8  tt0111161       142   \n",
       "3           3         2002        True        10  tt0111161       142   \n",
       "4           4         2004        True         8  tt0111161       142   \n",
       "\n",
       "   rating_y  release_date                           review_without_stopwords  \\\n",
       "0       9.3          1994  In Oscar year, Shawshank Redemption (written d...   \n",
       "1       9.3          1994  The Shawshank Redemption without doubt one bri...   \n",
       "2       9.3          1994  I believe film best story ever told film, I'm ...   \n",
       "3       9.3          1994  **Yes, SPOILERS here**This film emotional impa...   \n",
       "4       9.3          1994  At heart extraordinary movie brilliant indelib...   \n",
       "\n",
       "                       description_without_stopwords  \\\n",
       "0  In 1947, Andy Dufresne (Tim Robbins), banker M...   \n",
       "1  In 1947, Andy Dufresne (Tim Robbins), banker M...   \n",
       "2  In 1947, Andy Dufresne (Tim Robbins), banker M...   \n",
       "3  In 1947, Andy Dufresne (Tim Robbins), banker M...   \n",
       "4  In 1947, Andy Dufresne (Tim Robbins), banker M...   \n",
       "\n",
       "             review_summary_without_stopwords  \\\n",
       "0  A classic piece unforgettable film-making.   \n",
       "1         Simply amazing. The best film 90's.   \n",
       "2               The best story ever told film   \n",
       "3                     Busy dying busy living?   \n",
       "4          Great story, wondrously told acted   \n",
       "\n",
       "                      plot_summary_without_stopwords  Action  Adventure  \\\n",
       "0  Chronicles experiences formerly successful ban...       0          0   \n",
       "1  Chronicles experiences formerly successful ban...       0          0   \n",
       "2  Chronicles experiences formerly successful ban...       0          0   \n",
       "3  Chronicles experiences formerly successful ban...       0          0   \n",
       "4  Chronicles experiences formerly successful ban...       0          0   \n",
       "\n",
       "   Animation  Biography  Comedy  Crime  Drama  Family  Fantasy  Film-Noir  \\\n",
       "0          0          0       0      1      1       0        0          0   \n",
       "1          0          0       0      1      1       0        0          0   \n",
       "2          0          0       0      1      1       0        0          0   \n",
       "3          0          0       0      1      1       0        0          0   \n",
       "4          0          0       0      1      1       0        0          0   \n",
       "\n",
       "   History  Horror  Music  Musical  Mystery  Romance  Sci-Fi  Sport  Thriller  \\\n",
       "0        0       0      0        0        0        0       0      0         0   \n",
       "1        0       0      0        0        0        0       0      0         0   \n",
       "2        0       0      0        0        0        0       0      0         0   \n",
       "3        0       0      0        0        0        0       0      0         0   \n",
       "4        0       0      0        0        0        0       0      0         0   \n",
       "\n",
       "   War  Western  \n",
       "0    0        0  \n",
       "1    0        0  \n",
       "2    0        0  \n",
       "3    0        0  \n",
       "4    0        0  "
      ]
     },
     "execution_count": 2,
     "metadata": {},
     "output_type": "execute_result"
    }
   ],
   "source": [
    "import pandas as pd\n",
    "df = pd.read_csv('final_dataset.csv')\n",
    "pd.set_option('display.max_columns', None)\n",
    "df.head()"
   ]
  },
  {
   "cell_type": "code",
   "execution_count": 3,
   "metadata": {},
   "outputs": [],
   "source": [
    "import re\n",
    "\n",
    "\n",
    "def clean_text(text):\n",
    "    \"\"\"\n",
    "    Applies some pre-processing on the given text.\n",
    "\n",
    "    Steps :\n",
    "    - Removing HTML tags\n",
    "    - Removing punctuation\n",
    "    - Lowering text\n",
    "    \"\"\"\n",
    "    \n",
    "    # remove HTML tags\n",
    "    text = re.sub(r'<.*?>', '', text)\n",
    "    \n",
    "    # remove the characters [\\], ['] and [\"]\n",
    "    text = re.sub(r\"\\\\\", \"\", text)    \n",
    "    text = re.sub(r\"\\'\", \"\", text)    \n",
    "    text = re.sub(r\"\\\"\", \"\", text)    \n",
    "    \n",
    "    # convert text to lowercase\n",
    "    text = text.strip().lower()\n",
    "    \n",
    "    # replace punctuation characters with spaces\n",
    "    filters='!\"\\'#$%&()*+,-./:;<=>?@[\\\\]^_`{|}~\\t\\n'\n",
    "    translate_dict = dict((c, \" \") for c in filters)\n",
    "    translate_map = str.maketrans(translate_dict)\n",
    "    text = text.translate(translate_map)\n",
    "\n",
    "    return text\n"
   ]
  },
  {
   "cell_type": "code",
   "execution_count": 4,
   "metadata": {},
   "outputs": [],
   "source": [
    "df[\"review_without_stopwords\"] = df[\"review_without_stopwords\"].astype(str)"
   ]
  },
  {
   "cell_type": "code",
   "execution_count": 5,
   "metadata": {
    "scrolled": true
   },
   "outputs": [],
   "source": [
    "X = df[\"review_without_stopwords\"].apply(lambda x: clean_text(x))\n",
    "y = df['is_spoiler']\n",
    "y = y.apply(lambda x: 1 if x else 0)\n",
    "X_train, X_test, y_train, y_test = train_test_split(X, y, random_state = 42)"
   ]
  },
  {
   "cell_type": "code",
   "execution_count": 6,
   "metadata": {
    "scrolled": true
   },
   "outputs": [
    {
     "data": {
      "text/html": [
       "<div>\n",
       "<style scoped>\n",
       "    .dataframe tbody tr th:only-of-type {\n",
       "        vertical-align: middle;\n",
       "    }\n",
       "\n",
       "    .dataframe tbody tr th {\n",
       "        vertical-align: top;\n",
       "    }\n",
       "\n",
       "    .dataframe thead th {\n",
       "        text-align: right;\n",
       "    }\n",
       "</style>\n",
       "<table border=\"1\" class=\"dataframe\">\n",
       "  <thead>\n",
       "    <tr style=\"text-align: right;\">\n",
       "      <th></th>\n",
       "      <th>text</th>\n",
       "      <th>labels</th>\n",
       "    </tr>\n",
       "  </thead>\n",
       "  <tbody>\n",
       "    <tr>\n",
       "      <th>64659</th>\n",
       "      <td>i think raging bull one best films ever made  ...</td>\n",
       "      <td>0</td>\n",
       "    </tr>\n",
       "    <tr>\n",
       "      <th>234573</th>\n",
       "      <td>if want movie insanely excellent acting skills...</td>\n",
       "      <td>0</td>\n",
       "    </tr>\n",
       "    <tr>\n",
       "      <th>24086</th>\n",
       "      <td>as jiddu krishnamurti said  it measure health ...</td>\n",
       "      <td>1</td>\n",
       "    </tr>\n",
       "    <tr>\n",
       "      <th>483424</th>\n",
       "      <td>movie sequels films usually poor reputation  d...</td>\n",
       "      <td>0</td>\n",
       "    </tr>\n",
       "    <tr>\n",
       "      <th>342693</th>\n",
       "      <td>in part one neo destroys agent smith smith gai...</td>\n",
       "      <td>0</td>\n",
       "    </tr>\n",
       "    <tr>\n",
       "      <th>...</th>\n",
       "      <td>...</td>\n",
       "      <td>...</td>\n",
       "    </tr>\n",
       "    <tr>\n",
       "      <th>110268</th>\n",
       "      <td>blade runner 2049 surprising squeal manages im...</td>\n",
       "      <td>0</td>\n",
       "    </tr>\n",
       "    <tr>\n",
       "      <th>259178</th>\n",
       "      <td>my wife excited saw trailer the accountant  fi...</td>\n",
       "      <td>0</td>\n",
       "    </tr>\n",
       "    <tr>\n",
       "      <th>365838</th>\n",
       "      <td>when i saw movie i really care about  johnny d...</td>\n",
       "      <td>1</td>\n",
       "    </tr>\n",
       "    <tr>\n",
       "      <th>131932</th>\n",
       "      <td>i love original movies  ie the book eli watchm...</td>\n",
       "      <td>0</td>\n",
       "    </tr>\n",
       "    <tr>\n",
       "      <th>121958</th>\n",
       "      <td>watching movie i thought scenes methods make b...</td>\n",
       "      <td>1</td>\n",
       "    </tr>\n",
       "  </tbody>\n",
       "</table>\n",
       "<p>430429 rows × 2 columns</p>\n",
       "</div>"
      ],
      "text/plain": [
       "                                                     text  labels\n",
       "64659   i think raging bull one best films ever made  ...       0\n",
       "234573  if want movie insanely excellent acting skills...       0\n",
       "24086   as jiddu krishnamurti said  it measure health ...       1\n",
       "483424  movie sequels films usually poor reputation  d...       0\n",
       "342693  in part one neo destroys agent smith smith gai...       0\n",
       "...                                                   ...     ...\n",
       "110268  blade runner 2049 surprising squeal manages im...       0\n",
       "259178  my wife excited saw trailer the accountant  fi...       0\n",
       "365838  when i saw movie i really care about  johnny d...       1\n",
       "131932  i love original movies  ie the book eli watchm...       0\n",
       "121958  watching movie i thought scenes methods make b...       1\n",
       "\n",
       "[430429 rows x 2 columns]"
      ]
     },
     "execution_count": 6,
     "metadata": {},
     "output_type": "execute_result"
    }
   ],
   "source": [
    "df_train = pd.concat([X_train,y_train],axis=1)\n",
    "df_train = df_train.rename(columns={\"review_without_stopwords\": \"text\", \"is_spoiler\": \"labels\"})\n",
    "df_train"
   ]
  },
  {
   "cell_type": "code",
   "execution_count": 7,
   "metadata": {
    "scrolled": true
   },
   "outputs": [
    {
     "data": {
      "text/html": [
       "<div>\n",
       "<style scoped>\n",
       "    .dataframe tbody tr th:only-of-type {\n",
       "        vertical-align: middle;\n",
       "    }\n",
       "\n",
       "    .dataframe tbody tr th {\n",
       "        vertical-align: top;\n",
       "    }\n",
       "\n",
       "    .dataframe thead th {\n",
       "        text-align: right;\n",
       "    }\n",
       "</style>\n",
       "<table border=\"1\" class=\"dataframe\">\n",
       "  <thead>\n",
       "    <tr style=\"text-align: right;\">\n",
       "      <th></th>\n",
       "      <th>text</th>\n",
       "      <th>labels</th>\n",
       "    </tr>\n",
       "  </thead>\n",
       "  <tbody>\n",
       "    <tr>\n",
       "      <th>389140</th>\n",
       "      <td>i wonder film would judged without spielbergs ...</td>\n",
       "      <td>0</td>\n",
       "    </tr>\n",
       "    <tr>\n",
       "      <th>235482</th>\n",
       "      <td>opening scene   girl driving   30 seconds late...</td>\n",
       "      <td>1</td>\n",
       "    </tr>\n",
       "    <tr>\n",
       "      <th>294615</th>\n",
       "      <td>moulin rouge kind film makes aware true possib...</td>\n",
       "      <td>0</td>\n",
       "    </tr>\n",
       "    <tr>\n",
       "      <th>336345</th>\n",
       "      <td>not sure sticking craw reviewers lxg  it nearl...</td>\n",
       "      <td>0</td>\n",
       "    </tr>\n",
       "    <tr>\n",
       "      <th>378675</th>\n",
       "      <td>peter jackson gave movie new twist  i ve seen ...</td>\n",
       "      <td>0</td>\n",
       "    </tr>\n",
       "    <tr>\n",
       "      <th>...</th>\n",
       "      <td>...</td>\n",
       "      <td>...</td>\n",
       "    </tr>\n",
       "    <tr>\n",
       "      <th>126785</th>\n",
       "      <td>first let say liked one better first iron man ...</td>\n",
       "      <td>1</td>\n",
       "    </tr>\n",
       "    <tr>\n",
       "      <th>126711</th>\n",
       "      <td>the film slow moving  also outstanding histori...</td>\n",
       "      <td>0</td>\n",
       "    </tr>\n",
       "    <tr>\n",
       "      <th>148034</th>\n",
       "      <td>johnny depp lost bit pirate charm newest insta...</td>\n",
       "      <td>0</td>\n",
       "    </tr>\n",
       "    <tr>\n",
       "      <th>103883</th>\n",
       "      <td>in mood love  directed wong kar wai  i feel re...</td>\n",
       "      <td>0</td>\n",
       "    </tr>\n",
       "    <tr>\n",
       "      <th>96162</th>\n",
       "      <td>as franchise closes  radcliffe finally becomes...</td>\n",
       "      <td>0</td>\n",
       "    </tr>\n",
       "  </tbody>\n",
       "</table>\n",
       "<p>143477 rows × 2 columns</p>\n",
       "</div>"
      ],
      "text/plain": [
       "                                                     text  labels\n",
       "389140  i wonder film would judged without spielbergs ...       0\n",
       "235482  opening scene   girl driving   30 seconds late...       1\n",
       "294615  moulin rouge kind film makes aware true possib...       0\n",
       "336345  not sure sticking craw reviewers lxg  it nearl...       0\n",
       "378675  peter jackson gave movie new twist  i ve seen ...       0\n",
       "...                                                   ...     ...\n",
       "126785  first let say liked one better first iron man ...       1\n",
       "126711  the film slow moving  also outstanding histori...       0\n",
       "148034  johnny depp lost bit pirate charm newest insta...       0\n",
       "103883  in mood love  directed wong kar wai  i feel re...       0\n",
       "96162   as franchise closes  radcliffe finally becomes...       0\n",
       "\n",
       "[143477 rows x 2 columns]"
      ]
     },
     "execution_count": 7,
     "metadata": {},
     "output_type": "execute_result"
    }
   ],
   "source": [
    "df_test = pd.concat([X_test,y_test],axis=1)\n",
    "df_test = df_test.rename(columns={\"review_without_stopwords\": \"text\", \"is_spoiler\": \"labels\"})\n",
    "df_test"
   ]
  },
  {
   "cell_type": "code",
   "execution_count": 8,
   "metadata": {},
   "outputs": [
    {
     "name": "stderr",
     "output_type": "stream",
     "text": [
      "Some weights of the model checkpoint at roberta-base were not used when initializing RobertaForSequenceClassification: ['lm_head.bias', 'lm_head.dense.weight', 'lm_head.dense.bias', 'lm_head.layer_norm.weight', 'lm_head.layer_norm.bias', 'lm_head.decoder.weight']\n",
      "- This IS expected if you are initializing RobertaForSequenceClassification from the checkpoint of a model trained on another task or with another architecture (e.g. initializing a BertForSequenceClassification model from a BertForPreTraining model).\n",
      "- This IS NOT expected if you are initializing RobertaForSequenceClassification from the checkpoint of a model that you expect to be exactly identical (initializing a BertForSequenceClassification model from a BertForSequenceClassification model).\n",
      "Some weights of RobertaForSequenceClassification were not initialized from the model checkpoint at roberta-base and are newly initialized: ['classifier.dense.weight', 'classifier.dense.bias', 'classifier.out_proj.weight', 'classifier.out_proj.bias']\n",
      "You should probably TRAIN this model on a down-stream task to be able to use it for predictions and inference.\n"
     ]
    }
   ],
   "source": [
    "from simpletransformers.classification import ClassificationModel\n",
    "\n",
    "\n",
    "model = ClassificationModel('roberta', 'roberta-base',use_cuda=False)"
   ]
  },
  {
   "cell_type": "code",
   "execution_count": 10,
   "metadata": {
    "scrolled": true
   },
   "outputs": [
    {
     "data": {
      "application/vnd.jupyter.widget-view+json": {
       "model_id": "c56ca8545bff457295c784de80188f3b",
       "version_major": 2,
       "version_minor": 0
      },
      "text/plain": [
       "HBox(children=(FloatProgress(value=0.0, max=50000.0), HTML(value='')))"
      ]
     },
     "metadata": {},
     "output_type": "display_data"
    },
    {
     "name": "stdout",
     "output_type": "stream",
     "text": [
      "\n"
     ]
    },
    {
     "data": {
      "application/vnd.jupyter.widget-view+json": {
       "model_id": "7436d4448da44d55af13a29d54b76a6d",
       "version_major": 2,
       "version_minor": 0
      },
      "text/plain": [
       "HBox(children=(FloatProgress(value=0.0, description='Epoch', max=1.0, style=ProgressStyle(description_width='i…"
      ]
     },
     "metadata": {},
     "output_type": "display_data"
    },
    {
     "data": {
      "application/vnd.jupyter.widget-view+json": {
       "model_id": "b03f752a76f24828b6049f9226a3bc07",
       "version_major": 2,
       "version_minor": 0
      },
      "text/plain": [
       "HBox(children=(FloatProgress(value=0.0, description='Running Epoch 0 of 1', max=6250.0, style=ProgressStyle(de…"
      ]
     },
     "metadata": {},
     "output_type": "display_data"
    },
    {
     "name": "stdout",
     "output_type": "stream",
     "text": [
      "\n",
      "\n"
     ]
    },
    {
     "data": {
      "text/plain": [
       "(6250, 0.5852900379920006)"
      ]
     },
     "execution_count": 10,
     "metadata": {},
     "output_type": "execute_result"
    }
   ],
   "source": [
    "model.train_model(df_train.head(50000))"
   ]
  },
  {
   "cell_type": "code",
   "execution_count": 73,
   "metadata": {},
   "outputs": [
    {
     "data": {
      "text/plain": [
       "0    3682\n",
       "1    1318\n",
       "Name: is_spoiler, dtype: int64"
      ]
     },
     "execution_count": 73,
     "metadata": {},
     "output_type": "execute_result"
    }
   ],
   "source": [
    "y_train.head(5000).value_counts()"
   ]
  },
  {
   "cell_type": "code",
   "execution_count": 14,
   "metadata": {
    "scrolled": true
   },
   "outputs": [
    {
     "data": {
      "application/vnd.jupyter.widget-view+json": {
       "model_id": "61afbf31365d4f59ba0ffe3ef4f464f7",
       "version_major": 2,
       "version_minor": 0
      },
      "text/plain": [
       "HBox(children=(FloatProgress(value=0.0, max=10000.0), HTML(value='')))"
      ]
     },
     "metadata": {},
     "output_type": "display_data"
    },
    {
     "name": "stdout",
     "output_type": "stream",
     "text": [
      "\n"
     ]
    },
    {
     "data": {
      "application/vnd.jupyter.widget-view+json": {
       "model_id": "50e7d57c60a941b4b4fa242dfe3af646",
       "version_major": 2,
       "version_minor": 0
      },
      "text/plain": [
       "HBox(children=(FloatProgress(value=0.0, description='Running Evaluation', max=1250.0, style=ProgressStyle(desc…"
      ]
     },
     "metadata": {},
     "output_type": "display_data"
    },
    {
     "name": "stdout",
     "output_type": "stream",
     "text": [
      "\n"
     ]
    },
    {
     "name": "stderr",
     "output_type": "stream",
     "text": [
      "/home/sahilvaidya/anaconda3/lib/python3.7/site-packages/sklearn/metrics/_classification.py:870: RuntimeWarning: invalid value encountered in double_scalars\n",
      "  mcc = cov_ytyp / np.sqrt(cov_ytyt * cov_ypyp)\n"
     ]
    }
   ],
   "source": [
    "result, model_outputs, wrong_predictions = model.eval_model(df_test.head(10000))"
   ]
  },
  {
   "cell_type": "code",
   "execution_count": 12,
   "metadata": {
    "scrolled": false
   },
   "outputs": [
    {
     "name": "stdout",
     "output_type": "stream",
     "text": [
      "{'mcc': 0.0, 'tp': 0, 'tn': 758, 'fp': 0, 'fn': 242, 'auroc': 0.6887443031902134, 'auprc': 0.38211345349923054, 'eval_loss': 0.5535308744907379}\n"
     ]
    }
   ],
   "source": [
    "print(result)"
   ]
  },
  {
   "cell_type": "code",
   "execution_count": null,
   "metadata": {
    "scrolled": true
   },
   "outputs": [],
   "source": [
    "print(model_outputs)"
   ]
  },
  {
   "cell_type": "code",
   "execution_count": 61,
   "metadata": {},
   "outputs": [
    {
     "name": "stdout",
     "output_type": "stream",
     "text": [
      "[0, 1, 0, 0, 0, 0, 0, 1, 1, 0, 0, 0, 0, 0, 1, 1, 1, 0, 0, 1, 0, 0, 0, 0, 1, 0, 0, 0, 0, 0, 0, 1, 1, 0, 0, 0, 0, 0, 0, 0, 0, 0, 1, 0, 0, 0, 1, 0, 0, 1]\n"
     ]
    }
   ],
   "source": [
    "print(y_test.head(50).tolist())"
   ]
  }
 ],
 "metadata": {
  "kernelspec": {
   "display_name": "Python 3",
   "language": "python",
   "name": "python3"
  },
  "language_info": {
   "codemirror_mode": {
    "name": "ipython",
    "version": 3
   },
   "file_extension": ".py",
   "mimetype": "text/x-python",
   "name": "python",
   "nbconvert_exporter": "python",
   "pygments_lexer": "ipython3",
   "version": "3.7.6"
  }
 },
 "nbformat": 4,
 "nbformat_minor": 2
}

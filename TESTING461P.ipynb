{
 "cells": [
  {
   "cell_type": "code",
   "execution_count": 15,
   "metadata": {},
   "outputs": [],
   "source": [
    "from sklearn.model_selection import train_test_split"
   ]
  },
  {
   "cell_type": "code",
   "execution_count": 16,
   "metadata": {
    "scrolled": true
   },
   "outputs": [
    {
     "data": {
      "text/html": [
       "<div>\n",
       "<style scoped>\n",
       "    .dataframe tbody tr th:only-of-type {\n",
       "        vertical-align: middle;\n",
       "    }\n",
       "\n",
       "    .dataframe tbody tr th {\n",
       "        vertical-align: top;\n",
       "    }\n",
       "\n",
       "    .dataframe thead th {\n",
       "        text-align: right;\n",
       "    }\n",
       "</style>\n",
       "<table border=\"1\" class=\"dataframe\">\n",
       "  <thead>\n",
       "    <tr style=\"text-align: right;\">\n",
       "      <th></th>\n",
       "      <th>Unnamed: 0</th>\n",
       "      <th>review_date</th>\n",
       "      <th>is_spoiler</th>\n",
       "      <th>rating_x</th>\n",
       "      <th>movie_id_y</th>\n",
       "      <th>duration</th>\n",
       "      <th>rating_y</th>\n",
       "      <th>release_date</th>\n",
       "      <th>review_without_stopwords</th>\n",
       "      <th>description_without_stopwords</th>\n",
       "      <th>review_summary_without_stopwords</th>\n",
       "      <th>plot_summary_without_stopwords</th>\n",
       "      <th>Action</th>\n",
       "      <th>Adventure</th>\n",
       "      <th>Animation</th>\n",
       "      <th>Biography</th>\n",
       "      <th>Comedy</th>\n",
       "      <th>Crime</th>\n",
       "      <th>Drama</th>\n",
       "      <th>Family</th>\n",
       "      <th>Fantasy</th>\n",
       "      <th>Film-Noir</th>\n",
       "      <th>History</th>\n",
       "      <th>Horror</th>\n",
       "      <th>Music</th>\n",
       "      <th>Musical</th>\n",
       "      <th>Mystery</th>\n",
       "      <th>Romance</th>\n",
       "      <th>Sci-Fi</th>\n",
       "      <th>Sport</th>\n",
       "      <th>Thriller</th>\n",
       "      <th>War</th>\n",
       "      <th>Western</th>\n",
       "    </tr>\n",
       "  </thead>\n",
       "  <tbody>\n",
       "    <tr>\n",
       "      <th>0</th>\n",
       "      <td>0</td>\n",
       "      <td>2006</td>\n",
       "      <td>True</td>\n",
       "      <td>10</td>\n",
       "      <td>tt0111161</td>\n",
       "      <td>142</td>\n",
       "      <td>9.3</td>\n",
       "      <td>1994</td>\n",
       "      <td>In Oscar year, Shawshank Redemption (written d...</td>\n",
       "      <td>In 1947, Andy Dufresne (Tim Robbins), banker M...</td>\n",
       "      <td>A classic piece unforgettable film-making.</td>\n",
       "      <td>Chronicles experiences formerly successful ban...</td>\n",
       "      <td>0</td>\n",
       "      <td>0</td>\n",
       "      <td>0</td>\n",
       "      <td>0</td>\n",
       "      <td>0</td>\n",
       "      <td>1</td>\n",
       "      <td>1</td>\n",
       "      <td>0</td>\n",
       "      <td>0</td>\n",
       "      <td>0</td>\n",
       "      <td>0</td>\n",
       "      <td>0</td>\n",
       "      <td>0</td>\n",
       "      <td>0</td>\n",
       "      <td>0</td>\n",
       "      <td>0</td>\n",
       "      <td>0</td>\n",
       "      <td>0</td>\n",
       "      <td>0</td>\n",
       "      <td>0</td>\n",
       "      <td>0</td>\n",
       "    </tr>\n",
       "    <tr>\n",
       "      <th>1</th>\n",
       "      <td>1</td>\n",
       "      <td>2000</td>\n",
       "      <td>True</td>\n",
       "      <td>10</td>\n",
       "      <td>tt0111161</td>\n",
       "      <td>142</td>\n",
       "      <td>9.3</td>\n",
       "      <td>1994</td>\n",
       "      <td>The Shawshank Redemption without doubt one bri...</td>\n",
       "      <td>In 1947, Andy Dufresne (Tim Robbins), banker M...</td>\n",
       "      <td>Simply amazing. The best film 90's.</td>\n",
       "      <td>Chronicles experiences formerly successful ban...</td>\n",
       "      <td>0</td>\n",
       "      <td>0</td>\n",
       "      <td>0</td>\n",
       "      <td>0</td>\n",
       "      <td>0</td>\n",
       "      <td>1</td>\n",
       "      <td>1</td>\n",
       "      <td>0</td>\n",
       "      <td>0</td>\n",
       "      <td>0</td>\n",
       "      <td>0</td>\n",
       "      <td>0</td>\n",
       "      <td>0</td>\n",
       "      <td>0</td>\n",
       "      <td>0</td>\n",
       "      <td>0</td>\n",
       "      <td>0</td>\n",
       "      <td>0</td>\n",
       "      <td>0</td>\n",
       "      <td>0</td>\n",
       "      <td>0</td>\n",
       "    </tr>\n",
       "    <tr>\n",
       "      <th>2</th>\n",
       "      <td>2</td>\n",
       "      <td>2001</td>\n",
       "      <td>True</td>\n",
       "      <td>8</td>\n",
       "      <td>tt0111161</td>\n",
       "      <td>142</td>\n",
       "      <td>9.3</td>\n",
       "      <td>1994</td>\n",
       "      <td>I believe film best story ever told film, I'm ...</td>\n",
       "      <td>In 1947, Andy Dufresne (Tim Robbins), banker M...</td>\n",
       "      <td>The best story ever told film</td>\n",
       "      <td>Chronicles experiences formerly successful ban...</td>\n",
       "      <td>0</td>\n",
       "      <td>0</td>\n",
       "      <td>0</td>\n",
       "      <td>0</td>\n",
       "      <td>0</td>\n",
       "      <td>1</td>\n",
       "      <td>1</td>\n",
       "      <td>0</td>\n",
       "      <td>0</td>\n",
       "      <td>0</td>\n",
       "      <td>0</td>\n",
       "      <td>0</td>\n",
       "      <td>0</td>\n",
       "      <td>0</td>\n",
       "      <td>0</td>\n",
       "      <td>0</td>\n",
       "      <td>0</td>\n",
       "      <td>0</td>\n",
       "      <td>0</td>\n",
       "      <td>0</td>\n",
       "      <td>0</td>\n",
       "    </tr>\n",
       "    <tr>\n",
       "      <th>3</th>\n",
       "      <td>3</td>\n",
       "      <td>2002</td>\n",
       "      <td>True</td>\n",
       "      <td>10</td>\n",
       "      <td>tt0111161</td>\n",
       "      <td>142</td>\n",
       "      <td>9.3</td>\n",
       "      <td>1994</td>\n",
       "      <td>**Yes, SPOILERS here**This film emotional impa...</td>\n",
       "      <td>In 1947, Andy Dufresne (Tim Robbins), banker M...</td>\n",
       "      <td>Busy dying busy living?</td>\n",
       "      <td>Chronicles experiences formerly successful ban...</td>\n",
       "      <td>0</td>\n",
       "      <td>0</td>\n",
       "      <td>0</td>\n",
       "      <td>0</td>\n",
       "      <td>0</td>\n",
       "      <td>1</td>\n",
       "      <td>1</td>\n",
       "      <td>0</td>\n",
       "      <td>0</td>\n",
       "      <td>0</td>\n",
       "      <td>0</td>\n",
       "      <td>0</td>\n",
       "      <td>0</td>\n",
       "      <td>0</td>\n",
       "      <td>0</td>\n",
       "      <td>0</td>\n",
       "      <td>0</td>\n",
       "      <td>0</td>\n",
       "      <td>0</td>\n",
       "      <td>0</td>\n",
       "      <td>0</td>\n",
       "    </tr>\n",
       "    <tr>\n",
       "      <th>4</th>\n",
       "      <td>4</td>\n",
       "      <td>2004</td>\n",
       "      <td>True</td>\n",
       "      <td>8</td>\n",
       "      <td>tt0111161</td>\n",
       "      <td>142</td>\n",
       "      <td>9.3</td>\n",
       "      <td>1994</td>\n",
       "      <td>At heart extraordinary movie brilliant indelib...</td>\n",
       "      <td>In 1947, Andy Dufresne (Tim Robbins), banker M...</td>\n",
       "      <td>Great story, wondrously told acted</td>\n",
       "      <td>Chronicles experiences formerly successful ban...</td>\n",
       "      <td>0</td>\n",
       "      <td>0</td>\n",
       "      <td>0</td>\n",
       "      <td>0</td>\n",
       "      <td>0</td>\n",
       "      <td>1</td>\n",
       "      <td>1</td>\n",
       "      <td>0</td>\n",
       "      <td>0</td>\n",
       "      <td>0</td>\n",
       "      <td>0</td>\n",
       "      <td>0</td>\n",
       "      <td>0</td>\n",
       "      <td>0</td>\n",
       "      <td>0</td>\n",
       "      <td>0</td>\n",
       "      <td>0</td>\n",
       "      <td>0</td>\n",
       "      <td>0</td>\n",
       "      <td>0</td>\n",
       "      <td>0</td>\n",
       "    </tr>\n",
       "  </tbody>\n",
       "</table>\n",
       "</div>"
      ],
      "text/plain": [
       "   Unnamed: 0  review_date  is_spoiler  rating_x movie_id_y  duration  \\\n",
       "0           0         2006        True        10  tt0111161       142   \n",
       "1           1         2000        True        10  tt0111161       142   \n",
       "2           2         2001        True         8  tt0111161       142   \n",
       "3           3         2002        True        10  tt0111161       142   \n",
       "4           4         2004        True         8  tt0111161       142   \n",
       "\n",
       "   rating_y  release_date                           review_without_stopwords  \\\n",
       "0       9.3          1994  In Oscar year, Shawshank Redemption (written d...   \n",
       "1       9.3          1994  The Shawshank Redemption without doubt one bri...   \n",
       "2       9.3          1994  I believe film best story ever told film, I'm ...   \n",
       "3       9.3          1994  **Yes, SPOILERS here**This film emotional impa...   \n",
       "4       9.3          1994  At heart extraordinary movie brilliant indelib...   \n",
       "\n",
       "                       description_without_stopwords  \\\n",
       "0  In 1947, Andy Dufresne (Tim Robbins), banker M...   \n",
       "1  In 1947, Andy Dufresne (Tim Robbins), banker M...   \n",
       "2  In 1947, Andy Dufresne (Tim Robbins), banker M...   \n",
       "3  In 1947, Andy Dufresne (Tim Robbins), banker M...   \n",
       "4  In 1947, Andy Dufresne (Tim Robbins), banker M...   \n",
       "\n",
       "             review_summary_without_stopwords  \\\n",
       "0  A classic piece unforgettable film-making.   \n",
       "1         Simply amazing. The best film 90's.   \n",
       "2               The best story ever told film   \n",
       "3                     Busy dying busy living?   \n",
       "4          Great story, wondrously told acted   \n",
       "\n",
       "                      plot_summary_without_stopwords  Action  Adventure  \\\n",
       "0  Chronicles experiences formerly successful ban...       0          0   \n",
       "1  Chronicles experiences formerly successful ban...       0          0   \n",
       "2  Chronicles experiences formerly successful ban...       0          0   \n",
       "3  Chronicles experiences formerly successful ban...       0          0   \n",
       "4  Chronicles experiences formerly successful ban...       0          0   \n",
       "\n",
       "   Animation  Biography  Comedy  Crime  Drama  Family  Fantasy  Film-Noir  \\\n",
       "0          0          0       0      1      1       0        0          0   \n",
       "1          0          0       0      1      1       0        0          0   \n",
       "2          0          0       0      1      1       0        0          0   \n",
       "3          0          0       0      1      1       0        0          0   \n",
       "4          0          0       0      1      1       0        0          0   \n",
       "\n",
       "   History  Horror  Music  Musical  Mystery  Romance  Sci-Fi  Sport  Thriller  \\\n",
       "0        0       0      0        0        0        0       0      0         0   \n",
       "1        0       0      0        0        0        0       0      0         0   \n",
       "2        0       0      0        0        0        0       0      0         0   \n",
       "3        0       0      0        0        0        0       0      0         0   \n",
       "4        0       0      0        0        0        0       0      0         0   \n",
       "\n",
       "   War  Western  \n",
       "0    0        0  \n",
       "1    0        0  \n",
       "2    0        0  \n",
       "3    0        0  \n",
       "4    0        0  "
      ]
     },
     "execution_count": 16,
     "metadata": {},
     "output_type": "execute_result"
    }
   ],
   "source": [
    "import pandas as pd\n",
    "df = pd.read_csv('final_dataset.csv')\n",
    "pd.set_option('display.max_columns', None)\n",
    "df.head()"
   ]
  },
  {
   "cell_type": "code",
   "execution_count": 17,
   "metadata": {},
   "outputs": [],
   "source": [
    "import re\n",
    "\n",
    "\n",
    "def clean_text(text):\n",
    "    \"\"\"\n",
    "    Applies some pre-processing on the given text.\n",
    "\n",
    "    Steps :\n",
    "    - Removing HTML tags\n",
    "    - Removing punctuation\n",
    "    - Lowering text\n",
    "    \"\"\"\n",
    "    \n",
    "    # remove HTML tags\n",
    "    text = re.sub(r'<.*?>', '', text)\n",
    "    \n",
    "    # remove the characters [\\], ['] and [\"]\n",
    "    text = re.sub(r\"\\\\\", \"\", text)    \n",
    "    text = re.sub(r\"\\'\", \"\", text)    \n",
    "    text = re.sub(r\"\\\"\", \"\", text)    \n",
    "    \n",
    "    # convert text to lowercase\n",
    "    text = text.strip().lower()\n",
    "    \n",
    "    # replace punctuation characters with spaces\n",
    "    filters='!\"\\'#$%&()*+,-./:;<=>?@[\\\\]^_`{|}~\\t\\n'\n",
    "    translate_dict = dict((c, \" \") for c in filters)\n",
    "    translate_map = str.maketrans(translate_dict)\n",
    "    text = text.translate(translate_map)\n",
    "\n",
    "    return text\n"
   ]
  },
  {
   "cell_type": "code",
   "execution_count": 40,
   "metadata": {},
   "outputs": [],
   "source": [
    "df[\"review_without_stopwords\"] = df[\"review_without_stopwords\"].astype(str)"
   ]
  },
  {
   "cell_type": "code",
   "execution_count": 41,
   "metadata": {
    "scrolled": true
   },
   "outputs": [],
   "source": [
    "X = df[\"review_without_stopwords\"].apply(lambda x: clean_text(x))\n",
    "y = df['is_spoiler']\n",
    "y = y.apply(lambda x: 1 if x else 0)\n",
    "X_train, X_test, y_train, y_test = train_test_split(X, y, random_state = 42)"
   ]
  },
  {
   "cell_type": "code",
   "execution_count": 10,
   "metadata": {
    "scrolled": true
   },
   "outputs": [
    {
     "data": {
      "text/plain": [
       "64659     0\n",
       "234573    0\n",
       "24086     1\n",
       "483424    0\n",
       "342693    0\n",
       "         ..\n",
       "110268    0\n",
       "259178    0\n",
       "365838    1\n",
       "131932    0\n",
       "121958    1\n",
       "Name: is_spoiler, Length: 430429, dtype: int64"
      ]
     },
     "execution_count": 10,
     "metadata": {},
     "output_type": "execute_result"
    }
   ],
   "source": [
    "y_train"
   ]
  },
  {
   "cell_type": "code",
   "execution_count": 42,
   "metadata": {
    "scrolled": true
   },
   "outputs": [
    {
     "data": {
      "text/html": [
       "<div>\n",
       "<style scoped>\n",
       "    .dataframe tbody tr th:only-of-type {\n",
       "        vertical-align: middle;\n",
       "    }\n",
       "\n",
       "    .dataframe tbody tr th {\n",
       "        vertical-align: top;\n",
       "    }\n",
       "\n",
       "    .dataframe thead th {\n",
       "        text-align: right;\n",
       "    }\n",
       "</style>\n",
       "<table border=\"1\" class=\"dataframe\">\n",
       "  <thead>\n",
       "    <tr style=\"text-align: right;\">\n",
       "      <th></th>\n",
       "      <th>text</th>\n",
       "      <th>labels</th>\n",
       "    </tr>\n",
       "  </thead>\n",
       "  <tbody>\n",
       "    <tr>\n",
       "      <th>64659</th>\n",
       "      <td>i think raging bull one best films ever made  ...</td>\n",
       "      <td>0</td>\n",
       "    </tr>\n",
       "    <tr>\n",
       "      <th>234573</th>\n",
       "      <td>if want movie insanely excellent acting skills...</td>\n",
       "      <td>0</td>\n",
       "    </tr>\n",
       "    <tr>\n",
       "      <th>24086</th>\n",
       "      <td>as jiddu krishnamurti said  it measure health ...</td>\n",
       "      <td>1</td>\n",
       "    </tr>\n",
       "    <tr>\n",
       "      <th>483424</th>\n",
       "      <td>movie sequels films usually poor reputation  d...</td>\n",
       "      <td>0</td>\n",
       "    </tr>\n",
       "    <tr>\n",
       "      <th>342693</th>\n",
       "      <td>in part one neo destroys agent smith smith gai...</td>\n",
       "      <td>0</td>\n",
       "    </tr>\n",
       "    <tr>\n",
       "      <th>...</th>\n",
       "      <td>...</td>\n",
       "      <td>...</td>\n",
       "    </tr>\n",
       "    <tr>\n",
       "      <th>110268</th>\n",
       "      <td>blade runner 2049 surprising squeal manages im...</td>\n",
       "      <td>0</td>\n",
       "    </tr>\n",
       "    <tr>\n",
       "      <th>259178</th>\n",
       "      <td>my wife excited saw trailer the accountant  fi...</td>\n",
       "      <td>0</td>\n",
       "    </tr>\n",
       "    <tr>\n",
       "      <th>365838</th>\n",
       "      <td>when i saw movie i really care about  johnny d...</td>\n",
       "      <td>1</td>\n",
       "    </tr>\n",
       "    <tr>\n",
       "      <th>131932</th>\n",
       "      <td>i love original movies  ie the book eli watchm...</td>\n",
       "      <td>0</td>\n",
       "    </tr>\n",
       "    <tr>\n",
       "      <th>121958</th>\n",
       "      <td>watching movie i thought scenes methods make b...</td>\n",
       "      <td>1</td>\n",
       "    </tr>\n",
       "  </tbody>\n",
       "</table>\n",
       "<p>430429 rows × 2 columns</p>\n",
       "</div>"
      ],
      "text/plain": [
       "                                                     text  labels\n",
       "64659   i think raging bull one best films ever made  ...       0\n",
       "234573  if want movie insanely excellent acting skills...       0\n",
       "24086   as jiddu krishnamurti said  it measure health ...       1\n",
       "483424  movie sequels films usually poor reputation  d...       0\n",
       "342693  in part one neo destroys agent smith smith gai...       0\n",
       "...                                                   ...     ...\n",
       "110268  blade runner 2049 surprising squeal manages im...       0\n",
       "259178  my wife excited saw trailer the accountant  fi...       0\n",
       "365838  when i saw movie i really care about  johnny d...       1\n",
       "131932  i love original movies  ie the book eli watchm...       0\n",
       "121958  watching movie i thought scenes methods make b...       1\n",
       "\n",
       "[430429 rows x 2 columns]"
      ]
     },
     "execution_count": 42,
     "metadata": {},
     "output_type": "execute_result"
    }
   ],
   "source": [
    "df_train = pd.concat([X_train,y_train],axis=1)\n",
    "df_train = df_train.rename(columns={\"review_without_stopwords\": \"text\", \"is_spoiler\": \"labels\"})\n",
    "df_train"
   ]
  },
  {
   "cell_type": "code",
   "execution_count": 43,
   "metadata": {
    "scrolled": true
   },
   "outputs": [
    {
     "data": {
      "text/html": [
       "<div>\n",
       "<style scoped>\n",
       "    .dataframe tbody tr th:only-of-type {\n",
       "        vertical-align: middle;\n",
       "    }\n",
       "\n",
       "    .dataframe tbody tr th {\n",
       "        vertical-align: top;\n",
       "    }\n",
       "\n",
       "    .dataframe thead th {\n",
       "        text-align: right;\n",
       "    }\n",
       "</style>\n",
       "<table border=\"1\" class=\"dataframe\">\n",
       "  <thead>\n",
       "    <tr style=\"text-align: right;\">\n",
       "      <th></th>\n",
       "      <th>text</th>\n",
       "      <th>labels</th>\n",
       "    </tr>\n",
       "  </thead>\n",
       "  <tbody>\n",
       "    <tr>\n",
       "      <th>389140</th>\n",
       "      <td>i wonder film would judged without spielbergs ...</td>\n",
       "      <td>0</td>\n",
       "    </tr>\n",
       "    <tr>\n",
       "      <th>235482</th>\n",
       "      <td>opening scene   girl driving   30 seconds late...</td>\n",
       "      <td>1</td>\n",
       "    </tr>\n",
       "    <tr>\n",
       "      <th>294615</th>\n",
       "      <td>moulin rouge kind film makes aware true possib...</td>\n",
       "      <td>0</td>\n",
       "    </tr>\n",
       "    <tr>\n",
       "      <th>336345</th>\n",
       "      <td>not sure sticking craw reviewers lxg  it nearl...</td>\n",
       "      <td>0</td>\n",
       "    </tr>\n",
       "    <tr>\n",
       "      <th>378675</th>\n",
       "      <td>peter jackson gave movie new twist  i ve seen ...</td>\n",
       "      <td>0</td>\n",
       "    </tr>\n",
       "    <tr>\n",
       "      <th>...</th>\n",
       "      <td>...</td>\n",
       "      <td>...</td>\n",
       "    </tr>\n",
       "    <tr>\n",
       "      <th>126785</th>\n",
       "      <td>first let say liked one better first iron man ...</td>\n",
       "      <td>1</td>\n",
       "    </tr>\n",
       "    <tr>\n",
       "      <th>126711</th>\n",
       "      <td>the film slow moving  also outstanding histori...</td>\n",
       "      <td>0</td>\n",
       "    </tr>\n",
       "    <tr>\n",
       "      <th>148034</th>\n",
       "      <td>johnny depp lost bit pirate charm newest insta...</td>\n",
       "      <td>0</td>\n",
       "    </tr>\n",
       "    <tr>\n",
       "      <th>103883</th>\n",
       "      <td>in mood love  directed wong kar wai  i feel re...</td>\n",
       "      <td>0</td>\n",
       "    </tr>\n",
       "    <tr>\n",
       "      <th>96162</th>\n",
       "      <td>as franchise closes  radcliffe finally becomes...</td>\n",
       "      <td>0</td>\n",
       "    </tr>\n",
       "  </tbody>\n",
       "</table>\n",
       "<p>143477 rows × 2 columns</p>\n",
       "</div>"
      ],
      "text/plain": [
       "                                                     text  labels\n",
       "389140  i wonder film would judged without spielbergs ...       0\n",
       "235482  opening scene   girl driving   30 seconds late...       1\n",
       "294615  moulin rouge kind film makes aware true possib...       0\n",
       "336345  not sure sticking craw reviewers lxg  it nearl...       0\n",
       "378675  peter jackson gave movie new twist  i ve seen ...       0\n",
       "...                                                   ...     ...\n",
       "126785  first let say liked one better first iron man ...       1\n",
       "126711  the film slow moving  also outstanding histori...       0\n",
       "148034  johnny depp lost bit pirate charm newest insta...       0\n",
       "103883  in mood love  directed wong kar wai  i feel re...       0\n",
       "96162   as franchise closes  radcliffe finally becomes...       0\n",
       "\n",
       "[143477 rows x 2 columns]"
      ]
     },
     "execution_count": 43,
     "metadata": {},
     "output_type": "execute_result"
    }
   ],
   "source": [
    "df_test = pd.concat([X_test,y_test],axis=1)\n",
    "df_test = df_test.rename(columns={\"review_without_stopwords\": \"text\", \"is_spoiler\": \"labels\"})\n",
    "df_test"
   ]
  },
  {
   "cell_type": "code",
   "execution_count": 22,
   "metadata": {},
   "outputs": [
    {
     "name": "stderr",
     "output_type": "stream",
     "text": [
      "Some weights of the model checkpoint at roberta-base were not used when initializing RobertaForSequenceClassification: ['lm_head.bias', 'lm_head.dense.weight', 'lm_head.dense.bias', 'lm_head.layer_norm.weight', 'lm_head.layer_norm.bias', 'lm_head.decoder.weight']\n",
      "- This IS expected if you are initializing RobertaForSequenceClassification from the checkpoint of a model trained on another task or with another architecture (e.g. initializing a BertForSequenceClassification model from a BertForPreTraining model).\n",
      "- This IS NOT expected if you are initializing RobertaForSequenceClassification from the checkpoint of a model that you expect to be exactly identical (initializing a BertForSequenceClassification model from a BertForSequenceClassification model).\n",
      "Some weights of RobertaForSequenceClassification were not initialized from the model checkpoint at roberta-base and are newly initialized: ['classifier.dense.weight', 'classifier.dense.bias', 'classifier.out_proj.weight', 'classifier.out_proj.bias']\n",
      "You should probably TRAIN this model on a down-stream task to be able to use it for predictions and inference.\n"
     ]
    }
   ],
   "source": [
    "from simpletransformers.classification import ClassificationModel\n",
    "\n",
    "\n",
    "model = ClassificationModel('roberta', 'roberta-base',use_cuda=False)"
   ]
  },
  {
   "cell_type": "code",
   "execution_count": 63,
   "metadata": {
    "scrolled": true
   },
   "outputs": [
    {
     "data": {
      "application/vnd.jupyter.widget-view+json": {
       "model_id": "169d798094294c329340c7583843374c",
       "version_major": 2,
       "version_minor": 0
      },
      "text/plain": [
       "HBox(children=(FloatProgress(value=0.0, max=500.0), HTML(value='')))"
      ]
     },
     "metadata": {},
     "output_type": "display_data"
    },
    {
     "name": "stdout",
     "output_type": "stream",
     "text": [
      "\n"
     ]
    },
    {
     "data": {
      "application/vnd.jupyter.widget-view+json": {
       "model_id": "d07f9e3d65df4e71bb25873f74738fd2",
       "version_major": 2,
       "version_minor": 0
      },
      "text/plain": [
       "HBox(children=(FloatProgress(value=0.0, description='Epoch', max=1.0, style=ProgressStyle(description_width='i…"
      ]
     },
     "metadata": {},
     "output_type": "display_data"
    },
    {
     "data": {
      "application/vnd.jupyter.widget-view+json": {
       "model_id": "b1d742ca8a9b4a6590df8f4fcf9ce01d",
       "version_major": 2,
       "version_minor": 0
      },
      "text/plain": [
       "HBox(children=(FloatProgress(value=0.0, description='Running Epoch 0 of 1', max=63.0, style=ProgressStyle(desc…"
      ]
     },
     "metadata": {},
     "output_type": "display_data"
    },
    {
     "name": "stdout",
     "output_type": "stream",
     "text": [
      "\n",
      "\n"
     ]
    },
    {
     "data": {
      "text/plain": [
       "(63, 0.60060044555437)"
      ]
     },
     "execution_count": 63,
     "metadata": {},
     "output_type": "execute_result"
    }
   ],
   "source": [
    "model.train_model(df_train.head(500))"
   ]
  },
  {
   "cell_type": "code",
   "execution_count": 69,
   "metadata": {},
   "outputs": [
    {
     "data": {
      "text/plain": [
       "0    363\n",
       "1    137\n",
       "Name: is_spoiler, dtype: int64"
      ]
     },
     "execution_count": 69,
     "metadata": {},
     "output_type": "execute_result"
    }
   ],
   "source": [
    "y_train.head(500).value_counts()"
   ]
  },
  {
   "cell_type": "code",
   "execution_count": 66,
   "metadata": {
    "scrolled": true
   },
   "outputs": [
    {
     "data": {
      "application/vnd.jupyter.widget-view+json": {
       "model_id": "1980f921a42f43128855fc77aedf9d2b",
       "version_major": 2,
       "version_minor": 0
      },
      "text/plain": [
       "HBox(children=(FloatProgress(value=0.0), HTML(value='')))"
      ]
     },
     "metadata": {},
     "output_type": "display_data"
    },
    {
     "name": "stdout",
     "output_type": "stream",
     "text": [
      "\n"
     ]
    },
    {
     "data": {
      "application/vnd.jupyter.widget-view+json": {
       "model_id": "ab06f8aa08d048f2a596bab157b45375",
       "version_major": 2,
       "version_minor": 0
      },
      "text/plain": [
       "HBox(children=(FloatProgress(value=0.0, description='Running Evaluation', max=13.0, style=ProgressStyle(descri…"
      ]
     },
     "metadata": {},
     "output_type": "display_data"
    },
    {
     "name": "stdout",
     "output_type": "stream",
     "text": [
      "\n"
     ]
    },
    {
     "name": "stderr",
     "output_type": "stream",
     "text": [
      "/home/sahilvaidya/anaconda3/lib/python3.7/site-packages/sklearn/metrics/_classification.py:870: RuntimeWarning: invalid value encountered in double_scalars\n",
      "  mcc = cov_ytyp / np.sqrt(cov_ytyt * cov_ypyp)\n"
     ]
    }
   ],
   "source": [
    "result, model_outputs, wrong_predictions = model.eval_model(df_test.head(100))"
   ]
  },
  {
   "cell_type": "code",
   "execution_count": 67,
   "metadata": {
    "scrolled": false
   },
   "outputs": [
    {
     "name": "stdout",
     "output_type": "stream",
     "text": [
      "{'mcc': 0.0, 'tp': 0, 'tn': 73, 'fp': 0, 'fn': 27, 'auroc': 0.6910197869101979, 'auprc': 0.5301110537300806, 'eval_loss': 0.5995816748875838}\n"
     ]
    }
   ],
   "source": [
    "print(result)"
   ]
  },
  {
   "cell_type": "code",
   "execution_count": 68,
   "metadata": {
    "scrolled": true
   },
   "outputs": [
    {
     "name": "stdout",
     "output_type": "stream",
     "text": [
      "[[ 0.43835917 -0.39002618]\n",
      " [ 0.43854895 -0.39111289]\n",
      " [ 0.43840143 -0.38484836]\n",
      " [ 0.44126773 -0.38385046]\n",
      " [ 0.44398668 -0.39088172]\n",
      " [ 0.43391487 -0.39459562]\n",
      " [ 0.44226867 -0.36711916]\n",
      " [ 0.4444381  -0.38498652]\n",
      " [ 0.42655018 -0.36995205]\n",
      " [ 0.45215586 -0.39471012]\n",
      " [ 0.445609   -0.36301377]\n",
      " [ 0.44631696 -0.37827119]\n",
      " [ 0.44437012 -0.36992759]\n",
      " [ 0.46215901 -0.37859881]\n",
      " [ 0.44138047 -0.37762073]\n",
      " [ 0.45333982 -0.37848061]\n",
      " [ 0.4444986  -0.38663763]\n",
      " [ 0.42970714 -0.38885415]\n",
      " [ 0.45548159 -0.37991038]\n",
      " [ 0.44304672 -0.38547635]\n",
      " [ 0.4430137  -0.37784475]\n",
      " [ 0.43600765 -0.38655251]\n",
      " [ 0.43991625 -0.36534739]\n",
      " [ 0.44365123 -0.38048053]\n",
      " [ 0.43496838 -0.38947439]\n",
      " [ 0.4494532  -0.37649342]\n",
      " [ 0.436322   -0.37347513]\n",
      " [ 0.42250782 -0.38146162]\n",
      " [ 0.43258864 -0.39109504]\n",
      " [ 0.44181591 -0.37248933]\n",
      " [ 0.436598   -0.37010092]\n",
      " [ 0.4248873  -0.37691247]\n",
      " [ 0.42870227 -0.37553534]\n",
      " [ 0.43475726 -0.39241755]\n",
      " [ 0.45185059 -0.38612202]\n",
      " [ 0.43328834 -0.37164614]\n",
      " [ 0.44768545 -0.39522409]\n",
      " [ 0.44229418 -0.36966929]\n",
      " [ 0.44655302 -0.39496383]\n",
      " [ 0.44581863 -0.38428977]\n",
      " [ 0.44605222 -0.38440612]\n",
      " [ 0.44212133 -0.37564021]\n",
      " [ 0.4298144  -0.38718563]\n",
      " [ 0.43852851 -0.3849611 ]\n",
      " [ 0.43260095 -0.37793767]\n",
      " [ 0.4412747  -0.39152265]\n",
      " [ 0.44055554 -0.36710733]\n",
      " [ 0.438593   -0.37742108]\n",
      " [ 0.43398115 -0.38642645]\n",
      " [ 0.4393566  -0.38427162]\n",
      " [ 0.44211474 -0.38194391]\n",
      " [ 0.44223663 -0.37195486]\n",
      " [ 0.43027133 -0.37360987]\n",
      " [ 0.43949479 -0.38032264]\n",
      " [ 0.43915263 -0.37088177]\n",
      " [ 0.43886539 -0.38216192]\n",
      " [ 0.43373385 -0.37343124]\n",
      " [ 0.44384119 -0.3611654 ]\n",
      " [ 0.43158877 -0.37249267]\n",
      " [ 0.43287435 -0.38075763]\n",
      " [ 0.44949663 -0.38064775]\n",
      " [ 0.45932093 -0.390652  ]\n",
      " [ 0.4394356  -0.37834924]\n",
      " [ 0.4429425  -0.37926301]\n",
      " [ 0.43472484 -0.36504734]\n",
      " [ 0.44605389 -0.36554649]\n",
      " [ 0.44429046 -0.39720219]\n",
      " [ 0.42163333 -0.39461944]\n",
      " [ 0.4373503  -0.38373148]\n",
      " [ 0.44689944 -0.38893506]\n",
      " [ 0.44299689 -0.3867532 ]\n",
      " [ 0.44626924 -0.38168508]\n",
      " [ 0.44727454 -0.35917312]\n",
      " [ 0.43924659 -0.38839105]\n",
      " [ 0.43188193 -0.37883675]\n",
      " [ 0.42649418 -0.38497949]\n",
      " [ 0.45595211 -0.40189451]\n",
      " [ 0.44268009 -0.37177023]\n",
      " [ 0.43724638 -0.36654666]\n",
      " [ 0.4358702  -0.3862811 ]\n",
      " [ 0.44819871 -0.39151973]\n",
      " [ 0.4331035  -0.36771727]\n",
      " [ 0.44860932 -0.3845695 ]\n",
      " [ 0.43946052 -0.38576424]\n",
      " [ 0.44007984 -0.37847549]\n",
      " [ 0.4367806  -0.38234031]\n",
      " [ 0.45019433 -0.35707605]\n",
      " [ 0.43184146 -0.3812139 ]\n",
      " [ 0.44662645 -0.4030855 ]\n",
      " [ 0.45841697 -0.37356496]\n",
      " [ 0.43432346 -0.37465093]\n",
      " [ 0.45492336 -0.39395446]\n",
      " [ 0.45700592 -0.38854939]\n",
      " [ 0.45891625 -0.38404965]\n",
      " [ 0.4542082  -0.3841812 ]\n",
      " [ 0.42530727 -0.38444936]\n",
      " [ 0.44370162 -0.38564235]\n",
      " [ 0.43613532 -0.35836306]\n",
      " [ 0.43187159 -0.37765145]\n",
      " [ 0.43075001 -0.36517036]]\n"
     ]
    }
   ],
   "source": [
    "print(model_outputs)"
   ]
  },
  {
   "cell_type": "code",
   "execution_count": 61,
   "metadata": {},
   "outputs": [
    {
     "name": "stdout",
     "output_type": "stream",
     "text": [
      "[0, 1, 0, 0, 0, 0, 0, 1, 1, 0, 0, 0, 0, 0, 1, 1, 1, 0, 0, 1, 0, 0, 0, 0, 1, 0, 0, 0, 0, 0, 0, 1, 1, 0, 0, 0, 0, 0, 0, 0, 0, 0, 1, 0, 0, 0, 1, 0, 0, 1]\n"
     ]
    }
   ],
   "source": [
    "print(y_test.head(50).tolist())"
   ]
  }
 ],
 "metadata": {
  "kernelspec": {
   "display_name": "Python 3",
   "language": "python",
   "name": "python3"
  },
  "language_info": {
   "codemirror_mode": {
    "name": "ipython",
    "version": 3
   },
   "file_extension": ".py",
   "mimetype": "text/x-python",
   "name": "python",
   "nbconvert_exporter": "python",
   "pygments_lexer": "ipython3",
   "version": "3.7.6"
  }
 },
 "nbformat": 4,
 "nbformat_minor": 2
}
